{
 "cells": [
  {
   "cell_type": "markdown",
   "id": "three-expert",
   "metadata": {},
   "source": [
    "# Wrappers and Decorators"
   ]
  },
  {
   "cell_type": "code",
   "execution_count": 23,
   "id": "static-packet",
   "metadata": {},
   "outputs": [],
   "source": [
    "def do_twice(func):\n",
    "    def wrapper_do_twice(*args,**kwargs):\n",
    "        func(*args, **kwargs)\n",
    "        return func(*args,**kwargs)\n",
    "    return wrapper_do_twice\n",
    "\n",
    "@do_twice\n",
    "def test():\n",
    "    print(\"THIS IS A TEST OF THE EMERGENCY PYTHON SYSTEM\")\n"
   ]
  },
  {
   "cell_type": "code",
   "execution_count": 22,
   "id": "divine-shoot",
   "metadata": {},
   "outputs": [
    {
     "name": "stdout",
     "output_type": "stream",
     "text": [
      "THIS IS A TEST OF THE EMERGENCY PYTHON SYSTEM\n"
     ]
    }
   ],
   "source": [
    "test()"
   ]
  },
  {
   "cell_type": "code",
   "execution_count": 26,
   "id": "behavioral-telescope",
   "metadata": {},
   "outputs": [
    {
     "name": "stdout",
     "output_type": "stream",
     "text": [
      "Different Function\n",
      "Different Function\n"
     ]
    }
   ],
   "source": [
    "def testagain():\n",
    "    print (\"Different Function\")\n",
    "    \n",
    "testagain = do_twice(testagain)\n",
    "testagain()"
   ]
  },
  {
   "cell_type": "code",
   "execution_count": 7,
   "id": "liberal-wireless",
   "metadata": {},
   "outputs": [],
   "source": [
    "def logger(func):\n",
    "    def inner(*args,**kwargs):\n",
    "        print('Called '+func.__name__)\n",
    "        func(*args,**kwargs)\n",
    "    return inner"
   ]
  },
  {
   "cell_type": "code",
   "execution_count": 28,
   "id": "voluntary-substitute",
   "metadata": {},
   "outputs": [
    {
     "name": "stdout",
     "output_type": "stream",
     "text": [
      "Called test3\n",
      "Third times a charm Function\n",
      "Called test3\n",
      "Third times a charm Function\n"
     ]
    }
   ],
   "source": [
    "@do_twice\n",
    "@logger\n",
    "def test3():\n",
    "    print (\"Third times a charm Function\")\n",
    "    \n",
    "test3()"
   ]
  },
  {
   "cell_type": "code",
   "execution_count": 40,
   "id": "entire-quantity",
   "metadata": {},
   "outputs": [],
   "source": [
    "\n",
    "def message(message):\n",
    "    def layer2(func):\n",
    "        def inner(*args,**kwargs):\n",
    "            print(message)\n",
    "            func(*args,**kwargs)\n",
    "        return inner\n",
    "    return layer2\n",
    "\n",
    "@logger\n",
    "@message(\"Family\")\n",
    "def test4():\n",
    "    print (\"4 Function 4 furious\")\n",
    "\n"
   ]
  },
  {
   "cell_type": "code",
   "execution_count": 41,
   "id": "virtual-advocacy",
   "metadata": {},
   "outputs": [
    {
     "name": "stdout",
     "output_type": "stream",
     "text": [
      "Called inner\n",
      "Family\n",
      "4 Function 4 furious\n"
     ]
    }
   ],
   "source": [
    "test4()"
   ]
  },
  {
   "cell_type": "code",
   "execution_count": 42,
   "id": "tender-teaching",
   "metadata": {},
   "outputs": [
    {
     "data": {
      "text/plain": [
       "'inner'"
      ]
     },
     "execution_count": 42,
     "metadata": {},
     "output_type": "execute_result"
    }
   ],
   "source": [
    "test4.__name__"
   ]
  },
  {
   "cell_type": "code",
   "execution_count": 43,
   "id": "empty-sydney",
   "metadata": {},
   "outputs": [],
   "source": [
    "import functools\n",
    "\n",
    "def message(message):\n",
    "    def layer2(func):\n",
    "        @functools.wraps(func)\n",
    "        def inner(*args,**kwargs):\n",
    "            print(message)\n",
    "            func(*args,**kwargs)\n",
    "        return inner\n",
    "    return layer2\n",
    "\n",
    "@message(\"hio\")\n",
    "def test4():\n",
    "    print (\"4 Function 4 furious\")"
   ]
  },
  {
   "cell_type": "code",
   "execution_count": 44,
   "id": "combined-ribbon",
   "metadata": {},
   "outputs": [
    {
     "name": "stdout",
     "output_type": "stream",
     "text": [
      "hio\n",
      "4 Function 4 furious\n"
     ]
    }
   ],
   "source": [
    "test4()"
   ]
  },
  {
   "cell_type": "code",
   "execution_count": 45,
   "id": "younger-partner",
   "metadata": {},
   "outputs": [
    {
     "data": {
      "text/plain": [
       "'test4'"
      ]
     },
     "execution_count": 45,
     "metadata": {},
     "output_type": "execute_result"
    }
   ],
   "source": [
    "test4.__name__"
   ]
  },
  {
   "cell_type": "code",
   "execution_count": 46,
   "id": "color-graduate",
   "metadata": {},
   "outputs": [],
   "source": [
    "def message(message):\n",
    "    def layer2(func):\n",
    "        def inner(*args,**kwargs):\n",
    "            print(message)\n",
    "            func(*args,**kwargs)\n",
    "        inner.__name__ = func.__name__\n",
    "        return inner\n",
    "    return layer2\n",
    "\n",
    "@message(\"hio\")\n",
    "def test4():\n",
    "    print (\"4 Function 4 furious\")"
   ]
  },
  {
   "cell_type": "code",
   "execution_count": 47,
   "id": "separated-theta",
   "metadata": {},
   "outputs": [
    {
     "name": "stdout",
     "output_type": "stream",
     "text": [
      "test4\n"
     ]
    }
   ],
   "source": [
    "print(test4.__name__)"
   ]
  },
  {
   "cell_type": "code",
   "execution_count": null,
   "id": "express-winner",
   "metadata": {},
   "outputs": [],
   "source": []
  }
 ],
 "metadata": {
  "kernelspec": {
   "display_name": "Python 3",
   "language": "python",
   "name": "python3"
  },
  "language_info": {
   "codemirror_mode": {
    "name": "ipython",
    "version": 3
   },
   "file_extension": ".py",
   "mimetype": "text/x-python",
   "name": "python",
   "nbconvert_exporter": "python",
   "pygments_lexer": "ipython3",
   "version": "3.8.8"
  }
 },
 "nbformat": 4,
 "nbformat_minor": 5
}
