{
 "cells": [
  {
   "cell_type": "markdown",
   "metadata": {},
   "source": [
    "# Imperitive vs Functional"
   ]
  },
  {
   "cell_type": "markdown",
   "metadata": {},
   "source": [
    "Lets compare how we could do things in an imperitive way and in a functional way. Lets look at adding two lists together."
   ]
  },
  {
   "cell_type": "code",
   "execution_count": 25,
   "metadata": {},
   "outputs": [],
   "source": [
    "import numpy as np"
   ]
  },
  {
   "cell_type": "markdown",
   "metadata": {},
   "source": [
    "## Imperitive"
   ]
  },
  {
   "cell_type": "code",
   "execution_count": 21,
   "metadata": {},
   "outputs": [
    {
     "name": "stdout",
     "output_type": "stream",
     "text": [
      "[0, 1, 2, 3, 4, 5, 6, 7, 8, 9]\n",
      "[10, 12, 14, 16, 18, 20, 22, 24, 26, 28]\n",
      "[10, 12, 14, 16, 18, 20, 22, 24, 26, 28]\n"
     ]
    }
   ],
   "source": [
    "x1 = list(range(0,10))\n",
    "x2 = list(range(10,20))\n",
    "\n",
    "def sumLists(x,y):\n",
    "    for i in range(0,len(x1)):\n",
    "        x[i] = x[i]+y[i]\n",
    "    return x\n",
    "\n",
    "\n",
    "print(x1)\n",
    "result = sumLists(x1,x2)\n",
    "print(result)\n",
    "print(x1)\n"
   ]
  },
  {
   "cell_type": "markdown",
   "metadata": {},
   "source": [
    "Lets look at What happens here. First we make the two lists, then we pass them to a function to sum them. and we print the result whigh is a list that is the sum of the two lists we put in. \n",
    "\n",
    "However x1 changes from when we made it and when we get it back. \n",
    "\n",
    "The function used a for loop and updated the value in x. It then returned the updated x. This is equivalent to writting x +=y for each element of the list. It does the job, but if you were to go on to calculate using x1 you would be getting the wrong results and would be confused why the next time you run sumlist(x1,x2) you would get different results. See Bellow:"
   ]
  },
  {
   "cell_type": "code",
   "execution_count": 26,
   "metadata": {},
   "outputs": [
    {
     "name": "stdout",
     "output_type": "stream",
     "text": [
      "[30, 34, 38, 42, 46, 50, 54, 58, 62, 66]\n",
      "[40, 45, 50, 55, 60, 65, 70, 75, 80, 85]\n"
     ]
    }
   ],
   "source": [
    "print(x1)\n",
    "result2 = sumLists(x1,x2)\n",
    "print(result2)\n"
   ]
  },
  {
   "cell_type": "markdown",
   "metadata": {},
   "source": [
    "## Functional Style"
   ]
  },
  {
   "cell_type": "markdown",
   "metadata": {},
   "source": [
    "now lets try a functional style. The key here is we arent using loops and we dont update the value of variables. "
   ]
  },
  {
   "cell_type": "code",
   "execution_count": 30,
   "metadata": {},
   "outputs": [
    {
     "name": "stdout",
     "output_type": "stream",
     "text": [
      "[0, 1, 2, 3, 4, 5, 6, 7, 8, 9]\n",
      "[10, 12, 14, 16, 18, 20, 22, 24, 26, 28]\n",
      "[0, 1, 2, 3, 4, 5, 6, 7, 8, 9]\n"
     ]
    }
   ],
   "source": [
    "x1 = list(range(0,10))\n",
    "x2 = list(range(10,20))\n",
    "\n",
    "def sumPairs(pair):\n",
    "    return pair[0]+pair[1]\n",
    "\n",
    "\n",
    "pairs = zip(x1,x2)\n",
    "result = map(sumPairs,pairs)\n",
    "\n",
    "print(x1)\n",
    "print(list(result))\n",
    "print(x1)"
   ]
  },
  {
   "cell_type": "markdown",
   "metadata": {},
   "source": [
    "Lets break it down line by line. First we make the li. \n",
    "\n",
    "Then we define a function **sumPairs** that takes in a list or tuple, and sums the first and second elements and returns the results. \n",
    "\n",
    "So we need to take two lists and turn them into a list of pairs of numbers. For that we use the **zip** function"
   ]
  },
  {
   "cell_type": "code",
   "execution_count": 31,
   "metadata": {},
   "outputs": [
    {
     "data": {
      "text/plain": [
       "[(0, 10),\n",
       " (1, 11),\n",
       " (2, 12),\n",
       " (3, 13),\n",
       " (4, 14),\n",
       " (5, 15),\n",
       " (6, 16),\n",
       " (7, 17),\n",
       " (8, 18),\n",
       " (9, 19)]"
      ]
     },
     "execution_count": 31,
     "metadata": {},
     "output_type": "execute_result"
    }
   ],
   "source": [
    "list(zip(x1,x2))"
   ]
  },
  {
   "cell_type": "markdown",
   "metadata": {},
   "source": [
    "Next we need to call the sumPairs function on every element of the list of pairs. for that we use the **map** function, which applies the function onto each element of the list. "
   ]
  },
  {
   "cell_type": "code",
   "execution_count": 40,
   "metadata": {},
   "outputs": [
    {
     "name": "stdout",
     "output_type": "stream",
     "text": [
      "[10, 12, 14, 16, 18, 20, 22, 24, 26, 28]\n"
     ]
    }
   ],
   "source": [
    "pairs = zip(x1,x2)\n",
    "print(list(map(sumPairs,pairs)))"
   ]
  }
 ],
 "metadata": {
  "kernelspec": {
   "display_name": "Python 3",
   "language": "python",
   "name": "python3"
  },
  "language_info": {
   "codemirror_mode": {
    "name": "ipython",
    "version": 3
   },
   "file_extension": ".py",
   "mimetype": "text/x-python",
   "name": "python",
   "nbconvert_exporter": "python",
   "pygments_lexer": "ipython3",
   "version": "3.7.3"
  }
 },
 "nbformat": 4,
 "nbformat_minor": 2
}
