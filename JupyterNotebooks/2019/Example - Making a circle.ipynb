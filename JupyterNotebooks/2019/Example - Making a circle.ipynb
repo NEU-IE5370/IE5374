{
 "cells": [
  {
   "cell_type": "markdown",
   "metadata": {},
   "source": [
    "# Making a Circle\n",
    "\n",
    "Lets look at an example of making a circle and go line by line"
   ]
  },
  {
   "cell_type": "code",
   "execution_count": 1,
   "metadata": {},
   "outputs": [],
   "source": [
    "%matplotlib inline"
   ]
  },
  {
   "cell_type": "markdown",
   "metadata": {},
   "source": [
    "This line is Jupyter Notebook specific. It makes the notebook use Matplotlib as the plotting library and allows for interactive plots"
   ]
  },
  {
   "cell_type": "code",
   "execution_count": 2,
   "metadata": {},
   "outputs": [],
   "source": [
    "import numpy as np"
   ]
  },
  {
   "cell_type": "markdown",
   "metadata": {},
   "source": [
    "This line imports Numpy, the numerical python programming package. We rename numpy to np. We renamed it np for two reasons: 1) its faster to type than numpy.  2) It is the internets convention, so if you go to look at other peoples code, it will be easier to use. "
   ]
  },
  {
   "cell_type": "code",
   "execution_count": 3,
   "metadata": {},
   "outputs": [],
   "source": [
    "import matplotlib.pyplot as plt"
   ]
  },
  {
   "cell_type": "markdown",
   "metadata": {},
   "source": [
    "Next we import the pyplot package from matplotlib. This is what we will use for ploting."
   ]
  },
  {
   "cell_type": "markdown",
   "metadata": {},
   "source": [
    "The next think we need to do is define a circle. We know that circles can be represented mathematically in 2 forms. \n",
    "\n",
    "$$X^2 +Y^2 = R^2$$\n",
    "$$r e^{i\\theta} = r (cos(\\theta)+i*sin(\\theta))$$\n",
    "and\n",
    "$$X = rcos(\\theta) ,  Y = rsin(\\theta)$$\n",
    "\n",
    "\n",
    "We need X and Y in order to plot, so clearly the easiest solution is to go from thetas and map into X and Y for plotting"
   ]
  },
  {
   "cell_type": "code",
   "execution_count": 4,
   "metadata": {},
   "outputs": [],
   "source": [
    "thetas = np.arange(-np.pi,np.pi,0.01)"
   ]
  },
  {
   "cell_type": "markdown",
   "metadata": {},
   "source": [
    "This line generates an array of points between $-\\pi $ to $ \\pi$ in increments of 0.01"
   ]
  },
  {
   "cell_type": "code",
   "execution_count": 5,
   "metadata": {},
   "outputs": [],
   "source": [
    "X = np.cos(thetas)"
   ]
  },
  {
   "cell_type": "markdown",
   "metadata": {},
   "source": [
    "This line applies the cosine function to every element of the array thetas, and makes a new array we call X"
   ]
  },
  {
   "cell_type": "code",
   "execution_count": 6,
   "metadata": {},
   "outputs": [],
   "source": [
    "Y = np.sin(thetas)"
   ]
  },
  {
   "cell_type": "markdown",
   "metadata": {},
   "source": [
    "This line does the same but with the sin function"
   ]
  },
  {
   "cell_type": "markdown",
   "metadata": {},
   "source": [
    "Next we plot the results. We call plt.plot with an array of x values and and equal sized array of y value points. This gives us the graph. We then use the axis('equal') command to make graph show a circle as a circle instead of an elipse. Finally we show the graph"
   ]
  },
  {
   "cell_type": "code",
   "execution_count": 8,
   "metadata": {},
   "outputs": [
    {
     "data": {
      "image/png": "[encoded data removed]",
      "text/plain": [
       "<Figure size 432x288 with 1 Axes>"
      ]
     },
     "metadata": {},
     "output_type": "display_data"
    }
   ],
   "source": [
    "plt.plot(X,Y)\n",
    "plt.axis('equal')\n",
    "plt.show()"
   ]
  }
 ],
 "metadata": {
  "@webio": {
   "lastCommId": null,
   "lastKernelId": null
  },
  "kernelspec": {
   "display_name": "Python 3",
   "language": "python",
   "name": "python3"
  },
  "language_info": {
   "codemirror_mode": {
    "name": "ipython",
    "version": 3
   },
   "file_extension": ".py",
   "mimetype": "text/x-python",
   "name": "python",
   "nbconvert_exporter": "python",
   "pygments_lexer": "ipython3",
   "version": "3.7.3"
  }
 },
 "nbformat": 4,
 "nbformat_minor": 2
}
