{
 "cells": [
  {
   "cell_type": "markdown",
   "metadata": {
    "nbpresent": {
     "id": "ccdcc2e1-452c-4d8b-8268-ae37e1f69782"
    }
   },
   "source": [
    "# Importing and Writing to Files"
   ]
  },
  {
   "cell_type": "markdown",
   "metadata": {},
   "source": [
    "### Importing modules, packages, and libraries"
   ]
  },
  {
   "cell_type": "markdown",
   "metadata": {},
   "source": [
    "There are many useful Python auxiliary libraries that expand on the basic functionalities of Python. We will be very interested in libraries such as NumPy for scientific computation with arrays and matplotlib for plotting. \n",
    "\n",
    "the simpliest way to **import** a function is to import the library/module/package or file the function is in. This defines a prefix for the function.\n",
    "\n",
    "With many different people creating many different libraries, it is very likely that multiple functions will end up with the same name. Python's approach to this involves the \"namespace\" concept. Each library/module/package is imported under a name that, with an appended period, serves as a prefix to the names in the library/module/package. The combination of the prefix plus function name supports a disambiguated naming system."
   ]
  },
  {
   "cell_type": "code",
   "execution_count": 6,
   "metadata": {},
   "outputs": [
    {
     "data": {
      "text/plain": [
       "(1.0, 2.23606797749979)"
      ]
     },
     "execution_count": 6,
     "metadata": {},
     "output_type": "execute_result"
    }
   ],
   "source": [
    "import math # basic math including trig functions, square root, etc.\n",
    "math.cos(0), math.sqrt(5)"
   ]
  },
  {
   "cell_type": "markdown",
   "metadata": {},
   "source": [
    "You can import one or more functions from a package and remove the need for a prefix"
   ]
  },
  {
   "cell_type": "code",
   "execution_count": 9,
   "metadata": {},
   "outputs": [
    {
     "data": {
      "text/plain": [
       "(1.0, 2.23606797749979)"
      ]
     },
     "execution_count": 9,
     "metadata": {},
     "output_type": "execute_result"
    }
   ],
   "source": [
    "from math import cos,sqrt\n",
    "cos(0),sqrt(5)"
   ]
  },
  {
   "cell_type": "markdown",
   "metadata": {},
   "source": [
    "You can import all of the functions from a library/module or file and use them without a prefix"
   ]
  },
  {
   "cell_type": "code",
   "execution_count": 12,
   "metadata": {},
   "outputs": [
    {
     "data": {
      "text/plain": [
       "1.5707963267948966"
      ]
     },
     "execution_count": 12,
     "metadata": {},
     "output_type": "execute_result"
    }
   ],
   "source": [
    "from math import *\n",
    "asin(1)"
   ]
  },
  {
   "cell_type": "markdown",
   "metadata": {},
   "source": [
    "If the library name is so long that you do not want to type it repeatedly, you can import under a shortened prefix of your own choosing. "
   ]
  },
  {
   "cell_type": "code",
   "execution_count": 14,
   "metadata": {},
   "outputs": [
    {
     "data": {
      "text/plain": [
       "3.141592653589793"
      ]
     },
     "execution_count": 14,
     "metadata": {},
     "output_type": "execute_result"
    }
   ],
   "source": [
    "import numpy as np\n",
    "np.pi"
   ]
  },
  {
   "cell_type": "markdown",
   "metadata": {},
   "source": [
    "It is also possible to import individual functions from a library (which suppresses the prefix), but be careful not to overwrite existing definitions."
   ]
  },
  {
   "cell_type": "markdown",
   "metadata": {
    "collapsed": true
   },
   "source": [
    "## Writing to files"
   ]
  },
  {
   "cell_type": "markdown",
   "metadata": {},
   "source": [
    "To help us get familiar with text files in Python, we will create our own and write to it. when you open the file.\n",
    "The file has several modes:\n",
    "* w - write\n",
    "* a - append\n",
    "* r - read\n",
    "* x - create"
   ]
  },
  {
   "cell_type": "code",
   "execution_count": 36,
   "metadata": {},
   "outputs": [],
   "source": [
    "file = open(\"myfile.txt\",\"w\") \n",
    " \n",
    "file.write(\"Hello ME480\\n\") #The \\n inside the text string is a new line character.\n",
    "file.write(\"We made a new text file\\n\") \n",
    " \n",
    "file.close() "
   ]
  },
  {
   "cell_type": "markdown",
   "metadata": {},
   "source": [
    "Every file needs to be closed as well as opened. Often programmers forget to put the close command. The solution is to use the **with** statement. This way the file always closes. We use this bellow to **read** the file in its entirety"
   ]
  },
  {
   "cell_type": "code",
   "execution_count": 32,
   "metadata": {},
   "outputs": [
    {
     "name": "stdout",
     "output_type": "stream",
     "text": [
      "Hello ME480\n",
      "We made a new text file\n",
      "\n",
      "True\n"
     ]
    }
   ],
   "source": [
    "with open(\"myfile.txt\",\"r\") as f:\n",
    "    contents =f.read()\n",
    "    print(contents)\n",
    "print(f.closed)"
   ]
  },
  {
   "cell_type": "markdown",
   "metadata": {},
   "source": [
    "We can also read it line by line. "
   ]
  },
  {
   "cell_type": "code",
   "execution_count": 33,
   "metadata": {},
   "outputs": [
    {
     "name": "stdout",
     "output_type": "stream",
     "text": [
      "Hello ME480\n",
      " yay!\n",
      "We made a new text file\n",
      " yay!\n"
     ]
    }
   ],
   "source": [
    "with open(\"myfile.txt\",\"r\") as file:\n",
    "    for line in file:\n",
    "        print(line,'yay!')"
   ]
  },
  {
   "cell_type": "markdown",
   "metadata": {},
   "source": [
    "We can append to the file by setting the append mode"
   ]
  },
  {
   "cell_type": "code",
   "execution_count": 37,
   "metadata": {},
   "outputs": [
    {
     "name": "stdout",
     "output_type": "stream",
     "text": [
      "Hello ME480\n",
      "We made a new text file\n",
      "I need to add something\n",
      "\n"
     ]
    }
   ],
   "source": [
    "with open(\"myfile.txt\",\"a\") as file:\n",
    "    file.write(\"I need to add something\\n\")\n",
    "with open(\"myfile.txt\",\"r\") as f:\n",
    "    contents =f.read()\n",
    "    print(contents)"
   ]
  },
  {
   "cell_type": "markdown",
   "metadata": {},
   "source": [
    "Look at what happens if you call the cell above again. you should see the information is appended again without over writing the file. Now call the cell bellow. You will see that the file has reset"
   ]
  },
  {
   "cell_type": "code",
   "execution_count": 39,
   "metadata": {},
   "outputs": [
    {
     "name": "stdout",
     "output_type": "stream",
     "text": [
      "Hello ME480\n",
      "We made a new text file\n",
      "\n"
     ]
    }
   ],
   "source": [
    "with open(\"myfile.txt\",\"w\") as file: \n",
    "    file.write(\"Hello ME480\\n\") #The \\n inside the text string is a new line character.\n",
    "    file.write(\"We made a new text file\\n\") \n",
    "with open(\"myfile.txt\",\"r\") as f:\n",
    "    contents =f.read()\n",
    "    print(contents)"
   ]
  },
  {
   "cell_type": "markdown",
   "metadata": {},
   "source": [
    "This is why we have the append mode. We use the create mode X simillarly to ensure that we dont overwrite existing files."
   ]
  },
  {
   "cell_type": "code",
   "execution_count": 41,
   "metadata": {},
   "outputs": [
    {
     "ename": "FileExistsError",
     "evalue": "[Errno 17] File exists: 'myfile.txt'",
     "output_type": "error",
     "traceback": [
      "\u001b[1;31m---------------------------------------------------------------------------\u001b[0m",
      "\u001b[1;31mFileExistsError\u001b[0m                           Traceback (most recent call last)",
      "\u001b[1;32m<ipython-input-41-8fd176bef9e1>\u001b[0m in \u001b[0;36m<module>\u001b[1;34m\u001b[0m\n\u001b[1;32m----> 1\u001b[1;33m \u001b[1;32mwith\u001b[0m \u001b[0mopen\u001b[0m\u001b[1;33m(\u001b[0m\u001b[1;34m\"myfile.txt\"\u001b[0m\u001b[1;33m,\u001b[0m\u001b[1;34m\"x\"\u001b[0m\u001b[1;33m)\u001b[0m \u001b[1;32mas\u001b[0m \u001b[0mfile\u001b[0m\u001b[1;33m:\u001b[0m\u001b[1;33m\u001b[0m\u001b[1;33m\u001b[0m\u001b[0m\n\u001b[0m\u001b[0;32m      2\u001b[0m     \u001b[0mfile\u001b[0m\u001b[1;33m.\u001b[0m\u001b[0mwrite\u001b[0m\u001b[1;33m(\u001b[0m\u001b[1;34m\"Hello ME480\\n\"\u001b[0m\u001b[1;33m)\u001b[0m \u001b[1;31m#The \\n inside the text string is a new line character.\u001b[0m\u001b[1;33m\u001b[0m\u001b[1;33m\u001b[0m\u001b[0m\n",
      "\u001b[1;31mFileExistsError\u001b[0m: [Errno 17] File exists: 'myfile.txt'"
     ]
    }
   ],
   "source": [
    "with open(\"myfile.txt\",\"x\") as file: \n",
    "    file.write(\"Hello ME480\\n\") #The \\n inside the text string is a new line character."
   ]
  },
  {
   "cell_type": "code",
   "execution_count": null,
   "metadata": {},
   "outputs": [],
   "source": []
  }
 ],
 "metadata": {
  "anaconda-cloud": {},
  "kernelspec": {
   "display_name": "Python 3",
   "language": "python",
   "name": "python3"
  },
  "language_info": {
   "codemirror_mode": {
    "name": "ipython",
    "version": 3
   },
   "file_extension": ".py",
   "mimetype": "text/x-python",
   "name": "python",
   "nbconvert_exporter": "python",
   "pygments_lexer": "ipython3",
   "version": "3.6.5"
  },
  "nbpresent": {
   "slides": {
    "7eeb077a-e755-4b5e-8ab6-e5ac0ee6e50f": {
     "id": "7eeb077a-e755-4b5e-8ab6-e5ac0ee6e50f",
     "prev": null,
     "regions": {
      "71d146dd-5de2-4123-a2df-161f61f6b6c9": {
       "attrs": {
        "height": 0.8,
        "width": 0.8,
        "x": 0.1,
        "y": 0.1
       },
       "id": "71d146dd-5de2-4123-a2df-161f61f6b6c9"
      }
     },
     "theme": null
    }
   },
   "themes": {
    "default": "c30fc3f6-ed32-475b-9e04-4df894f62eb3",
    "theme": {}
   }
  }
 },
 "nbformat": 4,
 "nbformat_minor": 1
}
