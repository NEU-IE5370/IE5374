{
 "cells": [
  {
   "cell_type": "markdown",
   "metadata": {},
   "source": [
    "# Passing multiple values to functions"
   ]
  },
  {
   "cell_type": "markdown",
   "metadata": {},
   "source": [
    "So far we have seen several ways to pass data to a function. One way is to use a series of values seperated by a comma"
   ]
  },
  {
   "cell_type": "code",
   "execution_count": null,
   "metadata": {},
   "outputs": [],
   "source": [
    "def passComma(x,y,z):\n",
    "    print(x,y,z)\n",
    "passComma(1,2,3)"
   ]
  },
  {
   "cell_type": "markdown",
   "metadata": {},
   "source": [
    "The problem is that it only works with the exact number of items"
   ]
  },
  {
   "cell_type": "code",
   "execution_count": null,
   "metadata": {},
   "outputs": [],
   "source": [
    "passComma(1,2)"
   ]
  },
  {
   "cell_type": "code",
   "execution_count": null,
   "metadata": {},
   "outputs": [],
   "source": [
    "def passComma(x=0,y=0,z=0):\n",
    "    print(x,y,z)\n",
    "passComma(1,2,3)"
   ]
  },
  {
   "cell_type": "code",
   "execution_count": null,
   "metadata": {},
   "outputs": [],
   "source": [
    "passComma(1,2)"
   ]
  },
  {
   "cell_type": "markdown",
   "metadata": {},
   "source": [
    "We have seen ways of passing arguments though that can take any number of arguments. look at print. It can take any number of arguments"
   ]
  },
  {
   "cell_type": "code",
   "execution_count": null,
   "metadata": {},
   "outputs": [],
   "source": [
    "print(1,2)\n",
    "print(1,2,3,4,5)\n"
   ]
  },
  {
   "cell_type": "code",
   "execution_count": null,
   "metadata": {},
   "outputs": [],
   "source": [
    "def passComma(x=0,y=0,z=0):\n",
    "    if( z==0):print(x,y)\n",
    "    elif(y==0 and z==0): print(x)\n",
    "    print(x,y,z)"
   ]
  },
  {
   "cell_type": "code",
   "execution_count": null,
   "metadata": {},
   "outputs": [],
   "source": [
    "passComma(1,2,3)\n",
    "passComma(1,2)\n",
    "passComma(1)"
   ]
  },
  {
   "cell_type": "markdown",
   "metadata": {},
   "source": [
    "We can even add keywords arugments that are optional"
   ]
  },
  {
   "cell_type": "code",
   "execution_count": null,
   "metadata": {},
   "outputs": [],
   "source": [
    "print(1,2,3,4,5,sep=\",\")"
   ]
  },
  {
   "cell_type": "markdown",
   "metadata": {},
   "source": [
    "How do we do this in our own code?"
   ]
  },
  {
   "cell_type": "code",
   "execution_count": null,
   "metadata": {},
   "outputs": [],
   "source": [
    "def testfunc(*args,**kwargs):\n",
    "    print(type(args))\n",
    "    print(type(kwargs))\n",
    "    if 'keyword' in kwargs.keys():\n",
    "        print(kwargs['keyword']*\"!\")"
   ]
  },
  {
   "cell_type": "code",
   "execution_count": null,
   "metadata": {},
   "outputs": [],
   "source": [
    "grep | lsusb -f -r -12356526"
   ]
  },
  {
   "cell_type": "code",
   "execution_count": null,
   "metadata": {},
   "outputs": [],
   "source": [
    "testfunc(1,2,3,4,5,otherword=\"test\",keyword = 4)"
   ]
  },
  {
   "cell_type": "code",
   "execution_count": null,
   "metadata": {},
   "outputs": [],
   "source": [
    "def average(*args):\n",
    "    x = len(args)\n",
    "    y = sum(args)\n",
    "    return y/x\n",
    "\n",
    "average(1,2,3,4,5)\n",
    "    "
   ]
  },
  {
   "cell_type": "code",
   "execution_count": null,
   "metadata": {},
   "outputs": [],
   "source": [
    "def tupleAverage(tup):\n",
    "    x = len(tup)\n",
    "    y = sum(tup)\n",
    "    return y/x\n",
    "\n",
    "tupleAverage((1,2,3,4,5))"
   ]
  },
  {
   "cell_type": "markdown",
   "metadata": {},
   "source": [
    "Here we see that we are making a tuple or a dictionary. We know how to handle those!"
   ]
  },
  {
   "cell_type": "markdown",
   "metadata": {},
   "source": [
    "So what are those ***** doing?\n",
    "\\\n",
    "\\\n",
    "Its called unpacking, ***** is for tuples and list, ****** is for dictionaries"
   ]
  },
  {
   "cell_type": "code",
   "execution_count": null,
   "metadata": {},
   "outputs": [],
   "source": [
    "def my_sum(a, b, c):\n",
    "    print(a)\n",
    "    print(b)\n",
    "    print(c)\n",
    "    print(a + b + c)\n",
    "\n",
    "my_list = [1, 2, 3]\n",
    "my_sum(*my_list)"
   ]
  },
  {
   "cell_type": "code",
   "execution_count": null,
   "metadata": {},
   "outputs": [],
   "source": [
    "my_first_dict = {\"A\": 1, \"B\": 2}\n",
    "my_second_dict = {\"C\": 3, \"D\": 4}\n",
    "my_merged_dict = {**my_first_dict, **my_second_dict}\n",
    "\n",
    "print(my_merged_dict)"
   ]
  },
  {
   "cell_type": "code",
   "execution_count": null,
   "metadata": {},
   "outputs": [],
   "source": [
    "list1 = list(range(0,10))\n",
    "\n",
    "list2 = list(range(0,10))\n",
    "\n",
    "*zip(list1,list2)"
   ]
  },
  {
   "cell_type": "markdown",
   "metadata": {},
   "source": [
    "# Pure vs Impure functions\n",
    "\n",
    "What make a function \"pure\""
   ]
  },
  {
   "cell_type": "code",
   "execution_count": null,
   "metadata": {},
   "outputs": [],
   "source": []
  },
  {
   "cell_type": "code",
   "execution_count": 1,
   "metadata": {},
   "outputs": [
    {
     "name": "stdout",
     "output_type": "stream",
     "text": [
      "[1, 2, 3, 4]\n",
      "[1, 4, 9, 16]\n"
     ]
    }
   ],
   "source": [
    "def pureFunction(x):\n",
    "    y = []\n",
    "    for i in range(len(x)):\n",
    "        y.append( x[i]**2)\n",
    "    return y\n",
    "\n",
    "x = [1,2,3,4]\n",
    "y = pureFunction(x)\n",
    "print(x)\n",
    "print(y)"
   ]
  },
  {
   "cell_type": "code",
   "execution_count": 5,
   "metadata": {},
   "outputs": [
    {
     "name": "stdout",
     "output_type": "stream",
     "text": [
      "[1, 2, 3, 4]\n",
      "[1, 4, 9, 16]\n"
     ]
    }
   ],
   "source": [
    "y = pureFunction(x)\n",
    "print(x)\n",
    "print(y)"
   ]
  },
  {
   "cell_type": "code",
   "execution_count": 6,
   "metadata": {},
   "outputs": [],
   "source": [
    "def impureFunction(x):\n",
    "    for i in range(len(x)):\n",
    "        x[i] = x[i]**2\n",
    "x = [1,2,3,4]"
   ]
  },
  {
   "cell_type": "code",
   "execution_count": 10,
   "metadata": {},
   "outputs": [
    {
     "name": "stdout",
     "output_type": "stream",
     "text": [
      "[1, 65536, 43046721, 4294967296]\n",
      "None\n"
     ]
    }
   ],
   "source": [
    "\n",
    "y = impureFunction(x)\n",
    "print(x)\n",
    "print(y)"
   ]
  },
  {
   "cell_type": "markdown",
   "metadata": {},
   "source": [
    "Here the main difference between a pure function and an impure one is that the impure one chages the value of something passed to it. It does something other than return a value. both are doing $X->X^2$ but the pure function returns a value, and the impure one just relies on mutation\n",
    "\n",
    "\n",
    "Changing something without returning a value is known as a \"side-effect\" \n",
    "\n",
    "What else is a side effect?\n",
    "\n",
    "\\\n",
    "\\\n",
    "\\\n",
    "\\\n",
    "\\\n",
    "\\\n",
    "\\\n",
    "\\\n",
    "\\\n",
    "\\\n",
    "\\\n",
    "\n",
    "\n",
    "\n",
    "### Globals"
   ]
  },
  {
   "cell_type": "code",
   "execution_count": 12,
   "metadata": {},
   "outputs": [
    {
     "name": "stdout",
     "output_type": "stream",
     "text": [
      "0\n",
      "None\n",
      "5\n"
     ]
    }
   ],
   "source": [
    "x = 0\n",
    "\n",
    "def setx(n):\n",
    "    global x\n",
    "    x = n\n",
    "\n",
    "print(x)\n",
    "y = setx(5)\n",
    "print(y)\n",
    "print(x)"
   ]
  },
  {
   "cell_type": "markdown",
   "metadata": {},
   "source": [
    "Global variables let you change something in the code without seeing it immediately. \n",
    "\\\n",
    "what else generates side effects?\n",
    "\\\n",
    "\\\n",
    "\\\n",
    "\\\n",
    "\\\n",
    "\\\n",
    "\\\n",
    "\\\n",
    "\\\n",
    "\\\n",
    "\\\n",
    "\\\n",
    "\\\n",
    "\\\n",
    "\\\n",
    "\\\n",
    "\\\n",
    "\\\n",
    "\\\n",
    "## file writing"
   ]
  },
  {
   "cell_type": "code",
   "execution_count": 13,
   "metadata": {},
   "outputs": [
    {
     "name": "stdout",
     "output_type": "stream",
     "text": [
      "I need to add something\n",
      "\n",
      "I need to add something\n",
      "I need to add something\n",
      "I need to add something\n",
      "I need to add something\n",
      "\n"
     ]
    }
   ],
   "source": [
    "def addToFile():\n",
    "    with open(\"myfile.txt\",\"a\") as file:\n",
    "        file.write(\"I need to add something\\n\")\n",
    "        \n",
    "\n",
    "def readFromFile():\n",
    "    contents = ''\n",
    "    with open(\"myfile.txt\",\"r\") as f:\n",
    "        contents =f.read()\n",
    "        return contents\n",
    "    return contents\n",
    "\n",
    "\n",
    "\n",
    "addToFile()\n",
    "x = readFromFile()\n",
    "print(x)\n",
    "addToFile()\n",
    "addToFile()\n",
    "addToFile()\n",
    "y = readFromFile()\n",
    "print(y)"
   ]
  },
  {
   "cell_type": "markdown",
   "metadata": {},
   "source": [
    "## Print Statements"
   ]
  },
  {
   "cell_type": "code",
   "execution_count": 14,
   "metadata": {},
   "outputs": [
    {
     "name": "stdout",
     "output_type": "stream",
     "text": [
      "This is a side effect\n",
      "None\n"
     ]
    }
   ],
   "source": [
    "x = print(\"This is a side effect\")\n",
    "print(x)"
   ]
  },
  {
   "cell_type": "markdown",
   "metadata": {},
   "source": [
    "## Try to write pure functions\n",
    "Its better to write pure functions because it increases readability and it make it possible to track down bugs and test your code. In genernal the only times you should deal with side-effects is when you are doing I/O operations like talking to a port, reading an writing files, printing, etc. "
   ]
  },
  {
   "cell_type": "markdown",
   "metadata": {},
   "source": [
    "\\\n",
    "\\\n",
    "\\\n",
    "\\\n",
    "\\\n",
    "\\\n",
    "\\\n",
    "\\\n",
    "\\\n",
    "\\\n",
    "\\\n",
    "\\\n",
    "\\\n",
    "\\\n",
    "\n",
    "# Function Composition"
   ]
  },
  {
   "attachments": {
    "image.png": {
     "image/png": "[encoded data removed]"
    }
   },
   "cell_type": "markdown",
   "metadata": {},
   "source": [
    "![image.png](attachment:image.png)"
   ]
  },
  {
   "cell_type": "code",
   "execution_count": null,
   "metadata": {},
   "outputs": [],
   "source": [
    "def f(x):\n",
    "    if x==1: return 1\n",
    "    elif x==2: return 3\n",
    "    elif x==3: return 1\n",
    "    elif x==4: return 2\n",
    "    return 0\n",
    "\n",
    "def g(x):\n",
    "    if x==1: return 2\n",
    "    elif x==2: return 3\n",
    "    elif x==3: return 1\n",
    "    elif x==4: return 2\n",
    "    return 0\n",
    "\n",
    "print(f(1))\n",
    "print(g(1))"
   ]
  },
  {
   "cell_type": "code",
   "execution_count": null,
   "metadata": {},
   "outputs": [],
   "source": [
    "h = lambda x:g(f(x))\n",
    "print (h(1))\n",
    "print (h(2))\n",
    "print (h(3))\n",
    "print (h(4))"
   ]
  },
  {
   "cell_type": "code",
   "execution_count": null,
   "metadata": {},
   "outputs": [],
   "source": [
    "def double(x):\n",
    "     return x * 2\n",
    "\n",
    "def inc(x):\n",
    "     return x + 1\n",
    "\n",
    "inc_and_double = lambda x: double(inc(x)) # 2(x+1)\n",
    "inc_and_double(10)"
   ]
  },
  {
   "cell_type": "code",
   "execution_count": null,
   "metadata": {},
   "outputs": [],
   "source": [
    "double_and_inc = lambda x: inc(double(x)) # 2x+1\n",
    "double_and_inc(10)"
   ]
  },
  {
   "cell_type": "markdown",
   "metadata": {},
   "source": [
    "You can combine functions together to make new functions! An important thing to note is that **ORDER MATTERS**\\\n",
    "$f \\circ g$ may not be the same as $g \\circ f$"
   ]
  },
  {
   "cell_type": "markdown",
   "metadata": {},
   "source": [
    "**What if you have a whole bunch of functions you want to compost together?**"
   ]
  },
  {
   "cell_type": "code",
   "execution_count": null,
   "metadata": {},
   "outputs": [],
   "source": [
    "from functools import reduce\n",
    "\n",
    "def compose(*funcs):\n",
    "    \"\"\"Compose a group of functions (f(g(h(...)))) into a single composite func.\"\"\"\n",
    "    return reduce(lambda f, g: lambda x: f(g(x)), funcs)\n",
    "\n",
    "# Example\n",
    "f = lambda x: x + 1\n",
    "g = lambda x: x * 2\n",
    "h = lambda x: x - 3\n",
    "\n",
    "# Call the function x=10 : ((x-3)*2)+1 = 15\n",
    "print(compose(f, g, h)(10))#((x-3)*2)+1\n",
    "print(compose(g,f, h)(10)) #((x-3)+1)*2 \n",
    "print(compose(g,h,f)(10))  # ((x+1)-3)*2 - The same as above because order doenst matter on + or -"
   ]
  },
  {
   "cell_type": "markdown",
   "metadata": {},
   "source": [
    "What! thats crazy! you can put functions in a list? or tuple? What about a dictionary or set?"
   ]
  },
  {
   "cell_type": "code",
   "execution_count": null,
   "metadata": {},
   "outputs": [],
   "source": [
    "func_set = set((double,inc))\n",
    "print(func_set)"
   ]
  },
  {
   "cell_type": "code",
   "execution_count": null,
   "metadata": {},
   "outputs": [],
   "source": [
    "func_dict = {\"dub\":double,\"plus1\":inc}\n",
    "print(func_dict)"
   ]
  },
  {
   "cell_type": "markdown",
   "metadata": {},
   "source": [
    "OK so we can store functions as variables, in lists, can we pass and return functions?\n",
    "\\\n",
    "\\\n",
    "\\\n",
    "\\\n",
    "\\\n",
    "\\\n",
    "\\\n",
    "\\\n",
    "\\\n",
    "\\\n",
    "\\\n",
    "\\\n",
    "\\\n",
    "\\\n",
    "\\\n",
    "\\\n",
    "\\\n",
    "We already have passed functions to function! we did it with **map**, **reduce**, and **filter**"
   ]
  },
  {
   "cell_type": "code",
   "execution_count": null,
   "metadata": {},
   "outputs": [],
   "source": [
    "list1 = [1,2,3,4,5,6,7,8,9]\n",
    "eg = map(double, list1)\n",
    "print (eg)\n",
    "print(list(eg))"
   ]
  },
  {
   "attachments": {
    "image.png": {
     "image/png": "[encoded data removed]"
    }
   },
   "cell_type": "markdown",
   "metadata": {},
   "source": [
    "Here we pass double into map. Where in math do we commonly pass functions to function?\n",
    "\\\n",
    "\\\n",
    "\\\n",
    "\\\n",
    "\\\n",
    "\\\n",
    "\\\n",
    "\\\n",
    "\\\n",
    "\\\n",
    "\\\n",
    "\\\n",
    "\\\n",
    "\\\n",
    "\\\n",
    "\\\n",
    "\\\n",
    "\\\n",
    "\\\n",
    "![image.png](attachment:image.png)"
   ]
  },
  {
   "cell_type": "markdown",
   "metadata": {},
   "source": [
    "These are called higher order functions. They are functions that take in and return functions.\n",
    "\n",
    "\n",
    "when is it good to write a function that takes in another function? when you see a pattern in your code that is replicated across instances. Forinstance lets look at our old friend sumations"
   ]
  },
  {
   "cell_type": "code",
   "execution_count": null,
   "metadata": {},
   "outputs": [],
   "source": [
    "def summation(n, term):\n",
    "    total, k = 0, 1\n",
    "    while k <= n:\n",
    "        total, k = total + term(k), k + 1\n",
    "    return total\n",
    "\n",
    "def cube(k):\n",
    "    return pow(k,3)\n",
    "\n",
    "def oneOver(k):\n",
    "    if k==0: return 0\n",
    "    return 1/k\n",
    "\n",
    "summation(10,cube)"
   ]
  },
  {
   "cell_type": "code",
   "execution_count": null,
   "metadata": {},
   "outputs": [],
   "source": [
    "def summationCube(n, term):\n",
    "    total, k = 0, 1\n",
    "    while k <= n:\n",
    "        total, k = total + pow(k,3), k + 1\n",
    "    return total\n",
    "\n",
    "def summation(n, term):\n",
    "    total, k = 0, 1\n",
    "    while k <= n:\n",
    "        if k>0\n",
    "            total, k = total + 1/k, k + 1\n",
    "        else\n",
    "            total, k = total + 0, k + 1\n",
    "    return total\n"
   ]
  },
  {
   "cell_type": "code",
   "execution_count": null,
   "metadata": {},
   "outputs": [],
   "source": [
    "summation(10,oneOver)"
   ]
  },
  {
   "cell_type": "markdown",
   "metadata": {},
   "source": [
    "Another reason to pass functions is to eliminate case statements\n",
    "\n",
    "Lets say you need to write a report about data from several samples "
   ]
  },
  {
   "cell_type": "code",
   "execution_count": null,
   "metadata": {},
   "outputs": [],
   "source": [
    "import random\n",
    "stock = {\"steel\": random.randrange(100,10000),\n",
    "         \"aluminum\": random.randrange(100,10000),\n",
    "         \"brass\": random.randrange(100,10000),\n",
    "        }"
   ]
  },
  {
   "cell_type": "code",
   "execution_count": null,
   "metadata": {},
   "outputs": [],
   "source": [
    "def writeReport(data):\n",
    "    align = max(map(len,data))\n",
    "    for material,count in data.items():\n",
    "        print('{material:<{align}}  {count:>10,}'.format(material=material, count=count, align=align))"
   ]
  },
  {
   "cell_type": "code",
   "execution_count": null,
   "metadata": {},
   "outputs": [],
   "source": [
    "writeReport(stock)"
   ]
  },
  {
   "cell_type": "markdown",
   "metadata": {},
   "source": [
    "Lets say someone comes and says write to a file"
   ]
  },
  {
   "cell_type": "code",
   "execution_count": null,
   "metadata": {},
   "outputs": [],
   "source": [
    "def writeReport(data,filename = None):\n",
    "    align = max(map(len,data))\n",
    "    for material,count in data.items():\n",
    "        line = '{material:<{align}}  {count:>10,}'.format(material=material, \n",
    "                                                          count=count, align=align)\n",
    "        if filename:\n",
    "            with open(filename,'a') as f:\n",
    "                f.write(line)\n",
    "        print (line)"
   ]
  },
  {
   "cell_type": "code",
   "execution_count": null,
   "metadata": {},
   "outputs": [],
   "source": [
    "writeReport(stock,filename = \"MyReport.txt\")"
   ]
  },
  {
   "cell_type": "markdown",
   "metadata": {},
   "source": [
    "Then someone comes and says, can we write it and email at the same time"
   ]
  },
  {
   "cell_type": "code",
   "execution_count": null,
   "metadata": {},
   "outputs": [],
   "source": [
    "def writeReport(data,filename = None, to_email=None):\n",
    "    align = max(map(len,data))\n",
    "    if to_email:\n",
    "        lines = []\n",
    "    \n",
    "    for material,count in data.items():\n",
    "        line = '{material:<{align}}  {count:>10,}'.format(material=material, \n",
    "                                                          count=count, align=align)\n",
    "        if filename:\n",
    "            with open(filename,'a') as f:\n",
    "                f.write(line)\n",
    "        \n",
    "        if to_email: lines.append(line)\n",
    "        print (line)\n",
    "        \n",
    "    if to_email: \n",
    "        email = \"\\n\".join(lines)\n",
    "        return email"
   ]
  },
  {
   "cell_type": "markdown",
   "metadata": {},
   "source": [
    "instead of true false values we can use a function called write"
   ]
  },
  {
   "cell_type": "code",
   "execution_count": null,
   "metadata": {},
   "outputs": [],
   "source": [
    "template1 = '{material:<{align}}  {count:>10,}'.format # REquires material, align, count\n",
    "def writeReport(data,write = print, template=template1):\n",
    "    align = max(map(len,data))\n",
    "    for material1,count1 in data.items():\n",
    "        line = template(material=material1, count=count1, align=align1)\n",
    "        write(line)\n",
    "        \n",
    "writeReport(stock)"
   ]
  },
  {
   "cell_type": "code",
   "execution_count": null,
   "metadata": {},
   "outputs": [],
   "source": [
    "def toFile(line):\n",
    "    filename = \"log.txt\"\n",
    "    with open(filename,'a') as f:\n",
    "        f.write(line)\n",
    "        \n",
    "writeReport(stock,write=toFile)"
   ]
  },
  {
   "cell_type": "code",
   "execution_count": null,
   "metadata": {},
   "outputs": [],
   "source": [
    "cvstemplate = '{material},{count}\\n'.format\n",
    "writeReport(stock,write=toFile,template=cvstemplate)"
   ]
  },
  {
   "cell_type": "markdown",
   "metadata": {},
   "source": [
    "## What about returning a function? When do we want to return functions?\n",
    "\n",
    "A funciton that makes a common type of function with a value set"
   ]
  },
  {
   "cell_type": "code",
   "execution_count": null,
   "metadata": {},
   "outputs": [],
   "source": [
    "def incrementBy(n):\n",
    "    def adder(k):\n",
    "        return k+n\n",
    "    return adder\n",
    "\n",
    "i2 = incrementBy(2)\n",
    "list(map(i2,range(0,10)))"
   ]
  },
  {
   "cell_type": "code",
   "execution_count": null,
   "metadata": {},
   "outputs": [],
   "source": [
    "i2(7)"
   ]
  },
  {
   "cell_type": "code",
   "execution_count": null,
   "metadata": {},
   "outputs": [],
   "source": [
    "def incrementListBy(n):\n",
    "    def adder(*args):\n",
    "        y=[]\n",
    "        for a in args:\n",
    "            y.append(a+n)\n",
    "        return y\n",
    "    return adder"
   ]
  },
  {
   "cell_type": "code",
   "execution_count": null,
   "metadata": {},
   "outputs": [],
   "source": [
    "iL1 = incrementListBy(3)"
   ]
  },
  {
   "cell_type": "code",
   "execution_count": null,
   "metadata": {},
   "outputs": [],
   "source": [
    "iL1(1,2,3,4,5)"
   ]
  },
  {
   "cell_type": "markdown",
   "metadata": {},
   "source": [
    "\\\n",
    "\\\n",
    "\\\n",
    "\\\n",
    "\\\n",
    "\\\n",
    "\\\n",
    "\\\n",
    "\\\n",
    "\\\n",
    "\\\n",
    "\\\n",
    "\\\n",
    "\\\n",
    "\\\n",
    "\\\n",
    "\\\n",
    "\\\n",
    "\\\n",
    "\\\n",
    "\\\n",
    "\\\n",
    "\\\n",
    "\\\n",
    "\\\n",
    "\\\n",
    "\\\n",
    "\\\n",
    "\n",
    "Wrapping a function is useful for debugging and logging"
   ]
  },
  {
   "cell_type": "code",
   "execution_count": null,
   "metadata": {},
   "outputs": [],
   "source": [
    "def wrap(pre, post):\n",
    "    def decorate(func):\n",
    "        def call(*args, **kwargs):\n",
    "            pre(func, *args, **kwargs)\n",
    "            result = func(*args, **kwargs)\n",
    "            post(func, *args, **kwargs)\n",
    "            return result\n",
    "        return call\n",
    "    return decorate\n",
    "\n",
    "\n",
    "\n",
    "def trace_in(func, *args, **kwargs):\n",
    "    print (\"Entering function\",  func.__name__)\n",
    "\n",
    "def trace_out(func, *args, **kwargs):\n",
    "    print (\"Leaving function\", func.__name__)\n",
    "\n",
    "@wrap(trace_in, trace_out)\n",
    "def calc(x, y):\n",
    "    return x + y\n",
    "\n",
    "print (calc(1,4))"
   ]
  },
  {
   "cell_type": "code",
   "execution_count": null,
   "metadata": {},
   "outputs": [],
   "source": [
    "wrap(trace_in,trace_out)(i2)(1)"
   ]
  },
  {
   "cell_type": "code",
   "execution_count": null,
   "metadata": {},
   "outputs": [],
   "source": []
  }
 ],
 "metadata": {
  "kernelspec": {
   "display_name": "Python 3",
   "language": "python",
   "name": "python3"
  },
  "language_info": {
   "codemirror_mode": {
    "name": "ipython",
    "version": 3
   },
   "file_extension": ".py",
   "mimetype": "text/x-python",
   "name": "python",
   "nbconvert_exporter": "python",
   "pygments_lexer": "ipython3",
   "version": "3.7.3"
  }
 },
 "nbformat": 4,
 "nbformat_minor": 2
}
