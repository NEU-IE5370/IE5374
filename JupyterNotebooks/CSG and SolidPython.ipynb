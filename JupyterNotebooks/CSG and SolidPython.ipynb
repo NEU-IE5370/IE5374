{
 "cells": [
  {
   "cell_type": "markdown",
   "metadata": {},
   "source": [
    "# CSG CAD in Python"
   ]
  },
  {
   "cell_type": "markdown",
   "metadata": {},
   "source": [
    "## Setup\n",
    "To setup this environment, you need to install:\n",
    "* [OpenSCAD](https://www.openscad.org/downloads.html)\n",
    "\n",
    "Then you need to open your anaconda command prompt and power shell. \n",
    "* install [SolidPython](https://github.com/SolidCode/SolidPython#using-solidpython) using the command `pip install solidpython`\n",
    "* install [viewscad](https://github.com/nickc92/ViewSCAD) by running the command `pip install viewscad\n",
    "\n",
    "Alternatively you can run the lines bellow`"
   ]
  },
  {
   "cell_type": "raw",
   "metadata": {},
   "source": [
    "# import sys\n",
    "!{sys.executable} -m pip install solidpython\n",
    "!{sys.executable} -m pip install viewscad"
   ]
  },
  {
   "cell_type": "code",
   "execution_count": 1,
   "metadata": {},
   "outputs": [],
   "source": [
    "from solid import *\n",
    "from solid.utils import *\n",
    "import viewscad\n",
    "\n",
    "r = viewscad.Renderer(openscad_exec='C:\\Program Files\\OpenSCAD\\openscad.exe')"
   ]
  },
  {
   "cell_type": "markdown",
   "metadata": {},
   "source": [
    "Above we setup the environment. It includes importing the relivant functions and telling the rendered where openscad is. You may need to change the line `openscad_exec='C:\\Program Files\\OpenSCAD\\openscad.exe'`\n",
    "\n",
    "**Next lets generate a simple cylinder**"
   ]
  },
  {
   "cell_type": "code",
   "execution_count": 4,
   "metadata": {},
   "outputs": [
    {
     "data": {
      "application/vnd.jupyter.widget-view+json": {
       "model_id": "6ed29bf6f39345f38c020568da2e9dc4",
       "version_major": 2,
       "version_minor": 0
      },
      "text/plain": [
       "VBox(children=(HTML(value=''), Renderer(background='#cccc88', background_opacity=0.0, camera=PerspectiveCamera…"
      ]
     },
     "metadata": {},
     "output_type": "display_data"
    },
    {
     "name": "stdout",
     "output_type": "stream",
     "text": [
      "\n",
      "\n",
      "cylinder(h = 5, r = 10);\n"
     ]
    }
   ],
   "source": [
    "c = cylinder(r=10,h=5)\n",
    "r.render(c)\n",
    "print(scad_render(c))"
   ]
  },
  {
   "cell_type": "code",
   "execution_count": 3,
   "metadata": {},
   "outputs": [
    {
     "name": "stdout",
     "output_type": "stream",
     "text": [
      "<solid.objects.cylinder object at 0x0000017DC233B860>\n"
     ]
    }
   ],
   "source": [
    "print(c)"
   ]
  },
  {
   "cell_type": "markdown",
   "metadata": {},
   "source": [
    "The code is converting the cylinder to a very basic form of an equation into a triangulated surfce. But as we can see the resolution isnt great. This is the same problem we have when we convert from a nice geoemtry in Solidworks/Autodesk to STL files. \n",
    "\n",
    "How can we fix it? We increase the discritization resolution"
   ]
  },
  {
   "cell_type": "code",
   "execution_count": null,
   "metadata": {},
   "outputs": [],
   "source": [
    "c = cylinder(r=10,h=5,segments=1000)\n",
    "r.render(c)"
   ]
  },
  {
   "cell_type": "markdown",
   "metadata": {},
   "source": [
    "Ok, so openSCAD aaaaaaaaaaalways converts from CSG into a mesh to be viewed. We can see this when we zoom into the objet and all of the sudden there isnt anything inside! And we can set the resolution of this conversion. "
   ]
  },
  {
   "cell_type": "markdown",
   "metadata": {},
   "source": [
    "## What are the primitives?\n",
    "### sphere"
   ]
  },
  {
   "cell_type": "code",
   "execution_count": 5,
   "metadata": {},
   "outputs": [
    {
     "data": {
      "application/vnd.jupyter.widget-view+json": {
       "model_id": "92f499a938c940ebafff8af6d72d943d",
       "version_major": 2,
       "version_minor": 0
      },
      "text/plain": [
       "VBox(children=(HTML(value=''), Renderer(background='#cccc88', background_opacity=0.0, camera=PerspectiveCamera…"
      ]
     },
     "metadata": {},
     "output_type": "display_data"
    }
   ],
   "source": [
    "# Sphere with radius 10\n",
    "s1 = sphere(r=10)\n",
    "r.render(s1)"
   ]
  },
  {
   "cell_type": "code",
   "execution_count": null,
   "metadata": {},
   "outputs": [],
   "source": [
    "# Set diameter to 5\n",
    "s2 = sphere(d=5, segments = 100)\n",
    "r.render(s2)"
   ]
  },
  {
   "cell_type": "markdown",
   "metadata": {},
   "source": [
    "### Cuboids"
   ]
  },
  {
   "cell_type": "code",
   "execution_count": 6,
   "metadata": {},
   "outputs": [
    {
     "data": {
      "application/vnd.jupyter.widget-view+json": {
       "model_id": "30d0b573f5e34ec3bbf6a3a94ba5aa67",
       "version_major": 2,
       "version_minor": 0
      },
      "text/plain": [
       "VBox(children=(HTML(value=''), Renderer(background='#cccc88', background_opacity=0.0, camera=PerspectiveCamera…"
      ]
     },
     "metadata": {},
     "output_type": "display_data"
    }
   ],
   "source": [
    "c1 = cube(10)\n",
    "r.render(c1)"
   ]
  },
  {
   "cell_type": "markdown",
   "metadata": {},
   "source": [
    "The basic function puts a corner at the origin with the side length you set. \n",
    "We can also tell it to automatically put it with the center at the origin"
   ]
  },
  {
   "cell_type": "code",
   "execution_count": null,
   "metadata": {},
   "outputs": [],
   "source": [
    "c2 = cube(10,True)\n",
    "r.render(c2)"
   ]
  },
  {
   "cell_type": "markdown",
   "metadata": {},
   "source": [
    "We can also use it to make a rectangular prisim."
   ]
  },
  {
   "cell_type": "code",
   "execution_count": 10,
   "metadata": {},
   "outputs": [
    {
     "data": {
      "application/vnd.jupyter.widget-view+json": {
       "model_id": "f1ecc3298a34432c9a785f9bbd1d8eca",
       "version_major": 2,
       "version_minor": 0
      },
      "text/plain": [
       "VBox(children=(HTML(value=''), Renderer(background='#cccc88', background_opacity=0.0, camera=PerspectiveCamera…"
      ]
     },
     "metadata": {},
     "output_type": "display_data"
    }
   ],
   "source": [
    "c3 = cube([10,20,30])\n",
    "r.render(c3)"
   ]
  },
  {
   "cell_type": "markdown",
   "metadata": {},
   "source": [
    "You can note that there is no segments argument to cube because a triangulated mesh is a perfect representation of a cube. "
   ]
  },
  {
   "cell_type": "markdown",
   "metadata": {},
   "source": [
    "### Cylinder\n",
    "we saw the basics above, but we can also make Cones using cylinder"
   ]
  },
  {
   "cell_type": "code",
   "execution_count": 11,
   "metadata": {},
   "outputs": [
    {
     "data": {
      "application/vnd.jupyter.widget-view+json": {
       "model_id": "67d12a0ae2c244b295111e8dbe003a3d",
       "version_major": 2,
       "version_minor": 0
      },
      "text/plain": [
       "VBox(children=(HTML(value=''), Renderer(background='#cccc88', background_opacity=0.0, camera=PerspectiveCamera…"
      ]
     },
     "metadata": {},
     "output_type": "display_data"
    }
   ],
   "source": [
    "c2 = cylinder(r1 = 10, r2=5,h=5)\n",
    "r.render(c2)"
   ]
  },
  {
   "cell_type": "markdown",
   "metadata": {},
   "source": [
    "It is also possible to define cone sections using diameters and to shift the center to the center of the height axis. The height axis will be in the Z direction"
   ]
  },
  {
   "cell_type": "code",
   "execution_count": 12,
   "metadata": {},
   "outputs": [
    {
     "data": {
      "application/vnd.jupyter.widget-view+json": {
       "model_id": "63fd70f2da2948cbb904806cadeb2ba4",
       "version_major": 2,
       "version_minor": 0
      },
      "text/plain": [
       "VBox(children=(HTML(value=''), Renderer(background='#cccc88', background_opacity=0.0, camera=PerspectiveCamera…"
      ]
     },
     "metadata": {},
     "output_type": "display_data"
    }
   ],
   "source": [
    "c3 = cylinder(d1 = 10, d2=5,h=5,center=True)\n",
    "r.render(c3)"
   ]
  },
  {
   "cell_type": "markdown",
   "metadata": {},
   "source": [
    "### Polyhedron\n",
    "\n",
    "What if those primitives are not what you need? What if I need to make a pyramids?  or Tetra hedra, or any of the platonic solids besides a cube? "
   ]
  },
  {
   "cell_type": "code",
   "execution_count": null,
   "metadata": {},
   "outputs": [],
   "source": [
    "points = [[0,0,0],[0,1,0],[1,1,0],[1,0,0],[0.5,0.5,1]]\n",
    "faces = [[0,1,2,3], # Base\n",
    "         [0,1,4],[1,2,4],[2,3,4],[3,0,4]]\n",
    "p = polyhedron(points = points,faces = faces)\n",
    "r.render(p)"
   ]
  },
  {
   "cell_type": "code",
   "execution_count": 7,
   "metadata": {},
   "outputs": [
    {
     "data": {
      "application/vnd.jupyter.widget-view+json": {
       "model_id": "eb2795972ddb4cd2a3b698473ee8876a",
       "version_major": 2,
       "version_minor": 0
      },
      "text/plain": [
       "VBox(children=(HTML(value=''), Renderer(background='#cccc88', background_opacity=0.0, camera=PerspectiveCamera…"
      ]
     },
     "metadata": {},
     "output_type": "display_data"
    }
   ],
   "source": [
    "points=[ [10,10,0],[10,-10,0],[-10,-10,0],[-10,10,0], # the four points at base\n",
    "           [0,0,10]  ]                               # the apex point \n",
    "faces=[ [0,1,4],[1,2,4],[2,3,4],[3,0,4],              # each triangle side\n",
    "              [1,0,3],[2,1,3] ]                       # two triangles for square base\n",
    "p2 = polyhedron(points = points,faces = faces)\n",
    "r.render(p2)"
   ]
  },
  {
   "cell_type": "code",
   "execution_count": 8,
   "metadata": {},
   "outputs": [
    {
     "data": {
      "application/vnd.jupyter.widget-view+json": {
       "model_id": "8e3ced444b284ce2b44c990115405ab7",
       "version_major": 2,
       "version_minor": 0
      },
      "text/plain": [
       "VBox(children=(HTML(value=''), Renderer(background='#cccc88', background_opacity=0.0, camera=PerspectiveCamera…"
      ]
     },
     "metadata": {},
     "output_type": "display_data"
    }
   ],
   "source": [
    "def pyramid(side,height):\n",
    "    s = side/2.0\n",
    "    points=[ [s,s,0],[s,-s,0],[-s,-s,0],[-s,s,0], # the four points at base\n",
    "           [0,0,height]  ]                               # the apex point \n",
    "    faces=[ [0,1,4],[1,2,4],[2,3,4],[3,0,4],              # each triangle side\n",
    "              [1,0,3],[2,1,3] ]                       # two triangles for square base\n",
    "    return polyhedron(points = points,faces = faces)\n",
    "r.render(pyramid(10,10))"
   ]
  },
  {
   "cell_type": "markdown",
   "metadata": {},
   "source": [
    "If your polygon is having issues with faces not showing up. look at the segment on debugging your faces [here](https://en.wikibooks.org/wiki/OpenSCAD_User_Manual/Primitive_Solids#polyhedron)"
   ]
  },
  {
   "cell_type": "markdown",
   "metadata": {},
   "source": [
    "### Well what about those basic CSG operations?\n",
    "* Union\n",
    "* Difference\n",
    "* Intersection\n",
    "\n",
    "Arent they just the opperations of a **SET??**"
   ]
  },
  {
   "cell_type": "code",
   "execution_count": 13,
   "metadata": {},
   "outputs": [
    {
     "data": {
      "application/vnd.jupyter.widget-view+json": {
       "model_id": "2b8af2c3c2ee4e75a95a219af796fd26",
       "version_major": 2,
       "version_minor": 0
      },
      "text/plain": [
       "VBox(children=(HTML(value=''), Renderer(background='#cccc88', background_opacity=0.0, camera=PerspectiveCamera…"
      ]
     },
     "metadata": {},
     "output_type": "display_data"
    }
   ],
   "source": [
    "c3 = c1 + c2\n",
    "r.render(c3)"
   ]
  },
  {
   "cell_type": "code",
   "execution_count": 14,
   "metadata": {},
   "outputs": [
    {
     "data": {
      "application/vnd.jupyter.widget-view+json": {
       "model_id": "5d3267e3edab4f51bd9638e7dcd41ae5",
       "version_major": 2,
       "version_minor": 0
      },
      "text/plain": [
       "VBox(children=(HTML(value=''), Renderer(background='#cccc88', background_opacity=0.0, camera=PerspectiveCamera…"
      ]
     },
     "metadata": {},
     "output_type": "display_data"
    }
   ],
   "source": [
    "c3 = c1 - c2 \n",
    "r.render(c3)"
   ]
  },
  {
   "cell_type": "code",
   "execution_count": null,
   "metadata": {},
   "outputs": [],
   "source": [
    "c3 = c2 - c1 \n",
    "r.render(c3)"
   ]
  },
  {
   "cell_type": "code",
   "execution_count": 15,
   "metadata": {},
   "outputs": [
    {
     "data": {
      "application/vnd.jupyter.widget-view+json": {
       "model_id": "b432bae1a11c4288af8e3dd9506b07e5",
       "version_major": 2,
       "version_minor": 0
      },
      "text/plain": [
       "VBox(children=(HTML(value=''), Renderer(background='#cccc88', background_opacity=0.0, camera=PerspectiveCamera…"
      ]
     },
     "metadata": {},
     "output_type": "display_data"
    }
   ],
   "source": [
    "c3 = c1*c2 \n",
    "r.render(c3)"
   ]
  },
  {
   "cell_type": "markdown",
   "metadata": {},
   "source": [
    "### Hole"
   ]
  },
  {
   "cell_type": "code",
   "execution_count": 16,
   "metadata": {},
   "outputs": [
    {
     "data": {
      "application/vnd.jupyter.widget-view+json": {
       "model_id": "12edb4a25f5640e58583da5604575289",
       "version_major": 2,
       "version_minor": 0
      },
      "text/plain": [
       "VBox(children=(HTML(value=''), Renderer(background='#cccc88', background_opacity=0.0, camera=PerspectiveCamera…"
      ]
     },
     "metadata": {},
     "output_type": "display_data"
    }
   ],
   "source": [
    "pipe_od = 10\n",
    "pipe_id = 3\n",
    "seg_length = 10\n",
    "outer = cylinder(r=pipe_od, h=seg_length)\n",
    "inner = cylinder(r=pipe_id, h=seg_length)\n",
    "pipe_a = outer - hole()(inner)\n",
    "r.render(pipe_a)"
   ]
  },
  {
   "cell_type": "code",
   "execution_count": 17,
   "metadata": {},
   "outputs": [
    {
     "data": {
      "application/vnd.jupyter.widget-view+json": {
       "model_id": "3780bc95700f4dcd985bd5558fda585a",
       "version_major": 2,
       "version_minor": 0
      },
      "text/plain": [
       "VBox(children=(HTML(value=''), Renderer(background='#cccc88', background_opacity=0.0, camera=PerspectiveCamera…"
      ]
     },
     "metadata": {},
     "output_type": "display_data"
    }
   ],
   "source": [
    "pipe_a = outer + hole()(inner)\n",
    "r.render(pipe_a)"
   ]
  },
  {
   "cell_type": "markdown",
   "metadata": {},
   "source": [
    "## Transformations"
   ]
  },
  {
   "cell_type": "markdown",
   "metadata": {},
   "source": [
    "* Scale \n",
    "    * scale a \n",
    "    * scale [a1,a2,a3]\n",
    "    * resize [x,y,z]\n",
    "* Rotate\n",
    "    * axis angle\n",
    "    * [dx,dy,dz] euler\n",
    "* Translate\n",
    "    * tx ty tz\n",
    "* mirror\n",
    "    * plane normal n1 n2 n3\n",
    "* Homogenous SE(3)\n",
    "    \n"
   ]
  },
  {
   "cell_type": "markdown",
   "metadata": {},
   "source": [
    "### Scaling"
   ]
  },
  {
   "cell_type": "code",
   "execution_count": 18,
   "metadata": {},
   "outputs": [
    {
     "data": {
      "application/vnd.jupyter.widget-view+json": {
       "model_id": "d560b2e118dc4c39b9e8133178634072",
       "version_major": 2,
       "version_minor": 0
      },
      "text/plain": [
       "VBox(children=(HTML(value=''), Renderer(background='#cccc88', background_opacity=0.0, camera=PerspectiveCamera…"
      ]
     },
     "metadata": {},
     "output_type": "display_data"
    }
   ],
   "source": [
    "x = scale(1.5)(cube(10))-cube(10)\n",
    "r.render(x)"
   ]
  },
  {
   "cell_type": "code",
   "execution_count": 19,
   "metadata": {},
   "outputs": [
    {
     "data": {
      "application/vnd.jupyter.widget-view+json": {
       "model_id": "0d4e7da534944156b13f95642f7b262e",
       "version_major": 2,
       "version_minor": 0
      },
      "text/plain": [
       "VBox(children=(HTML(value=''), Renderer(background='#cccc88', background_opacity=0.0, camera=PerspectiveCamera…"
      ]
     },
     "metadata": {},
     "output_type": "display_data"
    }
   ],
   "source": [
    "x = scale([1,2,3])(sphere(10))\n",
    "r.render(x)"
   ]
  },
  {
   "cell_type": "code",
   "execution_count": 20,
   "metadata": {},
   "outputs": [
    {
     "data": {
      "application/vnd.jupyter.widget-view+json": {
       "model_id": "22568361799c4878bd74b351ec75dbd7",
       "version_major": 2,
       "version_minor": 0
      },
      "text/plain": [
       "VBox(children=(HTML(value=''), Renderer(background='#cccc88', background_opacity=0.0, camera=PerspectiveCamera…"
      ]
     },
     "metadata": {},
     "output_type": "display_data"
    }
   ],
   "source": [
    "x = resize([20,5,10])(sphere(10))\n",
    "r.render(x)"
   ]
  },
  {
   "cell_type": "markdown",
   "metadata": {},
   "source": [
    "## Rotation SO(3)\n",
    "\n",
    "As we discussed in class there are several ways to do rotations. namely Axis-angle, Euler Angles, and Quaternions. Natively OpenSCAD only does the first two. Lets look at Axis-angle"
   ]
  },
  {
   "cell_type": "code",
   "execution_count": null,
   "metadata": {},
   "outputs": [],
   "source": [
    "angle = 45\n",
    "axis = [0,1,0]\n",
    "x = rotate(angle,axis)(pyramid(10,10))\n",
    "r.render(x)"
   ]
  },
  {
   "cell_type": "code",
   "execution_count": null,
   "metadata": {},
   "outputs": [],
   "source": [
    "angle = 45\n",
    "axis = [1,1,0]\n",
    "x = rotate(angle,axis)(pyramid(10,10))\n",
    "r.render(x)"
   ]
  },
  {
   "cell_type": "code",
   "execution_count": null,
   "metadata": {},
   "outputs": [],
   "source": [
    "angles = [20,10,5]\n",
    "x = rotate(angles)(pyramid(10,10))\n",
    "r.render(x)"
   ]
  },
  {
   "cell_type": "code",
   "execution_count": null,
   "metadata": {},
   "outputs": [],
   "source": [
    "angles = [20,10,5]\n",
    "x2 = rotate(angles[0],[1,0,0])(pyramid(10,10))\n",
    "r.render(x2)"
   ]
  },
  {
   "cell_type": "code",
   "execution_count": null,
   "metadata": {},
   "outputs": [],
   "source": [
    "x2 = rotate(angles[1],[0,1,0])(x2)\n",
    "r.render(x2)"
   ]
  },
  {
   "cell_type": "code",
   "execution_count": null,
   "metadata": {},
   "outputs": [],
   "source": [
    "x2 = rotate(angles[2],[0,0,1])(x2)\n",
    "r.render(x2)"
   ]
  },
  {
   "cell_type": "code",
   "execution_count": null,
   "metadata": {},
   "outputs": [],
   "source": [
    "r.render(x-x2+sphere(1))"
   ]
  },
  {
   "cell_type": "markdown",
   "metadata": {},
   "source": [
    "This means the system uses the XYZ euler angles. NOT any of the implicit XY'Z'' or the standard ZXZ system. So be aware when someone quotes you euler angles!"
   ]
  },
  {
   "cell_type": "markdown",
   "metadata": {},
   "source": [
    "We can also use quaterions, but we need to insert our own transformation. To do that we can convert to Matrix form using the equation below\n",
    "\n",
    "$$ R= \\left(\\begin{matrix}1-2(q_j^2-q_k^2)&2(q_iq_j-q_kq_r)&2(q_iq_k+q_jq_r)\\\\2(q_iq_j+q_kq_r)&1-2(q_i^2-q_k^2)&2(q_jq_k-q_iq_r)\\\\2(q_iq_k-q_jq_r)&2(q_jq_k+q_iq_r)&1-2(q_i^2-q_j^2)\\end{matrix}\\right) $$\n",
    "\n",
    "\n",
    "We should note that the naming here is carefully chosen. some people list quaternions as $$q = [q_r,q_i,q_j,q_k]$$ others use $$q = [q_i,q_j,q_k,q_r]$$ so be careful when storing quaternion as a list or connecting two bits of quaternion code from different sources together. Scipy and numpy use the second convention\n"
   ]
  },
  {
   "cell_type": "code",
   "execution_count": null,
   "metadata": {},
   "outputs": [],
   "source": [
    "import numpy as np\n",
    "from scipy.spatial.transform import Rotation as RM\n",
    "rm = RM.from_quat([np.sin(np.pi/4),0, 0, np.cos(np.pi/4)])\n",
    "rot = rm.as_dcm()\n",
    "print(rot)\n",
    "y = multmatrix(rot)(pyramid(10,10))\n",
    "r.render(y)"
   ]
  },
  {
   "cell_type": "markdown",
   "metadata": {},
   "source": [
    "## Translate T(3)"
   ]
  },
  {
   "cell_type": "code",
   "execution_count": null,
   "metadata": {},
   "outputs": [],
   "source": [
    "y = translate([0,10,0])(pyramid(10,10))+pyramid(10,10)\n",
    "r.render(y)"
   ]
  },
  {
   "cell_type": "markdown",
   "metadata": {},
   "source": [
    "### Mirror"
   ]
  },
  {
   "cell_type": "code",
   "execution_count": 22,
   "metadata": {},
   "outputs": [
    {
     "data": {
      "application/vnd.jupyter.widget-view+json": {
       "model_id": "0fe921114106457aaadca3561cb411fa",
       "version_major": 2,
       "version_minor": 0
      },
      "text/plain": [
       "VBox(children=(HTML(value=''), Renderer(background='#cccc88', background_opacity=0.0, camera=PerspectiveCamera…"
      ]
     },
     "metadata": {},
     "output_type": "display_data"
    }
   ],
   "source": [
    "c = cube([30,20,10])\n",
    "c1 = translate([20,0,0])(rotate(45,[0,0,1])(c))\n",
    "c2 = mirror([1,1,0])(c1)\n",
    "r.render(c1+c2)\n"
   ]
  },
  {
   "cell_type": "markdown",
   "metadata": {},
   "source": [
    "## SE(3)"
   ]
  },
  {
   "cell_type": "code",
   "execution_count": 27,
   "metadata": {},
   "outputs": [],
   "source": [
    "import numpy as np\n",
    "def Nx(n):\n",
    "    x = n[0]\n",
    "    y = n[1]\n",
    "    z = n[2]\n",
    "    nx = np.array( [ [0, -z,  y],\n",
    "                     [z,  0,  x],\n",
    "                     [-y,  x, 0] ] )\n",
    "    return nx\n",
    "\n",
    "def AxisAngle(n,theta):\n",
    "    mag = np.linalg.norm(n)\n",
    "    v = n/mag\n",
    "    s = np.sin(theta)\n",
    "    c = np.cos(theta)\n",
    "    NM = Nx(v)\n",
    "    r = np.eye(3)+s*NM+(1-c)*NM@NM\n",
    "    return r\n",
    "\n",
    "def AxisAngleDistance(n,theta,D):\n",
    "    R = AxisAngle(n,theta)\n",
    "    d = np.array(D).T.reshape((1,3)) \n",
    "    return np.block([\n",
    "                    [R , d.T],\n",
    "                    [0,0,0, 1]  \n",
    "                    ])"
   ]
  },
  {
   "cell_type": "code",
   "execution_count": 28,
   "metadata": {},
   "outputs": [
    {
     "data": {
      "application/vnd.jupyter.widget-view+json": {
       "model_id": "41e5c6b0626346e2af85db1c7551a53b",
       "version_major": 2,
       "version_minor": 0
      },
      "text/plain": [
       "VBox(children=(HTML(value=''), Renderer(background='#cccc88', background_opacity=0.0, camera=PerspectiveCamera…"
      ]
     },
     "metadata": {},
     "output_type": "display_data"
    }
   ],
   "source": [
    "n = [0,0,1]\n",
    "theta = np.pi/4\n",
    "D = [3,1,0]\n",
    "RD = AxisAngleDistance(n,theta,D)\n",
    "\n",
    "y = multmatrix(RD)(pyramid(10,10))\n",
    "r.render(y)"
   ]
  },
  {
   "cell_type": "markdown",
   "metadata": {},
   "source": [
    "### Other Operations\n",
    "* [minkowski sum](https://en.wikibooks.org/wiki/OpenSCAD_User_Manual/Transformations)\n",
    "* [Convex Hull](https://en.wikibooks.org/wiki/OpenSCAD_User_Manual/Transformations)\n",
    "* Shear transforms using m Matrix\n",
    "* [Affine Transforms](https://www.wikiwand.com/en/Affine_transformation)"
   ]
  },
  {
   "cell_type": "code",
   "execution_count": 29,
   "metadata": {},
   "outputs": [
    {
     "data": {
      "application/vnd.jupyter.widget-view+json": {
       "model_id": "0dae84b3c60e40cfade7db1f832212c8",
       "version_major": 2,
       "version_minor": 0
      },
      "text/plain": [
       "VBox(children=(HTML(value=''), Renderer(background='#cccc88', background_opacity=0.0, camera=PerspectiveCamera…"
      ]
     },
     "metadata": {},
     "output_type": "display_data"
    }
   ],
   "source": [
    "x = cube([10,10,1])+cylinder(1,True)\n",
    "r.render(x)"
   ]
  },
  {
   "cell_type": "code",
   "execution_count": 30,
   "metadata": {},
   "outputs": [
    {
     "data": {
      "application/vnd.jupyter.widget-view+json": {
       "model_id": "dad671aef8db43e68e00cd910e7179eb",
       "version_major": 2,
       "version_minor": 0
      },
      "text/plain": [
       "VBox(children=(HTML(value=''), Renderer(background='#cccc88', background_opacity=0.0, camera=PerspectiveCamera…"
      ]
     },
     "metadata": {},
     "output_type": "display_data"
    }
   ],
   "source": [
    "x = minkowski()(cube([10,10,1]),cylinder(1,True))\n",
    "r.render(x)"
   ]
  },
  {
   "cell_type": "code",
   "execution_count": 32,
   "metadata": {},
   "outputs": [
    {
     "data": {
      "application/vnd.jupyter.widget-view+json": {
       "model_id": "20a5f093c4f44789a3c08bdb01e6e3e7",
       "version_major": 2,
       "version_minor": 0
      },
      "text/plain": [
       "VBox(children=(HTML(value=''), Renderer(background='#cccc88', background_opacity=0.0, camera=PerspectiveCamera…"
      ]
     },
     "metadata": {},
     "output_type": "display_data"
    }
   ],
   "source": [
    "q = sphere(1)\n",
    "x = minkowski()(pyramid(10,10),translate([5,5,0])(q))\n",
    "r.render(x)"
   ]
  },
  {
   "cell_type": "code",
   "execution_count": 31,
   "metadata": {},
   "outputs": [
    {
     "data": {
      "application/vnd.jupyter.widget-view+json": {
       "model_id": "eb737764526741ef9557cbae6a656de6",
       "version_major": 2,
       "version_minor": 0
      },
      "text/plain": [
       "VBox(children=(HTML(value=''), Renderer(background='#cccc88', background_opacity=0.0, camera=PerspectiveCamera…"
      ]
     },
     "metadata": {},
     "output_type": "display_data"
    }
   ],
   "source": [
    "q = sphere(1)\n",
    "x = pyramid(10,10)+translate([5,5,0])(q)\n",
    "r.render(x)"
   ]
  },
  {
   "cell_type": "markdown",
   "metadata": {},
   "source": [
    "## Convex Hull"
   ]
  },
  {
   "cell_type": "code",
   "execution_count": 33,
   "metadata": {},
   "outputs": [
    {
     "data": {
      "application/vnd.jupyter.widget-view+json": {
       "model_id": "99fb58547545494a9c6fe245027c0c51",
       "version_major": 2,
       "version_minor": 0
      },
      "text/plain": [
       "VBox(children=(HTML(value=''), Renderer(background='#cccc88', background_opacity=0.0, camera=PerspectiveCamera…"
      ]
     },
     "metadata": {},
     "output_type": "display_data"
    }
   ],
   "source": [
    "c1 = cylinder(1,1)\n",
    "c2 = translate([10,10,0])(c1)\n",
    "y = c1+c2\n",
    "r.render(y)"
   ]
  },
  {
   "cell_type": "code",
   "execution_count": 34,
   "metadata": {},
   "outputs": [
    {
     "data": {
      "application/vnd.jupyter.widget-view+json": {
       "model_id": "78e12497e6c347e385f6df2ea25c1c8c",
       "version_major": 2,
       "version_minor": 0
      },
      "text/plain": [
       "VBox(children=(HTML(value=''), Renderer(background='#cccc88', background_opacity=0.0, camera=PerspectiveCamera…"
      ]
     },
     "metadata": {},
     "output_type": "display_data"
    }
   ],
   "source": [
    "c1 = cylinder(1,1)\n",
    "c2 = translate([10,10,0])(c1)\n",
    "y = hull()(c1,c2)\n",
    "r.render(y)"
   ]
  },
  {
   "cell_type": "code",
   "execution_count": 35,
   "metadata": {},
   "outputs": [
    {
     "data": {
      "application/vnd.jupyter.widget-view+json": {
       "model_id": "3266838884cd41da8cd4c8c8a20c1949",
       "version_major": 2,
       "version_minor": 0
      },
      "text/plain": [
       "VBox(children=(HTML(value=''), Renderer(background='#cccc88', background_opacity=0.0, camera=PerspectiveCamera…"
      ]
     },
     "metadata": {},
     "output_type": "display_data"
    }
   ],
   "source": [
    "c1 = cylinder(1,1)\n",
    "c2 = translate([10,10,0])(c1)\n",
    "c3 = translate([0,10,0])(c1)\n",
    "y = hull()(c1,c2,c3)\n",
    "r.render(y)"
   ]
  },
  {
   "cell_type": "code",
   "execution_count": 36,
   "metadata": {},
   "outputs": [
    {
     "data": {
      "application/vnd.jupyter.widget-view+json": {
       "model_id": "2406cbb961784e66be4b8548bb2e0952",
       "version_major": 2,
       "version_minor": 0
      },
      "text/plain": [
       "VBox(children=(HTML(value=''), Renderer(background='#cccc88', background_opacity=0.0, camera=PerspectiveCamera…"
      ]
     },
     "metadata": {},
     "output_type": "display_data"
    }
   ],
   "source": [
    "c1 = cylinder(1,1)\n",
    "c2 = translate([10,10,0])(c1)\n",
    "c3 = translate([0,10,0])(c1)\n",
    "y = c1+c2+c3\n",
    "r.render(y)"
   ]
  },
  {
   "cell_type": "code",
   "execution_count": 37,
   "metadata": {},
   "outputs": [
    {
     "data": {
      "application/vnd.jupyter.widget-view+json": {
       "model_id": "bea430799dea46d8833f7ed02e697597",
       "version_major": 2,
       "version_minor": 0
      },
      "text/plain": [
       "VBox(children=(HTML(value=''), Renderer(background='#cccc88', background_opacity=0.0, camera=PerspectiveCamera…"
      ]
     },
     "metadata": {},
     "output_type": "display_data"
    }
   ],
   "source": [
    "c1 = cylinder(1,1)\n",
    "c2 = translate([10,10,0])(c1)\n",
    "c3 = translate([0,10,0])(c1)\n",
    "c4 = translate([4,7,0])(c1)\n",
    "y = c1+c2+c3+c4\n",
    "r.render(y)"
   ]
  },
  {
   "cell_type": "code",
   "execution_count": 38,
   "metadata": {},
   "outputs": [
    {
     "data": {
      "application/vnd.jupyter.widget-view+json": {
       "model_id": "b5e628e7a8fc4c5997a91de2dbee07fc",
       "version_major": 2,
       "version_minor": 0
      },
      "text/plain": [
       "VBox(children=(HTML(value=''), Renderer(background='#cccc88', background_opacity=0.0, camera=PerspectiveCamera…"
      ]
     },
     "metadata": {},
     "output_type": "display_data"
    }
   ],
   "source": [
    "c1 = cylinder(1,1)\n",
    "c2 = translate([10,10,0])(c1)\n",
    "c3 = translate([0,10,0])(c1)\n",
    "c4 = translate([4,7,0])(c1)\n",
    "y = hull()(c1, c2, c3, c4)\n",
    "r.render(y)"
   ]
  },
  {
   "cell_type": "markdown",
   "metadata": {},
   "source": [
    "## 2D operations\n",
    "* square\n",
    "* circle\n",
    "* polygon\n",
    "* text"
   ]
  },
  {
   "cell_type": "code",
   "execution_count": 39,
   "metadata": {},
   "outputs": [
    {
     "name": "stdout",
     "output_type": "stream",
     "text": [
      "\n",
      "\n",
      "difference() {\n",
      "\tsquare(center = true, size = [4, 10]);\n",
      "\tsquare(center = false, size = 1.5000000000);\n",
      "}\n"
     ]
    }
   ],
   "source": [
    "s1 = square(size = [4,10],center = True)\n",
    "s2 = square(size = 1.5, center = False)\n",
    "y = s1-s2\n",
    "print(scad_render(y))"
   ]
  },
  {
   "cell_type": "code",
   "execution_count": 40,
   "metadata": {},
   "outputs": [
    {
     "ename": "CalledProcessError",
     "evalue": "Command '['C:\\\\Program Files\\\\OpenSCAD\\\\openscad.exe', '-o', 'C:\\\\Users\\\\jil26\\\\AppData\\\\Local\\\\Temp\\\\tmpzh0n21ss\\\\tmp.stl', 'C:\\\\Users\\\\jil26\\\\AppData\\\\Local\\\\Temp\\\\tmpzh0n21ss\\\\tmp.scad']' returned non-zero exit status 1.",
     "output_type": "error",
     "traceback": [
      "\u001b[1;31m---------------------------------------------------------------------------\u001b[0m",
      "\u001b[1;31mCalledProcessError\u001b[0m                        Traceback (most recent call last)",
      "\u001b[1;32m<ipython-input-40-92d96c8e2786>\u001b[0m in \u001b[0;36m<module>\u001b[1;34m\u001b[0m\n\u001b[1;32m----> 1\u001b[1;33m \u001b[0mr\u001b[0m\u001b[1;33m.\u001b[0m\u001b[0mrender\u001b[0m\u001b[1;33m(\u001b[0m\u001b[0my\u001b[0m\u001b[1;33m)\u001b[0m\u001b[1;33m\u001b[0m\u001b[1;33m\u001b[0m\u001b[0m\n\u001b[0m",
      "\u001b[1;32mC:\\ProgramData\\Anaconda3\\lib\\site-packages\\viewscad\\renderer.py\u001b[0m in \u001b[0;36mrender\u001b[1;34m(self, in_obj, **kw)\u001b[0m\n\u001b[0;32m    382\u001b[0m         \u001b[1;32mif\u001b[0m \u001b[0misinstance\u001b[0m\u001b[1;33m(\u001b[0m\u001b[0min_obj\u001b[0m\u001b[1;33m,\u001b[0m \u001b[0msolid\u001b[0m\u001b[1;33m.\u001b[0m\u001b[0mOpenSCADObject\u001b[0m\u001b[1;33m)\u001b[0m\u001b[1;33m:\u001b[0m\u001b[1;33m\u001b[0m\u001b[1;33m\u001b[0m\u001b[0m\n\u001b[0;32m    383\u001b[0m             \u001b[0mkw\u001b[0m\u001b[1;33m[\u001b[0m\u001b[1;34m'scad_object'\u001b[0m\u001b[1;33m]\u001b[0m \u001b[1;33m=\u001b[0m \u001b[0min_obj\u001b[0m\u001b[1;33m\u001b[0m\u001b[1;33m\u001b[0m\u001b[0m\n\u001b[1;32m--> 384\u001b[1;33m             \u001b[0mself\u001b[0m\u001b[1;33m.\u001b[0m\u001b[0mcreate_rendered_obj_if_needed\u001b[0m\u001b[1;33m(\u001b[0m\u001b[0min_obj\u001b[0m\u001b[1;33m,\u001b[0m \u001b[1;33m**\u001b[0m\u001b[0mkw\u001b[0m\u001b[1;33m)\u001b[0m\u001b[1;33m\u001b[0m\u001b[1;33m\u001b[0m\u001b[0m\n\u001b[0m\u001b[0;32m    385\u001b[0m             \u001b[1;32mif\u001b[0m \u001b[0mhasattr\u001b[0m\u001b[1;33m(\u001b[0m\u001b[0min_obj\u001b[0m\u001b[1;33m,\u001b[0m \u001b[1;34m'rendered_object'\u001b[0m\u001b[1;33m)\u001b[0m\u001b[1;33m:\u001b[0m\u001b[1;33m\u001b[0m\u001b[1;33m\u001b[0m\u001b[0m\n\u001b[0;32m    386\u001b[0m                 \u001b[0mself\u001b[0m\u001b[1;33m.\u001b[0m\u001b[0m_render_obj\u001b[0m\u001b[1;33m(\u001b[0m\u001b[0min_obj\u001b[0m\u001b[1;33m.\u001b[0m\u001b[0mrendered_object\u001b[0m\u001b[1;33m,\u001b[0m \u001b[1;33m**\u001b[0m\u001b[0mkw\u001b[0m\u001b[1;33m)\u001b[0m\u001b[1;33m\u001b[0m\u001b[1;33m\u001b[0m\u001b[0m\n",
      "\u001b[1;32mC:\\ProgramData\\Anaconda3\\lib\\site-packages\\viewscad\\renderer.py\u001b[0m in \u001b[0;36mcreate_rendered_obj_if_needed\u001b[1;34m(self, openSCADObj, **kw)\u001b[0m\n\u001b[0;32m    580\u001b[0m             \u001b[1;32mif\u001b[0m \u001b[0mscad_str\u001b[0m \u001b[1;32mis\u001b[0m \u001b[1;32mNone\u001b[0m\u001b[1;33m:\u001b[0m\u001b[1;33m\u001b[0m\u001b[1;33m\u001b[0m\u001b[0m\n\u001b[0;32m    581\u001b[0m                 \u001b[0mscad_str\u001b[0m \u001b[1;33m=\u001b[0m \u001b[0msolid\u001b[0m\u001b[1;33m.\u001b[0m\u001b[0mscad_render\u001b[0m\u001b[1;33m(\u001b[0m\u001b[0mopenSCADObj\u001b[0m\u001b[1;33m)\u001b[0m\u001b[1;33m\u001b[0m\u001b[1;33m\u001b[0m\u001b[0m\n\u001b[1;32m--> 582\u001b[1;33m             \u001b[0mrend_obj\u001b[0m \u001b[1;33m=\u001b[0m \u001b[0mself\u001b[0m\u001b[1;33m.\u001b[0m\u001b[0mrender_openscad_str\u001b[0m\u001b[1;33m(\u001b[0m\u001b[0mscad_str\u001b[0m\u001b[1;33m,\u001b[0m \u001b[1;33m**\u001b[0m\u001b[0mkw\u001b[0m\u001b[1;33m)\u001b[0m\u001b[1;33m\u001b[0m\u001b[1;33m\u001b[0m\u001b[0m\n\u001b[0m\u001b[0;32m    583\u001b[0m             \u001b[1;32mif\u001b[0m \u001b[0mrend_obj\u001b[0m \u001b[1;32mis\u001b[0m \u001b[1;32mnot\u001b[0m \u001b[1;32mNone\u001b[0m\u001b[1;33m:\u001b[0m\u001b[1;33m\u001b[0m\u001b[1;33m\u001b[0m\u001b[0m\n\u001b[0;32m    584\u001b[0m                 \u001b[0mopenSCADObj\u001b[0m\u001b[1;33m.\u001b[0m\u001b[0mrendered_object\u001b[0m \u001b[1;33m=\u001b[0m \u001b[0mrend_obj\u001b[0m\u001b[1;33m\u001b[0m\u001b[1;33m\u001b[0m\u001b[0m\n",
      "\u001b[1;32mC:\\ProgramData\\Anaconda3\\lib\\site-packages\\viewscad\\renderer.py\u001b[0m in \u001b[0;36mrender_openscad_str\u001b[1;34m(self, openscad_str, **kw)\u001b[0m\n\u001b[0;32m    613\u001b[0m                 \u001b[0mprint\u001b[0m\u001b[1;33m(\u001b[0m\u001b[1;34m'No rendering if non-STL file is being created.'\u001b[0m\u001b[1;33m)\u001b[0m\u001b[1;33m\u001b[0m\u001b[1;33m\u001b[0m\u001b[0m\n\u001b[0;32m    614\u001b[0m         \u001b[1;32mexcept\u001b[0m \u001b[0mException\u001b[0m \u001b[1;32mas\u001b[0m \u001b[0me\u001b[0m\u001b[1;33m:\u001b[0m\u001b[1;33m\u001b[0m\u001b[1;33m\u001b[0m\u001b[0m\n\u001b[1;32m--> 615\u001b[1;33m             \u001b[1;32mraise\u001b[0m \u001b[0me\u001b[0m\u001b[1;33m\u001b[0m\u001b[1;33m\u001b[0m\u001b[0m\n\u001b[0m\u001b[0;32m    616\u001b[0m         \u001b[1;32mfinally\u001b[0m\u001b[1;33m:\u001b[0m\u001b[1;33m\u001b[0m\u001b[1;33m\u001b[0m\u001b[0m\n\u001b[0;32m    617\u001b[0m             \u001b[1;32mif\u001b[0m \u001b[0mdo_tmp_file\u001b[0m\u001b[1;33m:\u001b[0m\u001b[1;33m\u001b[0m\u001b[1;33m\u001b[0m\u001b[0m\n",
      "\u001b[1;32mC:\\ProgramData\\Anaconda3\\lib\\site-packages\\viewscad\\renderer.py\u001b[0m in \u001b[0;36mrender_openscad_str\u001b[1;34m(self, openscad_str, **kw)\u001b[0m\n\u001b[0;32m    606\u001b[0m         \u001b[1;32mtry\u001b[0m\u001b[1;33m:\u001b[0m\u001b[1;33m\u001b[0m\u001b[1;33m\u001b[0m\u001b[0m\n\u001b[0;32m    607\u001b[0m             \u001b[0mkw\u001b[0m\u001b[1;33m[\u001b[0m\u001b[1;34m'rough'\u001b[0m\u001b[1;33m]\u001b[0m \u001b[1;33m=\u001b[0m \u001b[1;32mTrue\u001b[0m\u001b[1;33m\u001b[0m\u001b[1;33m\u001b[0m\u001b[0m\n\u001b[1;32m--> 608\u001b[1;33m             \u001b[0mself\u001b[0m\u001b[1;33m.\u001b[0m\u001b[0mrender_to_file\u001b[0m\u001b[1;33m(\u001b[0m\u001b[0mopenscad_str\u001b[0m\u001b[1;33m,\u001b[0m \u001b[0mopenscad_out_file\u001b[0m\u001b[1;33m,\u001b[0m \u001b[1;33m**\u001b[0m\u001b[0mkw\u001b[0m\u001b[1;33m)\u001b[0m\u001b[1;33m\u001b[0m\u001b[1;33m\u001b[0m\u001b[0m\n\u001b[0m\u001b[0;32m    609\u001b[0m             \u001b[1;32mif\u001b[0m \u001b[0mopenscad_out_file\u001b[0m\u001b[1;33m.\u001b[0m\u001b[0mfind\u001b[0m\u001b[1;33m(\u001b[0m\u001b[1;34m'.stl'\u001b[0m\u001b[1;33m)\u001b[0m \u001b[1;33m>=\u001b[0m \u001b[1;36m0\u001b[0m\u001b[1;33m:\u001b[0m\u001b[1;33m\u001b[0m\u001b[1;33m\u001b[0m\u001b[0m\n\u001b[0;32m    610\u001b[0m                 \u001b[1;31m#self._render_stl(openscad_out_file)\u001b[0m\u001b[1;33m\u001b[0m\u001b[1;33m\u001b[0m\u001b[1;33m\u001b[0m\u001b[0m\n",
      "\u001b[1;32mC:\\ProgramData\\Anaconda3\\lib\\site-packages\\viewscad\\renderer.py\u001b[0m in \u001b[0;36mrender_to_file\u001b[1;34m(self, openscad_str, fl_name, **kw)\u001b[0m\n\u001b[0;32m    368\u001b[0m             \u001b[1;31m#    raise Exception('openscad command line returned code {}'.format(return_code))\u001b[0m\u001b[1;33m\u001b[0m\u001b[1;33m\u001b[0m\u001b[1;33m\u001b[0m\u001b[0m\n\u001b[0;32m    369\u001b[0m         \u001b[1;32mexcept\u001b[0m \u001b[0mException\u001b[0m \u001b[1;32mas\u001b[0m \u001b[0me\u001b[0m\u001b[1;33m:\u001b[0m\u001b[1;33m\u001b[0m\u001b[1;33m\u001b[0m\u001b[0m\n\u001b[1;32m--> 370\u001b[1;33m             \u001b[1;32mraise\u001b[0m \u001b[0me\u001b[0m\u001b[1;33m\u001b[0m\u001b[1;33m\u001b[0m\u001b[0m\n\u001b[0m\u001b[0;32m    371\u001b[0m         \u001b[1;32mfinally\u001b[0m\u001b[1;33m:\u001b[0m\u001b[1;33m\u001b[0m\u001b[1;33m\u001b[0m\u001b[0m\n\u001b[0;32m    372\u001b[0m             \u001b[1;32mif\u001b[0m \u001b[0mos\u001b[0m\u001b[1;33m.\u001b[0m\u001b[0mpath\u001b[0m\u001b[1;33m.\u001b[0m\u001b[0misfile\u001b[0m\u001b[1;33m(\u001b[0m\u001b[0mscad_tmp_file\u001b[0m\u001b[1;33m)\u001b[0m\u001b[1;33m:\u001b[0m\u001b[1;33m\u001b[0m\u001b[1;33m\u001b[0m\u001b[0m\n",
      "\u001b[1;32mC:\\ProgramData\\Anaconda3\\lib\\site-packages\\viewscad\\renderer.py\u001b[0m in \u001b[0;36mrender_to_file\u001b[1;34m(self, openscad_str, fl_name, **kw)\u001b[0m\n\u001b[0;32m    363\u001b[0m             \u001b[1;31m# now run openscad to generate stl:\u001b[0m\u001b[1;33m\u001b[0m\u001b[1;33m\u001b[0m\u001b[1;33m\u001b[0m\u001b[0m\n\u001b[0;32m    364\u001b[0m             \u001b[0mcmd\u001b[0m \u001b[1;33m=\u001b[0m \u001b[1;33m[\u001b[0m\u001b[0mself\u001b[0m\u001b[1;33m.\u001b[0m\u001b[0mopenscad_exec\u001b[0m\u001b[1;33m,\u001b[0m \u001b[1;34m'-o'\u001b[0m\u001b[1;33m,\u001b[0m \u001b[0mfl_name\u001b[0m\u001b[1;33m,\u001b[0m \u001b[0mscad_tmp_file\u001b[0m\u001b[1;33m]\u001b[0m\u001b[1;33m\u001b[0m\u001b[1;33m\u001b[0m\u001b[0m\n\u001b[1;32m--> 365\u001b[1;33m             \u001b[0mout\u001b[0m \u001b[1;33m=\u001b[0m \u001b[0msubprocess\u001b[0m\u001b[1;33m.\u001b[0m\u001b[0mcheck_output\u001b[0m\u001b[1;33m(\u001b[0m\u001b[0mcmd\u001b[0m\u001b[1;33m)\u001b[0m\u001b[1;33m\u001b[0m\u001b[1;33m\u001b[0m\u001b[0m\n\u001b[0m\u001b[0;32m    366\u001b[0m             \u001b[1;32mif\u001b[0m \u001b[0mout\u001b[0m \u001b[1;33m!=\u001b[0m \u001b[1;34mb''\u001b[0m\u001b[1;33m:\u001b[0m \u001b[0mprint\u001b[0m\u001b[1;33m(\u001b[0m\u001b[0mout\u001b[0m\u001b[1;33m)\u001b[0m\u001b[1;33m\u001b[0m\u001b[1;33m\u001b[0m\u001b[0m\n\u001b[0;32m    367\u001b[0m             \u001b[1;31m#if return_code < 0:\u001b[0m\u001b[1;33m\u001b[0m\u001b[1;33m\u001b[0m\u001b[1;33m\u001b[0m\u001b[0m\n",
      "\u001b[1;32mC:\\ProgramData\\Anaconda3\\lib\\subprocess.py\u001b[0m in \u001b[0;36mcheck_output\u001b[1;34m(timeout, *popenargs, **kwargs)\u001b[0m\n\u001b[0;32m    393\u001b[0m \u001b[1;33m\u001b[0m\u001b[0m\n\u001b[0;32m    394\u001b[0m     return run(*popenargs, stdout=PIPE, timeout=timeout, check=True,\n\u001b[1;32m--> 395\u001b[1;33m                **kwargs).stdout\n\u001b[0m\u001b[0;32m    396\u001b[0m \u001b[1;33m\u001b[0m\u001b[0m\n\u001b[0;32m    397\u001b[0m \u001b[1;33m\u001b[0m\u001b[0m\n",
      "\u001b[1;32mC:\\ProgramData\\Anaconda3\\lib\\subprocess.py\u001b[0m in \u001b[0;36mrun\u001b[1;34m(input, capture_output, timeout, check, *popenargs, **kwargs)\u001b[0m\n\u001b[0;32m    485\u001b[0m         \u001b[1;32mif\u001b[0m \u001b[0mcheck\u001b[0m \u001b[1;32mand\u001b[0m \u001b[0mretcode\u001b[0m\u001b[1;33m:\u001b[0m\u001b[1;33m\u001b[0m\u001b[1;33m\u001b[0m\u001b[0m\n\u001b[0;32m    486\u001b[0m             raise CalledProcessError(retcode, process.args,\n\u001b[1;32m--> 487\u001b[1;33m                                      output=stdout, stderr=stderr)\n\u001b[0m\u001b[0;32m    488\u001b[0m     \u001b[1;32mreturn\u001b[0m \u001b[0mCompletedProcess\u001b[0m\u001b[1;33m(\u001b[0m\u001b[0mprocess\u001b[0m\u001b[1;33m.\u001b[0m\u001b[0margs\u001b[0m\u001b[1;33m,\u001b[0m \u001b[0mretcode\u001b[0m\u001b[1;33m,\u001b[0m \u001b[0mstdout\u001b[0m\u001b[1;33m,\u001b[0m \u001b[0mstderr\u001b[0m\u001b[1;33m)\u001b[0m\u001b[1;33m\u001b[0m\u001b[1;33m\u001b[0m\u001b[0m\n\u001b[0;32m    489\u001b[0m \u001b[1;33m\u001b[0m\u001b[0m\n",
      "\u001b[1;31mCalledProcessError\u001b[0m: Command '['C:\\\\Program Files\\\\OpenSCAD\\\\openscad.exe', '-o', 'C:\\\\Users\\\\jil26\\\\AppData\\\\Local\\\\Temp\\\\tmpzh0n21ss\\\\tmp.stl', 'C:\\\\Users\\\\jil26\\\\AppData\\\\Local\\\\Temp\\\\tmpzh0n21ss\\\\tmp.scad']' returned non-zero exit status 1."
     ]
    }
   ],
   "source": [
    "r.render(y)"
   ]
  },
  {
   "cell_type": "code",
   "execution_count": 41,
   "metadata": {},
   "outputs": [
    {
     "name": "stdout",
     "output_type": "stream",
     "text": [
      "\n",
      "\n",
      "difference() {\n",
      "\tcircle(d = 30);\n",
      "\tcircle(r = 10);\n",
      "}\n"
     ]
    }
   ],
   "source": [
    "c1 = circle(r=10)\n",
    "c2 = circle(d=30)\n",
    "y = c2-c1\n",
    "print(scad_render(y))"
   ]
  },
  {
   "cell_type": "code",
   "execution_count": 43,
   "metadata": {},
   "outputs": [
    {
     "name": "stdout",
     "output_type": "stream",
     "text": [
      "\n",
      "\n",
      "polygon(paths = [[0, 1, 2, 3, 4, 5, 6]], points = [[30.0, 0.0], [15.000000000000004, 25.980762113533157], [-14.999999999999993, 25.98076211353316], [-30.0, 3.67394039744206e-15], [-15.000000000000014, -25.980762113533153], [14.99999999999998, -25.98076211353317], [30.0, -7.34788079488412e-15]]);\n"
     ]
    }
   ],
   "source": [
    "r_c = 30\n",
    "n = 6\n",
    "xs = [r_c*np.cos(2*np.pi/n*i)for i in range(0,n+1)]\n",
    "ys = [r_c*np.sin(2*np.pi/n*i)for i in range(0,n+1)]\n",
    "pts = list(zip(xs,ys))\n",
    "y = polygon(points=pts)\n",
    "print(scad_render(y))"
   ]
  },
  {
   "cell_type": "code",
   "execution_count": 44,
   "metadata": {},
   "outputs": [
    {
     "name": "stdout",
     "output_type": "stream",
     "text": [
      "\n",
      "\n",
      "text(text = \"ME480\");\n"
     ]
    }
   ],
   "source": [
    "y= text('ME480')\n",
    "print(scad_render(y))"
   ]
  },
  {
   "cell_type": "markdown",
   "metadata": {},
   "source": [
    "## 2D to 3D\n",
    "* linear extrude\n",
    "    * text to use to make labels\n",
    "    * twisting\n",
    "* rotation extrude\n",
    "    * [solids of rotations ](https://en.wikibooks.org/wiki/OpenSCAD_User_Manual/2D_to_3D_Extrusion#Linear_Extrude)\n",
    "   "
   ]
  },
  {
   "cell_type": "code",
   "execution_count": 45,
   "metadata": {},
   "outputs": [
    {
     "data": {
      "application/vnd.jupyter.widget-view+json": {
       "model_id": "6fd7e7e1aa6740469fdfa617adb5d46c",
       "version_major": 2,
       "version_minor": 0
      },
      "text/plain": [
       "VBox(children=(HTML(value=''), Renderer(background='#cccc88', background_opacity=0.0, camera=PerspectiveCamera…"
      ]
     },
     "metadata": {},
     "output_type": "display_data"
    }
   ],
   "source": [
    "y = linear_extrude(height =10,center=True)(text('ME480'))\n",
    "r.render(y)"
   ]
  },
  {
   "cell_type": "code",
   "execution_count": 46,
   "metadata": {},
   "outputs": [
    {
     "data": {
      "application/vnd.jupyter.widget-view+json": {
       "model_id": "8989f19667c74aa4ab95e37cc3cfb0d8",
       "version_major": 2,
       "version_minor": 0
      },
      "text/plain": [
       "VBox(children=(HTML(value=''), Renderer(background='#cccc88', background_opacity=0.0, camera=PerspectiveCamera…"
      ]
     },
     "metadata": {},
     "output_type": "display_data"
    }
   ],
   "source": [
    "c1 = circle(r=10)\n",
    "c2 = circle(d=30)\n",
    "y = linear_extrude(height =10,center=True)(c2-c1)\n",
    "r.render(y)"
   ]
  },
  {
   "cell_type": "code",
   "execution_count": 49,
   "metadata": {},
   "outputs": [
    {
     "data": {
      "application/vnd.jupyter.widget-view+json": {
       "model_id": "6e57ef19207147f48ac293c501cc8890",
       "version_major": 2,
       "version_minor": 0
      },
      "text/plain": [
       "VBox(children=(HTML(value=''), Renderer(background='#cccc88', background_opacity=0.0, camera=PerspectiveCamera…"
      ]
     },
     "metadata": {},
     "output_type": "display_data"
    }
   ],
   "source": [
    "y = linear_extrude(height=10, twist=90)(text('ME480'))\n",
    "angle = 45\n",
    "axis = [1,1,0]\n",
    "x = rotate(angle,axis)(y)\n",
    "r.render(x)"
   ]
  },
  {
   "cell_type": "code",
   "execution_count": 48,
   "metadata": {},
   "outputs": [
    {
     "data": {
      "application/vnd.jupyter.widget-view+json": {
       "model_id": "f23c0255676c46abb2e6eafc66857a2d",
       "version_major": 2,
       "version_minor": 0
      },
      "text/plain": [
       "VBox(children=(HTML(value=''), Renderer(background='#cccc88', background_opacity=0.0, camera=PerspectiveCamera…"
      ]
     },
     "metadata": {},
     "output_type": "display_data"
    }
   ],
   "source": [
    "y = linear_extrude(height=10, twist=90,slices = 100)(text('ME480'))\n",
    "r.render(y)"
   ]
  },
  {
   "cell_type": "code",
   "execution_count": 50,
   "metadata": {},
   "outputs": [
    {
     "data": {
      "application/vnd.jupyter.widget-view+json": {
       "model_id": "a5231c53b044432e82de3e17dd30a013",
       "version_major": 2,
       "version_minor": 0
      },
      "text/plain": [
       "VBox(children=(HTML(value=''), Renderer(background='#cccc88', background_opacity=0.0, camera=PerspectiveCamera…"
      ]
     },
     "metadata": {},
     "output_type": "display_data"
    }
   ],
   "source": [
    "c1 = translate([0,30,0])(circle(r=10))\n",
    "c2 = translate([0,30,0])(circle(d=30))\n",
    "x = c2-c1\n",
    "y = linear_extrude(height=30, twist=90)(x)\n",
    "r.render(y)"
   ]
  },
  {
   "cell_type": "code",
   "execution_count": 51,
   "metadata": {},
   "outputs": [
    {
     "data": {
      "application/vnd.jupyter.widget-view+json": {
       "model_id": "1c45135fbfdd46c6af1421a45162dd3d",
       "version_major": 2,
       "version_minor": 0
      },
      "text/plain": [
       "VBox(children=(HTML(value=''), Renderer(background='#cccc88', background_opacity=0.0, camera=PerspectiveCamera…"
      ]
     },
     "metadata": {},
     "output_type": "display_data"
    }
   ],
   "source": [
    "c1 = translate([0,30,0])(circle(r=10))\n",
    "c2 = translate([0,30,0])(circle(d=30))\n",
    "x = c2-c1\n",
    "y = linear_extrude(height=300, twist=720)(x)\n",
    "r.render(y)"
   ]
  },
  {
   "cell_type": "code",
   "execution_count": 52,
   "metadata": {},
   "outputs": [
    {
     "data": {
      "application/vnd.jupyter.widget-view+json": {
       "model_id": "22b28984eaa54ec69b8a908851fe27a5",
       "version_major": 2,
       "version_minor": 0
      },
      "text/plain": [
       "VBox(children=(HTML(value=''), Renderer(background='#cccc88', background_opacity=0.0, camera=PerspectiveCamera…"
      ]
     },
     "metadata": {},
     "output_type": "display_data"
    }
   ],
   "source": [
    "r_c = 20\n",
    "n = 4\n",
    "l = 10*r_c\n",
    "xs = [r_c*np.cos(2*np.pi/n*i)for i in range(0,n+1)]\n",
    "ys = [r_c*np.sin(2*np.pi/n*i)for i in range(0,n+1)]\n",
    "pts = list(zip(xs,ys))\n",
    "y = polygon(points=pts)\n",
    "z = linear_extrude(height=l, twist=4*360,slices = 100)(y)\n",
    "r.render(z)"
   ]
  },
  {
   "cell_type": "code",
   "execution_count": 53,
   "metadata": {},
   "outputs": [
    {
     "data": {
      "application/vnd.jupyter.widget-view+json": {
       "model_id": "8ac519cd5c9642848ffebcb05068af22",
       "version_major": 2,
       "version_minor": 0
      },
      "text/plain": [
       "VBox(children=(HTML(value=''), Renderer(background='#cccc88', background_opacity=0.0, camera=PerspectiveCamera…"
      ]
     },
     "metadata": {},
     "output_type": "display_data"
    }
   ],
   "source": [
    "r_c = 1\n",
    "n = 4\n",
    "l = 10*r_c\n",
    "xs = [r_c*np.cos(2*np.pi/n*i)for i in range(0,n+1)]\n",
    "ys = [r_c*np.sin(2*np.pi/n*i)for i in range(0,n+1)]\n",
    "pts = list(zip(xs,ys))\n",
    "y = polygon(points=pts)\n",
    "z = linear_extrude(height=l, twist=4*360,slices = 100,scale = 0.5)(y)\n",
    "r.render(z)"
   ]
  },
  {
   "cell_type": "code",
   "execution_count": 54,
   "metadata": {},
   "outputs": [
    {
     "data": {
      "application/vnd.jupyter.widget-view+json": {
       "model_id": "bf4f78f27438454d8d936c2b92c05d0f",
       "version_major": 2,
       "version_minor": 0
      },
      "text/plain": [
       "VBox(children=(HTML(value=''), Renderer(background='#cccc88', background_opacity=0.0, camera=PerspectiveCamera…"
      ]
     },
     "metadata": {},
     "output_type": "display_data"
    }
   ],
   "source": [
    "z = linear_extrude(height=10, twist=4*360,slices = 100, scale=[1,2])(y)\n",
    "r.render(z)"
   ]
  },
  {
   "cell_type": "code",
   "execution_count": 55,
   "metadata": {},
   "outputs": [
    {
     "name": "stdout",
     "output_type": "stream",
     "text": [
      "\n",
      "\n",
      "rotate_extrude(angle = 360) {\n",
      "\ttranslate(v = [2, 0, 0]) {\n",
      "\t\tpolygon(paths = [[0, 1, 2, 3, 4]], points = [[1.0, 0.0], [6.123233995736766e-17, 1.0], [-1.0, 1.2246467991473532e-16], [-1.8369701987210297e-16, -1.0], [1.0, -2.4492935982947064e-16]]);\n",
      "\t}\n",
      "}\n"
     ]
    },
    {
     "data": {
      "application/vnd.jupyter.widget-view+json": {
       "model_id": "2c364762f4d6412f926099ba9c5aa3db",
       "version_major": 2,
       "version_minor": 0
      },
      "text/plain": [
       "VBox(children=(HTML(value=''), Renderer(background='#cccc88', background_opacity=0.0, camera=PerspectiveCamera…"
      ]
     },
     "metadata": {},
     "output_type": "display_data"
    }
   ],
   "source": [
    "z = rotate_extrude(angle = 360)(translate([2,0,0])(y))\n",
    "print(scad_render(z))\n",
    "r.render(z)"
   ]
  },
  {
   "cell_type": "code",
   "execution_count": 57,
   "metadata": {},
   "outputs": [
    {
     "name": "stdout",
     "output_type": "stream",
     "text": [
      "\n",
      "\n",
      "polygon(paths = [[0, 1, 2, 3, 4]], points = [[1.0, 0.0], [6.123233995736766e-17, 1.0], [-1.0, 1.2246467991473532e-16], [-1.8369701987210297e-16, -1.0], [1.0, -2.4492935982947064e-16]]);\n"
     ]
    }
   ],
   "source": [
    "print(scad_render(y))"
   ]
  },
  {
   "cell_type": "code",
   "execution_count": 58,
   "metadata": {},
   "outputs": [
    {
     "name": "stdout",
     "output_type": "stream",
     "text": [
      "\n",
      "\n",
      "rotate_extrude($fn = 100, angle = 360) {\n",
      "\ttranslate(v = [2, 0, 0]) {\n",
      "\t\tpolygon(paths = [[0, 1, 2, 3, 4]], points = [[1.0, 0.0], [6.123233995736766e-17, 1.0], [-1.0, 1.2246467991473532e-16], [-1.8369701987210297e-16, -1.0], [1.0, -2.4492935982947064e-16]]);\n",
      "\t}\n",
      "}\n"
     ]
    },
    {
     "data": {
      "application/vnd.jupyter.widget-view+json": {
       "model_id": "d5b0dd55504a4dbd940295cdfb3815f9",
       "version_major": 2,
       "version_minor": 0
      },
      "text/plain": [
       "VBox(children=(HTML(value=''), Renderer(background='#cccc88', background_opacity=0.0, camera=PerspectiveCamera…"
      ]
     },
     "metadata": {},
     "output_type": "display_data"
    }
   ],
   "source": [
    "z = rotate_extrude(angle = 360,segments=100)(translate([2,0,0])(y))\n",
    "print(scad_render(z))\n",
    "r.render(z)"
   ]
  },
  {
   "cell_type": "code",
   "execution_count": 59,
   "metadata": {},
   "outputs": [
    {
     "data": {
      "text/plain": [
       "'\\n\\nrotate_extrude($fn = 100, angle = 360) {\\n\\ttranslate(v = [2, 0, 0]) {\\n\\t\\tpolygon(paths = [[0, 1, 2, 3, 4]], points = [[1.0, 0.0], [6.123233995736766e-17, 1.0], [-1.0, 1.2246467991473532e-16], [-1.8369701987210297e-16, -1.0], [1.0, -2.4492935982947064e-16]]);\\n\\t}\\n}'"
      ]
     },
     "execution_count": 59,
     "metadata": {},
     "output_type": "execute_result"
    }
   ],
   "source": [
    "scad_render(z)"
   ]
  },
  {
   "cell_type": "code",
   "execution_count": 60,
   "metadata": {},
   "outputs": [
    {
     "name": "stdout",
     "output_type": "stream",
     "text": [
      "18\n"
     ]
    }
   ],
   "source": [
    "def exportToScad(solidObj,file,path = \".\"):\n",
    "    location = path+'/'+file+\".scad\"\n",
    "    with open(location,'w') as f:\n",
    "        print(f.write(scad_render(solidObj)))\n",
    "\n",
    "exportToScad(cube(10),\"test\")"
   ]
  },
  {
   "cell_type": "code",
   "execution_count": 61,
   "metadata": {},
   "outputs": [
    {
     "name": "stdout",
     "output_type": "stream",
     "text": [
      "263\n"
     ]
    }
   ],
   "source": [
    "exportToScad(z,\"Ztest\")"
   ]
  },
  {
   "cell_type": "markdown",
   "metadata": {},
   "source": [
    "## Color"
   ]
  },
  {
   "cell_type": "code",
   "execution_count": 62,
   "metadata": {},
   "outputs": [
    {
     "name": "stdout",
     "output_type": "stream",
     "text": [
      "\n",
      "\n",
      "union() {\n",
      "\tcolor(c = [0, 0, 1, 0.5000000000]) {\n",
      "\t\ttranslate(v = [0, 10, 0]) {\n",
      "\t\t\tcube(size = 10);\n",
      "\t\t}\n",
      "\t}\n",
      "\tcolor(c = [1, 0, 0]) {\n",
      "\t\tcube(size = 10);\n",
      "\t}\n",
      "}\n"
     ]
    }
   ],
   "source": [
    "transparent_blue = color([0,0,1, 0.5])(translate([0,10,0])(cube(10)))  # Specify with RGB[A]\n",
    "red_obj = color(Red)(cube(10))                    # Or use predefined colors\n",
    "print(scad_render(transparent_blue+red_obj))"
   ]
  },
  {
   "cell_type": "code",
   "execution_count": 63,
   "metadata": {},
   "outputs": [
    {
     "data": {
      "application/vnd.jupyter.widget-view+json": {
       "model_id": "bf3db62cbc5f4032b2fdb3363a6375e7",
       "version_major": 2,
       "version_minor": 0
      },
      "text/plain": [
       "VBox(children=(HTML(value=''), Renderer(background='#cccc88', background_opacity=0.0, camera=PerspectiveCamera…"
      ]
     },
     "metadata": {},
     "output_type": "display_data"
    }
   ],
   "source": [
    "r.render(red_obj)"
   ]
  },
  {
   "attachments": {
    "image.png": {
     "image/png": "[encoded data removed]"
    }
   },
   "cell_type": "markdown",
   "metadata": {},
   "source": [
    "![image.png](attachment:image.png)"
   ]
  },
  {
   "cell_type": "markdown",
   "metadata": {},
   "source": [
    "## Imports\n",
    "* stl import\n",
    "* import SCAD\n",
    "    * lego Brick Model"
   ]
  },
  {
   "cell_type": "code",
   "execution_count": 72,
   "metadata": {},
   "outputs": [
    {
     "ename": "IndentationError",
     "evalue": "unexpected indent (<ipython-input-72-a72853b23aec>, line 2)",
     "output_type": "error",
     "traceback": [
      "\u001b[1;36m  File \u001b[1;32m\"<ipython-input-72-a72853b23aec>\"\u001b[1;36m, line \u001b[1;32m2\u001b[0m\n\u001b[1;33m    'C:\\Program Files\\OpenSCAD\\openscad.exe'\u001b[0m\n\u001b[1;37m    ^\u001b[0m\n\u001b[1;31mIndentationError\u001b[0m\u001b[1;31m:\u001b[0m unexpected indent\n"
     ]
    }
   ],
   "source": [
    "q = import_stl(\"C://Users//jil26//Documents//GitHub//ME480//JupyterNotebooks//darthVader.stl\")\n",
    "w = translate([100,0,0])(q)\n",
    "print(scad_render(q+w))#.replace('\\n','').replace('\\t','')\n",
    "r.render(q)"
   ]
  },
  {
   "cell_type": "markdown",
   "metadata": {},
   "source": [
    "Sometimes the renderer isnt perfect, so you have to copy and paste into openscad"
   ]
  },
  {
   "cell_type": "markdown",
   "metadata": {},
   "source": [
    "# [OpenSCAD MCAD Library](https://github.com/openscad/MCAD)"
   ]
  },
  {
   "cell_type": "code",
   "execution_count": 68,
   "metadata": {},
   "outputs": [
    {
     "data": {
      "application/vnd.jupyter.widget-view+json": {
       "model_id": "aac65b63663a478c9d5e4600c668aacc",
       "version_major": 2,
       "version_minor": 0
      },
      "text/plain": [
       "VBox(children=(HTML(value=''), Renderer(background='#cccc88', background_opacity=0.0, camera=PerspectiveCamera…"
      ]
     },
     "metadata": {},
     "output_type": "display_data"
    }
   ],
   "source": [
    "scadfile = import_scad('C://Users//jil26//Documents//GitHub//MCAD//lego_compatibility.scad')\n",
    "\n",
    "\n",
    "#print(scadfile)\n",
    "width = 10\n",
    "length = 5\n",
    "height = 2\n",
    "b = scadfile.block(width,length,height,reinforcement=True)\n",
    "r.render(b)"
   ]
  },
  {
   "cell_type": "code",
   "execution_count": null,
   "metadata": {},
   "outputs": [],
   "source": [
    "width = 10\n",
    "length = 5\n",
    "height = 2\n",
    "b = scadfile.block(width,length,height)\n",
    "r.render(b)"
   ]
  },
  {
   "cell_type": "code",
   "execution_count": 69,
   "metadata": {},
   "outputs": [
    {
     "data": {
      "application/vnd.jupyter.widget-view+json": {
       "model_id": "3ad49e5a35464f0694d738c437cb4489",
       "version_major": 2,
       "version_minor": 0
      },
      "text/plain": [
       "VBox(children=(HTML(value=''), Renderer(background='#cccc88', background_opacity=0.0, camera=PerspectiveCamera…"
      ]
     },
     "metadata": {},
     "output_type": "display_data"
    }
   ],
   "source": [
    "x = minkowski()(cylinder(r=5,h=5),sphere(1))\n",
    "cn =cylinder(r=10,h=5)- hole()(cylinder(r=5,h=5))-translate([0,0,5])(x)\n",
    "r.render(cn)"
   ]
  },
  {
   "cell_type": "code",
   "execution_count": null,
   "metadata": {},
   "outputs": [],
   "source": []
  }
 ],
 "metadata": {
  "kernelspec": {
   "display_name": "Python 3",
   "language": "python",
   "name": "python3"
  },
  "language_info": {
   "codemirror_mode": {
    "name": "ipython",
    "version": 3
   },
   "file_extension": ".py",
   "mimetype": "text/x-python",
   "name": "python",
   "nbconvert_exporter": "python",
   "pygments_lexer": "ipython3",
   "version": "3.7.3"
  }
 },
 "nbformat": 4,
 "nbformat_minor": 2
}
