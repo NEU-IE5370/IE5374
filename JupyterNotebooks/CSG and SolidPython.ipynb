{
 "cells": [
  {
   "cell_type": "markdown",
   "metadata": {
    "id": "0Uv5yO3xPsYE"
   },
   "source": [
    "# CSG CAD in Python"
   ]
  },
  {
   "cell_type": "markdown",
   "metadata": {
    "id": "PjMNTXXhPsYJ"
   },
   "source": [
    "## Setup\n",
    "To setup this environment, you need to install:\n",
    "* [OpenSCAD](https://www.openscad.org/downloads.html)\n",
    "\n",
    "Then you need to open your anaconda command prompt and power shell.\n",
    "* install [SolidPython](https://github.com/SolidCode/SolidPython#using-solidpython) using the command `pip install solidpython`\n",
    "* install [viewscad](https://github.com/nickc92/ViewSCAD) by running the command `pip install viewscad\n",
    "\n",
    "Alternatively you can run the lines bellow`"
   ]
  },
  {
   "cell_type": "code",
   "execution_count": null,
   "metadata": {
    "colab": {
     "base_uri": "https://localhost:8080/",
     "height": 1000
    },
    "id": "cuAj2-NNa2Ae",
    "outputId": "3107f309-74f5-433a-b576-94927cd54c77"
   },
   "outputs": [],
   "source": [
    "#@title <-- (click this) Install all the software this notebook need. Then hit restart runtime like it says\n",
    "# First we install openscad\n",
    "!sudo add-apt-repository ppa:openscad/releases -y\n",
    "#!sudo apt-get update\n",
    "!sudo apt-get install openscad\n",
    "# Now we install Viewscad\n",
    "\n",
    "!pip install viewscad\n",
    "!pip install solidpython"
   ]
  },
  {
   "cell_type": "code",
   "execution_count": null,
   "metadata": {
    "id": "2abnlx5zPsYK"
   },
   "outputs": [],
   "source": [
    "from solid import *\n",
    "from solid.utils import *\n",
    "import viewscad\n",
    "\n",
    "r = viewscad.Renderer()\n",
    "\n",
    "from google.colab import output\n",
    "output.enable_custom_widget_manager()"
   ]
  },
  {
   "cell_type": "markdown",
   "metadata": {
    "id": "lG0hQZPUPsYM"
   },
   "source": [
    "Above we setup the environment. It includes importing the relivant functions and telling the rendered where openscad is. You may need to change the line `openscad_exec='C:\\Program Files\\OpenSCAD\\openscad.exe'`\n",
    "\n",
    "**Next lets generate a simple cylinder**"
   ]
  },
  {
   "cell_type": "code",
   "execution_count": null,
   "metadata": {
    "colab": {
     "base_uri": "https://localhost:8080/",
     "height": 69,
     "referenced_widgets": [
      "fc7bf0b1631b41a5a564e779b9a29437",
      "a73bd037cd08490181b021a194ff8e1e",
      "063424a7c0994026832ed94bbb9d27c6",
      "5c35d0cdc37f450fa786a89164e06b1e",
      "41fd63c20db84810bfcdfcce61fd753c",
      "37964d2bf0254d73a4daf798714192d2",
      "f7c0fc2c3a3f4dad9b65dc73416c0bcd",
      "af40394a3db54fe291666f8f56dc956f",
      "e2c7e6bfacc541408bb7b416de277a27",
      "b5a37eba36824171bf2699716bb47ec1"
     ]
    },
    "id": "OeHlxgikPsYM",
    "outputId": "0f8eee63-abe3-4107-db66-8d82d1d21a89"
   },
   "outputs": [],
   "source": [
    "c = cylinder(r=10,h=5)\n",
    "r.render(c)\n",
    "print(scad_render(c))"
   ]
  },
  {
   "cell_type": "code",
   "execution_count": null,
   "metadata": {
    "colab": {
     "base_uri": "https://localhost:8080/"
    },
    "id": "AtOJxoFvPsYN",
    "outputId": "f35fc225-33a9-48b2-a869-773593fcaaab"
   },
   "outputs": [],
   "source": [
    "print(c)"
   ]
  },
  {
   "cell_type": "markdown",
   "metadata": {
    "id": "FUfJmyZgPsYO"
   },
   "source": [
    "The code is converting the cylinder to a very basic form of an equation into a triangulated surfce. But as we can see the resolution isnt great. This is the same problem we have when we convert from a nice geoemtry in Solidworks/Autodesk to STL files.\n",
    "\n",
    "How can we fix it? We increase the discritization resolution"
   ]
  },
  {
   "cell_type": "code",
   "execution_count": null,
   "metadata": {
    "colab": {
     "base_uri": "https://localhost:8080/",
     "height": 1000,
     "referenced_widgets": [
      "085b742694e742f7819218b1fba74d3f",
      "0dfff7e5f8794fa78377a59dc7c42e05",
      "ef51d7f31f6b44d0b314b570806e5cc8",
      "e91bfa1bf33d404bab20cc535c721c94",
      "65c1128954b54c95b34a3d35c9aa94fb",
      "26d6d50a2ede4617872f536ea8ca2544",
      "bc15d3a9df9b44198aa6848a713b6629",
      "7cf262934e3f46179f9d0984fb47e3a8",
      "83af17b46b904f5da10916b885b0fb5d",
      "66ead48ea9e748af9ae95e1b882bf77c",
      "5bb77c00bdbf41499ba8449f7a1cac10",
      "69bb996fc4d3480aaf9af729f9b4974c",
      "0577f7ab5edc4ed79d87d561aacfd552",
      "51789af96ee94eedbdc4e743a09e31f6",
      "32c43b7f072b49b181779d420ea5808e",
      "8e713228248a4e32b052644273632042",
      "f96484ca01ef46c1a7662c4665dd4b3c",
      "96fc6e24796445f5a8e260898ec3e724",
      "f50ffe5794424eea9187bd45df84ff14",
      "500c3263243349339738f3df15f1f603",
      "5a481e07c39644459f00847bd786a6ab",
      "cfd655b8508e4f21a04059ade3dc3c38",
      "961b5d954e3547cfb3edc7c0d04a2c5e",
      "ae3e5079b4a943b697ecb54b77c0face",
      "f5cec8cd9d47447c90dff8406cadea93",
      "312ee7c9714b4020ab936cbfd41a9dff",
      "bbab1b99e3b44f17b00d6caea7a4c0cb",
      "9b515ad3dac145c68943b4b6a8a26ca1",
      "1466af0885a74af09b43d07bba1dbb71",
      "923f41edff5247abb121133ac4733c03",
      "a78ecae045ac49bd98453ef28b6c0dc0",
      "ded73178f3244faa98cd1091cab970b1",
      "b9b7f82d04b3484ba587f72a474d8aaa",
      "3cd15bfcd7024cdbbed9c813517ed0df",
      "f251a3a1a9834453909ae0d4f28cc5c7",
      "5aadcaef061940ceaa6cd6af79827bc7",
      "757084b8d49b46aba62c5961346a200a",
      "21619190fe9847c8a5a9bb6c7c0816c3",
      "d7e6cdc3032a40c3b2b28f36ad412622"
     ]
    },
    "id": "OeKB7ZmqPsYP",
    "outputId": "3deba482-8cee-415f-ce02-0d9d76503264"
   },
   "outputs": [],
   "source": [
    "c = cylinder(r=10,h=5,segments=1000)\n",
    "r.render(c)"
   ]
  },
  {
   "cell_type": "markdown",
   "metadata": {
    "id": "xq7domADPsYP"
   },
   "source": [
    "Ok, so openSCAD aaaaaaaaaaalways converts from CSG into a mesh to be viewed. We can see this when we zoom into the objet and all of the sudden there isnt anything inside! And we can set the resolution of this conversion."
   ]
  },
  {
   "cell_type": "markdown",
   "metadata": {
    "id": "0IwKYlsrPsYQ"
   },
   "source": [
    "## What are the primitives?\n",
    "### sphere"
   ]
  },
  {
   "cell_type": "code",
   "execution_count": null,
   "metadata": {
    "colab": {
     "base_uri": "https://localhost:8080/",
     "height": 1000,
     "referenced_widgets": [
      "dfc362c90e1946a4be0159c2bf83599b",
      "6646e7affb37415196cbbadf0f92b279",
      "f6cb03a80e0743b3981bf82bcb1dbd9d",
      "4fe8ab4b61ba4fdbb73000b177c4780d",
      "a36830aec6304b09a1767c1209727b65",
      "e634a9d7fd794bcc9114e5100bdbb7c0",
      "6829ed1f8d204e01a0f017f141068bbf",
      "4240ca118fda42f1b35763434421b844",
      "96fda11819c94cdbb2783ff76d441643",
      "f443265869704f899f6cb10a1119fbfb",
      "2dedd0a43243425f8202597326a2a166",
      "d406a167e16143738f5d0c552f92a914",
      "ee68b794d2324f148faf6af02c718c84",
      "dd3f6ab7b68540c18cec95b4813b9e15",
      "6ab82b8036ab45a4b2a22b180b4012ce",
      "73fc0cc40e46431495cfa984d0b1d9f9",
      "5fc898e1ba6048e38677a651a7ce5c07",
      "78d3adb32e1744f9a9a9d5b6f0cdb3a3",
      "cf99ceb111604c429b16a90fb5aae496",
      "88b6da33a3f84bca906120a8ff7e16ea",
      "e7400ea0efa341f2bc61b02ab6c2f0a4",
      "de1e4ec0a5924b028c1109b368ede8ae",
      "132b5988eb214ff3ae55ce32d976d5f8",
      "40407722ec5f47f4ace2ed78fbb8f997",
      "9600e99e60bb44c688b807c6b7bf5f4e",
      "03d8362f79f94aeba8c954e6f5553862",
      "d51eccd6aaf84d458a0c480962c7acbb",
      "93ee8173fce544f4a00925a2cb51579e",
      "9c7b7ec84bdb4feb87a2d3a9874d09a7",
      "fa33206b816b4bf29757f63289390ec1",
      "386f0069b5ef429fa976ef0e9bcb8e31",
      "e9fed379ca8d477dad43eed0c242bd9b",
      "4efcc0df07024c7c944a4e58db7fa6c3",
      "eeac5258d0634b2487fc1f9903ea4ba7",
      "e79ee57b3dde4c37bfce91c83cb54ed2",
      "3d6683604e6f4e0b963befd17421191a",
      "8ccc7c732da948248aa8c4c64bdc3011",
      "29b724bf4edf4329b97429f14dced9a6",
      "b0f398ca4df341cdb364f4e88a717b86"
     ]
    },
    "id": "ut_N-lrwPsYQ",
    "outputId": "c47ca64e-33dd-4f32-a740-e197ecfc051c"
   },
   "outputs": [],
   "source": [
    "# Sphere with radius 10\n",
    "s1 = sphere(r=10)\n",
    "r.render(s1)"
   ]
  },
  {
   "cell_type": "code",
   "execution_count": null,
   "metadata": {
    "colab": {
     "base_uri": "https://localhost:8080/",
     "height": 1000,
     "referenced_widgets": [
      "c564f1114a95436cb7772aec780482d8",
      "3dcd5f3e2ef14d40b75126ef0a16735d",
      "5a9bc77f343d4163bd4ddbbc743fd692",
      "8ab5d76dae5d4df2929fdcaeb341bda2",
      "5dbabdd5b81240bc8a75339f30cfff01",
      "98d41f1570904ccc9494ec8d10ce457a",
      "579e2467dd9a4a9da02ea8c031a99dfb",
      "55c1d8644c76497b989e7d7afb494dfc",
      "bc34cc2e5a5f4c558f6c0d61abf337cd",
      "1cff22ad0b2d41959267f9afe84becf4",
      "6cbb2f5066ea45e7bc787967812d74d1",
      "fc64775db07b4bec83b8d7af129b331f",
      "21d5a0616c51493aade6466d8bd5de2e",
      "aa1b151bd4854074afb668382b7465e0",
      "c61938f770e9459e8ca2ac018f8dfcf7",
      "cc86458070e744229cd063ab99e6888e",
      "e9fb12eeccb9492f86877717e1c60024",
      "3229b542d7304bf29b17708fa986f4c8",
      "fd2ca93a5cb748dead7769b3d8a85684",
      "d927a0442cb945dc8a96dc9a42a830b3",
      "b7f26226462a44d3aafa4e4837db9b2b",
      "3dd3e44ed1ae47aead169d3bc757935e",
      "55c5647be73c46a5bd569221759b5fba",
      "dd631e85adbd445f96fc5a4c9d8fd8bc",
      "a30356d422994a7bbbbb27c5e8efc4f8",
      "98780d2895f3407a8b20c22e27bbe3ec",
      "c686a9b3b7a64bf4b8797a7e740b2dbe",
      "e82f3763ae894e24ab7604a89ee9a812",
      "b2f1d523b30045e4b2288ee62122ae1f",
      "18a9ed53013c483d9d3efe7494206b6e",
      "518c42ebaf7a413393e0a779e1b36dfd",
      "b609339bec604da0a39bff2dac46100f",
      "6c59afd629e8430c8cd9efa2fd233ace",
      "5d0413e2d21248139cc0582293a715a6",
      "fa6a805fb1a847309b13b2d9b4000346",
      "e6d5b4a8cd314c3c840ca19cc505a0c5",
      "ba4a8d68065349c8a87b361efbd7bd75",
      "75e1546decc54c71ae64ba78f567b3a4",
      "49fe111439cb48249ebf6a199ea925ee"
     ]
    },
    "id": "nOs7ShG8PsYQ",
    "outputId": "6cbc596f-0950-4854-9ab4-6903e28ac334"
   },
   "outputs": [],
   "source": [
    "# Set diameter to 5\n",
    "s2 = sphere(d=5, segments = 100)\n",
    "r.render(s2)"
   ]
  },
  {
   "cell_type": "markdown",
   "metadata": {
    "id": "mTcv8ANEPsYQ"
   },
   "source": [
    "### Cuboids"
   ]
  },
  {
   "cell_type": "code",
   "execution_count": null,
   "metadata": {
    "colab": {
     "referenced_widgets": [
      "30d0b573f5e34ec3bbf6a3a94ba5aa67"
     ]
    },
    "id": "P6UpEpdTPsYQ",
    "outputId": "78ddc68d-8584-4301-ab65-8d489b072cab"
   },
   "outputs": [],
   "source": [
    "c1 = cube(10)\n",
    "r.render(c1)"
   ]
  },
  {
   "cell_type": "markdown",
   "metadata": {
    "id": "QRqn06_HPsYR"
   },
   "source": [
    "The basic function puts a corner at the origin with the side length you set.\n",
    "We can also tell it to automatically put it with the center at the origin"
   ]
  },
  {
   "cell_type": "code",
   "execution_count": null,
   "metadata": {
    "id": "YhTMP5nuPsYR"
   },
   "outputs": [],
   "source": [
    "c2 = cube(10,True)\n",
    "r.render(c2)"
   ]
  },
  {
   "cell_type": "markdown",
   "metadata": {
    "id": "_4aQLNotPsYR"
   },
   "source": [
    "We can also use it to make a rectangular prisim."
   ]
  },
  {
   "cell_type": "code",
   "execution_count": null,
   "metadata": {
    "colab": {
     "referenced_widgets": [
      "f1ecc3298a34432c9a785f9bbd1d8eca"
     ]
    },
    "id": "F-7XpqOWPsYR",
    "outputId": "059b2524-88da-489d-c6d4-dd8791c49961"
   },
   "outputs": [],
   "source": [
    "c3 = cube([10,20,30])\n",
    "r.render(c3)"
   ]
  },
  {
   "cell_type": "markdown",
   "metadata": {
    "id": "lPH7PYTFPsYR"
   },
   "source": [
    "You can note that there is no segments argument to cube because a triangulated mesh is a perfect representation of a cube."
   ]
  },
  {
   "cell_type": "markdown",
   "metadata": {
    "id": "yYPZWJwkPsYR"
   },
   "source": [
    "### Cylinder\n",
    "we saw the basics above, but we can also make Cones using cylinder"
   ]
  },
  {
   "cell_type": "code",
   "execution_count": null,
   "metadata": {
    "colab": {
     "referenced_widgets": [
      "67d12a0ae2c244b295111e8dbe003a3d"
     ]
    },
    "id": "sQNhsooXPsYR",
    "outputId": "cf9f8321-bc5b-4b63-f358-26c7dacd81b6"
   },
   "outputs": [],
   "source": [
    "c2 = cylinder(r1 = 10, r2=5,h=5)\n",
    "r.render(c2)"
   ]
  },
  {
   "cell_type": "markdown",
   "metadata": {
    "id": "1GUWLXzUPsYR"
   },
   "source": [
    "It is also possible to define cone sections using diameters and to shift the center to the center of the height axis. The height axis will be in the Z direction"
   ]
  },
  {
   "cell_type": "code",
   "execution_count": null,
   "metadata": {
    "colab": {
     "referenced_widgets": [
      "63fd70f2da2948cbb904806cadeb2ba4"
     ]
    },
    "id": "zrXAplJAPsYS",
    "outputId": "a1513817-fc70-4371-9b53-aae97b5de8d3"
   },
   "outputs": [],
   "source": [
    "c3 = cylinder(d1 = 10, d2=5,h=5,center=True)\n",
    "r.render(c3)"
   ]
  },
  {
   "cell_type": "markdown",
   "metadata": {
    "id": "bO-_CT4yPsYS"
   },
   "source": [
    "### Polyhedron\n",
    "\n",
    "What if those primitives are not what you need? What if I need to make a pyramids?  or Tetra hedra, or any of the platonic solids besides a cube?"
   ]
  },
  {
   "cell_type": "code",
   "execution_count": null,
   "metadata": {
    "colab": {
     "base_uri": "https://localhost:8080/",
     "height": 1000,
     "referenced_widgets": [
      "3e09a3a73f204b1583c2ccf401db39c1",
      "44cc800c144748e294e73a4460489b31",
      "bb7210c363df43749d02948500fda489",
      "5d765db5fb424a029f785e3576f7d9af",
      "7f27d9c923a04ddd8ed1c21bbb0e460b",
      "3243a96a234e403f814dece2b62e0947",
      "007147dfc6c849eba464744ce47829cd",
      "700d5afafe134cd6abd1905accdddf94",
      "e45f9c479115474188978272cbbfd643",
      "ce8fb06bd6c44d27989fb5471e891963",
      "6fb03057297f4869a5a3384e394fc30c",
      "34945a33ed1c4c96b6a457467011df26",
      "521f6f29bb3740f9859f2c9031c00da0",
      "98d1fbf94fe04490b7e06db5dd49fb62",
      "dca8377523e045c48463c3995ebcaff9",
      "d5768bb9bfd74411857e9f9c65718d09",
      "9be56f6f1d4f417fb9b4805fcbfa9102",
      "30f1eb6ac3c043ef8912eb6deb2dd337",
      "d7ac3e2f000b4852aeddda8bcbc3dabd",
      "893abdc2ebc841a29b646a3bcbc9dd35",
      "e99f23e7802c4842a2a4e380ee82ebe3",
      "d864b01c5c404aeeadac12de79ec59cb",
      "1d7782dc81e046bfb51385c07eefb033",
      "86c754de650a4e1fbf0e75b1ab749d2e",
      "7762dc8901a14826b215ab33fbe3082e",
      "33034efc0a0f4d18b77fb53492f3a91c",
      "96776c3e4c0045a7bfc5f9c9a9901676",
      "8b280cef618a44a79f531f9688318b46",
      "eb74286290ef4e799e0b6af54c03475d",
      "80302a5d127d43eaadb1ad512474dfd4",
      "b174f41586af42fdb3bc4f046e11a578",
      "c6c071b58c224649a439dca503e41fe2",
      "5b36c58e922e4786a641ef24e14b5029",
      "a7516f61161b45a0910a1e5f95332fee",
      "f9894791cc79449eac307c759b786951",
      "dbab9bfdb41a4d618c48ebf2a20b422e",
      "533890f88daf48b6a6639f2187893142",
      "e61b299c8d234dcb953c8e7586c665b3",
      "ddd9ff6c25a24ade8ab478f278c5bea0"
     ]
    },
    "id": "bGyFNBxXPsYS",
    "outputId": "4fb1aa5b-3cc8-426f-b7e6-74974912e252"
   },
   "outputs": [],
   "source": [
    "points = [[0,0,0],[0,1,0],[1,1,0],[1,0,0],[0.5,0.5,1]]\n",
    "faces = [[0,1,2,3], # Base\n",
    "         [0,1,4],[1,2,4],[2,3,4],[3,0,4]]\n",
    "p = polyhedron(points = points,faces = faces)\n",
    "r.render(p)"
   ]
  },
  {
   "cell_type": "code",
   "execution_count": null,
   "metadata": {
    "colab": {
     "referenced_widgets": [
      "eb2795972ddb4cd2a3b698473ee8876a"
     ]
    },
    "id": "iPnEZpbkPsYS",
    "outputId": "07848714-eead-4d13-d493-7d4d08cff77d"
   },
   "outputs": [],
   "source": [
    "points=[ [10,10,0],[10,-10,0],[-10,-10,0],[-10,10,0], # the four points at base\n",
    "           [0,0,10]  ]                               # the apex point\n",
    "faces=[ [0,1,4],[1,2,4],[2,3,4],[3,0,4],              # each triangle side\n",
    "              [1,0,3],[2,1,3] ]                       # two triangles for square base\n",
    "p2 = polyhedron(points = points,faces = faces)\n",
    "r.render(p2)"
   ]
  },
  {
   "cell_type": "code",
   "execution_count": null,
   "metadata": {
    "colab": {
     "referenced_widgets": [
      "8e3ced444b284ce2b44c990115405ab7"
     ]
    },
    "id": "4w5DS0dRPsYS",
    "outputId": "4dd97e26-2886-4a93-b0bc-e7041995e888"
   },
   "outputs": [],
   "source": [
    "def pyramid(side,height):\n",
    "    s = side/2.0\n",
    "    points=[ [s,s,0],[s,-s,0],[-s,-s,0],[-s,s,0], # the four points at base\n",
    "           [0,0,height]  ]                               # the apex point\n",
    "    faces=[ [0,1,4],[1,2,4],[2,3,4],[3,0,4],              # each triangle side\n",
    "              [1,0,3],[2,1,3] ]                       # two triangles for square base\n",
    "    return polyhedron(points = points,faces = faces)\n",
    "r.render(pyramid(10,10))"
   ]
  },
  {
   "cell_type": "markdown",
   "metadata": {
    "id": "8RrVpyaFPsYS"
   },
   "source": [
    "If your polygon is having issues with faces not showing up. look at the segment on debugging your faces [here](https://en.wikibooks.org/wiki/OpenSCAD_User_Manual/Primitive_Solids#polyhedron)"
   ]
  },
  {
   "cell_type": "markdown",
   "metadata": {
    "id": "Cg_1wylRPsYS"
   },
   "source": [
    "### Well what about those basic CSG operations?\n",
    "* Union\n",
    "* Difference\n",
    "* Intersection\n",
    "\n",
    "Arent they just the opperations of a **SET??**"
   ]
  },
  {
   "cell_type": "code",
   "execution_count": null,
   "metadata": {
    "colab": {
     "referenced_widgets": [
      "2b8af2c3c2ee4e75a95a219af796fd26"
     ]
    },
    "id": "1TvG9as6PsYS",
    "outputId": "5bd864fd-5b8a-4499-cbd7-8bfaba74402a"
   },
   "outputs": [],
   "source": [
    "c3 = c1 + c2\n",
    "r.render(c3)"
   ]
  },
  {
   "cell_type": "code",
   "execution_count": null,
   "metadata": {
    "colab": {
     "referenced_widgets": [
      "5d3267e3edab4f51bd9638e7dcd41ae5"
     ]
    },
    "id": "D5n4IKCcPsYT",
    "outputId": "5808d017-fa26-4ee7-b4cf-5f904287760f"
   },
   "outputs": [],
   "source": [
    "c3 = c1 - c2\n",
    "r.render(c3)"
   ]
  },
  {
   "cell_type": "code",
   "execution_count": null,
   "metadata": {
    "id": "clnoXZ3zPsYT"
   },
   "outputs": [],
   "source": [
    "c3 = c2 - c1\n",
    "r.render(c3)"
   ]
  },
  {
   "cell_type": "code",
   "execution_count": null,
   "metadata": {
    "colab": {
     "referenced_widgets": [
      "b432bae1a11c4288af8e3dd9506b07e5"
     ]
    },
    "id": "aGPkYFwNPsYT",
    "outputId": "8d4a451a-5014-4941-9426-605187e8f4a4"
   },
   "outputs": [],
   "source": [
    "c3 = c1*c2\n",
    "r.render(c3)"
   ]
  },
  {
   "cell_type": "markdown",
   "metadata": {
    "id": "t2d5ThD_PsYT"
   },
   "source": [
    "### Hole"
   ]
  },
  {
   "cell_type": "code",
   "execution_count": null,
   "metadata": {
    "colab": {
     "referenced_widgets": [
      "12edb4a25f5640e58583da5604575289"
     ]
    },
    "id": "GxAJs_kpPsYT",
    "outputId": "6bb22033-06a1-42ba-da19-737d9a2182a2"
   },
   "outputs": [],
   "source": [
    "pipe_od = 10\n",
    "pipe_id = 3\n",
    "seg_length = 10\n",
    "outer = cylinder(r=pipe_od, h=seg_length)\n",
    "inner = cylinder(r=pipe_id, h=seg_length)\n",
    "pipe_a = outer - hole()(inner)\n",
    "r.render(pipe_a)"
   ]
  },
  {
   "cell_type": "code",
   "execution_count": null,
   "metadata": {
    "colab": {
     "referenced_widgets": [
      "3780bc95700f4dcd985bd5558fda585a"
     ]
    },
    "id": "Awv9AEYUPsYT",
    "outputId": "789ed1aa-4c9f-448c-ae6f-ca015acec84c"
   },
   "outputs": [],
   "source": [
    "pipe_a = outer + hole()(inner)\n",
    "r.render(pipe_a)"
   ]
  },
  {
   "cell_type": "markdown",
   "metadata": {
    "id": "hEOcbbAmPsYT"
   },
   "source": [
    "## Transformations"
   ]
  },
  {
   "cell_type": "markdown",
   "metadata": {
    "id": "VP6KY8FpPsYT"
   },
   "source": [
    "* Scale\n",
    "    * scale a\n",
    "    * scale [a1,a2,a3]\n",
    "    * resize [x,y,z]\n",
    "* Rotate\n",
    "    * axis angle\n",
    "    * [dx,dy,dz] euler\n",
    "* Translate\n",
    "    * tx ty tz\n",
    "* mirror\n",
    "    * plane normal n1 n2 n3\n",
    "* Homogenous SE(3)\n",
    "    \n"
   ]
  },
  {
   "cell_type": "markdown",
   "metadata": {
    "id": "IlRqEZK7PsYU"
   },
   "source": [
    "### Scaling"
   ]
  },
  {
   "cell_type": "code",
   "execution_count": null,
   "metadata": {
    "colab": {
     "referenced_widgets": [
      "d560b2e118dc4c39b9e8133178634072"
     ]
    },
    "id": "3nDC_PZBPsYU",
    "outputId": "c86db27f-b578-4429-b93d-1b34c40823db"
   },
   "outputs": [],
   "source": [
    "x = scale(1.5)(cube(10))-cube(10)\n",
    "r.render(x)"
   ]
  },
  {
   "cell_type": "code",
   "execution_count": null,
   "metadata": {
    "colab": {
     "referenced_widgets": [
      "0d4e7da534944156b13f95642f7b262e"
     ]
    },
    "id": "1AVSzHCIPsYU",
    "outputId": "12f37393-deac-41e7-9b89-822d8c53979b"
   },
   "outputs": [],
   "source": [
    "x = scale([1,2,3])(sphere(10))\n",
    "r.render(x)"
   ]
  },
  {
   "cell_type": "code",
   "execution_count": null,
   "metadata": {
    "colab": {
     "referenced_widgets": [
      "22568361799c4878bd74b351ec75dbd7"
     ]
    },
    "id": "vBSdrWplPsYV",
    "outputId": "af8184c6-3348-4335-b17d-483c1ac6e03f"
   },
   "outputs": [],
   "source": [
    "x = resize([20,5,10])(sphere(10))\n",
    "r.render(x)"
   ]
  },
  {
   "cell_type": "markdown",
   "metadata": {
    "id": "C0iDMte_PsYV"
   },
   "source": [
    "## Rotation SO(3)\n",
    "\n",
    "As we discussed in class there are several ways to do rotations. namely Axis-angle, Euler Angles, and Quaternions. Natively OpenSCAD only does the first two. Lets look at Axis-angle"
   ]
  },
  {
   "cell_type": "code",
   "execution_count": null,
   "metadata": {
    "id": "vLOk_wpDPsYV"
   },
   "outputs": [],
   "source": [
    "angle = 45\n",
    "axis = [0,1,0]\n",
    "x = rotate(angle,axis)(pyramid(10,10))\n",
    "r.render(x)"
   ]
  },
  {
   "cell_type": "code",
   "execution_count": null,
   "metadata": {
    "id": "jFmNSMDPPsYV"
   },
   "outputs": [],
   "source": [
    "angle = 45\n",
    "axis = [1,1,0]\n",
    "x = rotate(angle,axis)(pyramid(10,10))\n",
    "r.render(x)"
   ]
  },
  {
   "cell_type": "code",
   "execution_count": null,
   "metadata": {
    "id": "sq1xGhwWPsYV"
   },
   "outputs": [],
   "source": [
    "angles = [20,10,5]\n",
    "x = rotate(angles)(pyramid(10,10))\n",
    "r.render(x)"
   ]
  },
  {
   "cell_type": "code",
   "execution_count": null,
   "metadata": {
    "id": "cgzriLZMPsYV"
   },
   "outputs": [],
   "source": [
    "angles = [20,10,5]\n",
    "x2 = rotate(angles[0],[1,0,0])(pyramid(10,10))\n",
    "r.render(x2)"
   ]
  },
  {
   "cell_type": "code",
   "execution_count": null,
   "metadata": {
    "id": "1QYZ8TdrPsYV"
   },
   "outputs": [],
   "source": [
    "x2 = rotate(angles[1],[0,1,0])(x2)\n",
    "r.render(x2)"
   ]
  },
  {
   "cell_type": "code",
   "execution_count": null,
   "metadata": {
    "id": "83zx_I4RPsYV"
   },
   "outputs": [],
   "source": [
    "x2 = rotate(angles[2],[0,0,1])(x2)\n",
    "r.render(x2)"
   ]
  },
  {
   "cell_type": "code",
   "execution_count": null,
   "metadata": {
    "id": "E-DaypQBPsYV"
   },
   "outputs": [],
   "source": [
    "r.render(x-x2+sphere(1))"
   ]
  },
  {
   "cell_type": "markdown",
   "metadata": {
    "id": "3Re4zknpPsYW"
   },
   "source": [
    "This means the system uses the XYZ euler angles. NOT any of the implicit XY'Z'' or the standard ZXZ system. So be aware when someone quotes you euler angles!"
   ]
  },
  {
   "cell_type": "markdown",
   "metadata": {
    "id": "Fg6mconlPsYW"
   },
   "source": [
    "We can also use quaterions, but we need to insert our own transformation. To do that we can convert to Matrix form using the equation below\n",
    "\n",
    "$$ R= \\left(\\begin{matrix}1-2(q_j^2-q_k^2)&2(q_iq_j-q_kq_r)&2(q_iq_k+q_jq_r)\\\\2(q_iq_j+q_kq_r)&1-2(q_i^2-q_k^2)&2(q_jq_k-q_iq_r)\\\\2(q_iq_k-q_jq_r)&2(q_jq_k+q_iq_r)&1-2(q_i^2-q_j^2)\\end{matrix}\\right) $$\n",
    "\n",
    "\n",
    "We should note that the naming here is carefully chosen. some people list quaternions as $$q = [q_r,q_i,q_j,q_k]$$ others use $$q = [q_i,q_j,q_k,q_r]$$ so be careful when storing quaternion as a list or connecting two bits of quaternion code from different sources together. Scipy and numpy use the second convention\n"
   ]
  },
  {
   "cell_type": "code",
   "execution_count": null,
   "metadata": {
    "id": "JPMPkOlePsYW"
   },
   "outputs": [],
   "source": [
    "import numpy as np\n",
    "from scipy.spatial.transform import Rotation as RM\n",
    "rm = RM.from_quat([np.sin(np.pi/4),0, 0, np.cos(np.pi/4)])\n",
    "rot = rm.as_dcm()\n",
    "print(rot)\n",
    "y = multmatrix(rot)(pyramid(10,10))\n",
    "r.render(y)"
   ]
  },
  {
   "cell_type": "markdown",
   "metadata": {
    "id": "Cy0QujjwPsYW"
   },
   "source": [
    "## Translate T(3)"
   ]
  },
  {
   "cell_type": "code",
   "execution_count": null,
   "metadata": {
    "id": "jFikD06BPsYW"
   },
   "outputs": [],
   "source": [
    "y = translate([0,10,0])(pyramid(10,10))+pyramid(10,10)\n",
    "r.render(y)"
   ]
  },
  {
   "cell_type": "markdown",
   "metadata": {
    "id": "Bo_IyfgBPsYW"
   },
   "source": [
    "### Mirror"
   ]
  },
  {
   "cell_type": "code",
   "execution_count": null,
   "metadata": {
    "colab": {
     "referenced_widgets": [
      "0fe921114106457aaadca3561cb411fa"
     ]
    },
    "id": "Oq74h-8iPsYW",
    "outputId": "acc92aaa-5f3f-4cb0-f93e-0b3e9b0e91d5"
   },
   "outputs": [],
   "source": [
    "c = cube([30,20,10])\n",
    "c1 = translate([20,0,0])(rotate(45,[0,0,1])(c))\n",
    "c2 = mirror([1,1,0])(c1)\n",
    "r.render(c1+c2)\n"
   ]
  },
  {
   "cell_type": "markdown",
   "metadata": {
    "id": "og1hCMexPsYW"
   },
   "source": [
    "## SE(3)"
   ]
  },
  {
   "cell_type": "code",
   "execution_count": null,
   "metadata": {
    "id": "9nz2dluuPsYX"
   },
   "outputs": [],
   "source": [
    "import numpy as np\n",
    "def Nx(n):\n",
    "    x = n[0]\n",
    "    y = n[1]\n",
    "    z = n[2]\n",
    "    nx = np.array( [ [0, -z,  y],\n",
    "                     [z,  0,  x],\n",
    "                     [-y,  x, 0] ] )\n",
    "    return nx\n",
    "\n",
    "def AxisAngle(n,theta):\n",
    "    mag = np.linalg.norm(n)\n",
    "    v = n/mag\n",
    "    s = np.sin(theta)\n",
    "    c = np.cos(theta)\n",
    "    NM = Nx(v)\n",
    "    r = np.eye(3)+s*NM+(1-c)*NM@NM\n",
    "    return r\n",
    "\n",
    "def AxisAngleDistance(n,theta,D):\n",
    "    R = AxisAngle(n,theta)\n",
    "    d = np.array(D).T.reshape((1,3))\n",
    "    return np.block([\n",
    "                    [R , d.T],\n",
    "                    [0,0,0, 1]\n",
    "                    ])"
   ]
  },
  {
   "cell_type": "code",
   "execution_count": null,
   "metadata": {
    "colab": {
     "referenced_widgets": [
      "41e5c6b0626346e2af85db1c7551a53b"
     ]
    },
    "id": "OzY99ouSPsYX",
    "outputId": "d88858a8-b27c-4218-c092-e81a7fa10c15"
   },
   "outputs": [],
   "source": [
    "n = [0,0,1]\n",
    "theta = np.pi/4\n",
    "D = [3,1,0]\n",
    "RD = AxisAngleDistance(n,theta,D)\n",
    "\n",
    "y = multmatrix(RD)(pyramid(10,10))\n",
    "r.render(y)"
   ]
  },
  {
   "cell_type": "markdown",
   "metadata": {
    "id": "UuLfSt-MPsYX"
   },
   "source": [
    "### Other Operations\n",
    "* [minkowski sum](https://en.wikibooks.org/wiki/OpenSCAD_User_Manual/Transformations)\n",
    "* [Convex Hull](https://en.wikibooks.org/wiki/OpenSCAD_User_Manual/Transformations)\n",
    "* Shear transforms using m Matrix\n",
    "* [Affine Transforms](https://www.wikiwand.com/en/Affine_transformation)"
   ]
  },
  {
   "cell_type": "code",
   "execution_count": null,
   "metadata": {
    "colab": {
     "referenced_widgets": [
      "0dae84b3c60e40cfade7db1f832212c8"
     ]
    },
    "id": "4A1M09O-PsYX",
    "outputId": "75939fc9-b4b7-40f1-adfb-30e46ce9bb6f"
   },
   "outputs": [],
   "source": [
    "x = cube([10,10,1])+cylinder(1,True)\n",
    "r.render(x)"
   ]
  },
  {
   "cell_type": "code",
   "execution_count": null,
   "metadata": {
    "colab": {
     "referenced_widgets": [
      "dad671aef8db43e68e00cd910e7179eb"
     ]
    },
    "id": "6j_6Tj97PsYX",
    "outputId": "09123c67-6f4a-4db8-9622-14801079db33"
   },
   "outputs": [],
   "source": [
    "x = minkowski()(cube([10,10,1]),cylinder(1,True))\n",
    "r.render(x)"
   ]
  },
  {
   "cell_type": "code",
   "execution_count": null,
   "metadata": {
    "colab": {
     "referenced_widgets": [
      "20a5f093c4f44789a3c08bdb01e6e3e7"
     ]
    },
    "id": "NJjYRCe_PsYX",
    "outputId": "434381b1-1d15-4691-99d0-648d51bda745"
   },
   "outputs": [],
   "source": [
    "q = sphere(1)\n",
    "x = minkowski()(pyramid(10,10),translate([5,5,0])(q))\n",
    "r.render(x)"
   ]
  },
  {
   "cell_type": "code",
   "execution_count": null,
   "metadata": {
    "colab": {
     "referenced_widgets": [
      "eb737764526741ef9557cbae6a656de6"
     ]
    },
    "id": "AA1JzXfTPsYX",
    "outputId": "94e7cd65-0a7a-4fbd-f89f-8fe19516bf2e"
   },
   "outputs": [],
   "source": [
    "q = sphere(1)\n",
    "x = pyramid(10,10)+translate([5,5,0])(q)\n",
    "r.render(x)"
   ]
  },
  {
   "cell_type": "markdown",
   "metadata": {
    "id": "oKueF7VOPsYY"
   },
   "source": [
    "## Convex Hull"
   ]
  },
  {
   "cell_type": "code",
   "execution_count": null,
   "metadata": {
    "colab": {
     "referenced_widgets": [
      "99fb58547545494a9c6fe245027c0c51"
     ]
    },
    "id": "HZoufSsnPsYY",
    "outputId": "360cde76-5486-469d-9ecd-35b30c87e89e"
   },
   "outputs": [],
   "source": [
    "c1 = cylinder(1,1)\n",
    "c2 = translate([10,10,0])(c1)\n",
    "y = c1+c2\n",
    "r.render(y)"
   ]
  },
  {
   "cell_type": "code",
   "execution_count": null,
   "metadata": {
    "colab": {
     "referenced_widgets": [
      "78e12497e6c347e385f6df2ea25c1c8c"
     ]
    },
    "id": "qbIjFD6IPsYY",
    "outputId": "a2ce61bc-5c28-4490-b046-808f6af0e737"
   },
   "outputs": [],
   "source": [
    "c1 = cylinder(1,1)\n",
    "c2 = translate([10,10,0])(c1)\n",
    "y = hull()(c1,c2)\n",
    "r.render(y)"
   ]
  },
  {
   "cell_type": "code",
   "execution_count": null,
   "metadata": {
    "colab": {
     "referenced_widgets": [
      "3266838884cd41da8cd4c8c8a20c1949"
     ]
    },
    "id": "HHhdzWzsPsYY",
    "outputId": "626681c9-2bc3-4ca4-c216-67156b617cdb"
   },
   "outputs": [],
   "source": [
    "c1 = cylinder(1,1)\n",
    "c2 = translate([10,10,0])(c1)\n",
    "c3 = translate([0,10,0])(c1)\n",
    "y = hull()(c1,c2,c3)\n",
    "r.render(y)"
   ]
  },
  {
   "cell_type": "code",
   "execution_count": null,
   "metadata": {
    "colab": {
     "referenced_widgets": [
      "2406cbb961784e66be4b8548bb2e0952"
     ]
    },
    "id": "EZX87FfAPsYY",
    "outputId": "79198960-44c3-4be9-ac06-92ae10174824"
   },
   "outputs": [],
   "source": [
    "c1 = cylinder(1,1)\n",
    "c2 = translate([10,10,0])(c1)\n",
    "c3 = translate([0,10,0])(c1)\n",
    "y = c1+c2+c3\n",
    "r.render(y)"
   ]
  },
  {
   "cell_type": "code",
   "execution_count": null,
   "metadata": {
    "colab": {
     "referenced_widgets": [
      "bea430799dea46d8833f7ed02e697597"
     ]
    },
    "id": "cqUggv5gPsYY",
    "outputId": "008a5ac4-4e1f-474b-c612-7b651171079f"
   },
   "outputs": [],
   "source": [
    "c1 = cylinder(1,1)\n",
    "c2 = translate([10,10,0])(c1)\n",
    "c3 = translate([0,10,0])(c1)\n",
    "c4 = translate([4,7,0])(c1)\n",
    "y = c1+c2+c3+c4\n",
    "r.render(y)"
   ]
  },
  {
   "cell_type": "code",
   "execution_count": null,
   "metadata": {
    "colab": {
     "referenced_widgets": [
      "b5e628e7a8fc4c5997a91de2dbee07fc"
     ]
    },
    "id": "AIt4vY88PsYY",
    "outputId": "02772095-9533-4c2c-c358-79cbe269df8e"
   },
   "outputs": [],
   "source": [
    "c1 = cylinder(1,1)\n",
    "c2 = translate([10,10,0])(c1)\n",
    "c3 = translate([0,10,0])(c1)\n",
    "c4 = translate([4,7,0])(c1)\n",
    "y = hull()(c1, c2, c3, c4)\n",
    "r.render(y)"
   ]
  },
  {
   "cell_type": "markdown",
   "metadata": {
    "id": "A3ELQ_NQPsYZ"
   },
   "source": [
    "## 2D operations\n",
    "* square\n",
    "* circle\n",
    "* polygon\n",
    "* text"
   ]
  },
  {
   "cell_type": "code",
   "execution_count": null,
   "metadata": {
    "id": "jabpfsxFPsYZ",
    "outputId": "c9585bc3-cacf-4730-b7fd-256663b6a99d"
   },
   "outputs": [],
   "source": [
    "s1 = square(size = [4,10],center = True)\n",
    "s2 = square(size = 1.5, center = False)\n",
    "y = s1-s2\n",
    "print(scad_render(y))"
   ]
  },
  {
   "cell_type": "code",
   "execution_count": null,
   "metadata": {
    "id": "56uP42puPsYZ",
    "outputId": "95302c98-a6cf-4ae8-fecd-199aff72516e"
   },
   "outputs": [],
   "source": [
    "r.render(y)"
   ]
  },
  {
   "cell_type": "code",
   "execution_count": null,
   "metadata": {
    "id": "sxOaZkCoPsYZ",
    "outputId": "ded690a7-6913-4f6a-b905-5448e71bb07f"
   },
   "outputs": [],
   "source": [
    "c1 = circle(r=10)\n",
    "c2 = circle(d=30)\n",
    "y = c2-c1\n",
    "print(scad_render(y))"
   ]
  },
  {
   "cell_type": "code",
   "execution_count": null,
   "metadata": {
    "id": "VlWEaPCAPsYZ",
    "outputId": "5e972734-6630-456d-ae3b-dee9ee1945ac"
   },
   "outputs": [],
   "source": [
    "r_c = 30\n",
    "n = 6\n",
    "xs = [r_c*np.cos(2*np.pi/n*i)for i in range(0,n+1)]\n",
    "ys = [r_c*np.sin(2*np.pi/n*i)for i in range(0,n+1)]\n",
    "pts = list(zip(xs,ys))\n",
    "y = polygon(points=pts)\n",
    "print(scad_render(y))"
   ]
  },
  {
   "cell_type": "code",
   "execution_count": null,
   "metadata": {
    "id": "I_jAiPVjPsYa",
    "outputId": "6d71e1f7-fd76-4910-db57-ba12e54ef37d"
   },
   "outputs": [],
   "source": [
    "y= text('ME480')\n",
    "print(scad_render(y))"
   ]
  },
  {
   "cell_type": "markdown",
   "metadata": {
    "id": "F28tOHMaPsYa"
   },
   "source": [
    "## 2D to 3D\n",
    "* linear extrude\n",
    "    * text to use to make labels\n",
    "    * twisting\n",
    "* rotation extrude\n",
    "    * [solids of rotations ](https://en.wikibooks.org/wiki/OpenSCAD_User_Manual/2D_to_3D_Extrusion#Linear_Extrude)\n",
    "   "
   ]
  },
  {
   "cell_type": "code",
   "execution_count": null,
   "metadata": {
    "colab": {
     "referenced_widgets": [
      "6fd7e7e1aa6740469fdfa617adb5d46c"
     ]
    },
    "id": "jlGF_3aXPsYa",
    "outputId": "3fad29f3-41c2-4b2a-b92c-a9b162e96f88"
   },
   "outputs": [],
   "source": [
    "y = linear_extrude(height =10,center=True)(text('ME480'))\n",
    "r.render(y)"
   ]
  },
  {
   "cell_type": "code",
   "execution_count": null,
   "metadata": {
    "colab": {
     "referenced_widgets": [
      "8989f19667c74aa4ab95e37cc3cfb0d8"
     ]
    },
    "id": "DbIlHiwOPsYa",
    "outputId": "18702795-06a3-4514-fd50-419329dd5cd0"
   },
   "outputs": [],
   "source": [
    "c1 = circle(r=10)\n",
    "c2 = circle(d=30)\n",
    "y = linear_extrude(height =10,center=True)(c2-c1)\n",
    "r.render(y)"
   ]
  },
  {
   "cell_type": "code",
   "execution_count": null,
   "metadata": {
    "colab": {
     "referenced_widgets": [
      "6e57ef19207147f48ac293c501cc8890"
     ]
    },
    "id": "9eRXJprOPsYa",
    "outputId": "b8c085d0-73ce-4f46-a2ab-f070d1335863"
   },
   "outputs": [],
   "source": [
    "y = linear_extrude(height=10, twist=90)(text('ME480'))\n",
    "angle = 45\n",
    "axis = [1,1,0]\n",
    "x = rotate(angle,axis)(y)\n",
    "r.render(x)"
   ]
  },
  {
   "cell_type": "code",
   "execution_count": null,
   "metadata": {
    "colab": {
     "referenced_widgets": [
      "f23c0255676c46abb2e6eafc66857a2d"
     ]
    },
    "id": "5v2oCAPuPsYa",
    "outputId": "d2f33a86-c3f3-43ea-c619-ce8deaa4bb73"
   },
   "outputs": [],
   "source": [
    "y = linear_extrude(height=10, twist=90,slices = 100)(text('ME480'))\n",
    "r.render(y)"
   ]
  },
  {
   "cell_type": "code",
   "execution_count": null,
   "metadata": {
    "colab": {
     "referenced_widgets": [
      "a5231c53b044432e82de3e17dd30a013"
     ]
    },
    "id": "TvWS-2EhPsYa",
    "outputId": "5ad717a1-6e8d-4737-d80d-9c60761d1d66"
   },
   "outputs": [],
   "source": [
    "c1 = translate([0,30,0])(circle(r=10))\n",
    "c2 = translate([0,30,0])(circle(d=30))\n",
    "x = c2-c1\n",
    "y = linear_extrude(height=30, twist=90)(x)\n",
    "r.render(y)"
   ]
  },
  {
   "cell_type": "code",
   "execution_count": null,
   "metadata": {
    "colab": {
     "referenced_widgets": [
      "1c45135fbfdd46c6af1421a45162dd3d"
     ]
    },
    "id": "71c79ySLPsYb",
    "outputId": "686bd008-ec7e-4a43-e122-e36c3607dc20"
   },
   "outputs": [],
   "source": [
    "c1 = translate([0,30,0])(circle(r=10))\n",
    "c2 = translate([0,30,0])(circle(d=30))\n",
    "x = c2-c1\n",
    "y = linear_extrude(height=300, twist=720)(x)\n",
    "r.render(y)"
   ]
  },
  {
   "cell_type": "code",
   "execution_count": null,
   "metadata": {
    "colab": {
     "referenced_widgets": [
      "22b28984eaa54ec69b8a908851fe27a5"
     ]
    },
    "id": "_oXH1uX-PsYb",
    "outputId": "735e2008-4ecb-42a8-97c8-b5c668626855"
   },
   "outputs": [],
   "source": [
    "r_c = 20\n",
    "n = 4\n",
    "l = 10*r_c\n",
    "xs = [r_c*np.cos(2*np.pi/n*i)for i in range(0,n+1)]\n",
    "ys = [r_c*np.sin(2*np.pi/n*i)for i in range(0,n+1)]\n",
    "pts = list(zip(xs,ys))\n",
    "y = polygon(points=pts)\n",
    "z = linear_extrude(height=l, twist=4*360,slices = 100)(y)\n",
    "r.render(z)"
   ]
  },
  {
   "cell_type": "code",
   "execution_count": null,
   "metadata": {
    "colab": {
     "referenced_widgets": [
      "8ac519cd5c9642848ffebcb05068af22"
     ]
    },
    "id": "V11SbbPxPsYb",
    "outputId": "203720ba-c9d8-4ddc-c380-ee26805701e7"
   },
   "outputs": [],
   "source": [
    "r_c = 1\n",
    "n = 4\n",
    "l = 10*r_c\n",
    "xs = [r_c*np.cos(2*np.pi/n*i)for i in range(0,n+1)]\n",
    "ys = [r_c*np.sin(2*np.pi/n*i)for i in range(0,n+1)]\n",
    "pts = list(zip(xs,ys))\n",
    "y = polygon(points=pts)\n",
    "z = linear_extrude(height=l, twist=4*360,slices = 100,scale = 0.5)(y)\n",
    "r.render(z)"
   ]
  },
  {
   "cell_type": "code",
   "execution_count": null,
   "metadata": {
    "colab": {
     "referenced_widgets": [
      "bf4f78f27438454d8d936c2b92c05d0f"
     ]
    },
    "id": "fAvVyrg6PsYb",
    "outputId": "69dea3f3-5e0a-43fe-badb-97638d1aa173"
   },
   "outputs": [],
   "source": [
    "z = linear_extrude(height=10, twist=4*360,slices = 100, scale=[1,2])(y)\n",
    "r.render(z)"
   ]
  },
  {
   "cell_type": "code",
   "execution_count": null,
   "metadata": {
    "colab": {
     "referenced_widgets": [
      "2c364762f4d6412f926099ba9c5aa3db"
     ]
    },
    "id": "RLfGYyguPsYb",
    "outputId": "9dec06e6-dae0-40ea-914f-c113b8db409e"
   },
   "outputs": [],
   "source": [
    "z = rotate_extrude(angle = 360)(translate([2,0,0])(y))\n",
    "print(scad_render(z))\n",
    "r.render(z)"
   ]
  },
  {
   "cell_type": "code",
   "execution_count": null,
   "metadata": {
    "id": "ezBuEKQYPsYb",
    "outputId": "847f6e63-332b-4186-e41b-7c2878f31d26"
   },
   "outputs": [],
   "source": [
    "print(scad_render(y))"
   ]
  },
  {
   "cell_type": "code",
   "execution_count": null,
   "metadata": {
    "colab": {
     "referenced_widgets": [
      "d5b0dd55504a4dbd940295cdfb3815f9"
     ]
    },
    "id": "fnTE7e0cPsYb",
    "outputId": "8401a93f-b9ba-4e44-9c55-33c3bbeab04a"
   },
   "outputs": [],
   "source": [
    "z = rotate_extrude(angle = 360,segments=100)(translate([2,0,0])(y))\n",
    "print(scad_render(z))\n",
    "r.render(z)"
   ]
  },
  {
   "cell_type": "code",
   "execution_count": null,
   "metadata": {
    "id": "Oshm1tbgPsYc",
    "outputId": "70521504-7212-4221-b8c3-3844ceebf47b"
   },
   "outputs": [],
   "source": [
    "scad_render(z)"
   ]
  },
  {
   "cell_type": "code",
   "execution_count": null,
   "metadata": {
    "id": "we6Ewt7uPsYc",
    "outputId": "fbe4434e-8bc2-4bfa-d7b1-96be884077ad"
   },
   "outputs": [],
   "source": [
    "def exportToScad(solidObj,file,path = \".\"):\n",
    "    location = path+'/'+file+\".scad\"\n",
    "    with open(location,'w') as f:\n",
    "        print(f.write(scad_render(solidObj)))\n",
    "\n",
    "exportToScad(cube(10),\"test\")"
   ]
  },
  {
   "cell_type": "code",
   "execution_count": null,
   "metadata": {
    "id": "a-8t0pGgPsYc",
    "outputId": "beba16aa-1877-4e63-b084-b53658b2ee0a"
   },
   "outputs": [],
   "source": [
    "exportToScad(z,\"Ztest\")"
   ]
  },
  {
   "cell_type": "markdown",
   "metadata": {
    "id": "g9rPA2uqPsYc"
   },
   "source": [
    "## Color"
   ]
  },
  {
   "cell_type": "code",
   "execution_count": null,
   "metadata": {
    "id": "EjmWCJu2PsYc",
    "outputId": "662539a1-8c71-43f8-973f-a7470be70bb2"
   },
   "outputs": [],
   "source": [
    "transparent_blue = color([0,0,1, 0.5])(translate([0,10,0])(cube(10)))  # Specify with RGB[A]\n",
    "red_obj = color(Red)(cube(10))                    # Or use predefined colors\n",
    "print(scad_render(transparent_blue+red_obj))"
   ]
  },
  {
   "cell_type": "code",
   "execution_count": null,
   "metadata": {
    "colab": {
     "referenced_widgets": [
      "bf3db62cbc5f4032b2fdb3363a6375e7"
     ]
    },
    "id": "4UcLr54YPsYc",
    "outputId": "4394ea3c-7100-4fce-8df6-cd1a24c3b47a"
   },
   "outputs": [],
   "source": [
    "r.render(red_obj)"
   ]
  },
  {
   "cell_type": "markdown",
   "metadata": {
    "id": "x-EUuuWkPsYc"
   },
   "source": [
    "![image.png](attachment:image.png)"
   ]
  },
  {
   "cell_type": "markdown",
   "metadata": {
    "id": "2yeojeUePsYc"
   },
   "source": [
    "## Imports\n",
    "* stl import\n",
    "* import SCAD\n",
    "    * lego Brick Model"
   ]
  },
  {
   "cell_type": "code",
   "execution_count": null,
   "metadata": {
    "id": "_Kcaw3FRPsYc",
    "outputId": "d016c961-2249-4e43-c39f-b890fc8731c1"
   },
   "outputs": [],
   "source": [
    "q = import_stl(\"C://Users//jil26//Documents//GitHub//ME480//JupyterNotebooks//darthVader.stl\")\n",
    "w = translate([100,0,0])(q)\n",
    "print(scad_render(q+w))#.replace('\\n','').replace('\\t','')\n",
    "r.render(q)"
   ]
  },
  {
   "cell_type": "markdown",
   "metadata": {
    "id": "iyXn_Y7vPsYd"
   },
   "source": [
    "Sometimes the renderer isnt perfect, so you have to copy and paste into openscad"
   ]
  },
  {
   "cell_type": "markdown",
   "metadata": {
    "id": "t0oRXRloPsYd"
   },
   "source": [
    "# [OpenSCAD MCAD Library](https://github.com/openscad/MCAD)"
   ]
  },
  {
   "cell_type": "code",
   "execution_count": null,
   "metadata": {
    "colab": {
     "referenced_widgets": [
      "aac65b63663a478c9d5e4600c668aacc"
     ]
    },
    "id": "HYNhgaJaPsYd",
    "outputId": "f6bdcc0d-e891-4e0a-c082-ada8ccffc4f6"
   },
   "outputs": [],
   "source": [
    "scadfile = import_scad('C://Users//jil26//Documents//GitHub//MCAD//lego_compatibility.scad')\n",
    "\n",
    "\n",
    "#print(scadfile)\n",
    "width = 10\n",
    "length = 5\n",
    "height = 2\n",
    "b = scadfile.block(width,length,height,reinforcement=True)\n",
    "r.render(b)"
   ]
  },
  {
   "cell_type": "code",
   "execution_count": null,
   "metadata": {
    "id": "6DrhaCliPsYd"
   },
   "outputs": [],
   "source": [
    "width = 10\n",
    "length = 5\n",
    "height = 2\n",
    "b = scadfile.block(width,length,height)\n",
    "r.render(b)"
   ]
  },
  {
   "cell_type": "code",
   "execution_count": null,
   "metadata": {
    "colab": {
     "referenced_widgets": [
      "3ad49e5a35464f0694d738c437cb4489"
     ]
    },
    "id": "d4l89rRXPsYd",
    "outputId": "ea8ebba0-1a2d-428e-877f-88af9f38c5d5"
   },
   "outputs": [],
   "source": [
    "x = minkowski()(cylinder(r=5,h=5),sphere(1))\n",
    "cn =cylinder(r=10,h=5)- hole()(cylinder(r=5,h=5))-translate([0,0,5])(x)\n",
    "r.render(cn)"
   ]
  },
  {
   "cell_type": "code",
   "execution_count": null,
   "metadata": {
    "id": "1Hzc3v4NPsYd"
   },
   "outputs": [],
   "source": []
  }
 ],
 "metadata": {
  "colab": {
   "provenance": []
  },
  "kernelspec": {
   "display_name": "Python 3 (ipykernel)",
   "language": "python",
   "name": "python3"
  },
  "language_info": {
   "codemirror_mode": {
    "name": "ipython",
    "version": 3
   },
   "file_extension": ".py",
   "mimetype": "text/x-python",
   "name": "python",
   "nbconvert_exporter": "python",
   "pygments_lexer": "ipython3",
   "version": "3.10.9"
  },
  "widgets": {
   "application/vnd.jupyter.widget-state+json": {
    "007147dfc6c849eba464744ce47829cd": {
     "model_module": "@jupyter-widgets/base",
     "model_module_version": "1.2.0",
     "model_name": "LayoutModel",
     "state": {
      "_model_module": "@jupyter-widgets/base",
      "_model_module_version": "1.2.0",
      "_model_name": "LayoutModel",
      "_view_count": null,
      "_view_module": "@jupyter-widgets/base",
      "_view_module_version": "1.2.0",
      "_view_name": "LayoutView",
      "align_content": null,
      "align_items": null,
      "align_self": null,
      "border": null,
      "bottom": null,
      "display": null,
      "flex": null,
      "flex_flow": null,
      "grid_area": null,
      "grid_auto_columns": null,
      "grid_auto_flow": null,
      "grid_auto_rows": null,
      "grid_column": null,
      "grid_gap": null,
      "grid_row": null,
      "grid_template_areas": null,
      "grid_template_columns": null,
      "grid_template_rows": null,
      "height": null,
      "justify_content": null,
      "justify_items": null,
      "left": null,
      "margin": null,
      "max_height": null,
      "max_width": null,
      "min_height": null,
      "min_width": null,
      "object_fit": null,
      "object_position": null,
      "order": null,
      "overflow": null,
      "overflow_x": null,
      "overflow_y": null,
      "padding": null,
      "right": null,
      "top": null,
      "visibility": null,
      "width": null
     }
    },
    "03d8362f79f94aeba8c954e6f5553862": {
     "model_module": "jupyter-threejs",
     "model_module_version": "^2.4.1",
     "model_name": "BufferGeometryModel",
     "state": {
      "MaxIndex": 65535,
      "_model_module": "jupyter-threejs",
      "_model_module_version": "^2.4.1",
      "_model_name": "BufferGeometryModel",
      "_ref_geometry": null,
      "_store_ref": false,
      "_view_count": null,
      "_view_module": null,
      "_view_module_version": "",
      "_view_name": null,
      "attributes": {
       "color": "IPY_MODEL_29b724bf4edf4329b97429f14dced9a6",
       "normal": "IPY_MODEL_b0f398ca4df341cdb364f4e88a717b86",
       "position": "IPY_MODEL_8ccc7c732da948248aa8c4c64bdc3011"
      },
      "index": null,
      "morphAttributes": {},
      "name": "",
      "type": "BufferGeometry",
      "userData": {}
     }
    },
    "0577f7ab5edc4ed79d87d561aacfd552": {
     "model_module": "jupyter-threejs",
     "model_module_version": "^2.4.1",
     "model_name": "OrbitControlsModel",
     "state": {
      "_model_module": "jupyter-threejs",
      "_model_module_version": "^2.4.1",
      "_model_name": "OrbitControlsModel",
      "_view_count": null,
      "_view_module": null,
      "_view_module_version": "",
      "_view_name": null,
      "autoRotate": false,
      "autoRotateSpeed": 2,
      "controlling": "IPY_MODEL_69bb996fc4d3480aaf9af729f9b4974c",
      "dampingFactor": 0.25,
      "enableDamping": false,
      "enableKeys": true,
      "enablePan": true,
      "enableRotate": true,
      "enableZoom": true,
      "enabled": true,
      "keyPanSpeed": 7,
      "maxAzimuthAngle": "inf",
      "maxDistance": "inf",
      "maxPolarAngle": 3.141592653589793,
      "maxZoom": "inf",
      "minAzimuthAngle": "-inf",
      "minDistance": 0,
      "minPolarAngle": 0,
      "minZoom": 0,
      "panSpeed": 1,
      "rotateSpeed": 1,
      "screenSpacePanning": true,
      "target": [
       0,
       0,
       0
      ],
      "zoomSpeed": 1
     }
    },
    "063424a7c0994026832ed94bbb9d27c6": {
     "model_module": "jupyter-threejs",
     "model_module_version": "^2.4.1",
     "model_name": "RendererModel",
     "state": {
      "_alpha": false,
      "_antialias": false,
      "_dom_classes": [],
      "_height": 600,
      "_model_module": "jupyter-threejs",
      "_model_module_version": "^2.4.1",
      "_model_name": "RendererModel",
      "_pause_autorender": false,
      "_view_count": null,
      "_view_module": "jupyter-threejs",
      "_view_module_version": "^2.4.1",
      "_view_name": "RendererView",
      "_webgl_version": 2,
      "_width": 600,
      "autoClear": true,
      "autoClearColor": true,
      "autoClearDepth": true,
      "autoClearStencil": true,
      "background": "#cccc88",
      "background_opacity": 0,
      "camera": "IPY_MODEL_8b6ac56cad324a268ad0ac3e0565316c",
      "clearColor": "#000000",
      "clearOpacity": 1,
      "clippingPlanes": [],
      "controls": [
       "IPY_MODEL_9f1fcb3304304bb39c42bb25e69df567",
       "IPY_MODEL_3a810e48593e471e85ecff3318168027"
      ],
      "gammaFactor": 2,
      "gammaInput": false,
      "gammaOutput": false,
      "layout": "IPY_MODEL_ad15f540810c44cc9fd1a3ce909231a8",
      "localClippingEnabled": false,
      "maxMorphNormals": 4,
      "maxMorphTargets": 8,
      "physicallyCorrectLights": false,
      "scene": "IPY_MODEL_fa8b9bad20bc451da4ae1b2d76f5a799",
      "shadowMap": "IPY_MODEL_c799122a72ac43d397e061dc2553a47f",
      "sortObject": true,
      "toneMapping": "LinearToneMapping",
      "toneMappingExposure": 1,
      "toneMappingWhitePoint": 1
     }
    },
    "085b742694e742f7819218b1fba74d3f": {
     "model_module": "@jupyter-widgets/controls",
     "model_module_version": "1.5.0",
     "model_name": "VBoxModel",
     "state": {
      "_dom_classes": [],
      "_model_module": "@jupyter-widgets/controls",
      "_model_module_version": "1.5.0",
      "_model_name": "VBoxModel",
      "_view_count": null,
      "_view_module": "@jupyter-widgets/controls",
      "_view_module_version": "1.5.0",
      "_view_name": "VBoxView",
      "box_style": "",
      "children": [
       "IPY_MODEL_0dfff7e5f8794fa78377a59dc7c42e05",
       "IPY_MODEL_ef51d7f31f6b44d0b314b570806e5cc8",
       "IPY_MODEL_e91bfa1bf33d404bab20cc535c721c94",
       "IPY_MODEL_65c1128954b54c95b34a3d35c9aa94fb"
      ],
      "layout": "IPY_MODEL_26d6d50a2ede4617872f536ea8ca2544"
     }
    },
    "0dfff7e5f8794fa78377a59dc7c42e05": {
     "model_module": "@jupyter-widgets/controls",
     "model_module_version": "1.5.0",
     "model_name": "HTMLModel",
     "state": {
      "_dom_classes": [],
      "_model_module": "@jupyter-widgets/controls",
      "_model_module_version": "1.5.0",
      "_model_name": "HTMLModel",
      "_view_count": null,
      "_view_module": "@jupyter-widgets/controls",
      "_view_module_version": "1.5.0",
      "_view_name": "HTMLView",
      "description": "",
      "description_tooltip": null,
      "layout": "IPY_MODEL_bc15d3a9df9b44198aa6848a713b6629",
      "placeholder": "​",
      "style": "IPY_MODEL_7cf262934e3f46179f9d0984fb47e3a8",
      "value": ""
     }
    },
    "132b5988eb214ff3ae55ce32d976d5f8": {
     "model_module": "jupyter-threejs",
     "model_module_version": "^2.4.1",
     "model_name": "MeshModel",
     "state": {
      "_model_module": "jupyter-threejs",
      "_model_module_version": "^2.4.1",
      "_model_name": "MeshModel",
      "_view_count": null,
      "_view_module": null,
      "_view_module_version": "",
      "_view_name": null,
      "castShadow": false,
      "children": [],
      "drawMode": "TrianglesDrawMode",
      "frustumCulled": true,
      "geometry": "IPY_MODEL_4efcc0df07024c7c944a4e58db7fa6c3",
      "material": "IPY_MODEL_eeac5258d0634b2487fc1f9903ea4ba7",
      "matrix": [
       1,
       0,
       0,
       0,
       0,
       1,
       0,
       0,
       0,
       0,
       1,
       0,
       0,
       0,
       0,
       1
      ],
      "matrixAutoUpdate": true,
      "matrixWorld": [
       1,
       0,
       0,
       0,
       0,
       1,
       0,
       0,
       0,
       0,
       1,
       0,
       0,
       0,
       0,
       1
      ],
      "matrixWorldNeedsUpdate": false,
      "modelViewMatrix": [
       1,
       0,
       0,
       0,
       0,
       1,
       0,
       0,
       0,
       0,
       1,
       0,
       0,
       0,
       0,
       1
      ],
      "morphTargetInfluences": [],
      "name": "",
      "normalMatrix": [
       1,
       0,
       0,
       0,
       1,
       0,
       0,
       0,
       1
      ],
      "position": [
       0,
       0,
       0
      ],
      "quaternion": [
       0,
       0,
       0,
       1
      ],
      "receiveShadow": false,
      "renderOrder": 0,
      "rotation": [
       0,
       0,
       0,
       "XYZ"
      ],
      "scale": [
       1,
       1,
       1
      ],
      "type": "Mesh",
      "up": [
       0,
       1,
       0
      ],
      "visible": true
     }
    },
    "1466af0885a74af09b43d07bba1dbb71": {
     "model_module": "jupyter-threejs",
     "model_module_version": "^2.4.1",
     "model_name": "SphereGeometryModel",
     "state": {
      "_model_module": "jupyter-threejs",
      "_model_module_version": "^2.4.1",
      "_model_name": "SphereGeometryModel",
      "_view_count": null,
      "_view_module": null,
      "_view_module_version": "",
      "_view_name": null,
      "heightSegments": 6,
      "name": "",
      "phiLength": 6.283185307179586,
      "phiStart": 0,
      "radius": 1,
      "thetaLength": 3.141592653589793,
      "thetaStart": 0,
      "type": "SphereGeometry",
      "widthSegments": 8
     }
    },
    "18a9ed53013c483d9d3efe7494206b6e": {
     "model_module": "jupyter-threejs",
     "model_module_version": "^2.4.1",
     "model_name": "MeshBasicMaterialModel",
     "state": {
      "_model_module": "jupyter-threejs",
      "_model_module_version": "^2.4.1",
      "_model_name": "MeshBasicMaterialModel",
      "_view_count": null,
      "_view_module": null,
      "_view_module_version": "",
      "_view_name": null,
      "alphaMap": null,
      "alphaTest": 0,
      "aoMap": null,
      "aoMapIntensity": 1,
      "blendDst": "OneMinusSrcAlphaFactor",
      "blendDstAlpha": 0,
      "blendEquation": "AddEquation",
      "blendEquationAlpha": 0,
      "blendSrc": "SrcAlphaFactor",
      "blendSrcAlpha": 0,
      "blending": "NormalBlending",
      "clipIntersection": false,
      "clipShadows": false,
      "clippingPlanes": [],
      "color": "#00ff00",
      "colorWrite": true,
      "combine": "MultiplyOperation",
      "defines": null,
      "depthFunc": "LessEqualDepth",
      "depthTest": true,
      "depthWrite": true,
      "dithering": false,
      "envMap": null,
      "flatShading": false,
      "fog": true,
      "lightMap": null,
      "lightMapIntensity": 1,
      "lights": false,
      "map": null,
      "morphTargets": false,
      "name": "",
      "opacity": 1,
      "overdraw": 0,
      "polygonOffset": false,
      "polygonOffsetFactor": 0,
      "polygonOffsetUnits": 0,
      "precision": null,
      "premultipliedAlpha": false,
      "reflectivity": 1,
      "refractionRatio": 0.98,
      "shadowSide": null,
      "side": "FrontSide",
      "skinning": false,
      "specularMap": null,
      "transparent": false,
      "type": "MeshBasicMaterial",
      "vertexColors": "NoColors",
      "visible": true,
      "wireframe": false,
      "wireframeLinecap": "round",
      "wireframeLinejoin": "round",
      "wireframeLinewidth": 1
     }
    },
    "1cff22ad0b2d41959267f9afe84becf4": {
     "model_module": "@jupyter-widgets/base",
     "model_module_version": "1.2.0",
     "model_name": "LayoutModel",
     "state": {
      "_model_module": "@jupyter-widgets/base",
      "_model_module_version": "1.2.0",
      "_model_name": "LayoutModel",
      "_view_count": null,
      "_view_module": "@jupyter-widgets/base",
      "_view_module_version": "1.2.0",
      "_view_name": "LayoutView",
      "align_content": null,
      "align_items": null,
      "align_self": null,
      "border": null,
      "bottom": null,
      "display": null,
      "flex": null,
      "flex_flow": null,
      "grid_area": null,
      "grid_auto_columns": null,
      "grid_auto_flow": null,
      "grid_auto_rows": null,
      "grid_column": null,
      "grid_gap": null,
      "grid_row": null,
      "grid_template_areas": null,
      "grid_template_columns": null,
      "grid_template_rows": null,
      "height": null,
      "justify_content": null,
      "justify_items": null,
      "left": null,
      "margin": null,
      "max_height": null,
      "max_width": null,
      "min_height": null,
      "min_width": null,
      "object_fit": null,
      "object_position": null,
      "order": null,
      "overflow": null,
      "overflow_x": null,
      "overflow_y": null,
      "padding": null,
      "right": null,
      "top": null,
      "visibility": null,
      "width": null
     }
    },
    "1d7782dc81e046bfb51385c07eefb033": {
     "model_module": "jupyter-threejs",
     "model_module_version": "^2.4.1",
     "model_name": "MeshModel",
     "state": {
      "_model_module": "jupyter-threejs",
      "_model_module_version": "^2.4.1",
      "_model_name": "MeshModel",
      "_view_count": null,
      "_view_module": null,
      "_view_module_version": "",
      "_view_name": null,
      "castShadow": false,
      "children": [],
      "drawMode": "TrianglesDrawMode",
      "frustumCulled": true,
      "geometry": "IPY_MODEL_5b36c58e922e4786a641ef24e14b5029",
      "material": "IPY_MODEL_a7516f61161b45a0910a1e5f95332fee",
      "matrix": [
       1,
       0,
       0,
       0,
       0,
       1,
       0,
       0,
       0,
       0,
       1,
       0,
       0,
       0,
       0,
       1
      ],
      "matrixAutoUpdate": true,
      "matrixWorld": [
       1,
       0,
       0,
       0,
       0,
       1,
       0,
       0,
       0,
       0,
       1,
       0,
       0,
       0,
       0,
       1
      ],
      "matrixWorldNeedsUpdate": false,
      "modelViewMatrix": [
       1,
       0,
       0,
       0,
       0,
       1,
       0,
       0,
       0,
       0,
       1,
       0,
       0,
       0,
       0,
       1
      ],
      "morphTargetInfluences": [],
      "name": "",
      "normalMatrix": [
       1,
       0,
       0,
       0,
       1,
       0,
       0,
       0,
       1
      ],
      "position": [
       0,
       0,
       0
      ],
      "quaternion": [
       0,
       0,
       0,
       1
      ],
      "receiveShadow": false,
      "renderOrder": 0,
      "rotation": [
       0,
       0,
       0,
       "XYZ"
      ],
      "scale": [
       1,
       1,
       1
      ],
      "type": "Mesh",
      "up": [
       0,
       1,
       0
      ],
      "visible": true
     }
    },
    "21619190fe9847c8a5a9bb6c7c0816c3": {
     "model_module": "jupyter-threejs",
     "model_module_version": "^2.4.1",
     "model_name": "BufferAttributeModel",
     "state": {
      "_model_module": "jupyter-threejs",
      "_model_module_version": "^2.4.1",
      "_model_name": "BufferAttributeModel",
      "_view_count": null,
      "_view_module": null,
      "_view_module_version": "",
      "_view_name": null,
      "array": {
       "dtype": "float32",
       "shape": [
        11988,
        3
       ]
      },
      "dynamic": false,
      "needsUpdate": false,
      "normalized": true,
      "version": 1
     }
    },
    "21d5a0616c51493aade6466d8bd5de2e": {
     "model_module": "jupyter-threejs",
     "model_module_version": "^2.4.1",
     "model_name": "OrbitControlsModel",
     "state": {
      "_model_module": "jupyter-threejs",
      "_model_module_version": "^2.4.1",
      "_model_name": "OrbitControlsModel",
      "_view_count": null,
      "_view_module": null,
      "_view_module_version": "",
      "_view_name": null,
      "autoRotate": false,
      "autoRotateSpeed": 2,
      "controlling": "IPY_MODEL_fc64775db07b4bec83b8d7af129b331f",
      "dampingFactor": 0.25,
      "enableDamping": false,
      "enableKeys": true,
      "enablePan": true,
      "enableRotate": true,
      "enableZoom": true,
      "enabled": true,
      "keyPanSpeed": 7,
      "maxAzimuthAngle": "inf",
      "maxDistance": "inf",
      "maxPolarAngle": 3.141592653589793,
      "maxZoom": "inf",
      "minAzimuthAngle": "-inf",
      "minDistance": 0,
      "minPolarAngle": 0,
      "minZoom": 0,
      "panSpeed": 1,
      "rotateSpeed": 1,
      "screenSpacePanning": true,
      "target": [
       0,
       0,
       0
      ],
      "zoomSpeed": 1
     }
    },
    "26d6d50a2ede4617872f536ea8ca2544": {
     "model_module": "@jupyter-widgets/base",
     "model_module_version": "1.2.0",
     "model_name": "LayoutModel",
     "state": {
      "_model_module": "@jupyter-widgets/base",
      "_model_module_version": "1.2.0",
      "_model_name": "LayoutModel",
      "_view_count": null,
      "_view_module": "@jupyter-widgets/base",
      "_view_module_version": "1.2.0",
      "_view_name": "LayoutView",
      "align_content": null,
      "align_items": null,
      "align_self": null,
      "border": null,
      "bottom": null,
      "display": null,
      "flex": null,
      "flex_flow": null,
      "grid_area": null,
      "grid_auto_columns": null,
      "grid_auto_flow": null,
      "grid_auto_rows": null,
      "grid_column": null,
      "grid_gap": null,
      "grid_row": null,
      "grid_template_areas": null,
      "grid_template_columns": null,
      "grid_template_rows": null,
      "height": null,
      "justify_content": null,
      "justify_items": null,
      "left": null,
      "margin": null,
      "max_height": null,
      "max_width": null,
      "min_height": null,
      "min_width": null,
      "object_fit": null,
      "object_position": null,
      "order": null,
      "overflow": null,
      "overflow_x": null,
      "overflow_y": null,
      "padding": null,
      "right": null,
      "top": null,
      "visibility": null,
      "width": null
     }
    },
    "29b724bf4edf4329b97429f14dced9a6": {
     "model_module": "jupyter-threejs",
     "model_module_version": "^2.4.1",
     "model_name": "BufferAttributeModel",
     "state": {
      "_model_module": "jupyter-threejs",
      "_model_module_version": "^2.4.1",
      "_model_name": "BufferAttributeModel",
      "_view_count": null,
      "_view_module": null,
      "_view_module_version": "",
      "_view_name": null,
      "array": {
       "dtype": "float32",
       "shape": [
        1188,
        3
       ]
      },
      "dynamic": false,
      "needsUpdate": false,
      "normalized": true,
      "version": 1
     }
    },
    "2dedd0a43243425f8202597326a2a166": {
     "model_module": "@jupyter-widgets/controls",
     "model_module_version": "1.5.0",
     "model_name": "DescriptionStyleModel",
     "state": {
      "_model_module": "@jupyter-widgets/controls",
      "_model_module_version": "1.5.0",
      "_model_name": "DescriptionStyleModel",
      "_view_count": null,
      "_view_module": "@jupyter-widgets/base",
      "_view_module_version": "1.2.0",
      "_view_name": "StyleView",
      "description_width": ""
     }
    },
    "30f1eb6ac3c043ef8912eb6deb2dd337": {
     "model_module": "jupyter-threejs",
     "model_module_version": "^2.4.1",
     "model_name": "DirectionalLightModel",
     "state": {
      "_model_module": "jupyter-threejs",
      "_model_module_version": "^2.4.1",
      "_model_name": "DirectionalLightModel",
      "_view_count": null,
      "_view_module": null,
      "_view_module_version": "",
      "_view_name": null,
      "castShadow": false,
      "children": [],
      "color": "#ffffff",
      "frustumCulled": true,
      "intensity": 0.5,
      "matrix": [
       1,
       0,
       0,
       0,
       0,
       1,
       0,
       0,
       0,
       0,
       1,
       0,
       0,
       0,
       0,
       1
      ],
      "matrixAutoUpdate": true,
      "matrixWorld": [
       1,
       0,
       0,
       0,
       0,
       1,
       0,
       0,
       0,
       0,
       1,
       0,
       0,
       0,
       0,
       1
      ],
      "matrixWorldNeedsUpdate": true,
      "modelViewMatrix": [
       1,
       0,
       0,
       0,
       0,
       1,
       0,
       0,
       0,
       0,
       1,
       0,
       0,
       0,
       0,
       1
      ],
      "name": "",
      "normalMatrix": [
       1,
       0,
       0,
       0,
       1,
       0,
       0,
       0,
       1
      ],
      "position": [
       3.5,
       4.5,
       5.2
      ],
      "quaternion": [
       0,
       0,
       0,
       1
      ],
      "receiveShadow": false,
      "renderOrder": 0,
      "rotation": [
       0,
       0,
       0,
       "XYZ"
      ],
      "scale": [
       1,
       1,
       1
      ],
      "shadow": "IPY_MODEL_[object Object]",
      "target": "IPY_MODEL_[object Object]",
      "type": "DirectionalLight",
      "up": [
       0,
       1,
       0
      ],
      "visible": true
     }
    },
    "312ee7c9714b4020ab936cbfd41a9dff": {
     "model_module": "jupyter-threejs",
     "model_module_version": "^2.4.1",
     "model_name": "BufferGeometryModel",
     "state": {
      "MaxIndex": 65535,
      "_model_module": "jupyter-threejs",
      "_model_module_version": "^2.4.1",
      "_model_name": "BufferGeometryModel",
      "_ref_geometry": null,
      "_store_ref": false,
      "_view_count": null,
      "_view_module": null,
      "_view_module_version": "",
      "_view_name": null,
      "attributes": {
       "color": "IPY_MODEL_21619190fe9847c8a5a9bb6c7c0816c3",
       "normal": "IPY_MODEL_d7e6cdc3032a40c3b2b28f36ad412622",
       "position": "IPY_MODEL_757084b8d49b46aba62c5961346a200a"
      },
      "index": null,
      "morphAttributes": {},
      "name": "",
      "type": "BufferGeometry",
      "userData": {}
     }
    },
    "3229b542d7304bf29b17708fa986f4c8": {
     "model_module": "jupyter-threejs",
     "model_module_version": "^2.4.1",
     "model_name": "DirectionalLightModel",
     "state": {
      "_model_module": "jupyter-threejs",
      "_model_module_version": "^2.4.1",
      "_model_name": "DirectionalLightModel",
      "_view_count": null,
      "_view_module": null,
      "_view_module_version": "",
      "_view_name": null,
      "castShadow": false,
      "children": [],
      "color": "#ffffff",
      "frustumCulled": true,
      "intensity": 0.5,
      "matrix": [
       1,
       0,
       0,
       0,
       0,
       1,
       0,
       0,
       0,
       0,
       1,
       0,
       0,
       0,
       0,
       1
      ],
      "matrixAutoUpdate": true,
      "matrixWorld": [
       1,
       0,
       0,
       0,
       0,
       1,
       0,
       0,
       0,
       0,
       1,
       0,
       0,
       0,
       0,
       1
      ],
      "matrixWorldNeedsUpdate": true,
      "modelViewMatrix": [
       1,
       0,
       0,
       0,
       0,
       1,
       0,
       0,
       0,
       0,
       1,
       0,
       0,
       0,
       0,
       1
      ],
      "name": "",
      "normalMatrix": [
       1,
       0,
       0,
       0,
       1,
       0,
       0,
       0,
       1
      ],
      "position": [
       14.992619999999999,
       19.99016,
       24.9877
      ],
      "quaternion": [
       0,
       0,
       0,
       1
      ],
      "receiveShadow": false,
      "renderOrder": 0,
      "rotation": [
       0,
       0,
       0,
       "XYZ"
      ],
      "scale": [
       1,
       1,
       1
      ],
      "shadow": "IPY_MODEL_[object Object]",
      "target": "IPY_MODEL_[object Object]",
      "type": "DirectionalLight",
      "up": [
       0,
       1,
       0
      ],
      "visible": true
     }
    },
    "3243a96a234e403f814dece2b62e0947": {
     "model_module": "@jupyter-widgets/base",
     "model_module_version": "1.2.0",
     "model_name": "LayoutModel",
     "state": {
      "_model_module": "@jupyter-widgets/base",
      "_model_module_version": "1.2.0",
      "_model_name": "LayoutModel",
      "_view_count": null,
      "_view_module": "@jupyter-widgets/base",
      "_view_module_version": "1.2.0",
      "_view_name": "LayoutView",
      "align_content": null,
      "align_items": null,
      "align_self": null,
      "border": null,
      "bottom": null,
      "display": null,
      "flex": null,
      "flex_flow": null,
      "grid_area": null,
      "grid_auto_columns": null,
      "grid_auto_flow": null,
      "grid_auto_rows": null,
      "grid_column": null,
      "grid_gap": null,
      "grid_row": null,
      "grid_template_areas": null,
      "grid_template_columns": null,
      "grid_template_rows": null,
      "height": null,
      "justify_content": null,
      "justify_items": null,
      "left": null,
      "margin": null,
      "max_height": null,
      "max_width": null,
      "min_height": null,
      "min_width": null,
      "object_fit": null,
      "object_position": null,
      "order": null,
      "overflow": null,
      "overflow_x": null,
      "overflow_y": null,
      "padding": null,
      "right": null,
      "top": null,
      "visibility": null,
      "width": null
     }
    },
    "32c43b7f072b49b181779d420ea5808e": {
     "model_module": "@jupyter-widgets/base",
     "model_module_version": "1.2.0",
     "model_name": "LayoutModel",
     "state": {
      "_model_module": "@jupyter-widgets/base",
      "_model_module_version": "1.2.0",
      "_model_name": "LayoutModel",
      "_view_count": null,
      "_view_module": "@jupyter-widgets/base",
      "_view_module_version": "1.2.0",
      "_view_name": "LayoutView",
      "align_content": null,
      "align_items": null,
      "align_self": null,
      "border": null,
      "bottom": null,
      "display": null,
      "flex": null,
      "flex_flow": null,
      "grid_area": null,
      "grid_auto_columns": null,
      "grid_auto_flow": null,
      "grid_auto_rows": null,
      "grid_column": null,
      "grid_gap": null,
      "grid_row": null,
      "grid_template_areas": null,
      "grid_template_columns": null,
      "grid_template_rows": null,
      "height": null,
      "justify_content": null,
      "justify_items": null,
      "left": null,
      "margin": null,
      "max_height": null,
      "max_width": null,
      "min_height": null,
      "min_width": null,
      "object_fit": null,
      "object_position": null,
      "order": null,
      "overflow": null,
      "overflow_x": null,
      "overflow_y": null,
      "padding": null,
      "right": null,
      "top": null,
      "visibility": null,
      "width": null
     }
    },
    "33034efc0a0f4d18b77fb53492f3a91c": {
     "model_module": "jupyter-threejs",
     "model_module_version": "^2.4.1",
     "model_name": "BufferGeometryModel",
     "state": {
      "MaxIndex": 65535,
      "_model_module": "jupyter-threejs",
      "_model_module_version": "^2.4.1",
      "_model_name": "BufferGeometryModel",
      "_ref_geometry": null,
      "_store_ref": false,
      "_view_count": null,
      "_view_module": null,
      "_view_module_version": "",
      "_view_name": null,
      "attributes": {
       "color": "IPY_MODEL_e61b299c8d234dcb953c8e7586c665b3",
       "normal": "IPY_MODEL_ddd9ff6c25a24ade8ab478f278c5bea0",
       "position": "IPY_MODEL_533890f88daf48b6a6639f2187893142"
      },
      "index": null,
      "morphAttributes": {},
      "name": "",
      "type": "BufferGeometry",
      "userData": {}
     }
    },
    "34945a33ed1c4c96b6a457467011df26": {
     "model_module": "jupyter-threejs",
     "model_module_version": "^2.4.1",
     "model_name": "PerspectiveCameraModel",
     "state": {
      "_model_module": "jupyter-threejs",
      "_model_module_version": "^2.4.1",
      "_model_name": "PerspectiveCameraModel",
      "_view_count": null,
      "_view_module": null,
      "_view_module_version": "",
      "_view_name": null,
      "aspect": 1,
      "castShadow": false,
      "children": [
       "IPY_MODEL_30f1eb6ac3c043ef8912eb6deb2dd337"
      ],
      "far": 2000,
      "focus": 10,
      "fov": 20,
      "frustumCulled": true,
      "matrix": [
       1,
       0,
       0,
       0,
       0,
       1,
       0,
       0,
       0,
       0,
       1,
       0,
       4.5,
       4.5,
       4.2,
       1
      ],
      "matrixAutoUpdate": true,
      "matrixWorld": [
       1,
       0,
       0,
       0,
       0,
       1,
       0,
       0,
       0,
       0,
       1,
       0,
       0,
       0,
       0,
       1
      ],
      "matrixWorldInverse": [
       1,
       0,
       0,
       0,
       0,
       1,
       0,
       0,
       0,
       0,
       1,
       0,
       0,
       0,
       0,
       1
      ],
      "matrixWorldNeedsUpdate": false,
      "modelViewMatrix": [
       1,
       0,
       0,
       0,
       0,
       1,
       0,
       0,
       0,
       0,
       1,
       0,
       0,
       0,
       0,
       1
      ],
      "name": "",
      "near": 0.1,
      "normalMatrix": [
       1,
       0,
       0,
       0,
       1,
       0,
       0,
       0,
       1
      ],
      "position": [
       5.524819484196706,
       5.524819484196705,
       5.156498185250257
      ],
      "projectionMatrix": [
       5.67128181961771,
       0,
       0,
       0,
       0,
       5.67128181961771,
       0,
       0,
       0,
       0,
       -1.00010000500025,
       -1,
       0,
       0,
       -0.200010000500025,
       0
      ],
      "quaternion": [
       0.18135669612015226,
       0.4378337954004476,
       0.813544687278156,
       0.33698124306719063
      ],
      "receiveShadow": false,
      "renderOrder": 0,
      "rotation": [
       0,
       0,
       0,
       "XYZ"
      ],
      "scale": [
       1,
       1,
       1
      ],
      "type": "PerspectiveCamera",
      "up": [
       0,
       0,
       1
      ],
      "visible": true,
      "zoom": 1
     }
    },
    "37964d2bf0254d73a4daf798714192d2": {
     "model_module": "@jupyter-widgets/base",
     "model_module_version": "1.2.0",
     "model_name": "LayoutModel",
     "state": {
      "_model_module": "@jupyter-widgets/base",
      "_model_module_version": "1.2.0",
      "_model_name": "LayoutModel",
      "_view_count": null,
      "_view_module": "@jupyter-widgets/base",
      "_view_module_version": "1.2.0",
      "_view_name": "LayoutView",
      "align_content": null,
      "align_items": null,
      "align_self": null,
      "border": null,
      "bottom": null,
      "display": null,
      "flex": null,
      "flex_flow": null,
      "grid_area": null,
      "grid_auto_columns": null,
      "grid_auto_flow": null,
      "grid_auto_rows": null,
      "grid_column": null,
      "grid_gap": null,
      "grid_row": null,
      "grid_template_areas": null,
      "grid_template_columns": null,
      "grid_template_rows": null,
      "height": null,
      "justify_content": null,
      "justify_items": null,
      "left": null,
      "margin": null,
      "max_height": null,
      "max_width": null,
      "min_height": null,
      "min_width": null,
      "object_fit": null,
      "object_position": null,
      "order": null,
      "overflow": null,
      "overflow_x": null,
      "overflow_y": null,
      "padding": null,
      "right": null,
      "top": null,
      "visibility": null,
      "width": null
     }
    },
    "386f0069b5ef429fa976ef0e9bcb8e31": {
     "model_module": "jupyter-threejs",
     "model_module_version": "^2.4.1",
     "model_name": "SphereGeometryModel",
     "state": {
      "_model_module": "jupyter-threejs",
      "_model_module_version": "^2.4.1",
      "_model_name": "SphereGeometryModel",
      "_view_count": null,
      "_view_module": null,
      "_view_module_version": "",
      "_view_name": null,
      "heightSegments": 6,
      "name": "",
      "phiLength": 6.283185307179586,
      "phiStart": 0,
      "radius": 0.01,
      "thetaLength": 3.141592653589793,
      "thetaStart": 0,
      "type": "SphereGeometry",
      "widthSegments": 8
     }
    },
    "3cd15bfcd7024cdbbed9c813517ed0df": {
     "model_module": "jupyter-threejs",
     "model_module_version": "^2.4.1",
     "model_name": "MeshLambertMaterialModel",
     "state": {
      "_model_module": "jupyter-threejs",
      "_model_module_version": "^2.4.1",
      "_model_name": "MeshLambertMaterialModel",
      "_view_count": null,
      "_view_module": null,
      "_view_module_version": "",
      "_view_name": null,
      "alphaMap": null,
      "alphaTest": 0,
      "aoMap": null,
      "aoMapIntensity": 1,
      "blendDst": "OneMinusSrcAlphaFactor",
      "blendDstAlpha": 0,
      "blendEquation": "AddEquation",
      "blendEquationAlpha": 0,
      "blendSrc": "SrcAlphaFactor",
      "blendSrcAlpha": 0,
      "blending": "NormalBlending",
      "clipIntersection": false,
      "clipShadows": false,
      "clippingPlanes": [],
      "color": "#ffffff",
      "colorWrite": true,
      "combine": "MultiplyOperation",
      "defines": null,
      "depthFunc": "LessEqualDepth",
      "depthTest": true,
      "depthWrite": true,
      "dithering": false,
      "emissive": "#000000",
      "emissiveIntensity": 1,
      "emissiveMap": null,
      "envMap": null,
      "flatShading": false,
      "fog": true,
      "lightMap": null,
      "lightMapIntensity": 1,
      "lights": true,
      "map": null,
      "morphNormals": false,
      "morphTargets": false,
      "name": "",
      "opacity": 1,
      "overdraw": 0,
      "polygonOffset": false,
      "polygonOffsetFactor": 0,
      "polygonOffsetUnits": 0,
      "precision": null,
      "premultipliedAlpha": false,
      "reflectivity": 1,
      "refractionRatio": 0.98,
      "shadowSide": null,
      "side": "FrontSide",
      "skinning": false,
      "specularMap": null,
      "transparent": false,
      "type": "MeshLambertMaterial",
      "vertexColors": "NoColors",
      "visible": true,
      "wireframe": false,
      "wireframeLinecap": "round",
      "wireframeLinejoin": "round",
      "wireframeLinewidth": 1
     }
    },
    "3d6683604e6f4e0b963befd17421191a": {
     "model_module": "jupyter-threejs",
     "model_module_version": "^2.4.1",
     "model_name": "LineBasicMaterialModel",
     "state": {
      "_model_module": "jupyter-threejs",
      "_model_module_version": "^2.4.1",
      "_model_name": "LineBasicMaterialModel",
      "_view_count": null,
      "_view_module": null,
      "_view_module_version": "",
      "_view_name": null,
      "alphaTest": 0,
      "blendDst": "OneMinusSrcAlphaFactor",
      "blendDstAlpha": 0,
      "blendEquation": "AddEquation",
      "blendEquationAlpha": 0,
      "blendSrc": "SrcAlphaFactor",
      "blendSrcAlpha": 0,
      "blending": "NormalBlending",
      "clipIntersection": false,
      "clipShadows": false,
      "clippingPlanes": [],
      "color": "#ffffff",
      "colorWrite": true,
      "defines": null,
      "depthFunc": "LessEqualDepth",
      "depthTest": true,
      "depthWrite": true,
      "dithering": false,
      "flatShading": false,
      "fog": true,
      "lights": false,
      "linecap": "round",
      "linejoin": "round",
      "linewidth": 1,
      "name": "",
      "opacity": 0.5,
      "overdraw": 0,
      "polygonOffset": false,
      "polygonOffsetFactor": 0,
      "polygonOffsetUnits": 0,
      "precision": null,
      "premultipliedAlpha": false,
      "shadowSide": null,
      "side": "FrontSide",
      "transparent": true,
      "type": "LineBasicMaterial",
      "vertexColors": "VertexColors",
      "visible": true
     }
    },
    "3dcd5f3e2ef14d40b75126ef0a16735d": {
     "model_module": "@jupyter-widgets/controls",
     "model_module_version": "1.5.0",
     "model_name": "HTMLModel",
     "state": {
      "_dom_classes": [],
      "_model_module": "@jupyter-widgets/controls",
      "_model_module_version": "1.5.0",
      "_model_name": "HTMLModel",
      "_view_count": null,
      "_view_module": "@jupyter-widgets/controls",
      "_view_module_version": "1.5.0",
      "_view_name": "HTMLView",
      "description": "",
      "description_tooltip": null,
      "layout": "IPY_MODEL_579e2467dd9a4a9da02ea8c031a99dfb",
      "placeholder": "​",
      "style": "IPY_MODEL_55c1d8644c76497b989e7d7afb494dfc",
      "value": ""
     }
    },
    "3dd3e44ed1ae47aead169d3bc757935e": {
     "model_module": "jupyter-threejs",
     "model_module_version": "^2.4.1",
     "model_name": "MeshModel",
     "state": {
      "_model_module": "jupyter-threejs",
      "_model_module_version": "^2.4.1",
      "_model_name": "MeshModel",
      "_view_count": null,
      "_view_module": null,
      "_view_module_version": "",
      "_view_name": null,
      "castShadow": false,
      "children": [],
      "drawMode": "TrianglesDrawMode",
      "frustumCulled": true,
      "geometry": "IPY_MODEL_518c42ebaf7a413393e0a779e1b36dfd",
      "material": "IPY_MODEL_b609339bec604da0a39bff2dac46100f",
      "matrix": [
       1,
       0,
       0,
       0,
       0,
       1,
       0,
       0,
       0,
       0,
       1,
       0,
       0,
       0,
       0,
       1
      ],
      "matrixAutoUpdate": true,
      "matrixWorld": [
       1,
       0,
       0,
       0,
       0,
       1,
       0,
       0,
       0,
       0,
       1,
       0,
       0,
       0,
       0,
       1
      ],
      "matrixWorldNeedsUpdate": false,
      "modelViewMatrix": [
       1,
       0,
       0,
       0,
       0,
       1,
       0,
       0,
       0,
       0,
       1,
       0,
       0,
       0,
       0,
       1
      ],
      "morphTargetInfluences": [],
      "name": "",
      "normalMatrix": [
       1,
       0,
       0,
       0,
       1,
       0,
       0,
       0,
       1
      ],
      "position": [
       0,
       0,
       0
      ],
      "quaternion": [
       0,
       0,
       0,
       1
      ],
      "receiveShadow": false,
      "renderOrder": 0,
      "rotation": [
       0,
       0,
       0,
       "XYZ"
      ],
      "scale": [
       1,
       1,
       1
      ],
      "type": "Mesh",
      "up": [
       0,
       1,
       0
      ],
      "visible": true
     }
    },
    "3e09a3a73f204b1583c2ccf401db39c1": {
     "model_module": "@jupyter-widgets/controls",
     "model_module_version": "1.5.0",
     "model_name": "VBoxModel",
     "state": {
      "_dom_classes": [],
      "_model_module": "@jupyter-widgets/controls",
      "_model_module_version": "1.5.0",
      "_model_name": "VBoxModel",
      "_view_count": null,
      "_view_module": "@jupyter-widgets/controls",
      "_view_module_version": "1.5.0",
      "_view_name": "VBoxView",
      "box_style": "",
      "children": [
       "IPY_MODEL_44cc800c144748e294e73a4460489b31",
       "IPY_MODEL_bb7210c363df43749d02948500fda489",
       "IPY_MODEL_5d765db5fb424a029f785e3576f7d9af",
       "IPY_MODEL_7f27d9c923a04ddd8ed1c21bbb0e460b"
      ],
      "layout": "IPY_MODEL_3243a96a234e403f814dece2b62e0947"
     }
    },
    "40407722ec5f47f4ace2ed78fbb8f997": {
     "model_module": "jupyter-threejs",
     "model_module_version": "^2.4.1",
     "model_name": "AmbientLightModel",
     "state": {
      "_model_module": "jupyter-threejs",
      "_model_module_version": "^2.4.1",
      "_model_name": "AmbientLightModel",
      "_view_count": null,
      "_view_module": null,
      "_view_module_version": "",
      "_view_name": null,
      "castShadow": false,
      "children": [],
      "color": "#888888",
      "frustumCulled": true,
      "intensity": 1,
      "matrix": [
       1,
       0,
       0,
       0,
       0,
       1,
       0,
       0,
       0,
       0,
       1,
       0,
       0,
       0,
       0,
       1
      ],
      "matrixAutoUpdate": true,
      "matrixWorld": [
       1,
       0,
       0,
       0,
       0,
       1,
       0,
       0,
       0,
       0,
       1,
       0,
       0,
       0,
       0,
       1
      ],
      "matrixWorldNeedsUpdate": false,
      "modelViewMatrix": [
       1,
       0,
       0,
       0,
       0,
       1,
       0,
       0,
       0,
       0,
       1,
       0,
       0,
       0,
       0,
       1
      ],
      "name": "",
      "normalMatrix": [
       1,
       0,
       0,
       0,
       1,
       0,
       0,
       0,
       1
      ],
      "position": [
       0,
       0,
       0
      ],
      "quaternion": [
       0,
       0,
       0,
       1
      ],
      "receiveShadow": false,
      "renderOrder": 0,
      "rotation": [
       0,
       0,
       0,
       "XYZ"
      ],
      "scale": [
       1,
       1,
       1
      ],
      "type": "AmbientLight",
      "up": [
       0,
       1,
       0
      ],
      "visible": true
     }
    },
    "41fd63c20db84810bfcdfcce61fd753c": {
     "model_module": "@jupyter-widgets/controls",
     "model_module_version": "1.5.0",
     "model_name": "HTMLModel",
     "state": {
      "_dom_classes": [],
      "_model_module": "@jupyter-widgets/controls",
      "_model_module_version": "1.5.0",
      "_model_name": "HTMLModel",
      "_view_count": null,
      "_view_module": "@jupyter-widgets/controls",
      "_view_module_version": "1.5.0",
      "_view_name": "HTMLView",
      "description": "",
      "description_tooltip": null,
      "layout": "IPY_MODEL_e2c7e6bfacc541408bb7b416de277a27",
      "placeholder": "​",
      "style": "IPY_MODEL_b5a37eba36824171bf2699716bb47ec1",
      "value": "\n<svg width=\"600\" height=\"30\">\n<rect width=\"20\" height=\"20\" x=\"300\" y=\"0\" style=\"fill:none;stroke-width:1;stroke:rgb(0,255,0)\" />\n    <text x=\"325\" y=\"15\">=2.0</text>\n  Sorry, your browser does not support inline SVG.\n</svg>"
     }
    },
    "4240ca118fda42f1b35763434421b844": {
     "model_module": "@jupyter-widgets/controls",
     "model_module_version": "1.5.0",
     "model_name": "DescriptionStyleModel",
     "state": {
      "_model_module": "@jupyter-widgets/controls",
      "_model_module_version": "1.5.0",
      "_model_name": "DescriptionStyleModel",
      "_view_count": null,
      "_view_module": "@jupyter-widgets/base",
      "_view_module_version": "1.2.0",
      "_view_name": "StyleView",
      "description_width": ""
     }
    },
    "44cc800c144748e294e73a4460489b31": {
     "model_module": "@jupyter-widgets/controls",
     "model_module_version": "1.5.0",
     "model_name": "HTMLModel",
     "state": {
      "_dom_classes": [],
      "_model_module": "@jupyter-widgets/controls",
      "_model_module_version": "1.5.0",
      "_model_name": "HTMLModel",
      "_view_count": null,
      "_view_module": "@jupyter-widgets/controls",
      "_view_module_version": "1.5.0",
      "_view_name": "HTMLView",
      "description": "",
      "description_tooltip": null,
      "layout": "IPY_MODEL_007147dfc6c849eba464744ce47829cd",
      "placeholder": "​",
      "style": "IPY_MODEL_700d5afafe134cd6abd1905accdddf94",
      "value": ""
     }
    },
    "49fe111439cb48249ebf6a199ea925ee": {
     "model_module": "jupyter-threejs",
     "model_module_version": "^2.4.1",
     "model_name": "BufferAttributeModel",
     "state": {
      "_model_module": "jupyter-threejs",
      "_model_module_version": "^2.4.1",
      "_model_name": "BufferAttributeModel",
      "_view_count": null,
      "_view_module": null,
      "_view_module_version": "",
      "_view_name": null,
      "array": {
       "dtype": "float32",
       "shape": [
        29988,
        3
       ]
      },
      "dynamic": false,
      "needsUpdate": false,
      "normalized": true,
      "version": 1
     }
    },
    "4efcc0df07024c7c944a4e58db7fa6c3": {
     "model_module": "jupyter-threejs",
     "model_module_version": "^2.4.1",
     "model_name": "SphereGeometryModel",
     "state": {
      "_model_module": "jupyter-threejs",
      "_model_module_version": "^2.4.1",
      "_model_name": "SphereGeometryModel",
      "_view_count": null,
      "_view_module": null,
      "_view_module_version": "",
      "_view_name": null,
      "heightSegments": 6,
      "name": "",
      "phiLength": 6.283185307179586,
      "phiStart": 0,
      "radius": 0.001,
      "thetaLength": 3.141592653589793,
      "thetaStart": 0,
      "type": "SphereGeometry",
      "widthSegments": 8
     }
    },
    "4fe8ab4b61ba4fdbb73000b177c4780d": {
     "model_module": "@jupyter-widgets/output",
     "model_module_version": "1.0.0",
     "model_name": "OutputModel",
     "state": {
      "_dom_classes": [],
      "_model_module": "@jupyter-widgets/output",
      "_model_module_version": "1.0.0",
      "_model_name": "OutputModel",
      "_view_count": null,
      "_view_module": "@jupyter-widgets/output",
      "_view_module_version": "1.0.0",
      "_view_name": "OutputView",
      "layout": "IPY_MODEL_96fda11819c94cdbb2783ff76d441643",
      "msg_id": "",
      "outputs": []
     }
    },
    "500c3263243349339738f3df15f1f603": {
     "model_module": "jupyter-threejs",
     "model_module_version": "^2.4.1",
     "model_name": "LineSegmentsModel",
     "state": {
      "_model_module": "jupyter-threejs",
      "_model_module_version": "^2.4.1",
      "_model_name": "LineSegmentsModel",
      "_view_count": null,
      "_view_module": null,
      "_view_module_version": "",
      "_view_name": null,
      "castShadow": false,
      "children": [],
      "frustumCulled": true,
      "geometry": "IPY_MODEL_312ee7c9714b4020ab936cbfd41a9dff",
      "material": "IPY_MODEL_9b515ad3dac145c68943b4b6a8a26ca1",
      "matrix": [
       1,
       0,
       0,
       0,
       0,
       1,
       0,
       0,
       0,
       0,
       1,
       0,
       0,
       0,
       0,
       1
      ],
      "matrixAutoUpdate": true,
      "matrixWorld": [
       1,
       0,
       0,
       0,
       0,
       1,
       0,
       0,
       0,
       0,
       1,
       0,
       0,
       0,
       0,
       1
      ],
      "matrixWorldNeedsUpdate": false,
      "modelViewMatrix": [
       1,
       0,
       0,
       0,
       0,
       1,
       0,
       0,
       0,
       0,
       1,
       0,
       0,
       0,
       0,
       1
      ],
      "name": "",
      "normalMatrix": [
       1,
       0,
       0,
       0,
       1,
       0,
       0,
       0,
       1
      ],
      "position": [
       0,
       0,
       0
      ],
      "quaternion": [
       0,
       0,
       0,
       1
      ],
      "receiveShadow": false,
      "renderOrder": 0,
      "rotation": [
       0,
       0,
       0,
       "XYZ"
      ],
      "scale": [
       1,
       1,
       1
      ],
      "type": "LineSegments",
      "up": [
       0,
       1,
       0
      ],
      "visible": true
     }
    },
    "51789af96ee94eedbdc4e743a09e31f6": {
     "model_module": "jupyter-threejs",
     "model_module_version": "^2.4.1",
     "model_name": "PickerModel",
     "state": {
      "_model_module": "jupyter-threejs",
      "_model_module_version": "^2.4.1",
      "_model_name": "PickerModel",
      "_view_count": null,
      "_view_module": null,
      "_view_module_version": "",
      "_view_name": null,
      "all": false,
      "controlling": "IPY_MODEL_f50ffe5794424eea9187bd45df84ff14",
      "distance": null,
      "event": "dblclick",
      "face": [
       0,
       0,
       0
      ],
      "faceIndex": null,
      "faceNormal": [
       0,
       0,
       0
      ],
      "faceVertices": [],
      "index": null,
      "indices": [],
      "instanceId": null,
      "lineThreshold": 1,
      "modifiers": [],
      "object": null,
      "picked": [],
      "point": [
       0,
       0,
       0
      ],
      "pointThreshold": 1,
      "uv": [
       0,
       0
      ]
     }
    },
    "518c42ebaf7a413393e0a779e1b36dfd": {
     "model_module": "jupyter-threejs",
     "model_module_version": "^2.4.1",
     "model_name": "SphereGeometryModel",
     "state": {
      "_model_module": "jupyter-threejs",
      "_model_module_version": "^2.4.1",
      "_model_name": "SphereGeometryModel",
      "_view_count": null,
      "_view_module": null,
      "_view_module_version": "",
      "_view_name": null,
      "heightSegments": 6,
      "name": "",
      "phiLength": 6.283185307179586,
      "phiStart": 0,
      "radius": 0.01,
      "thetaLength": 3.141592653589793,
      "thetaStart": 0,
      "type": "SphereGeometry",
      "widthSegments": 8
     }
    },
    "521f6f29bb3740f9859f2c9031c00da0": {
     "model_module": "jupyter-threejs",
     "model_module_version": "^2.4.1",
     "model_name": "OrbitControlsModel",
     "state": {
      "_model_module": "jupyter-threejs",
      "_model_module_version": "^2.4.1",
      "_model_name": "OrbitControlsModel",
      "_view_count": null,
      "_view_module": null,
      "_view_module_version": "",
      "_view_name": null,
      "autoRotate": false,
      "autoRotateSpeed": 2,
      "controlling": "IPY_MODEL_34945a33ed1c4c96b6a457467011df26",
      "dampingFactor": 0.25,
      "enableDamping": false,
      "enableKeys": true,
      "enablePan": true,
      "enableRotate": true,
      "enableZoom": true,
      "enabled": true,
      "keyPanSpeed": 7,
      "maxAzimuthAngle": "inf",
      "maxDistance": "inf",
      "maxPolarAngle": 3.141592653589793,
      "maxZoom": "inf",
      "minAzimuthAngle": "-inf",
      "minDistance": 0,
      "minPolarAngle": 0,
      "minZoom": 0,
      "panSpeed": 1,
      "rotateSpeed": 1,
      "screenSpacePanning": true,
      "target": [
       0,
       0,
       0
      ],
      "zoomSpeed": 1
     }
    },
    "533890f88daf48b6a6639f2187893142": {
     "model_module": "jupyter-threejs",
     "model_module_version": "^2.4.1",
     "model_name": "BufferAttributeModel",
     "state": {
      "_model_module": "jupyter-threejs",
      "_model_module_version": "^2.4.1",
      "_model_name": "BufferAttributeModel",
      "_view_count": null,
      "_view_module": null,
      "_view_module_version": "",
      "_view_name": null,
      "array": {
       "dtype": "float32",
       "shape": [
        18,
        3
       ]
      },
      "dynamic": false,
      "needsUpdate": false,
      "normalized": true,
      "version": 1
     }
    },
    "55c1d8644c76497b989e7d7afb494dfc": {
     "model_module": "@jupyter-widgets/controls",
     "model_module_version": "1.5.0",
     "model_name": "DescriptionStyleModel",
     "state": {
      "_model_module": "@jupyter-widgets/controls",
      "_model_module_version": "1.5.0",
      "_model_name": "DescriptionStyleModel",
      "_view_count": null,
      "_view_module": "@jupyter-widgets/base",
      "_view_module_version": "1.2.0",
      "_view_name": "StyleView",
      "description_width": ""
     }
    },
    "55c5647be73c46a5bd569221759b5fba": {
     "model_module": "jupyter-threejs",
     "model_module_version": "^2.4.1",
     "model_name": "MeshModel",
     "state": {
      "_model_module": "jupyter-threejs",
      "_model_module_version": "^2.4.1",
      "_model_name": "MeshModel",
      "_view_count": null,
      "_view_module": null,
      "_view_module_version": "",
      "_view_name": null,
      "castShadow": false,
      "children": [],
      "drawMode": "TrianglesDrawMode",
      "frustumCulled": true,
      "geometry": "IPY_MODEL_6c59afd629e8430c8cd9efa2fd233ace",
      "material": "IPY_MODEL_5d0413e2d21248139cc0582293a715a6",
      "matrix": [
       1,
       0,
       0,
       0,
       0,
       1,
       0,
       0,
       0,
       0,
       1,
       0,
       0,
       0,
       0,
       1
      ],
      "matrixAutoUpdate": true,
      "matrixWorld": [
       1,
       0,
       0,
       0,
       0,
       1,
       0,
       0,
       0,
       0,
       1,
       0,
       0,
       0,
       0,
       1
      ],
      "matrixWorldNeedsUpdate": false,
      "modelViewMatrix": [
       1,
       0,
       0,
       0,
       0,
       1,
       0,
       0,
       0,
       0,
       1,
       0,
       0,
       0,
       0,
       1
      ],
      "morphTargetInfluences": [],
      "name": "",
      "normalMatrix": [
       1,
       0,
       0,
       0,
       1,
       0,
       0,
       0,
       1
      ],
      "position": [
       0,
       0,
       0
      ],
      "quaternion": [
       0,
       0,
       0,
       1
      ],
      "receiveShadow": false,
      "renderOrder": 0,
      "rotation": [
       0,
       0,
       0,
       "XYZ"
      ],
      "scale": [
       1,
       1,
       1
      ],
      "type": "Mesh",
      "up": [
       0,
       1,
       0
      ],
      "visible": true
     }
    },
    "579e2467dd9a4a9da02ea8c031a99dfb": {
     "model_module": "@jupyter-widgets/base",
     "model_module_version": "1.2.0",
     "model_name": "LayoutModel",
     "state": {
      "_model_module": "@jupyter-widgets/base",
      "_model_module_version": "1.2.0",
      "_model_name": "LayoutModel",
      "_view_count": null,
      "_view_module": "@jupyter-widgets/base",
      "_view_module_version": "1.2.0",
      "_view_name": "LayoutView",
      "align_content": null,
      "align_items": null,
      "align_self": null,
      "border": null,
      "bottom": null,
      "display": null,
      "flex": null,
      "flex_flow": null,
      "grid_area": null,
      "grid_auto_columns": null,
      "grid_auto_flow": null,
      "grid_auto_rows": null,
      "grid_column": null,
      "grid_gap": null,
      "grid_row": null,
      "grid_template_areas": null,
      "grid_template_columns": null,
      "grid_template_rows": null,
      "height": null,
      "justify_content": null,
      "justify_items": null,
      "left": null,
      "margin": null,
      "max_height": null,
      "max_width": null,
      "min_height": null,
      "min_width": null,
      "object_fit": null,
      "object_position": null,
      "order": null,
      "overflow": null,
      "overflow_x": null,
      "overflow_y": null,
      "padding": null,
      "right": null,
      "top": null,
      "visibility": null,
      "width": null
     }
    },
    "5a481e07c39644459f00847bd786a6ab": {
     "model_module": "jupyter-threejs",
     "model_module_version": "^2.4.1",
     "model_name": "MeshModel",
     "state": {
      "_model_module": "jupyter-threejs",
      "_model_module_version": "^2.4.1",
      "_model_name": "MeshModel",
      "_view_count": null,
      "_view_module": null,
      "_view_module_version": "",
      "_view_name": null,
      "castShadow": false,
      "children": [],
      "drawMode": "TrianglesDrawMode",
      "frustumCulled": true,
      "geometry": "IPY_MODEL_1466af0885a74af09b43d07bba1dbb71",
      "material": "IPY_MODEL_923f41edff5247abb121133ac4733c03",
      "matrix": [
       0,
       0,
       0,
       0,
       0,
       0,
       0,
       0,
       0,
       0,
       0,
       0,
       10,
       0,
       5,
       1
      ],
      "matrixAutoUpdate": true,
      "matrixWorld": [
       1,
       0,
       0,
       0,
       0,
       1,
       0,
       0,
       0,
       0,
       1,
       0,
       0,
       0,
       0,
       1
      ],
      "matrixWorldNeedsUpdate": false,
      "modelViewMatrix": [
       1,
       0,
       0,
       0,
       0,
       1,
       0,
       0,
       0,
       0,
       1,
       0,
       0,
       0,
       0,
       1
      ],
      "morphTargetInfluences": [],
      "name": "",
      "normalMatrix": [
       1,
       0,
       0,
       0,
       1,
       0,
       0,
       0,
       1
      ],
      "position": [
       10,
       0,
       5
      ],
      "quaternion": [
       0,
       0,
       0,
       1
      ],
      "receiveShadow": false,
      "renderOrder": 0,
      "rotation": [
       0,
       0,
       0,
       "XYZ"
      ],
      "scale": [
       0,
       0,
       0
      ],
      "type": "Mesh",
      "up": [
       0,
       1,
       0
      ],
      "visible": true
     }
    },
    "5a9bc77f343d4163bd4ddbbc743fd692": {
     "model_module": "jupyter-threejs",
     "model_module_version": "^2.4.1",
     "model_name": "RendererModel",
     "state": {
      "_alpha": false,
      "_antialias": false,
      "_dom_classes": [],
      "_height": 600,
      "_model_module": "jupyter-threejs",
      "_model_module_version": "^2.4.1",
      "_model_name": "RendererModel",
      "_pause_autorender": false,
      "_view_count": null,
      "_view_module": "jupyter-threejs",
      "_view_module_version": "^2.4.1",
      "_view_name": "RendererView",
      "_webgl_version": 2,
      "_width": 600,
      "autoClear": true,
      "autoClearColor": true,
      "autoClearDepth": true,
      "autoClearStencil": true,
      "background": "#cccc88",
      "background_opacity": 0,
      "camera": "IPY_MODEL_fc64775db07b4bec83b8d7af129b331f",
      "clearColor": "#000000",
      "clearOpacity": 1,
      "clippingPlanes": [],
      "controls": [
       "IPY_MODEL_21d5a0616c51493aade6466d8bd5de2e",
       "IPY_MODEL_aa1b151bd4854074afb668382b7465e0"
      ],
      "gammaFactor": 2,
      "gammaInput": false,
      "gammaOutput": false,
      "layout": "IPY_MODEL_c61938f770e9459e8ca2ac018f8dfcf7",
      "localClippingEnabled": false,
      "maxMorphNormals": 4,
      "maxMorphTargets": 8,
      "physicallyCorrectLights": false,
      "scene": "IPY_MODEL_cc86458070e744229cd063ab99e6888e",
      "shadowMap": "IPY_MODEL_e9fb12eeccb9492f86877717e1c60024",
      "sortObject": true,
      "toneMapping": "LinearToneMapping",
      "toneMappingExposure": 1,
      "toneMappingWhitePoint": 1
     }
    },
    "5aadcaef061940ceaa6cd6af79827bc7": {
     "model_module": "jupyter-threejs",
     "model_module_version": "^2.4.1",
     "model_name": "LineBasicMaterialModel",
     "state": {
      "_model_module": "jupyter-threejs",
      "_model_module_version": "^2.4.1",
      "_model_name": "LineBasicMaterialModel",
      "_view_count": null,
      "_view_module": null,
      "_view_module_version": "",
      "_view_name": null,
      "alphaTest": 0,
      "blendDst": "OneMinusSrcAlphaFactor",
      "blendDstAlpha": 0,
      "blendEquation": "AddEquation",
      "blendEquationAlpha": 0,
      "blendSrc": "SrcAlphaFactor",
      "blendSrcAlpha": 0,
      "blending": "NormalBlending",
      "clipIntersection": false,
      "clipShadows": false,
      "clippingPlanes": [],
      "color": "#ffffff",
      "colorWrite": true,
      "defines": null,
      "depthFunc": "LessEqualDepth",
      "depthTest": true,
      "depthWrite": true,
      "dithering": false,
      "flatShading": false,
      "fog": true,
      "lights": false,
      "linecap": "round",
      "linejoin": "round",
      "linewidth": 1,
      "name": "",
      "opacity": 0.5,
      "overdraw": 0,
      "polygonOffset": false,
      "polygonOffsetFactor": 0,
      "polygonOffsetUnits": 0,
      "precision": null,
      "premultipliedAlpha": false,
      "shadowSide": null,
      "side": "FrontSide",
      "transparent": true,
      "type": "LineBasicMaterial",
      "vertexColors": "VertexColors",
      "visible": true
     }
    },
    "5b36c58e922e4786a641ef24e14b5029": {
     "model_module": "jupyter-threejs",
     "model_module_version": "^2.4.1",
     "model_name": "SphereGeometryModel",
     "state": {
      "_model_module": "jupyter-threejs",
      "_model_module_version": "^2.4.1",
      "_model_name": "SphereGeometryModel",
      "_view_count": null,
      "_view_module": null,
      "_view_module_version": "",
      "_view_name": null,
      "heightSegments": 6,
      "name": "",
      "phiLength": 6.283185307179586,
      "phiStart": 0,
      "radius": 0.001,
      "thetaLength": 3.141592653589793,
      "thetaStart": 0,
      "type": "SphereGeometry",
      "widthSegments": 8
     }
    },
    "5bb77c00bdbf41499ba8449f7a1cac10": {
     "model_module": "@jupyter-widgets/controls",
     "model_module_version": "1.5.0",
     "model_name": "DescriptionStyleModel",
     "state": {
      "_model_module": "@jupyter-widgets/controls",
      "_model_module_version": "1.5.0",
      "_model_name": "DescriptionStyleModel",
      "_view_count": null,
      "_view_module": "@jupyter-widgets/base",
      "_view_module_version": "1.2.0",
      "_view_name": "StyleView",
      "description_width": ""
     }
    },
    "5c35d0cdc37f450fa786a89164e06b1e": {
     "model_module": "@jupyter-widgets/output",
     "model_module_version": "1.0.0",
     "model_name": "OutputModel",
     "state": {
      "_dom_classes": [],
      "_model_module": "@jupyter-widgets/output",
      "_model_module_version": "1.0.0",
      "_model_name": "OutputModel",
      "_view_count": null,
      "_view_module": "@jupyter-widgets/output",
      "_view_module_version": "1.0.0",
      "_view_name": "OutputView",
      "layout": "IPY_MODEL_b24a2e1457e34e99b84096ab6cc774a2",
      "msg_id": "",
      "outputs": []
     }
    },
    "5d0413e2d21248139cc0582293a715a6": {
     "model_module": "jupyter-threejs",
     "model_module_version": "^2.4.1",
     "model_name": "MeshLambertMaterialModel",
     "state": {
      "_model_module": "jupyter-threejs",
      "_model_module_version": "^2.4.1",
      "_model_name": "MeshLambertMaterialModel",
      "_view_count": null,
      "_view_module": null,
      "_view_module_version": "",
      "_view_name": null,
      "alphaMap": null,
      "alphaTest": 0,
      "aoMap": null,
      "aoMapIntensity": 1,
      "blendDst": "OneMinusSrcAlphaFactor",
      "blendDstAlpha": 0,
      "blendEquation": "AddEquation",
      "blendEquationAlpha": 0,
      "blendSrc": "SrcAlphaFactor",
      "blendSrcAlpha": 0,
      "blending": "NormalBlending",
      "clipIntersection": false,
      "clipShadows": false,
      "clippingPlanes": [],
      "color": "#ffffff",
      "colorWrite": true,
      "combine": "MultiplyOperation",
      "defines": null,
      "depthFunc": "LessEqualDepth",
      "depthTest": true,
      "depthWrite": true,
      "dithering": false,
      "emissive": "#000000",
      "emissiveIntensity": 1,
      "emissiveMap": null,
      "envMap": null,
      "flatShading": false,
      "fog": true,
      "lightMap": null,
      "lightMapIntensity": 1,
      "lights": true,
      "map": null,
      "morphNormals": false,
      "morphTargets": false,
      "name": "",
      "opacity": 1,
      "overdraw": 0,
      "polygonOffset": false,
      "polygonOffsetFactor": 0,
      "polygonOffsetUnits": 0,
      "precision": null,
      "premultipliedAlpha": false,
      "reflectivity": 1,
      "refractionRatio": 0.98,
      "shadowSide": null,
      "side": "FrontSide",
      "skinning": false,
      "specularMap": null,
      "transparent": false,
      "type": "MeshLambertMaterial",
      "vertexColors": "NoColors",
      "visible": true,
      "wireframe": false,
      "wireframeLinecap": "round",
      "wireframeLinejoin": "round",
      "wireframeLinewidth": 1
     }
    },
    "5d765db5fb424a029f785e3576f7d9af": {
     "model_module": "@jupyter-widgets/output",
     "model_module_version": "1.0.0",
     "model_name": "OutputModel",
     "state": {
      "_dom_classes": [],
      "_model_module": "@jupyter-widgets/output",
      "_model_module_version": "1.0.0",
      "_model_name": "OutputModel",
      "_view_count": null,
      "_view_module": "@jupyter-widgets/output",
      "_view_module_version": "1.0.0",
      "_view_name": "OutputView",
      "layout": "IPY_MODEL_e45f9c479115474188978272cbbfd643",
      "msg_id": "",
      "outputs": []
     }
    },
    "5dbabdd5b81240bc8a75339f30cfff01": {
     "model_module": "@jupyter-widgets/controls",
     "model_module_version": "1.5.0",
     "model_name": "HTMLModel",
     "state": {
      "_dom_classes": [],
      "_model_module": "@jupyter-widgets/controls",
      "_model_module_version": "1.5.0",
      "_model_name": "HTMLModel",
      "_view_count": null,
      "_view_module": "@jupyter-widgets/controls",
      "_view_module_version": "1.5.0",
      "_view_name": "HTMLView",
      "description": "",
      "description_tooltip": null,
      "layout": "IPY_MODEL_1cff22ad0b2d41959267f9afe84becf4",
      "placeholder": "​",
      "style": "IPY_MODEL_6cbb2f5066ea45e7bc787967812d74d1",
      "value": "\n<svg width=\"600\" height=\"30\">\n<rect width=\"20\" height=\"20\" x=\"300\" y=\"0\" style=\"fill:none;stroke-width:1;stroke:rgb(0,255,0)\" />\n    <text x=\"325\" y=\"15\">=0.2</text>\n  Sorry, your browser does not support inline SVG.\n</svg>"
     }
    },
    "5fc898e1ba6048e38677a651a7ce5c07": {
     "model_module": "jupyter-threejs",
     "model_module_version": "^2.4.1",
     "model_name": "WebGLShadowMapModel",
     "state": {
      "_model_module": "jupyter-threejs",
      "_model_module_version": "^2.4.1",
      "_model_name": "WebGLShadowMapModel",
      "_view_count": null,
      "_view_module": null,
      "_view_module_version": "",
      "_view_name": null,
      "enabled": false,
      "type": "PCFShadowMap"
     }
    },
    "65c1128954b54c95b34a3d35c9aa94fb": {
     "model_module": "@jupyter-widgets/controls",
     "model_module_version": "1.5.0",
     "model_name": "HTMLModel",
     "state": {
      "_dom_classes": [],
      "_model_module": "@jupyter-widgets/controls",
      "_model_module_version": "1.5.0",
      "_model_name": "HTMLModel",
      "_view_count": null,
      "_view_module": "@jupyter-widgets/controls",
      "_view_module_version": "1.5.0",
      "_view_name": "HTMLView",
      "description": "",
      "description_tooltip": null,
      "layout": "IPY_MODEL_66ead48ea9e748af9ae95e1b882bf77c",
      "placeholder": "​",
      "style": "IPY_MODEL_5bb77c00bdbf41499ba8449f7a1cac10",
      "value": "\n<svg width=\"600\" height=\"30\">\n<rect width=\"20\" height=\"20\" x=\"300\" y=\"0\" style=\"fill:none;stroke-width:1;stroke:rgb(0,255,0)\" />\n    <text x=\"325\" y=\"15\">=2.0</text>\n  Sorry, your browser does not support inline SVG.\n</svg>"
     }
    },
    "6646e7affb37415196cbbadf0f92b279": {
     "model_module": "@jupyter-widgets/controls",
     "model_module_version": "1.5.0",
     "model_name": "HTMLModel",
     "state": {
      "_dom_classes": [],
      "_model_module": "@jupyter-widgets/controls",
      "_model_module_version": "1.5.0",
      "_model_name": "HTMLModel",
      "_view_count": null,
      "_view_module": "@jupyter-widgets/controls",
      "_view_module_version": "1.5.0",
      "_view_name": "HTMLView",
      "description": "",
      "description_tooltip": null,
      "layout": "IPY_MODEL_6829ed1f8d204e01a0f017f141068bbf",
      "placeholder": "​",
      "style": "IPY_MODEL_4240ca118fda42f1b35763434421b844",
      "value": ""
     }
    },
    "66ead48ea9e748af9ae95e1b882bf77c": {
     "model_module": "@jupyter-widgets/base",
     "model_module_version": "1.2.0",
     "model_name": "LayoutModel",
     "state": {
      "_model_module": "@jupyter-widgets/base",
      "_model_module_version": "1.2.0",
      "_model_name": "LayoutModel",
      "_view_count": null,
      "_view_module": "@jupyter-widgets/base",
      "_view_module_version": "1.2.0",
      "_view_name": "LayoutView",
      "align_content": null,
      "align_items": null,
      "align_self": null,
      "border": null,
      "bottom": null,
      "display": null,
      "flex": null,
      "flex_flow": null,
      "grid_area": null,
      "grid_auto_columns": null,
      "grid_auto_flow": null,
      "grid_auto_rows": null,
      "grid_column": null,
      "grid_gap": null,
      "grid_row": null,
      "grid_template_areas": null,
      "grid_template_columns": null,
      "grid_template_rows": null,
      "height": null,
      "justify_content": null,
      "justify_items": null,
      "left": null,
      "margin": null,
      "max_height": null,
      "max_width": null,
      "min_height": null,
      "min_width": null,
      "object_fit": null,
      "object_position": null,
      "order": null,
      "overflow": null,
      "overflow_x": null,
      "overflow_y": null,
      "padding": null,
      "right": null,
      "top": null,
      "visibility": null,
      "width": null
     }
    },
    "6829ed1f8d204e01a0f017f141068bbf": {
     "model_module": "@jupyter-widgets/base",
     "model_module_version": "1.2.0",
     "model_name": "LayoutModel",
     "state": {
      "_model_module": "@jupyter-widgets/base",
      "_model_module_version": "1.2.0",
      "_model_name": "LayoutModel",
      "_view_count": null,
      "_view_module": "@jupyter-widgets/base",
      "_view_module_version": "1.2.0",
      "_view_name": "LayoutView",
      "align_content": null,
      "align_items": null,
      "align_self": null,
      "border": null,
      "bottom": null,
      "display": null,
      "flex": null,
      "flex_flow": null,
      "grid_area": null,
      "grid_auto_columns": null,
      "grid_auto_flow": null,
      "grid_auto_rows": null,
      "grid_column": null,
      "grid_gap": null,
      "grid_row": null,
      "grid_template_areas": null,
      "grid_template_columns": null,
      "grid_template_rows": null,
      "height": null,
      "justify_content": null,
      "justify_items": null,
      "left": null,
      "margin": null,
      "max_height": null,
      "max_width": null,
      "min_height": null,
      "min_width": null,
      "object_fit": null,
      "object_position": null,
      "order": null,
      "overflow": null,
      "overflow_x": null,
      "overflow_y": null,
      "padding": null,
      "right": null,
      "top": null,
      "visibility": null,
      "width": null
     }
    },
    "69bb996fc4d3480aaf9af729f9b4974c": {
     "model_module": "jupyter-threejs",
     "model_module_version": "^2.4.1",
     "model_name": "PerspectiveCameraModel",
     "state": {
      "_model_module": "jupyter-threejs",
      "_model_module_version": "^2.4.1",
      "_model_name": "PerspectiveCameraModel",
      "_view_count": null,
      "_view_module": null,
      "_view_module_version": "",
      "_view_name": null,
      "aspect": 1,
      "castShadow": false,
      "children": [
       "IPY_MODEL_96fc6e24796445f5a8e260898ec3e724"
      ],
      "far": 2000,
      "focus": 10,
      "fov": 20,
      "frustumCulled": true,
      "matrix": [
       1,
       0,
       0,
       0,
       0,
       1,
       0,
       0,
       0,
       0,
       1,
       0,
       80,
       80,
       82.5,
       1
      ],
      "matrixAutoUpdate": true,
      "matrixWorld": [
       1,
       0,
       0,
       0,
       0,
       1,
       0,
       0,
       0,
       0,
       1,
       0,
       0,
       0,
       0,
       1
      ],
      "matrixWorldInverse": [
       1,
       0,
       0,
       0,
       0,
       1,
       0,
       0,
       0,
       0,
       1,
       0,
       0,
       0,
       0,
       1
      ],
      "matrixWorldNeedsUpdate": false,
      "modelViewMatrix": [
       1,
       0,
       0,
       0,
       0,
       1,
       0,
       0,
       0,
       0,
       1,
       0,
       0,
       0,
       0,
       1
      ],
      "name": "",
      "near": 0.1,
      "normalMatrix": [
       1,
       0,
       0,
       0,
       1,
       0,
       0,
       0,
       1
      ],
      "position": [
       80,
       80,
       82.5
      ],
      "projectionMatrix": [
       5.67128181961771,
       0,
       0,
       0,
       0,
       5.67128181961771,
       0,
       0,
       0,
       0,
       -1.00010000500025,
       -1,
       0,
       0,
       -0.200010000500025,
       0
      ],
      "quaternion": [
       0,
       0,
       0,
       1
      ],
      "receiveShadow": false,
      "renderOrder": 0,
      "rotation": [
       0,
       0,
       0,
       "XYZ"
      ],
      "scale": [
       1,
       1,
       1
      ],
      "type": "PerspectiveCamera",
      "up": [
       0,
       0,
       1
      ],
      "visible": true,
      "zoom": 1
     }
    },
    "6ab82b8036ab45a4b2a22b180b4012ce": {
     "model_module": "@jupyter-widgets/base",
     "model_module_version": "1.2.0",
     "model_name": "LayoutModel",
     "state": {
      "_model_module": "@jupyter-widgets/base",
      "_model_module_version": "1.2.0",
      "_model_name": "LayoutModel",
      "_view_count": null,
      "_view_module": "@jupyter-widgets/base",
      "_view_module_version": "1.2.0",
      "_view_name": "LayoutView",
      "align_content": null,
      "align_items": null,
      "align_self": null,
      "border": null,
      "bottom": null,
      "display": null,
      "flex": null,
      "flex_flow": null,
      "grid_area": null,
      "grid_auto_columns": null,
      "grid_auto_flow": null,
      "grid_auto_rows": null,
      "grid_column": null,
      "grid_gap": null,
      "grid_row": null,
      "grid_template_areas": null,
      "grid_template_columns": null,
      "grid_template_rows": null,
      "height": null,
      "justify_content": null,
      "justify_items": null,
      "left": null,
      "margin": null,
      "max_height": null,
      "max_width": null,
      "min_height": null,
      "min_width": null,
      "object_fit": null,
      "object_position": null,
      "order": null,
      "overflow": null,
      "overflow_x": null,
      "overflow_y": null,
      "padding": null,
      "right": null,
      "top": null,
      "visibility": null,
      "width": null
     }
    },
    "6c59afd629e8430c8cd9efa2fd233ace": {
     "model_module": "jupyter-threejs",
     "model_module_version": "^2.4.1",
     "model_name": "SphereGeometryModel",
     "state": {
      "_model_module": "jupyter-threejs",
      "_model_module_version": "^2.4.1",
      "_model_name": "SphereGeometryModel",
      "_view_count": null,
      "_view_module": null,
      "_view_module_version": "",
      "_view_name": null,
      "heightSegments": 6,
      "name": "",
      "phiLength": 6.283185307179586,
      "phiStart": 0,
      "radius": 0.001,
      "thetaLength": 3.141592653589793,
      "thetaStart": 0,
      "type": "SphereGeometry",
      "widthSegments": 8
     }
    },
    "6cbb2f5066ea45e7bc787967812d74d1": {
     "model_module": "@jupyter-widgets/controls",
     "model_module_version": "1.5.0",
     "model_name": "DescriptionStyleModel",
     "state": {
      "_model_module": "@jupyter-widgets/controls",
      "_model_module_version": "1.5.0",
      "_model_name": "DescriptionStyleModel",
      "_view_count": null,
      "_view_module": "@jupyter-widgets/base",
      "_view_module_version": "1.2.0",
      "_view_name": "StyleView",
      "description_width": ""
     }
    },
    "6fb03057297f4869a5a3384e394fc30c": {
     "model_module": "@jupyter-widgets/controls",
     "model_module_version": "1.5.0",
     "model_name": "DescriptionStyleModel",
     "state": {
      "_model_module": "@jupyter-widgets/controls",
      "_model_module_version": "1.5.0",
      "_model_name": "DescriptionStyleModel",
      "_view_count": null,
      "_view_module": "@jupyter-widgets/base",
      "_view_module_version": "1.2.0",
      "_view_name": "StyleView",
      "description_width": ""
     }
    },
    "700d5afafe134cd6abd1905accdddf94": {
     "model_module": "@jupyter-widgets/controls",
     "model_module_version": "1.5.0",
     "model_name": "DescriptionStyleModel",
     "state": {
      "_model_module": "@jupyter-widgets/controls",
      "_model_module_version": "1.5.0",
      "_model_name": "DescriptionStyleModel",
      "_view_count": null,
      "_view_module": "@jupyter-widgets/base",
      "_view_module_version": "1.2.0",
      "_view_name": "StyleView",
      "description_width": ""
     }
    },
    "73fc0cc40e46431495cfa984d0b1d9f9": {
     "model_module": "jupyter-threejs",
     "model_module_version": "^2.4.1",
     "model_name": "SceneModel",
     "state": {
      "_model_module": "jupyter-threejs",
      "_model_module_version": "^2.4.1",
      "_model_name": "SceneModel",
      "_view_count": null,
      "_view_module": null,
      "_view_module_version": "",
      "_view_name": null,
      "autoUpdate": true,
      "background": "#ffffff",
      "castShadow": false,
      "children": [
       "IPY_MODEL_cf99ceb111604c429b16a90fb5aae496",
       "IPY_MODEL_88b6da33a3f84bca906120a8ff7e16ea",
       "IPY_MODEL_e7400ea0efa341f2bc61b02ab6c2f0a4",
       "IPY_MODEL_de1e4ec0a5924b028c1109b368ede8ae",
       "IPY_MODEL_132b5988eb214ff3ae55ce32d976d5f8",
       "IPY_MODEL_d406a167e16143738f5d0c552f92a914",
       "IPY_MODEL_40407722ec5f47f4ace2ed78fbb8f997",
       "IPY_MODEL_9600e99e60bb44c688b807c6b7bf5f4e"
      ],
      "fog": null,
      "frustumCulled": true,
      "matrix": [
       1,
       0,
       0,
       0,
       0,
       1,
       0,
       0,
       0,
       0,
       1,
       0,
       0,
       0,
       0,
       1
      ],
      "matrixAutoUpdate": true,
      "matrixWorld": [
       1,
       0,
       0,
       0,
       0,
       1,
       0,
       0,
       0,
       0,
       1,
       0,
       0,
       0,
       0,
       1
      ],
      "matrixWorldNeedsUpdate": false,
      "modelViewMatrix": [
       1,
       0,
       0,
       0,
       0,
       1,
       0,
       0,
       0,
       0,
       1,
       0,
       0,
       0,
       0,
       1
      ],
      "name": "",
      "normalMatrix": [
       1,
       0,
       0,
       0,
       1,
       0,
       0,
       0,
       1
      ],
      "overrideMaterial": null,
      "position": [
       0,
       0,
       0
      ],
      "quaternion": [
       0,
       0,
       0,
       1
      ],
      "receiveShadow": false,
      "renderOrder": 0,
      "rotation": [
       0,
       0,
       0,
       "XYZ"
      ],
      "scale": [
       1,
       1,
       1
      ],
      "type": "Scene",
      "up": [
       0,
       1,
       0
      ],
      "visible": true
     }
    },
    "757084b8d49b46aba62c5961346a200a": {
     "model_module": "jupyter-threejs",
     "model_module_version": "^2.4.1",
     "model_name": "BufferAttributeModel",
     "state": {
      "_model_module": "jupyter-threejs",
      "_model_module_version": "^2.4.1",
      "_model_name": "BufferAttributeModel",
      "_view_count": null,
      "_view_module": null,
      "_view_module_version": "",
      "_view_name": null,
      "array": {
       "dtype": "float32",
       "shape": [
        11988,
        3
       ]
      },
      "dynamic": false,
      "needsUpdate": false,
      "normalized": true,
      "version": 1
     }
    },
    "75e1546decc54c71ae64ba78f567b3a4": {
     "model_module": "jupyter-threejs",
     "model_module_version": "^2.4.1",
     "model_name": "BufferAttributeModel",
     "state": {
      "_model_module": "jupyter-threejs",
      "_model_module_version": "^2.4.1",
      "_model_name": "BufferAttributeModel",
      "_view_count": null,
      "_view_module": null,
      "_view_module_version": "",
      "_view_name": null,
      "array": {
       "dtype": "float32",
       "shape": [
        29988,
        3
       ]
      },
      "dynamic": false,
      "needsUpdate": false,
      "normalized": true,
      "version": 1
     }
    },
    "7762dc8901a14826b215ab33fbe3082e": {
     "model_module": "jupyter-threejs",
     "model_module_version": "^2.4.1",
     "model_name": "LineSegmentsModel",
     "state": {
      "_model_module": "jupyter-threejs",
      "_model_module_version": "^2.4.1",
      "_model_name": "LineSegmentsModel",
      "_view_count": null,
      "_view_module": null,
      "_view_module_version": "",
      "_view_name": null,
      "castShadow": false,
      "children": [],
      "frustumCulled": true,
      "geometry": "IPY_MODEL_f9894791cc79449eac307c759b786951",
      "material": "IPY_MODEL_dbab9bfdb41a4d618c48ebf2a20b422e",
      "matrix": [
       1,
       0,
       0,
       0,
       0,
       1,
       0,
       0,
       0,
       0,
       1,
       0,
       0,
       0,
       0,
       1
      ],
      "matrixAutoUpdate": true,
      "matrixWorld": [
       1,
       0,
       0,
       0,
       0,
       1,
       0,
       0,
       0,
       0,
       1,
       0,
       0,
       0,
       0,
       1
      ],
      "matrixWorldNeedsUpdate": false,
      "modelViewMatrix": [
       1,
       0,
       0,
       0,
       0,
       1,
       0,
       0,
       0,
       0,
       1,
       0,
       0,
       0,
       0,
       1
      ],
      "name": "",
      "normalMatrix": [
       1,
       0,
       0,
       0,
       1,
       0,
       0,
       0,
       1
      ],
      "position": [
       0,
       0,
       0
      ],
      "quaternion": [
       0,
       0,
       0,
       1
      ],
      "receiveShadow": false,
      "renderOrder": 0,
      "rotation": [
       0,
       0,
       0,
       "XYZ"
      ],
      "scale": [
       1,
       1,
       1
      ],
      "type": "LineSegments",
      "up": [
       0,
       1,
       0
      ],
      "visible": true
     }
    },
    "78d3adb32e1744f9a9a9d5b6f0cdb3a3": {
     "model_module": "jupyter-threejs",
     "model_module_version": "^2.4.1",
     "model_name": "DirectionalLightModel",
     "state": {
      "_model_module": "jupyter-threejs",
      "_model_module_version": "^2.4.1",
      "_model_name": "DirectionalLightModel",
      "_view_count": null,
      "_view_module": null,
      "_view_module_version": "",
      "_view_name": null,
      "castShadow": false,
      "children": [],
      "color": "#ffffff",
      "frustumCulled": true,
      "intensity": 0.5,
      "matrix": [
       1,
       0,
       0,
       0,
       0,
       1,
       0,
       0,
       0,
       0,
       1,
       0,
       0,
       0,
       0,
       1
      ],
      "matrixAutoUpdate": true,
      "matrixWorld": [
       1,
       0,
       0,
       0,
       0,
       1,
       0,
       0,
       0,
       0,
       1,
       0,
       0,
       0,
       0,
       1
      ],
      "matrixWorldNeedsUpdate": true,
      "modelViewMatrix": [
       1,
       0,
       0,
       0,
       0,
       1,
       0,
       0,
       0,
       0,
       1,
       0,
       0,
       0,
       0,
       1
      ],
      "name": "",
      "normalMatrix": [
       1,
       0,
       0,
       0,
       1,
       0,
       0,
       0,
       1
      ],
      "position": [
       59.26128,
       79.01504,
       98.7688
      ],
      "quaternion": [
       0,
       0,
       0,
       1
      ],
      "receiveShadow": false,
      "renderOrder": 0,
      "rotation": [
       0,
       0,
       0,
       "XYZ"
      ],
      "scale": [
       1,
       1,
       1
      ],
      "shadow": "IPY_MODEL_[object Object]",
      "target": "IPY_MODEL_[object Object]",
      "type": "DirectionalLight",
      "up": [
       0,
       1,
       0
      ],
      "visible": true
     }
    },
    "7cf262934e3f46179f9d0984fb47e3a8": {
     "model_module": "@jupyter-widgets/controls",
     "model_module_version": "1.5.0",
     "model_name": "DescriptionStyleModel",
     "state": {
      "_model_module": "@jupyter-widgets/controls",
      "_model_module_version": "1.5.0",
      "_model_name": "DescriptionStyleModel",
      "_view_count": null,
      "_view_module": "@jupyter-widgets/base",
      "_view_module_version": "1.2.0",
      "_view_name": "StyleView",
      "description_width": ""
     }
    },
    "7f27d9c923a04ddd8ed1c21bbb0e460b": {
     "model_module": "@jupyter-widgets/controls",
     "model_module_version": "1.5.0",
     "model_name": "HTMLModel",
     "state": {
      "_dom_classes": [],
      "_model_module": "@jupyter-widgets/controls",
      "_model_module_version": "1.5.0",
      "_model_name": "HTMLModel",
      "_view_count": null,
      "_view_module": "@jupyter-widgets/controls",
      "_view_module_version": "1.5.0",
      "_view_name": "HTMLView",
      "description": "",
      "description_tooltip": null,
      "layout": "IPY_MODEL_ce8fb06bd6c44d27989fb5471e891963",
      "placeholder": "​",
      "style": "IPY_MODEL_6fb03057297f4869a5a3384e394fc30c",
      "value": "\n<svg width=\"600\" height=\"30\">\n<rect width=\"20\" height=\"20\" x=\"300\" y=\"0\" style=\"fill:none;stroke-width:1;stroke:rgb(0,255,0)\" />\n    <text x=\"325\" y=\"15\">=0.2</text>\n  Sorry, your browser does not support inline SVG.\n</svg>"
     }
    },
    "80302a5d127d43eaadb1ad512474dfd4": {
     "model_module": "jupyter-threejs",
     "model_module_version": "^2.4.1",
     "model_name": "MeshBasicMaterialModel",
     "state": {
      "_model_module": "jupyter-threejs",
      "_model_module_version": "^2.4.1",
      "_model_name": "MeshBasicMaterialModel",
      "_view_count": null,
      "_view_module": null,
      "_view_module_version": "",
      "_view_name": null,
      "alphaMap": null,
      "alphaTest": 0,
      "aoMap": null,
      "aoMapIntensity": 1,
      "blendDst": "OneMinusSrcAlphaFactor",
      "blendDstAlpha": 0,
      "blendEquation": "AddEquation",
      "blendEquationAlpha": 0,
      "blendSrc": "SrcAlphaFactor",
      "blendSrcAlpha": 0,
      "blending": "NormalBlending",
      "clipIntersection": false,
      "clipShadows": false,
      "clippingPlanes": [],
      "color": "#00ff00",
      "colorWrite": true,
      "combine": "MultiplyOperation",
      "defines": null,
      "depthFunc": "LessEqualDepth",
      "depthTest": true,
      "depthWrite": true,
      "dithering": false,
      "envMap": null,
      "flatShading": false,
      "fog": true,
      "lightMap": null,
      "lightMapIntensity": 1,
      "lights": false,
      "map": null,
      "morphTargets": false,
      "name": "",
      "opacity": 1,
      "overdraw": 0,
      "polygonOffset": false,
      "polygonOffsetFactor": 0,
      "polygonOffsetUnits": 0,
      "precision": null,
      "premultipliedAlpha": false,
      "reflectivity": 1,
      "refractionRatio": 0.98,
      "shadowSide": null,
      "side": "FrontSide",
      "skinning": false,
      "specularMap": null,
      "transparent": false,
      "type": "MeshBasicMaterial",
      "vertexColors": "NoColors",
      "visible": true,
      "wireframe": false,
      "wireframeLinecap": "round",
      "wireframeLinejoin": "round",
      "wireframeLinewidth": 1
     }
    },
    "83af17b46b904f5da10916b885b0fb5d": {
     "model_module": "@jupyter-widgets/base",
     "model_module_version": "1.2.0",
     "model_name": "LayoutModel",
     "state": {
      "_model_module": "@jupyter-widgets/base",
      "_model_module_version": "1.2.0",
      "_model_name": "LayoutModel",
      "_view_count": null,
      "_view_module": "@jupyter-widgets/base",
      "_view_module_version": "1.2.0",
      "_view_name": "LayoutView",
      "align_content": null,
      "align_items": null,
      "align_self": null,
      "border": null,
      "bottom": null,
      "display": null,
      "flex": null,
      "flex_flow": null,
      "grid_area": null,
      "grid_auto_columns": null,
      "grid_auto_flow": null,
      "grid_auto_rows": null,
      "grid_column": null,
      "grid_gap": null,
      "grid_row": null,
      "grid_template_areas": null,
      "grid_template_columns": null,
      "grid_template_rows": null,
      "height": null,
      "justify_content": null,
      "justify_items": null,
      "left": null,
      "margin": null,
      "max_height": null,
      "max_width": null,
      "min_height": null,
      "min_width": null,
      "object_fit": null,
      "object_position": null,
      "order": null,
      "overflow": null,
      "overflow_x": null,
      "overflow_y": null,
      "padding": null,
      "right": null,
      "top": null,
      "visibility": null,
      "width": null
     }
    },
    "86c754de650a4e1fbf0e75b1ab749d2e": {
     "model_module": "jupyter-threejs",
     "model_module_version": "^2.4.1",
     "model_name": "AmbientLightModel",
     "state": {
      "_model_module": "jupyter-threejs",
      "_model_module_version": "^2.4.1",
      "_model_name": "AmbientLightModel",
      "_view_count": null,
      "_view_module": null,
      "_view_module_version": "",
      "_view_name": null,
      "castShadow": false,
      "children": [],
      "color": "#888888",
      "frustumCulled": true,
      "intensity": 1,
      "matrix": [
       1,
       0,
       0,
       0,
       0,
       1,
       0,
       0,
       0,
       0,
       1,
       0,
       0,
       0,
       0,
       1
      ],
      "matrixAutoUpdate": true,
      "matrixWorld": [
       1,
       0,
       0,
       0,
       0,
       1,
       0,
       0,
       0,
       0,
       1,
       0,
       0,
       0,
       0,
       1
      ],
      "matrixWorldNeedsUpdate": false,
      "modelViewMatrix": [
       1,
       0,
       0,
       0,
       0,
       1,
       0,
       0,
       0,
       0,
       1,
       0,
       0,
       0,
       0,
       1
      ],
      "name": "",
      "normalMatrix": [
       1,
       0,
       0,
       0,
       1,
       0,
       0,
       0,
       1
      ],
      "position": [
       0,
       0,
       0
      ],
      "quaternion": [
       0,
       0,
       0,
       1
      ],
      "receiveShadow": false,
      "renderOrder": 0,
      "rotation": [
       0,
       0,
       0,
       "XYZ"
      ],
      "scale": [
       1,
       1,
       1
      ],
      "type": "AmbientLight",
      "up": [
       0,
       1,
       0
      ],
      "visible": true
     }
    },
    "88b6da33a3f84bca906120a8ff7e16ea": {
     "model_module": "jupyter-threejs",
     "model_module_version": "^2.4.1",
     "model_name": "LineSegmentsModel",
     "state": {
      "_model_module": "jupyter-threejs",
      "_model_module_version": "^2.4.1",
      "_model_name": "LineSegmentsModel",
      "_view_count": null,
      "_view_module": null,
      "_view_module_version": "",
      "_view_name": null,
      "castShadow": false,
      "children": [],
      "frustumCulled": true,
      "geometry": "IPY_MODEL_03d8362f79f94aeba8c954e6f5553862",
      "material": "IPY_MODEL_93ee8173fce544f4a00925a2cb51579e",
      "matrix": [
       1,
       0,
       0,
       0,
       0,
       1,
       0,
       0,
       0,
       0,
       1,
       0,
       0,
       0,
       0,
       1
      ],
      "matrixAutoUpdate": true,
      "matrixWorld": [
       1,
       0,
       0,
       0,
       0,
       1,
       0,
       0,
       0,
       0,
       1,
       0,
       0,
       0,
       0,
       1
      ],
      "matrixWorldNeedsUpdate": false,
      "modelViewMatrix": [
       1,
       0,
       0,
       0,
       0,
       1,
       0,
       0,
       0,
       0,
       1,
       0,
       0,
       0,
       0,
       1
      ],
      "name": "",
      "normalMatrix": [
       1,
       0,
       0,
       0,
       1,
       0,
       0,
       0,
       1
      ],
      "position": [
       0,
       0,
       0
      ],
      "quaternion": [
       0,
       0,
       0,
       1
      ],
      "receiveShadow": false,
      "renderOrder": 0,
      "rotation": [
       0,
       0,
       0,
       "XYZ"
      ],
      "scale": [
       1,
       1,
       1
      ],
      "type": "LineSegments",
      "up": [
       0,
       1,
       0
      ],
      "visible": true
     }
    },
    "893abdc2ebc841a29b646a3bcbc9dd35": {
     "model_module": "jupyter-threejs",
     "model_module_version": "^2.4.1",
     "model_name": "LineSegmentsModel",
     "state": {
      "_model_module": "jupyter-threejs",
      "_model_module_version": "^2.4.1",
      "_model_name": "LineSegmentsModel",
      "_view_count": null,
      "_view_module": null,
      "_view_module_version": "",
      "_view_name": null,
      "castShadow": false,
      "children": [],
      "frustumCulled": true,
      "geometry": "IPY_MODEL_33034efc0a0f4d18b77fb53492f3a91c",
      "material": "IPY_MODEL_8b280cef618a44a79f531f9688318b46",
      "matrix": [
       1,
       0,
       0,
       0,
       0,
       1,
       0,
       0,
       0,
       0,
       1,
       0,
       0,
       0,
       0,
       1
      ],
      "matrixAutoUpdate": true,
      "matrixWorld": [
       1,
       0,
       0,
       0,
       0,
       1,
       0,
       0,
       0,
       0,
       1,
       0,
       0,
       0,
       0,
       1
      ],
      "matrixWorldNeedsUpdate": false,
      "modelViewMatrix": [
       1,
       0,
       0,
       0,
       0,
       1,
       0,
       0,
       0,
       0,
       1,
       0,
       0,
       0,
       0,
       1
      ],
      "name": "",
      "normalMatrix": [
       1,
       0,
       0,
       0,
       1,
       0,
       0,
       0,
       1
      ],
      "position": [
       0,
       0,
       0
      ],
      "quaternion": [
       0,
       0,
       0,
       1
      ],
      "receiveShadow": false,
      "renderOrder": 0,
      "rotation": [
       0,
       0,
       0,
       "XYZ"
      ],
      "scale": [
       1,
       1,
       1
      ],
      "type": "LineSegments",
      "up": [
       0,
       1,
       0
      ],
      "visible": true
     }
    },
    "8ab5d76dae5d4df2929fdcaeb341bda2": {
     "model_module": "@jupyter-widgets/output",
     "model_module_version": "1.0.0",
     "model_name": "OutputModel",
     "state": {
      "_dom_classes": [],
      "_model_module": "@jupyter-widgets/output",
      "_model_module_version": "1.0.0",
      "_model_name": "OutputModel",
      "_view_count": null,
      "_view_module": "@jupyter-widgets/output",
      "_view_module_version": "1.0.0",
      "_view_name": "OutputView",
      "layout": "IPY_MODEL_bc34cc2e5a5f4c558f6c0d61abf337cd",
      "msg_id": "",
      "outputs": []
     }
    },
    "8b280cef618a44a79f531f9688318b46": {
     "model_module": "jupyter-threejs",
     "model_module_version": "^2.4.1",
     "model_name": "LineBasicMaterialModel",
     "state": {
      "_model_module": "jupyter-threejs",
      "_model_module_version": "^2.4.1",
      "_model_name": "LineBasicMaterialModel",
      "_view_count": null,
      "_view_module": null,
      "_view_module_version": "",
      "_view_name": null,
      "alphaTest": 0,
      "blendDst": "OneMinusSrcAlphaFactor",
      "blendDstAlpha": 0,
      "blendEquation": "AddEquation",
      "blendEquationAlpha": 0,
      "blendSrc": "SrcAlphaFactor",
      "blendSrcAlpha": 0,
      "blending": "NormalBlending",
      "clipIntersection": false,
      "clipShadows": false,
      "clippingPlanes": [],
      "color": "#ffffff",
      "colorWrite": true,
      "defines": null,
      "depthFunc": "LessEqualDepth",
      "depthTest": true,
      "depthWrite": true,
      "dithering": false,
      "flatShading": false,
      "fog": true,
      "lights": false,
      "linecap": "round",
      "linejoin": "round",
      "linewidth": 1,
      "name": "",
      "opacity": 0.3,
      "overdraw": 0,
      "polygonOffset": false,
      "polygonOffsetFactor": 0,
      "polygonOffsetUnits": 0,
      "precision": null,
      "premultipliedAlpha": false,
      "shadowSide": null,
      "side": "FrontSide",
      "transparent": true,
      "type": "LineBasicMaterial",
      "vertexColors": "NoColors",
      "visible": true
     }
    },
    "8ccc7c732da948248aa8c4c64bdc3011": {
     "model_module": "jupyter-threejs",
     "model_module_version": "^2.4.1",
     "model_name": "BufferAttributeModel",
     "state": {
      "_model_module": "jupyter-threejs",
      "_model_module_version": "^2.4.1",
      "_model_name": "BufferAttributeModel",
      "_view_count": null,
      "_view_module": null,
      "_view_module_version": "",
      "_view_name": null,
      "array": {
       "dtype": "float32",
       "shape": [
        1188,
        3
       ]
      },
      "dynamic": false,
      "needsUpdate": false,
      "normalized": true,
      "version": 1
     }
    },
    "8e713228248a4e32b052644273632042": {
     "model_module": "jupyter-threejs",
     "model_module_version": "^2.4.1",
     "model_name": "SceneModel",
     "state": {
      "_model_module": "jupyter-threejs",
      "_model_module_version": "^2.4.1",
      "_model_name": "SceneModel",
      "_view_count": null,
      "_view_module": null,
      "_view_module_version": "",
      "_view_name": null,
      "autoUpdate": true,
      "background": "#ffffff",
      "castShadow": false,
      "children": [
       "IPY_MODEL_f50ffe5794424eea9187bd45df84ff14",
       "IPY_MODEL_500c3263243349339738f3df15f1f603",
       "IPY_MODEL_5a481e07c39644459f00847bd786a6ab",
       "IPY_MODEL_cfd655b8508e4f21a04059ade3dc3c38",
       "IPY_MODEL_961b5d954e3547cfb3edc7c0d04a2c5e",
       "IPY_MODEL_69bb996fc4d3480aaf9af729f9b4974c",
       "IPY_MODEL_ae3e5079b4a943b697ecb54b77c0face",
       "IPY_MODEL_f5cec8cd9d47447c90dff8406cadea93"
      ],
      "fog": null,
      "frustumCulled": true,
      "matrix": [
       1,
       0,
       0,
       0,
       0,
       1,
       0,
       0,
       0,
       0,
       1,
       0,
       0,
       0,
       0,
       1
      ],
      "matrixAutoUpdate": true,
      "matrixWorld": [
       1,
       0,
       0,
       0,
       0,
       1,
       0,
       0,
       0,
       0,
       1,
       0,
       0,
       0,
       0,
       1
      ],
      "matrixWorldNeedsUpdate": false,
      "modelViewMatrix": [
       1,
       0,
       0,
       0,
       0,
       1,
       0,
       0,
       0,
       0,
       1,
       0,
       0,
       0,
       0,
       1
      ],
      "name": "",
      "normalMatrix": [
       1,
       0,
       0,
       0,
       1,
       0,
       0,
       0,
       1
      ],
      "overrideMaterial": null,
      "position": [
       0,
       0,
       0
      ],
      "quaternion": [
       0,
       0,
       0,
       1
      ],
      "receiveShadow": false,
      "renderOrder": 0,
      "rotation": [
       0,
       0,
       0,
       "XYZ"
      ],
      "scale": [
       1,
       1,
       1
      ],
      "type": "Scene",
      "up": [
       0,
       1,
       0
      ],
      "visible": true
     }
    },
    "923f41edff5247abb121133ac4733c03": {
     "model_module": "jupyter-threejs",
     "model_module_version": "^2.4.1",
     "model_name": "MeshBasicMaterialModel",
     "state": {
      "_model_module": "jupyter-threejs",
      "_model_module_version": "^2.4.1",
      "_model_name": "MeshBasicMaterialModel",
      "_view_count": null,
      "_view_module": null,
      "_view_module_version": "",
      "_view_name": null,
      "alphaMap": null,
      "alphaTest": 0,
      "aoMap": null,
      "aoMapIntensity": 1,
      "blendDst": "OneMinusSrcAlphaFactor",
      "blendDstAlpha": 0,
      "blendEquation": "AddEquation",
      "blendEquationAlpha": 0,
      "blendSrc": "SrcAlphaFactor",
      "blendSrcAlpha": 0,
      "blending": "NormalBlending",
      "clipIntersection": false,
      "clipShadows": false,
      "clippingPlanes": [],
      "color": "#00ff00",
      "colorWrite": true,
      "combine": "MultiplyOperation",
      "defines": null,
      "depthFunc": "LessEqualDepth",
      "depthTest": true,
      "depthWrite": true,
      "dithering": false,
      "envMap": null,
      "flatShading": false,
      "fog": true,
      "lightMap": null,
      "lightMapIntensity": 1,
      "lights": false,
      "map": null,
      "morphTargets": false,
      "name": "",
      "opacity": 1,
      "overdraw": 0,
      "polygonOffset": false,
      "polygonOffsetFactor": 0,
      "polygonOffsetUnits": 0,
      "precision": null,
      "premultipliedAlpha": false,
      "reflectivity": 1,
      "refractionRatio": 0.98,
      "shadowSide": null,
      "side": "FrontSide",
      "skinning": false,
      "specularMap": null,
      "transparent": false,
      "type": "MeshBasicMaterial",
      "vertexColors": "NoColors",
      "visible": true,
      "wireframe": false,
      "wireframeLinecap": "round",
      "wireframeLinejoin": "round",
      "wireframeLinewidth": 1
     }
    },
    "93ee8173fce544f4a00925a2cb51579e": {
     "model_module": "jupyter-threejs",
     "model_module_version": "^2.4.1",
     "model_name": "LineBasicMaterialModel",
     "state": {
      "_model_module": "jupyter-threejs",
      "_model_module_version": "^2.4.1",
      "_model_name": "LineBasicMaterialModel",
      "_view_count": null,
      "_view_module": null,
      "_view_module_version": "",
      "_view_name": null,
      "alphaTest": 0,
      "blendDst": "OneMinusSrcAlphaFactor",
      "blendDstAlpha": 0,
      "blendEquation": "AddEquation",
      "blendEquationAlpha": 0,
      "blendSrc": "SrcAlphaFactor",
      "blendSrcAlpha": 0,
      "blending": "NormalBlending",
      "clipIntersection": false,
      "clipShadows": false,
      "clippingPlanes": [],
      "color": "#ffffff",
      "colorWrite": true,
      "defines": null,
      "depthFunc": "LessEqualDepth",
      "depthTest": true,
      "depthWrite": true,
      "dithering": false,
      "flatShading": false,
      "fog": true,
      "lights": false,
      "linecap": "round",
      "linejoin": "round",
      "linewidth": 1,
      "name": "",
      "opacity": 0.3,
      "overdraw": 0,
      "polygonOffset": false,
      "polygonOffsetFactor": 0,
      "polygonOffsetUnits": 0,
      "precision": null,
      "premultipliedAlpha": false,
      "shadowSide": null,
      "side": "FrontSide",
      "transparent": true,
      "type": "LineBasicMaterial",
      "vertexColors": "NoColors",
      "visible": true
     }
    },
    "9600e99e60bb44c688b807c6b7bf5f4e": {
     "model_module": "jupyter-threejs",
     "model_module_version": "^2.4.1",
     "model_name": "LineSegmentsModel",
     "state": {
      "_model_module": "jupyter-threejs",
      "_model_module_version": "^2.4.1",
      "_model_name": "LineSegmentsModel",
      "_view_count": null,
      "_view_module": null,
      "_view_module_version": "",
      "_view_name": null,
      "castShadow": false,
      "children": [],
      "frustumCulled": true,
      "geometry": "IPY_MODEL_e79ee57b3dde4c37bfce91c83cb54ed2",
      "material": "IPY_MODEL_3d6683604e6f4e0b963befd17421191a",
      "matrix": [
       1,
       0,
       0,
       0,
       0,
       1,
       0,
       0,
       0,
       0,
       1,
       0,
       0,
       0,
       0,
       1
      ],
      "matrixAutoUpdate": true,
      "matrixWorld": [
       1,
       0,
       0,
       0,
       0,
       1,
       0,
       0,
       0,
       0,
       1,
       0,
       0,
       0,
       0,
       1
      ],
      "matrixWorldNeedsUpdate": false,
      "modelViewMatrix": [
       1,
       0,
       0,
       0,
       0,
       1,
       0,
       0,
       0,
       0,
       1,
       0,
       0,
       0,
       0,
       1
      ],
      "name": "",
      "normalMatrix": [
       1,
       0,
       0,
       0,
       1,
       0,
       0,
       0,
       1
      ],
      "position": [
       0,
       0,
       0
      ],
      "quaternion": [
       0,
       0,
       0,
       1
      ],
      "receiveShadow": false,
      "renderOrder": 0,
      "rotation": [
       0,
       0,
       0,
       "XYZ"
      ],
      "scale": [
       1,
       1,
       1
      ],
      "type": "LineSegments",
      "up": [
       0,
       1,
       0
      ],
      "visible": true
     }
    },
    "961b5d954e3547cfb3edc7c0d04a2c5e": {
     "model_module": "jupyter-threejs",
     "model_module_version": "^2.4.1",
     "model_name": "MeshModel",
     "state": {
      "_model_module": "jupyter-threejs",
      "_model_module_version": "^2.4.1",
      "_model_name": "MeshModel",
      "_view_count": null,
      "_view_module": null,
      "_view_module_version": "",
      "_view_name": null,
      "castShadow": false,
      "children": [],
      "drawMode": "TrianglesDrawMode",
      "frustumCulled": true,
      "geometry": "IPY_MODEL_b9b7f82d04b3484ba587f72a474d8aaa",
      "material": "IPY_MODEL_3cd15bfcd7024cdbbed9c813517ed0df",
      "matrix": [
       1,
       0,
       0,
       0,
       0,
       1,
       0,
       0,
       0,
       0,
       1,
       0,
       0,
       0,
       0,
       1
      ],
      "matrixAutoUpdate": true,
      "matrixWorld": [
       1,
       0,
       0,
       0,
       0,
       1,
       0,
       0,
       0,
       0,
       1,
       0,
       0,
       0,
       0,
       1
      ],
      "matrixWorldNeedsUpdate": false,
      "modelViewMatrix": [
       1,
       0,
       0,
       0,
       0,
       1,
       0,
       0,
       0,
       0,
       1,
       0,
       0,
       0,
       0,
       1
      ],
      "morphTargetInfluences": [],
      "name": "",
      "normalMatrix": [
       1,
       0,
       0,
       0,
       1,
       0,
       0,
       0,
       1
      ],
      "position": [
       0,
       0,
       0
      ],
      "quaternion": [
       0,
       0,
       0,
       1
      ],
      "receiveShadow": false,
      "renderOrder": 0,
      "rotation": [
       0,
       0,
       0,
       "XYZ"
      ],
      "scale": [
       1,
       1,
       1
      ],
      "type": "Mesh",
      "up": [
       0,
       1,
       0
      ],
      "visible": true
     }
    },
    "96776c3e4c0045a7bfc5f9c9a9901676": {
     "model_module": "jupyter-threejs",
     "model_module_version": "^2.4.1",
     "model_name": "MeshLambertMaterialModel",
     "state": {
      "_model_module": "jupyter-threejs",
      "_model_module_version": "^2.4.1",
      "_model_name": "MeshLambertMaterialModel",
      "_view_count": null,
      "_view_module": null,
      "_view_module_version": "",
      "_view_name": null,
      "alphaMap": null,
      "alphaTest": 0,
      "aoMap": null,
      "aoMapIntensity": 1,
      "blendDst": "OneMinusSrcAlphaFactor",
      "blendDstAlpha": 0,
      "blendEquation": "AddEquation",
      "blendEquationAlpha": 0,
      "blendSrc": "SrcAlphaFactor",
      "blendSrcAlpha": 0,
      "blending": "NormalBlending",
      "clipIntersection": false,
      "clipShadows": false,
      "clippingPlanes": [],
      "color": "#ffffff",
      "colorWrite": true,
      "combine": "MultiplyOperation",
      "defines": null,
      "depthFunc": "LessEqualDepth",
      "depthTest": true,
      "depthWrite": true,
      "dithering": false,
      "emissive": "#000000",
      "emissiveIntensity": 1,
      "emissiveMap": null,
      "envMap": null,
      "flatShading": false,
      "fog": true,
      "lightMap": null,
      "lightMapIntensity": 1,
      "lights": true,
      "map": null,
      "morphNormals": false,
      "morphTargets": false,
      "name": "",
      "opacity": 1,
      "overdraw": 0,
      "polygonOffset": false,
      "polygonOffsetFactor": 0,
      "polygonOffsetUnits": 0,
      "precision": null,
      "premultipliedAlpha": false,
      "reflectivity": 1,
      "refractionRatio": 0.98,
      "shadowSide": null,
      "side": "FrontSide",
      "skinning": false,
      "specularMap": null,
      "transparent": false,
      "type": "MeshLambertMaterial",
      "vertexColors": "VertexColors",
      "visible": true,
      "wireframe": false,
      "wireframeLinecap": "round",
      "wireframeLinejoin": "round",
      "wireframeLinewidth": 1
     }
    },
    "96fc6e24796445f5a8e260898ec3e724": {
     "model_module": "jupyter-threejs",
     "model_module_version": "^2.4.1",
     "model_name": "DirectionalLightModel",
     "state": {
      "_model_module": "jupyter-threejs",
      "_model_module_version": "^2.4.1",
      "_model_name": "DirectionalLightModel",
      "_view_count": null,
      "_view_module": null,
      "_view_module_version": "",
      "_view_name": null,
      "castShadow": false,
      "children": [],
      "color": "#ffffff",
      "frustumCulled": true,
      "intensity": 0.5,
      "matrix": [
       1,
       0,
       0,
       0,
       0,
       1,
       0,
       0,
       0,
       0,
       1,
       0,
       0,
       0,
       0,
       1
      ],
      "matrixAutoUpdate": true,
      "matrixWorld": [
       1,
       0,
       0,
       0,
       0,
       1,
       0,
       0,
       0,
       0,
       1,
       0,
       0,
       0,
       0,
       1
      ],
      "matrixWorldNeedsUpdate": true,
      "modelViewMatrix": [
       1,
       0,
       0,
       0,
       0,
       1,
       0,
       0,
       0,
       0,
       1,
       0,
       0,
       0,
       0,
       1
      ],
      "name": "",
      "normalMatrix": [
       1,
       0,
       0,
       0,
       1,
       0,
       0,
       0,
       1
      ],
      "position": [
       60,
       80,
       102.5
      ],
      "quaternion": [
       0,
       0,
       0,
       1
      ],
      "receiveShadow": false,
      "renderOrder": 0,
      "rotation": [
       0,
       0,
       0,
       "XYZ"
      ],
      "scale": [
       1,
       1,
       1
      ],
      "shadow": "IPY_MODEL_[object Object]",
      "target": "IPY_MODEL_[object Object]",
      "type": "DirectionalLight",
      "up": [
       0,
       1,
       0
      ],
      "visible": true
     }
    },
    "96fda11819c94cdbb2783ff76d441643": {
     "model_module": "@jupyter-widgets/base",
     "model_module_version": "1.2.0",
     "model_name": "LayoutModel",
     "state": {
      "_model_module": "@jupyter-widgets/base",
      "_model_module_version": "1.2.0",
      "_model_name": "LayoutModel",
      "_view_count": null,
      "_view_module": "@jupyter-widgets/base",
      "_view_module_version": "1.2.0",
      "_view_name": "LayoutView",
      "align_content": null,
      "align_items": null,
      "align_self": null,
      "border": null,
      "bottom": null,
      "display": null,
      "flex": null,
      "flex_flow": null,
      "grid_area": null,
      "grid_auto_columns": null,
      "grid_auto_flow": null,
      "grid_auto_rows": null,
      "grid_column": null,
      "grid_gap": null,
      "grid_row": null,
      "grid_template_areas": null,
      "grid_template_columns": null,
      "grid_template_rows": null,
      "height": null,
      "justify_content": null,
      "justify_items": null,
      "left": null,
      "margin": null,
      "max_height": null,
      "max_width": null,
      "min_height": null,
      "min_width": null,
      "object_fit": null,
      "object_position": null,
      "order": null,
      "overflow": null,
      "overflow_x": null,
      "overflow_y": null,
      "padding": null,
      "right": null,
      "top": null,
      "visibility": null,
      "width": null
     }
    },
    "98780d2895f3407a8b20c22e27bbe3ec": {
     "model_module": "jupyter-threejs",
     "model_module_version": "^2.4.1",
     "model_name": "BufferGeometryModel",
     "state": {
      "MaxIndex": 65535,
      "_model_module": "jupyter-threejs",
      "_model_module_version": "^2.4.1",
      "_model_name": "BufferGeometryModel",
      "_ref_geometry": null,
      "_store_ref": false,
      "_view_count": null,
      "_view_module": null,
      "_view_module_version": "",
      "_view_name": null,
      "attributes": {
       "color": "IPY_MODEL_75e1546decc54c71ae64ba78f567b3a4",
       "normal": "IPY_MODEL_49fe111439cb48249ebf6a199ea925ee",
       "position": "IPY_MODEL_ba4a8d68065349c8a87b361efbd7bd75"
      },
      "index": null,
      "morphAttributes": {},
      "name": "",
      "type": "BufferGeometry",
      "userData": {}
     }
    },
    "98d1fbf94fe04490b7e06db5dd49fb62": {
     "model_module": "jupyter-threejs",
     "model_module_version": "^2.4.1",
     "model_name": "PickerModel",
     "state": {
      "_model_module": "jupyter-threejs",
      "_model_module_version": "^2.4.1",
      "_model_name": "PickerModel",
      "_view_count": null,
      "_view_module": null,
      "_view_module_version": "",
      "_view_name": null,
      "all": false,
      "controlling": "IPY_MODEL_d7ac3e2f000b4852aeddda8bcbc3dabd",
      "distance": null,
      "event": "dblclick",
      "face": [
       0,
       0,
       0
      ],
      "faceIndex": null,
      "faceNormal": [
       0,
       0,
       0
      ],
      "faceVertices": [],
      "index": null,
      "indices": [],
      "instanceId": null,
      "lineThreshold": 1,
      "modifiers": [],
      "object": null,
      "picked": [],
      "point": [
       0,
       0,
       0
      ],
      "pointThreshold": 1,
      "uv": [
       0,
       0
      ]
     }
    },
    "98d41f1570904ccc9494ec8d10ce457a": {
     "model_module": "@jupyter-widgets/base",
     "model_module_version": "1.2.0",
     "model_name": "LayoutModel",
     "state": {
      "_model_module": "@jupyter-widgets/base",
      "_model_module_version": "1.2.0",
      "_model_name": "LayoutModel",
      "_view_count": null,
      "_view_module": "@jupyter-widgets/base",
      "_view_module_version": "1.2.0",
      "_view_name": "LayoutView",
      "align_content": null,
      "align_items": null,
      "align_self": null,
      "border": null,
      "bottom": null,
      "display": null,
      "flex": null,
      "flex_flow": null,
      "grid_area": null,
      "grid_auto_columns": null,
      "grid_auto_flow": null,
      "grid_auto_rows": null,
      "grid_column": null,
      "grid_gap": null,
      "grid_row": null,
      "grid_template_areas": null,
      "grid_template_columns": null,
      "grid_template_rows": null,
      "height": null,
      "justify_content": null,
      "justify_items": null,
      "left": null,
      "margin": null,
      "max_height": null,
      "max_width": null,
      "min_height": null,
      "min_width": null,
      "object_fit": null,
      "object_position": null,
      "order": null,
      "overflow": null,
      "overflow_x": null,
      "overflow_y": null,
      "padding": null,
      "right": null,
      "top": null,
      "visibility": null,
      "width": null
     }
    },
    "9b515ad3dac145c68943b4b6a8a26ca1": {
     "model_module": "jupyter-threejs",
     "model_module_version": "^2.4.1",
     "model_name": "LineBasicMaterialModel",
     "state": {
      "_model_module": "jupyter-threejs",
      "_model_module_version": "^2.4.1",
      "_model_name": "LineBasicMaterialModel",
      "_view_count": null,
      "_view_module": null,
      "_view_module_version": "",
      "_view_name": null,
      "alphaTest": 0,
      "blendDst": "OneMinusSrcAlphaFactor",
      "blendDstAlpha": 0,
      "blendEquation": "AddEquation",
      "blendEquationAlpha": 0,
      "blendSrc": "SrcAlphaFactor",
      "blendSrcAlpha": 0,
      "blending": "NormalBlending",
      "clipIntersection": false,
      "clipShadows": false,
      "clippingPlanes": [],
      "color": "#ffffff",
      "colorWrite": true,
      "defines": null,
      "depthFunc": "LessEqualDepth",
      "depthTest": true,
      "depthWrite": true,
      "dithering": false,
      "flatShading": false,
      "fog": true,
      "lights": false,
      "linecap": "round",
      "linejoin": "round",
      "linewidth": 1,
      "name": "",
      "opacity": 0.3,
      "overdraw": 0,
      "polygonOffset": false,
      "polygonOffsetFactor": 0,
      "polygonOffsetUnits": 0,
      "precision": null,
      "premultipliedAlpha": false,
      "shadowSide": null,
      "side": "FrontSide",
      "transparent": true,
      "type": "LineBasicMaterial",
      "vertexColors": "NoColors",
      "visible": true
     }
    },
    "9be56f6f1d4f417fb9b4805fcbfa9102": {
     "model_module": "jupyter-threejs",
     "model_module_version": "^2.4.1",
     "model_name": "WebGLShadowMapModel",
     "state": {
      "_model_module": "jupyter-threejs",
      "_model_module_version": "^2.4.1",
      "_model_name": "WebGLShadowMapModel",
      "_view_count": null,
      "_view_module": null,
      "_view_module_version": "",
      "_view_name": null,
      "enabled": false,
      "type": "PCFShadowMap"
     }
    },
    "9c7b7ec84bdb4feb87a2d3a9874d09a7": {
     "model_module": "jupyter-threejs",
     "model_module_version": "^2.4.1",
     "model_name": "SphereGeometryModel",
     "state": {
      "_model_module": "jupyter-threejs",
      "_model_module_version": "^2.4.1",
      "_model_name": "SphereGeometryModel",
      "_view_count": null,
      "_view_module": null,
      "_view_module_version": "",
      "_view_name": null,
      "heightSegments": 6,
      "name": "",
      "phiLength": 6.283185307179586,
      "phiStart": 0,
      "radius": 1,
      "thetaLength": 3.141592653589793,
      "thetaStart": 0,
      "type": "SphereGeometry",
      "widthSegments": 8
     }
    },
    "a30356d422994a7bbbbb27c5e8efc4f8": {
     "model_module": "jupyter-threejs",
     "model_module_version": "^2.4.1",
     "model_name": "LineSegmentsModel",
     "state": {
      "_model_module": "jupyter-threejs",
      "_model_module_version": "^2.4.1",
      "_model_name": "LineSegmentsModel",
      "_view_count": null,
      "_view_module": null,
      "_view_module_version": "",
      "_view_name": null,
      "castShadow": false,
      "children": [],
      "frustumCulled": true,
      "geometry": "IPY_MODEL_fa6a805fb1a847309b13b2d9b4000346",
      "material": "IPY_MODEL_e6d5b4a8cd314c3c840ca19cc505a0c5",
      "matrix": [
       1,
       0,
       0,
       0,
       0,
       1,
       0,
       0,
       0,
       0,
       1,
       0,
       0,
       0,
       0,
       1
      ],
      "matrixAutoUpdate": true,
      "matrixWorld": [
       1,
       0,
       0,
       0,
       0,
       1,
       0,
       0,
       0,
       0,
       1,
       0,
       0,
       0,
       0,
       1
      ],
      "matrixWorldNeedsUpdate": false,
      "modelViewMatrix": [
       1,
       0,
       0,
       0,
       0,
       1,
       0,
       0,
       0,
       0,
       1,
       0,
       0,
       0,
       0,
       1
      ],
      "name": "",
      "normalMatrix": [
       1,
       0,
       0,
       0,
       1,
       0,
       0,
       0,
       1
      ],
      "position": [
       0,
       0,
       0
      ],
      "quaternion": [
       0,
       0,
       0,
       1
      ],
      "receiveShadow": false,
      "renderOrder": 0,
      "rotation": [
       0,
       0,
       0,
       "XYZ"
      ],
      "scale": [
       1,
       1,
       1
      ],
      "type": "LineSegments",
      "up": [
       0,
       1,
       0
      ],
      "visible": true
     }
    },
    "a36830aec6304b09a1767c1209727b65": {
     "model_module": "@jupyter-widgets/controls",
     "model_module_version": "1.5.0",
     "model_name": "HTMLModel",
     "state": {
      "_dom_classes": [],
      "_model_module": "@jupyter-widgets/controls",
      "_model_module_version": "1.5.0",
      "_model_name": "HTMLModel",
      "_view_count": null,
      "_view_module": "@jupyter-widgets/controls",
      "_view_module_version": "1.5.0",
      "_view_name": "HTMLView",
      "description": "",
      "description_tooltip": null,
      "layout": "IPY_MODEL_f443265869704f899f6cb10a1119fbfb",
      "placeholder": "​",
      "style": "IPY_MODEL_2dedd0a43243425f8202597326a2a166",
      "value": "\n<svg width=\"600\" height=\"30\">\n<rect width=\"20\" height=\"20\" x=\"300\" y=\"0\" style=\"fill:none;stroke-width:1;stroke:rgb(0,255,0)\" />\n    <text x=\"325\" y=\"15\">=2.0</text>\n  Sorry, your browser does not support inline SVG.\n</svg>"
     }
    },
    "a73bd037cd08490181b021a194ff8e1e": {
     "model_module": "@jupyter-widgets/controls",
     "model_module_version": "1.5.0",
     "model_name": "HTMLModel",
     "state": {
      "_dom_classes": [],
      "_model_module": "@jupyter-widgets/controls",
      "_model_module_version": "1.5.0",
      "_model_name": "HTMLModel",
      "_view_count": null,
      "_view_module": "@jupyter-widgets/controls",
      "_view_module_version": "1.5.0",
      "_view_name": "HTMLView",
      "description": "",
      "description_tooltip": null,
      "layout": "IPY_MODEL_f7c0fc2c3a3f4dad9b65dc73416c0bcd",
      "placeholder": "​",
      "style": "IPY_MODEL_af40394a3db54fe291666f8f56dc956f",
      "value": ""
     }
    },
    "a7516f61161b45a0910a1e5f95332fee": {
     "model_module": "jupyter-threejs",
     "model_module_version": "^2.4.1",
     "model_name": "MeshLambertMaterialModel",
     "state": {
      "_model_module": "jupyter-threejs",
      "_model_module_version": "^2.4.1",
      "_model_name": "MeshLambertMaterialModel",
      "_view_count": null,
      "_view_module": null,
      "_view_module_version": "",
      "_view_name": null,
      "alphaMap": null,
      "alphaTest": 0,
      "aoMap": null,
      "aoMapIntensity": 1,
      "blendDst": "OneMinusSrcAlphaFactor",
      "blendDstAlpha": 0,
      "blendEquation": "AddEquation",
      "blendEquationAlpha": 0,
      "blendSrc": "SrcAlphaFactor",
      "blendSrcAlpha": 0,
      "blending": "NormalBlending",
      "clipIntersection": false,
      "clipShadows": false,
      "clippingPlanes": [],
      "color": "#ffffff",
      "colorWrite": true,
      "combine": "MultiplyOperation",
      "defines": null,
      "depthFunc": "LessEqualDepth",
      "depthTest": true,
      "depthWrite": true,
      "dithering": false,
      "emissive": "#000000",
      "emissiveIntensity": 1,
      "emissiveMap": null,
      "envMap": null,
      "flatShading": false,
      "fog": true,
      "lightMap": null,
      "lightMapIntensity": 1,
      "lights": true,
      "map": null,
      "morphNormals": false,
      "morphTargets": false,
      "name": "",
      "opacity": 1,
      "overdraw": 0,
      "polygonOffset": false,
      "polygonOffsetFactor": 0,
      "polygonOffsetUnits": 0,
      "precision": null,
      "premultipliedAlpha": false,
      "reflectivity": 1,
      "refractionRatio": 0.98,
      "shadowSide": null,
      "side": "FrontSide",
      "skinning": false,
      "specularMap": null,
      "transparent": false,
      "type": "MeshLambertMaterial",
      "vertexColors": "NoColors",
      "visible": true,
      "wireframe": false,
      "wireframeLinecap": "round",
      "wireframeLinejoin": "round",
      "wireframeLinewidth": 1
     }
    },
    "a78ecae045ac49bd98453ef28b6c0dc0": {
     "model_module": "jupyter-threejs",
     "model_module_version": "^2.4.1",
     "model_name": "SphereGeometryModel",
     "state": {
      "_model_module": "jupyter-threejs",
      "_model_module_version": "^2.4.1",
      "_model_name": "SphereGeometryModel",
      "_view_count": null,
      "_view_module": null,
      "_view_module_version": "",
      "_view_name": null,
      "heightSegments": 6,
      "name": "",
      "phiLength": 6.283185307179586,
      "phiStart": 0,
      "radius": 0.01,
      "thetaLength": 3.141592653589793,
      "thetaStart": 0,
      "type": "SphereGeometry",
      "widthSegments": 8
     }
    },
    "aa1b151bd4854074afb668382b7465e0": {
     "model_module": "jupyter-threejs",
     "model_module_version": "^2.4.1",
     "model_name": "PickerModel",
     "state": {
      "_model_module": "jupyter-threejs",
      "_model_module_version": "^2.4.1",
      "_model_name": "PickerModel",
      "_view_count": null,
      "_view_module": null,
      "_view_module_version": "",
      "_view_name": null,
      "all": false,
      "controlling": "IPY_MODEL_fd2ca93a5cb748dead7769b3d8a85684",
      "distance": null,
      "event": "dblclick",
      "face": [
       0,
       0,
       0
      ],
      "faceIndex": null,
      "faceNormal": [
       0,
       0,
       0
      ],
      "faceVertices": [],
      "index": null,
      "indices": [],
      "instanceId": null,
      "lineThreshold": 1,
      "modifiers": [],
      "object": null,
      "picked": [],
      "point": [
       0,
       0,
       0
      ],
      "pointThreshold": 1,
      "uv": [
       0,
       0
      ]
     }
    },
    "ae3e5079b4a943b697ecb54b77c0face": {
     "model_module": "jupyter-threejs",
     "model_module_version": "^2.4.1",
     "model_name": "AmbientLightModel",
     "state": {
      "_model_module": "jupyter-threejs",
      "_model_module_version": "^2.4.1",
      "_model_name": "AmbientLightModel",
      "_view_count": null,
      "_view_module": null,
      "_view_module_version": "",
      "_view_name": null,
      "castShadow": false,
      "children": [],
      "color": "#888888",
      "frustumCulled": true,
      "intensity": 1,
      "matrix": [
       1,
       0,
       0,
       0,
       0,
       1,
       0,
       0,
       0,
       0,
       1,
       0,
       0,
       0,
       0,
       1
      ],
      "matrixAutoUpdate": true,
      "matrixWorld": [
       1,
       0,
       0,
       0,
       0,
       1,
       0,
       0,
       0,
       0,
       1,
       0,
       0,
       0,
       0,
       1
      ],
      "matrixWorldNeedsUpdate": false,
      "modelViewMatrix": [
       1,
       0,
       0,
       0,
       0,
       1,
       0,
       0,
       0,
       0,
       1,
       0,
       0,
       0,
       0,
       1
      ],
      "name": "",
      "normalMatrix": [
       1,
       0,
       0,
       0,
       1,
       0,
       0,
       0,
       1
      ],
      "position": [
       0,
       0,
       0
      ],
      "quaternion": [
       0,
       0,
       0,
       1
      ],
      "receiveShadow": false,
      "renderOrder": 0,
      "rotation": [
       0,
       0,
       0,
       "XYZ"
      ],
      "scale": [
       1,
       1,
       1
      ],
      "type": "AmbientLight",
      "up": [
       0,
       1,
       0
      ],
      "visible": true
     }
    },
    "af40394a3db54fe291666f8f56dc956f": {
     "model_module": "@jupyter-widgets/controls",
     "model_module_version": "1.5.0",
     "model_name": "DescriptionStyleModel",
     "state": {
      "_model_module": "@jupyter-widgets/controls",
      "_model_module_version": "1.5.0",
      "_model_name": "DescriptionStyleModel",
      "_view_count": null,
      "_view_module": "@jupyter-widgets/base",
      "_view_module_version": "1.2.0",
      "_view_name": "StyleView",
      "description_width": ""
     }
    },
    "b0f398ca4df341cdb364f4e88a717b86": {
     "model_module": "jupyter-threejs",
     "model_module_version": "^2.4.1",
     "model_name": "BufferAttributeModel",
     "state": {
      "_model_module": "jupyter-threejs",
      "_model_module_version": "^2.4.1",
      "_model_name": "BufferAttributeModel",
      "_view_count": null,
      "_view_module": null,
      "_view_module_version": "",
      "_view_name": null,
      "array": {
       "dtype": "float32",
       "shape": [
        1188,
        3
       ]
      },
      "dynamic": false,
      "needsUpdate": false,
      "normalized": true,
      "version": 1
     }
    },
    "b174f41586af42fdb3bc4f046e11a578": {
     "model_module": "jupyter-threejs",
     "model_module_version": "^2.4.1",
     "model_name": "SphereGeometryModel",
     "state": {
      "_model_module": "jupyter-threejs",
      "_model_module_version": "^2.4.1",
      "_model_name": "SphereGeometryModel",
      "_view_count": null,
      "_view_module": null,
      "_view_module_version": "",
      "_view_name": null,
      "heightSegments": 6,
      "name": "",
      "phiLength": 6.283185307179586,
      "phiStart": 0,
      "radius": 0.01,
      "thetaLength": 3.141592653589793,
      "thetaStart": 0,
      "type": "SphereGeometry",
      "widthSegments": 8
     }
    },
    "b2f1d523b30045e4b2288ee62122ae1f": {
     "model_module": "jupyter-threejs",
     "model_module_version": "^2.4.1",
     "model_name": "SphereGeometryModel",
     "state": {
      "_model_module": "jupyter-threejs",
      "_model_module_version": "^2.4.1",
      "_model_name": "SphereGeometryModel",
      "_view_count": null,
      "_view_module": null,
      "_view_module_version": "",
      "_view_name": null,
      "heightSegments": 6,
      "name": "",
      "phiLength": 6.283185307179586,
      "phiStart": 0,
      "radius": 1,
      "thetaLength": 3.141592653589793,
      "thetaStart": 0,
      "type": "SphereGeometry",
      "widthSegments": 8
     }
    },
    "b5a37eba36824171bf2699716bb47ec1": {
     "model_module": "@jupyter-widgets/controls",
     "model_module_version": "1.5.0",
     "model_name": "DescriptionStyleModel",
     "state": {
      "_model_module": "@jupyter-widgets/controls",
      "_model_module_version": "1.5.0",
      "_model_name": "DescriptionStyleModel",
      "_view_count": null,
      "_view_module": "@jupyter-widgets/base",
      "_view_module_version": "1.2.0",
      "_view_name": "StyleView",
      "description_width": ""
     }
    },
    "b609339bec604da0a39bff2dac46100f": {
     "model_module": "jupyter-threejs",
     "model_module_version": "^2.4.1",
     "model_name": "MeshLambertMaterialModel",
     "state": {
      "_model_module": "jupyter-threejs",
      "_model_module_version": "^2.4.1",
      "_model_name": "MeshLambertMaterialModel",
      "_view_count": null,
      "_view_module": null,
      "_view_module_version": "",
      "_view_name": null,
      "alphaMap": null,
      "alphaTest": 0,
      "aoMap": null,
      "aoMapIntensity": 1,
      "blendDst": "OneMinusSrcAlphaFactor",
      "blendDstAlpha": 0,
      "blendEquation": "AddEquation",
      "blendEquationAlpha": 0,
      "blendSrc": "SrcAlphaFactor",
      "blendSrcAlpha": 0,
      "blending": "NormalBlending",
      "clipIntersection": false,
      "clipShadows": false,
      "clippingPlanes": [],
      "color": "#ffffff",
      "colorWrite": true,
      "combine": "MultiplyOperation",
      "defines": null,
      "depthFunc": "LessEqualDepth",
      "depthTest": true,
      "depthWrite": true,
      "dithering": false,
      "emissive": "#000000",
      "emissiveIntensity": 1,
      "emissiveMap": null,
      "envMap": null,
      "flatShading": false,
      "fog": true,
      "lightMap": null,
      "lightMapIntensity": 1,
      "lights": true,
      "map": null,
      "morphNormals": false,
      "morphTargets": false,
      "name": "",
      "opacity": 1,
      "overdraw": 0,
      "polygonOffset": false,
      "polygonOffsetFactor": 0,
      "polygonOffsetUnits": 0,
      "precision": null,
      "premultipliedAlpha": false,
      "reflectivity": 1,
      "refractionRatio": 0.98,
      "shadowSide": null,
      "side": "FrontSide",
      "skinning": false,
      "specularMap": null,
      "transparent": false,
      "type": "MeshLambertMaterial",
      "vertexColors": "NoColors",
      "visible": true,
      "wireframe": false,
      "wireframeLinecap": "round",
      "wireframeLinejoin": "round",
      "wireframeLinewidth": 1
     }
    },
    "b7f26226462a44d3aafa4e4837db9b2b": {
     "model_module": "jupyter-threejs",
     "model_module_version": "^2.4.1",
     "model_name": "MeshModel",
     "state": {
      "_model_module": "jupyter-threejs",
      "_model_module_version": "^2.4.1",
      "_model_name": "MeshModel",
      "_view_count": null,
      "_view_module": null,
      "_view_module_version": "",
      "_view_name": null,
      "castShadow": false,
      "children": [],
      "drawMode": "TrianglesDrawMode",
      "frustumCulled": true,
      "geometry": "IPY_MODEL_b2f1d523b30045e4b2288ee62122ae1f",
      "material": "IPY_MODEL_18a9ed53013c483d9d3efe7494206b6e",
      "matrix": [
       0,
       0,
       0,
       0,
       0,
       0,
       0,
       0,
       0,
       0,
       0,
       0,
       0.0783719,
       0.00493074,
       2.49877,
       1
      ],
      "matrixAutoUpdate": true,
      "matrixWorld": [
       1,
       0,
       0,
       0,
       0,
       1,
       0,
       0,
       0,
       0,
       1,
       0,
       0,
       0,
       0,
       1
      ],
      "matrixWorldNeedsUpdate": false,
      "modelViewMatrix": [
       1,
       0,
       0,
       0,
       0,
       1,
       0,
       0,
       0,
       0,
       1,
       0,
       0,
       0,
       0,
       1
      ],
      "morphTargetInfluences": [],
      "name": "",
      "normalMatrix": [
       1,
       0,
       0,
       0,
       1,
       0,
       0,
       0,
       1
      ],
      "position": [
       0.0783719,
       0.00493074,
       2.49877
      ],
      "quaternion": [
       0,
       0,
       0,
       1
      ],
      "receiveShadow": false,
      "renderOrder": 0,
      "rotation": [
       0,
       0,
       0,
       "XYZ"
      ],
      "scale": [
       0,
       0,
       0
      ],
      "type": "Mesh",
      "up": [
       0,
       1,
       0
      ],
      "visible": true
     }
    },
    "b9b7f82d04b3484ba587f72a474d8aaa": {
     "model_module": "jupyter-threejs",
     "model_module_version": "^2.4.1",
     "model_name": "SphereGeometryModel",
     "state": {
      "_model_module": "jupyter-threejs",
      "_model_module_version": "^2.4.1",
      "_model_name": "SphereGeometryModel",
      "_view_count": null,
      "_view_module": null,
      "_view_module_version": "",
      "_view_name": null,
      "heightSegments": 6,
      "name": "",
      "phiLength": 6.283185307179586,
      "phiStart": 0,
      "radius": 0.001,
      "thetaLength": 3.141592653589793,
      "thetaStart": 0,
      "type": "SphereGeometry",
      "widthSegments": 8
     }
    },
    "ba4a8d68065349c8a87b361efbd7bd75": {
     "model_module": "jupyter-threejs",
     "model_module_version": "^2.4.1",
     "model_name": "BufferAttributeModel",
     "state": {
      "_model_module": "jupyter-threejs",
      "_model_module_version": "^2.4.1",
      "_model_name": "BufferAttributeModel",
      "_view_count": null,
      "_view_module": null,
      "_view_module_version": "",
      "_view_name": null,
      "array": {
       "dtype": "float32",
       "shape": [
        29988,
        3
       ]
      },
      "dynamic": false,
      "needsUpdate": false,
      "normalized": true,
      "version": 1
     }
    },
    "bb7210c363df43749d02948500fda489": {
     "model_module": "jupyter-threejs",
     "model_module_version": "^2.4.1",
     "model_name": "RendererModel",
     "state": {
      "_alpha": false,
      "_antialias": false,
      "_dom_classes": [],
      "_height": 600,
      "_model_module": "jupyter-threejs",
      "_model_module_version": "^2.4.1",
      "_model_name": "RendererModel",
      "_pause_autorender": false,
      "_view_count": null,
      "_view_module": "jupyter-threejs",
      "_view_module_version": "^2.4.1",
      "_view_name": "RendererView",
      "_webgl_version": 2,
      "_width": 600,
      "autoClear": true,
      "autoClearColor": true,
      "autoClearDepth": true,
      "autoClearStencil": true,
      "background": "#cccc88",
      "background_opacity": 0,
      "camera": "IPY_MODEL_34945a33ed1c4c96b6a457467011df26",
      "clearColor": "#000000",
      "clearOpacity": 1,
      "clippingPlanes": [],
      "controls": [
       "IPY_MODEL_521f6f29bb3740f9859f2c9031c00da0",
       "IPY_MODEL_98d1fbf94fe04490b7e06db5dd49fb62"
      ],
      "gammaFactor": 2,
      "gammaInput": false,
      "gammaOutput": false,
      "layout": "IPY_MODEL_dca8377523e045c48463c3995ebcaff9",
      "localClippingEnabled": false,
      "maxMorphNormals": 4,
      "maxMorphTargets": 8,
      "physicallyCorrectLights": false,
      "scene": "IPY_MODEL_d5768bb9bfd74411857e9f9c65718d09",
      "shadowMap": "IPY_MODEL_9be56f6f1d4f417fb9b4805fcbfa9102",
      "sortObject": true,
      "toneMapping": "LinearToneMapping",
      "toneMappingExposure": 1,
      "toneMappingWhitePoint": 1
     }
    },
    "bbab1b99e3b44f17b00d6caea7a4c0cb": {
     "model_module": "jupyter-threejs",
     "model_module_version": "^2.4.1",
     "model_name": "MeshLambertMaterialModel",
     "state": {
      "_model_module": "jupyter-threejs",
      "_model_module_version": "^2.4.1",
      "_model_name": "MeshLambertMaterialModel",
      "_view_count": null,
      "_view_module": null,
      "_view_module_version": "",
      "_view_name": null,
      "alphaMap": null,
      "alphaTest": 0,
      "aoMap": null,
      "aoMapIntensity": 1,
      "blendDst": "OneMinusSrcAlphaFactor",
      "blendDstAlpha": 0,
      "blendEquation": "AddEquation",
      "blendEquationAlpha": 0,
      "blendSrc": "SrcAlphaFactor",
      "blendSrcAlpha": 0,
      "blending": "NormalBlending",
      "clipIntersection": false,
      "clipShadows": false,
      "clippingPlanes": [],
      "color": "#ffffff",
      "colorWrite": true,
      "combine": "MultiplyOperation",
      "defines": null,
      "depthFunc": "LessEqualDepth",
      "depthTest": true,
      "depthWrite": true,
      "dithering": false,
      "emissive": "#000000",
      "emissiveIntensity": 1,
      "emissiveMap": null,
      "envMap": null,
      "flatShading": false,
      "fog": true,
      "lightMap": null,
      "lightMapIntensity": 1,
      "lights": true,
      "map": null,
      "morphNormals": false,
      "morphTargets": false,
      "name": "",
      "opacity": 1,
      "overdraw": 0,
      "polygonOffset": false,
      "polygonOffsetFactor": 0,
      "polygonOffsetUnits": 0,
      "precision": null,
      "premultipliedAlpha": false,
      "reflectivity": 1,
      "refractionRatio": 0.98,
      "shadowSide": null,
      "side": "FrontSide",
      "skinning": false,
      "specularMap": null,
      "transparent": false,
      "type": "MeshLambertMaterial",
      "vertexColors": "VertexColors",
      "visible": true,
      "wireframe": false,
      "wireframeLinecap": "round",
      "wireframeLinejoin": "round",
      "wireframeLinewidth": 1
     }
    },
    "bc15d3a9df9b44198aa6848a713b6629": {
     "model_module": "@jupyter-widgets/base",
     "model_module_version": "1.2.0",
     "model_name": "LayoutModel",
     "state": {
      "_model_module": "@jupyter-widgets/base",
      "_model_module_version": "1.2.0",
      "_model_name": "LayoutModel",
      "_view_count": null,
      "_view_module": "@jupyter-widgets/base",
      "_view_module_version": "1.2.0",
      "_view_name": "LayoutView",
      "align_content": null,
      "align_items": null,
      "align_self": null,
      "border": null,
      "bottom": null,
      "display": null,
      "flex": null,
      "flex_flow": null,
      "grid_area": null,
      "grid_auto_columns": null,
      "grid_auto_flow": null,
      "grid_auto_rows": null,
      "grid_column": null,
      "grid_gap": null,
      "grid_row": null,
      "grid_template_areas": null,
      "grid_template_columns": null,
      "grid_template_rows": null,
      "height": null,
      "justify_content": null,
      "justify_items": null,
      "left": null,
      "margin": null,
      "max_height": null,
      "max_width": null,
      "min_height": null,
      "min_width": null,
      "object_fit": null,
      "object_position": null,
      "order": null,
      "overflow": null,
      "overflow_x": null,
      "overflow_y": null,
      "padding": null,
      "right": null,
      "top": null,
      "visibility": null,
      "width": null
     }
    },
    "bc34cc2e5a5f4c558f6c0d61abf337cd": {
     "model_module": "@jupyter-widgets/base",
     "model_module_version": "1.2.0",
     "model_name": "LayoutModel",
     "state": {
      "_model_module": "@jupyter-widgets/base",
      "_model_module_version": "1.2.0",
      "_model_name": "LayoutModel",
      "_view_count": null,
      "_view_module": "@jupyter-widgets/base",
      "_view_module_version": "1.2.0",
      "_view_name": "LayoutView",
      "align_content": null,
      "align_items": null,
      "align_self": null,
      "border": null,
      "bottom": null,
      "display": null,
      "flex": null,
      "flex_flow": null,
      "grid_area": null,
      "grid_auto_columns": null,
      "grid_auto_flow": null,
      "grid_auto_rows": null,
      "grid_column": null,
      "grid_gap": null,
      "grid_row": null,
      "grid_template_areas": null,
      "grid_template_columns": null,
      "grid_template_rows": null,
      "height": null,
      "justify_content": null,
      "justify_items": null,
      "left": null,
      "margin": null,
      "max_height": null,
      "max_width": null,
      "min_height": null,
      "min_width": null,
      "object_fit": null,
      "object_position": null,
      "order": null,
      "overflow": null,
      "overflow_x": null,
      "overflow_y": null,
      "padding": null,
      "right": null,
      "top": null,
      "visibility": null,
      "width": null
     }
    },
    "c564f1114a95436cb7772aec780482d8": {
     "model_module": "@jupyter-widgets/controls",
     "model_module_version": "1.5.0",
     "model_name": "VBoxModel",
     "state": {
      "_dom_classes": [],
      "_model_module": "@jupyter-widgets/controls",
      "_model_module_version": "1.5.0",
      "_model_name": "VBoxModel",
      "_view_count": null,
      "_view_module": "@jupyter-widgets/controls",
      "_view_module_version": "1.5.0",
      "_view_name": "VBoxView",
      "box_style": "",
      "children": [
       "IPY_MODEL_3dcd5f3e2ef14d40b75126ef0a16735d",
       "IPY_MODEL_5a9bc77f343d4163bd4ddbbc743fd692",
       "IPY_MODEL_8ab5d76dae5d4df2929fdcaeb341bda2",
       "IPY_MODEL_5dbabdd5b81240bc8a75339f30cfff01"
      ],
      "layout": "IPY_MODEL_98d41f1570904ccc9494ec8d10ce457a"
     }
    },
    "c61938f770e9459e8ca2ac018f8dfcf7": {
     "model_module": "@jupyter-widgets/base",
     "model_module_version": "1.2.0",
     "model_name": "LayoutModel",
     "state": {
      "_model_module": "@jupyter-widgets/base",
      "_model_module_version": "1.2.0",
      "_model_name": "LayoutModel",
      "_view_count": null,
      "_view_module": "@jupyter-widgets/base",
      "_view_module_version": "1.2.0",
      "_view_name": "LayoutView",
      "align_content": null,
      "align_items": null,
      "align_self": null,
      "border": null,
      "bottom": null,
      "display": null,
      "flex": null,
      "flex_flow": null,
      "grid_area": null,
      "grid_auto_columns": null,
      "grid_auto_flow": null,
      "grid_auto_rows": null,
      "grid_column": null,
      "grid_gap": null,
      "grid_row": null,
      "grid_template_areas": null,
      "grid_template_columns": null,
      "grid_template_rows": null,
      "height": null,
      "justify_content": null,
      "justify_items": null,
      "left": null,
      "margin": null,
      "max_height": null,
      "max_width": null,
      "min_height": null,
      "min_width": null,
      "object_fit": null,
      "object_position": null,
      "order": null,
      "overflow": null,
      "overflow_x": null,
      "overflow_y": null,
      "padding": null,
      "right": null,
      "top": null,
      "visibility": null,
      "width": null
     }
    },
    "c686a9b3b7a64bf4b8797a7e740b2dbe": {
     "model_module": "jupyter-threejs",
     "model_module_version": "^2.4.1",
     "model_name": "MeshLambertMaterialModel",
     "state": {
      "_model_module": "jupyter-threejs",
      "_model_module_version": "^2.4.1",
      "_model_name": "MeshLambertMaterialModel",
      "_view_count": null,
      "_view_module": null,
      "_view_module_version": "",
      "_view_name": null,
      "alphaMap": null,
      "alphaTest": 0,
      "aoMap": null,
      "aoMapIntensity": 1,
      "blendDst": "OneMinusSrcAlphaFactor",
      "blendDstAlpha": 0,
      "blendEquation": "AddEquation",
      "blendEquationAlpha": 0,
      "blendSrc": "SrcAlphaFactor",
      "blendSrcAlpha": 0,
      "blending": "NormalBlending",
      "clipIntersection": false,
      "clipShadows": false,
      "clippingPlanes": [],
      "color": "#ffffff",
      "colorWrite": true,
      "combine": "MultiplyOperation",
      "defines": null,
      "depthFunc": "LessEqualDepth",
      "depthTest": true,
      "depthWrite": true,
      "dithering": false,
      "emissive": "#000000",
      "emissiveIntensity": 1,
      "emissiveMap": null,
      "envMap": null,
      "flatShading": false,
      "fog": true,
      "lightMap": null,
      "lightMapIntensity": 1,
      "lights": true,
      "map": null,
      "morphNormals": false,
      "morphTargets": false,
      "name": "",
      "opacity": 1,
      "overdraw": 0,
      "polygonOffset": false,
      "polygonOffsetFactor": 0,
      "polygonOffsetUnits": 0,
      "precision": null,
      "premultipliedAlpha": false,
      "reflectivity": 1,
      "refractionRatio": 0.98,
      "shadowSide": null,
      "side": "FrontSide",
      "skinning": false,
      "specularMap": null,
      "transparent": false,
      "type": "MeshLambertMaterial",
      "vertexColors": "VertexColors",
      "visible": true,
      "wireframe": false,
      "wireframeLinecap": "round",
      "wireframeLinejoin": "round",
      "wireframeLinewidth": 1
     }
    },
    "c6c071b58c224649a439dca503e41fe2": {
     "model_module": "jupyter-threejs",
     "model_module_version": "^2.4.1",
     "model_name": "MeshLambertMaterialModel",
     "state": {
      "_model_module": "jupyter-threejs",
      "_model_module_version": "^2.4.1",
      "_model_name": "MeshLambertMaterialModel",
      "_view_count": null,
      "_view_module": null,
      "_view_module_version": "",
      "_view_name": null,
      "alphaMap": null,
      "alphaTest": 0,
      "aoMap": null,
      "aoMapIntensity": 1,
      "blendDst": "OneMinusSrcAlphaFactor",
      "blendDstAlpha": 0,
      "blendEquation": "AddEquation",
      "blendEquationAlpha": 0,
      "blendSrc": "SrcAlphaFactor",
      "blendSrcAlpha": 0,
      "blending": "NormalBlending",
      "clipIntersection": false,
      "clipShadows": false,
      "clippingPlanes": [],
      "color": "#ffffff",
      "colorWrite": true,
      "combine": "MultiplyOperation",
      "defines": null,
      "depthFunc": "LessEqualDepth",
      "depthTest": true,
      "depthWrite": true,
      "dithering": false,
      "emissive": "#000000",
      "emissiveIntensity": 1,
      "emissiveMap": null,
      "envMap": null,
      "flatShading": false,
      "fog": true,
      "lightMap": null,
      "lightMapIntensity": 1,
      "lights": true,
      "map": null,
      "morphNormals": false,
      "morphTargets": false,
      "name": "",
      "opacity": 1,
      "overdraw": 0,
      "polygonOffset": false,
      "polygonOffsetFactor": 0,
      "polygonOffsetUnits": 0,
      "precision": null,
      "premultipliedAlpha": false,
      "reflectivity": 1,
      "refractionRatio": 0.98,
      "shadowSide": null,
      "side": "FrontSide",
      "skinning": false,
      "specularMap": null,
      "transparent": false,
      "type": "MeshLambertMaterial",
      "vertexColors": "NoColors",
      "visible": true,
      "wireframe": false,
      "wireframeLinecap": "round",
      "wireframeLinejoin": "round",
      "wireframeLinewidth": 1
     }
    },
    "cc86458070e744229cd063ab99e6888e": {
     "model_module": "jupyter-threejs",
     "model_module_version": "^2.4.1",
     "model_name": "SceneModel",
     "state": {
      "_model_module": "jupyter-threejs",
      "_model_module_version": "^2.4.1",
      "_model_name": "SceneModel",
      "_view_count": null,
      "_view_module": null,
      "_view_module_version": "",
      "_view_name": null,
      "autoUpdate": true,
      "background": "#ffffff",
      "castShadow": false,
      "children": [
       "IPY_MODEL_fd2ca93a5cb748dead7769b3d8a85684",
       "IPY_MODEL_d927a0442cb945dc8a96dc9a42a830b3",
       "IPY_MODEL_b7f26226462a44d3aafa4e4837db9b2b",
       "IPY_MODEL_3dd3e44ed1ae47aead169d3bc757935e",
       "IPY_MODEL_55c5647be73c46a5bd569221759b5fba",
       "IPY_MODEL_fc64775db07b4bec83b8d7af129b331f",
       "IPY_MODEL_dd631e85adbd445f96fc5a4c9d8fd8bc",
       "IPY_MODEL_a30356d422994a7bbbbb27c5e8efc4f8"
      ],
      "fog": null,
      "frustumCulled": true,
      "matrix": [
       1,
       0,
       0,
       0,
       0,
       1,
       0,
       0,
       0,
       0,
       1,
       0,
       0,
       0,
       0,
       1
      ],
      "matrixAutoUpdate": true,
      "matrixWorld": [
       1,
       0,
       0,
       0,
       0,
       1,
       0,
       0,
       0,
       0,
       1,
       0,
       0,
       0,
       0,
       1
      ],
      "matrixWorldNeedsUpdate": false,
      "modelViewMatrix": [
       1,
       0,
       0,
       0,
       0,
       1,
       0,
       0,
       0,
       0,
       1,
       0,
       0,
       0,
       0,
       1
      ],
      "name": "",
      "normalMatrix": [
       1,
       0,
       0,
       0,
       1,
       0,
       0,
       0,
       1
      ],
      "overrideMaterial": null,
      "position": [
       0,
       0,
       0
      ],
      "quaternion": [
       0,
       0,
       0,
       1
      ],
      "receiveShadow": false,
      "renderOrder": 0,
      "rotation": [
       0,
       0,
       0,
       "XYZ"
      ],
      "scale": [
       1,
       1,
       1
      ],
      "type": "Scene",
      "up": [
       0,
       1,
       0
      ],
      "visible": true
     }
    },
    "ce8fb06bd6c44d27989fb5471e891963": {
     "model_module": "@jupyter-widgets/base",
     "model_module_version": "1.2.0",
     "model_name": "LayoutModel",
     "state": {
      "_model_module": "@jupyter-widgets/base",
      "_model_module_version": "1.2.0",
      "_model_name": "LayoutModel",
      "_view_count": null,
      "_view_module": "@jupyter-widgets/base",
      "_view_module_version": "1.2.0",
      "_view_name": "LayoutView",
      "align_content": null,
      "align_items": null,
      "align_self": null,
      "border": null,
      "bottom": null,
      "display": null,
      "flex": null,
      "flex_flow": null,
      "grid_area": null,
      "grid_auto_columns": null,
      "grid_auto_flow": null,
      "grid_auto_rows": null,
      "grid_column": null,
      "grid_gap": null,
      "grid_row": null,
      "grid_template_areas": null,
      "grid_template_columns": null,
      "grid_template_rows": null,
      "height": null,
      "justify_content": null,
      "justify_items": null,
      "left": null,
      "margin": null,
      "max_height": null,
      "max_width": null,
      "min_height": null,
      "min_width": null,
      "object_fit": null,
      "object_position": null,
      "order": null,
      "overflow": null,
      "overflow_x": null,
      "overflow_y": null,
      "padding": null,
      "right": null,
      "top": null,
      "visibility": null,
      "width": null
     }
    },
    "cf99ceb111604c429b16a90fb5aae496": {
     "model_module": "jupyter-threejs",
     "model_module_version": "^2.4.1",
     "model_name": "MeshModel",
     "state": {
      "_model_module": "jupyter-threejs",
      "_model_module_version": "^2.4.1",
      "_model_name": "MeshModel",
      "_view_count": null,
      "_view_module": null,
      "_view_module_version": "",
      "_view_name": null,
      "castShadow": false,
      "children": [],
      "drawMode": "TrianglesDrawMode",
      "frustumCulled": true,
      "geometry": "IPY_MODEL_03d8362f79f94aeba8c954e6f5553862",
      "material": "IPY_MODEL_d51eccd6aaf84d458a0c480962c7acbb",
      "matrix": [
       1,
       0,
       0,
       0,
       0,
       1,
       0,
       0,
       0,
       0,
       1,
       0,
       0,
       0,
       0,
       1
      ],
      "matrixAutoUpdate": true,
      "matrixWorld": [
       1,
       0,
       0,
       0,
       0,
       1,
       0,
       0,
       0,
       0,
       1,
       0,
       0,
       0,
       0,
       1
      ],
      "matrixWorldNeedsUpdate": false,
      "modelViewMatrix": [
       1,
       0,
       0,
       0,
       0,
       1,
       0,
       0,
       0,
       0,
       1,
       0,
       0,
       0,
       0,
       1
      ],
      "morphTargetInfluences": [],
      "name": "",
      "normalMatrix": [
       1,
       0,
       0,
       0,
       1,
       0,
       0,
       0,
       1
      ],
      "position": [
       0,
       0,
       0
      ],
      "quaternion": [
       0,
       0,
       0,
       1
      ],
      "receiveShadow": false,
      "renderOrder": 0,
      "rotation": [
       0,
       0,
       0,
       "XYZ"
      ],
      "scale": [
       1,
       1,
       1
      ],
      "type": "Mesh",
      "up": [
       0,
       1,
       0
      ],
      "visible": true
     }
    },
    "cfd655b8508e4f21a04059ade3dc3c38": {
     "model_module": "jupyter-threejs",
     "model_module_version": "^2.4.1",
     "model_name": "MeshModel",
     "state": {
      "_model_module": "jupyter-threejs",
      "_model_module_version": "^2.4.1",
      "_model_name": "MeshModel",
      "_view_count": null,
      "_view_module": null,
      "_view_module_version": "",
      "_view_name": null,
      "castShadow": false,
      "children": [],
      "drawMode": "TrianglesDrawMode",
      "frustumCulled": true,
      "geometry": "IPY_MODEL_a78ecae045ac49bd98453ef28b6c0dc0",
      "material": "IPY_MODEL_ded73178f3244faa98cd1091cab970b1",
      "matrix": [
       1,
       0,
       0,
       0,
       0,
       1,
       0,
       0,
       0,
       0,
       1,
       0,
       0,
       0,
       0,
       1
      ],
      "matrixAutoUpdate": true,
      "matrixWorld": [
       1,
       0,
       0,
       0,
       0,
       1,
       0,
       0,
       0,
       0,
       1,
       0,
       0,
       0,
       0,
       1
      ],
      "matrixWorldNeedsUpdate": false,
      "modelViewMatrix": [
       1,
       0,
       0,
       0,
       0,
       1,
       0,
       0,
       0,
       0,
       1,
       0,
       0,
       0,
       0,
       1
      ],
      "morphTargetInfluences": [],
      "name": "",
      "normalMatrix": [
       1,
       0,
       0,
       0,
       1,
       0,
       0,
       0,
       1
      ],
      "position": [
       0,
       0,
       0
      ],
      "quaternion": [
       0,
       0,
       0,
       1
      ],
      "receiveShadow": false,
      "renderOrder": 0,
      "rotation": [
       0,
       0,
       0,
       "XYZ"
      ],
      "scale": [
       1,
       1,
       1
      ],
      "type": "Mesh",
      "up": [
       0,
       1,
       0
      ],
      "visible": true
     }
    },
    "d406a167e16143738f5d0c552f92a914": {
     "model_module": "jupyter-threejs",
     "model_module_version": "^2.4.1",
     "model_name": "PerspectiveCameraModel",
     "state": {
      "_model_module": "jupyter-threejs",
      "_model_module_version": "^2.4.1",
      "_model_name": "PerspectiveCameraModel",
      "_view_count": null,
      "_view_module": null,
      "_view_module_version": "",
      "_view_name": null,
      "aspect": 1,
      "castShadow": false,
      "children": [
       "IPY_MODEL_78d3adb32e1744f9a9a9d5b6f0cdb3a3"
      ],
      "far": 2000,
      "focus": 10,
      "fov": 20,
      "frustumCulled": true,
      "matrix": [
       1,
       0,
       0,
       0,
       0,
       1,
       0,
       0,
       0,
       0,
       1,
       0,
       79.01504,
       79.01504,
       79.01504,
       1
      ],
      "matrixAutoUpdate": true,
      "matrixWorld": [
       1,
       0,
       0,
       0,
       0,
       1,
       0,
       0,
       0,
       0,
       1,
       0,
       0,
       0,
       0,
       1
      ],
      "matrixWorldInverse": [
       1,
       0,
       0,
       0,
       0,
       1,
       0,
       0,
       0,
       0,
       1,
       0,
       0,
       0,
       0,
       1
      ],
      "matrixWorldNeedsUpdate": false,
      "modelViewMatrix": [
       1,
       0,
       0,
       0,
       0,
       1,
       0,
       0,
       0,
       0,
       1,
       0,
       0,
       0,
       0,
       1
      ],
      "name": "",
      "near": 0.1,
      "normalMatrix": [
       1,
       0,
       0,
       0,
       1,
       0,
       0,
       0,
       1
      ],
      "position": [
       48.9551743622369,
       77.14101123568864,
       73.62758787567188
      ],
      "projectionMatrix": [
       5.67128181961771,
       0,
       0,
       0,
       0,
       5.67128181961771,
       0,
       0,
       0,
       0,
       -1.00010000500025,
       -1,
       0,
       0,
       -0.200010000500025,
       0
      ],
      "quaternion": [
       0.12040668456459962,
       0.41444252665324854,
       0.8662570951237754,
       0.25167095096802666
      ],
      "receiveShadow": false,
      "renderOrder": 0,
      "rotation": [
       0,
       0,
       0,
       "XYZ"
      ],
      "scale": [
       1,
       1,
       1
      ],
      "type": "PerspectiveCamera",
      "up": [
       0,
       0,
       1
      ],
      "visible": true,
      "zoom": 1
     }
    },
    "d51eccd6aaf84d458a0c480962c7acbb": {
     "model_module": "jupyter-threejs",
     "model_module_version": "^2.4.1",
     "model_name": "MeshLambertMaterialModel",
     "state": {
      "_model_module": "jupyter-threejs",
      "_model_module_version": "^2.4.1",
      "_model_name": "MeshLambertMaterialModel",
      "_view_count": null,
      "_view_module": null,
      "_view_module_version": "",
      "_view_name": null,
      "alphaMap": null,
      "alphaTest": 0,
      "aoMap": null,
      "aoMapIntensity": 1,
      "blendDst": "OneMinusSrcAlphaFactor",
      "blendDstAlpha": 0,
      "blendEquation": "AddEquation",
      "blendEquationAlpha": 0,
      "blendSrc": "SrcAlphaFactor",
      "blendSrcAlpha": 0,
      "blending": "NormalBlending",
      "clipIntersection": false,
      "clipShadows": false,
      "clippingPlanes": [],
      "color": "#ffffff",
      "colorWrite": true,
      "combine": "MultiplyOperation",
      "defines": null,
      "depthFunc": "LessEqualDepth",
      "depthTest": true,
      "depthWrite": true,
      "dithering": false,
      "emissive": "#000000",
      "emissiveIntensity": 1,
      "emissiveMap": null,
      "envMap": null,
      "flatShading": false,
      "fog": true,
      "lightMap": null,
      "lightMapIntensity": 1,
      "lights": true,
      "map": null,
      "morphNormals": false,
      "morphTargets": false,
      "name": "",
      "opacity": 1,
      "overdraw": 0,
      "polygonOffset": false,
      "polygonOffsetFactor": 0,
      "polygonOffsetUnits": 0,
      "precision": null,
      "premultipliedAlpha": false,
      "reflectivity": 1,
      "refractionRatio": 0.98,
      "shadowSide": null,
      "side": "FrontSide",
      "skinning": false,
      "specularMap": null,
      "transparent": false,
      "type": "MeshLambertMaterial",
      "vertexColors": "VertexColors",
      "visible": true,
      "wireframe": false,
      "wireframeLinecap": "round",
      "wireframeLinejoin": "round",
      "wireframeLinewidth": 1
     }
    },
    "d5768bb9bfd74411857e9f9c65718d09": {
     "model_module": "jupyter-threejs",
     "model_module_version": "^2.4.1",
     "model_name": "SceneModel",
     "state": {
      "_model_module": "jupyter-threejs",
      "_model_module_version": "^2.4.1",
      "_model_name": "SceneModel",
      "_view_count": null,
      "_view_module": null,
      "_view_module_version": "",
      "_view_name": null,
      "autoUpdate": true,
      "background": "#ffffff",
      "castShadow": false,
      "children": [
       "IPY_MODEL_d7ac3e2f000b4852aeddda8bcbc3dabd",
       "IPY_MODEL_893abdc2ebc841a29b646a3bcbc9dd35",
       "IPY_MODEL_e99f23e7802c4842a2a4e380ee82ebe3",
       "IPY_MODEL_d864b01c5c404aeeadac12de79ec59cb",
       "IPY_MODEL_1d7782dc81e046bfb51385c07eefb033",
       "IPY_MODEL_34945a33ed1c4c96b6a457467011df26",
       "IPY_MODEL_86c754de650a4e1fbf0e75b1ab749d2e",
       "IPY_MODEL_7762dc8901a14826b215ab33fbe3082e"
      ],
      "fog": null,
      "frustumCulled": true,
      "matrix": [
       1,
       0,
       0,
       0,
       0,
       1,
       0,
       0,
       0,
       0,
       1,
       0,
       0,
       0,
       0,
       1
      ],
      "matrixAutoUpdate": true,
      "matrixWorld": [
       1,
       0,
       0,
       0,
       0,
       1,
       0,
       0,
       0,
       0,
       1,
       0,
       0,
       0,
       0,
       1
      ],
      "matrixWorldNeedsUpdate": false,
      "modelViewMatrix": [
       1,
       0,
       0,
       0,
       0,
       1,
       0,
       0,
       0,
       0,
       1,
       0,
       0,
       0,
       0,
       1
      ],
      "name": "",
      "normalMatrix": [
       1,
       0,
       0,
       0,
       1,
       0,
       0,
       0,
       1
      ],
      "overrideMaterial": null,
      "position": [
       0,
       0,
       0
      ],
      "quaternion": [
       0,
       0,
       0,
       1
      ],
      "receiveShadow": false,
      "renderOrder": 0,
      "rotation": [
       0,
       0,
       0,
       "XYZ"
      ],
      "scale": [
       1,
       1,
       1
      ],
      "type": "Scene",
      "up": [
       0,
       1,
       0
      ],
      "visible": true
     }
    },
    "d7ac3e2f000b4852aeddda8bcbc3dabd": {
     "model_module": "jupyter-threejs",
     "model_module_version": "^2.4.1",
     "model_name": "MeshModel",
     "state": {
      "_model_module": "jupyter-threejs",
      "_model_module_version": "^2.4.1",
      "_model_name": "MeshModel",
      "_view_count": null,
      "_view_module": null,
      "_view_module_version": "",
      "_view_name": null,
      "castShadow": false,
      "children": [],
      "drawMode": "TrianglesDrawMode",
      "frustumCulled": true,
      "geometry": "IPY_MODEL_33034efc0a0f4d18b77fb53492f3a91c",
      "material": "IPY_MODEL_96776c3e4c0045a7bfc5f9c9a9901676",
      "matrix": [
       1,
       0,
       0,
       0,
       0,
       1,
       0,
       0,
       0,
       0,
       1,
       0,
       0,
       0,
       0,
       1
      ],
      "matrixAutoUpdate": true,
      "matrixWorld": [
       1,
       0,
       0,
       0,
       0,
       1,
       0,
       0,
       0,
       0,
       1,
       0,
       0,
       0,
       0,
       1
      ],
      "matrixWorldNeedsUpdate": false,
      "modelViewMatrix": [
       1,
       0,
       0,
       0,
       0,
       1,
       0,
       0,
       0,
       0,
       1,
       0,
       0,
       0,
       0,
       1
      ],
      "morphTargetInfluences": [],
      "name": "",
      "normalMatrix": [
       1,
       0,
       0,
       0,
       1,
       0,
       0,
       0,
       1
      ],
      "position": [
       0,
       0,
       0
      ],
      "quaternion": [
       0,
       0,
       0,
       1
      ],
      "receiveShadow": false,
      "renderOrder": 0,
      "rotation": [
       0,
       0,
       0,
       "XYZ"
      ],
      "scale": [
       1,
       1,
       1
      ],
      "type": "Mesh",
      "up": [
       0,
       1,
       0
      ],
      "visible": true
     }
    },
    "d7e6cdc3032a40c3b2b28f36ad412622": {
     "model_module": "jupyter-threejs",
     "model_module_version": "^2.4.1",
     "model_name": "BufferAttributeModel",
     "state": {
      "_model_module": "jupyter-threejs",
      "_model_module_version": "^2.4.1",
      "_model_name": "BufferAttributeModel",
      "_view_count": null,
      "_view_module": null,
      "_view_module_version": "",
      "_view_name": null,
      "array": {
       "dtype": "float32",
       "shape": [
        11988,
        3
       ]
      },
      "dynamic": false,
      "needsUpdate": false,
      "normalized": true,
      "version": 1
     }
    },
    "d864b01c5c404aeeadac12de79ec59cb": {
     "model_module": "jupyter-threejs",
     "model_module_version": "^2.4.1",
     "model_name": "MeshModel",
     "state": {
      "_model_module": "jupyter-threejs",
      "_model_module_version": "^2.4.1",
      "_model_name": "MeshModel",
      "_view_count": null,
      "_view_module": null,
      "_view_module_version": "",
      "_view_name": null,
      "castShadow": false,
      "children": [],
      "drawMode": "TrianglesDrawMode",
      "frustumCulled": true,
      "geometry": "IPY_MODEL_b174f41586af42fdb3bc4f046e11a578",
      "material": "IPY_MODEL_c6c071b58c224649a439dca503e41fe2",
      "matrix": [
       1,
       0,
       0,
       0,
       0,
       1,
       0,
       0,
       0,
       0,
       1,
       0,
       0,
       0,
       0,
       1
      ],
      "matrixAutoUpdate": true,
      "matrixWorld": [
       1,
       0,
       0,
       0,
       0,
       1,
       0,
       0,
       0,
       0,
       1,
       0,
       0,
       0,
       0,
       1
      ],
      "matrixWorldNeedsUpdate": false,
      "modelViewMatrix": [
       1,
       0,
       0,
       0,
       0,
       1,
       0,
       0,
       0,
       0,
       1,
       0,
       0,
       0,
       0,
       1
      ],
      "morphTargetInfluences": [],
      "name": "",
      "normalMatrix": [
       1,
       0,
       0,
       0,
       1,
       0,
       0,
       0,
       1
      ],
      "position": [
       0,
       0,
       0
      ],
      "quaternion": [
       0,
       0,
       0,
       1
      ],
      "receiveShadow": false,
      "renderOrder": 0,
      "rotation": [
       0,
       0,
       0,
       "XYZ"
      ],
      "scale": [
       1,
       1,
       1
      ],
      "type": "Mesh",
      "up": [
       0,
       1,
       0
      ],
      "visible": true
     }
    },
    "d927a0442cb945dc8a96dc9a42a830b3": {
     "model_module": "jupyter-threejs",
     "model_module_version": "^2.4.1",
     "model_name": "LineSegmentsModel",
     "state": {
      "_model_module": "jupyter-threejs",
      "_model_module_version": "^2.4.1",
      "_model_name": "LineSegmentsModel",
      "_view_count": null,
      "_view_module": null,
      "_view_module_version": "",
      "_view_name": null,
      "castShadow": false,
      "children": [],
      "frustumCulled": true,
      "geometry": "IPY_MODEL_98780d2895f3407a8b20c22e27bbe3ec",
      "material": "IPY_MODEL_e82f3763ae894e24ab7604a89ee9a812",
      "matrix": [
       1,
       0,
       0,
       0,
       0,
       1,
       0,
       0,
       0,
       0,
       1,
       0,
       0,
       0,
       0,
       1
      ],
      "matrixAutoUpdate": true,
      "matrixWorld": [
       1,
       0,
       0,
       0,
       0,
       1,
       0,
       0,
       0,
       0,
       1,
       0,
       0,
       0,
       0,
       1
      ],
      "matrixWorldNeedsUpdate": false,
      "modelViewMatrix": [
       1,
       0,
       0,
       0,
       0,
       1,
       0,
       0,
       0,
       0,
       1,
       0,
       0,
       0,
       0,
       1
      ],
      "name": "",
      "normalMatrix": [
       1,
       0,
       0,
       0,
       1,
       0,
       0,
       0,
       1
      ],
      "position": [
       0,
       0,
       0
      ],
      "quaternion": [
       0,
       0,
       0,
       1
      ],
      "receiveShadow": false,
      "renderOrder": 0,
      "rotation": [
       0,
       0,
       0,
       "XYZ"
      ],
      "scale": [
       1,
       1,
       1
      ],
      "type": "LineSegments",
      "up": [
       0,
       1,
       0
      ],
      "visible": true
     }
    },
    "dbab9bfdb41a4d618c48ebf2a20b422e": {
     "model_module": "jupyter-threejs",
     "model_module_version": "^2.4.1",
     "model_name": "LineBasicMaterialModel",
     "state": {
      "_model_module": "jupyter-threejs",
      "_model_module_version": "^2.4.1",
      "_model_name": "LineBasicMaterialModel",
      "_view_count": null,
      "_view_module": null,
      "_view_module_version": "",
      "_view_name": null,
      "alphaTest": 0,
      "blendDst": "OneMinusSrcAlphaFactor",
      "blendDstAlpha": 0,
      "blendEquation": "AddEquation",
      "blendEquationAlpha": 0,
      "blendSrc": "SrcAlphaFactor",
      "blendSrcAlpha": 0,
      "blending": "NormalBlending",
      "clipIntersection": false,
      "clipShadows": false,
      "clippingPlanes": [],
      "color": "#ffffff",
      "colorWrite": true,
      "defines": null,
      "depthFunc": "LessEqualDepth",
      "depthTest": true,
      "depthWrite": true,
      "dithering": false,
      "flatShading": false,
      "fog": true,
      "lights": false,
      "linecap": "round",
      "linejoin": "round",
      "linewidth": 1,
      "name": "",
      "opacity": 0.5,
      "overdraw": 0,
      "polygonOffset": false,
      "polygonOffsetFactor": 0,
      "polygonOffsetUnits": 0,
      "precision": null,
      "premultipliedAlpha": false,
      "shadowSide": null,
      "side": "FrontSide",
      "transparent": true,
      "type": "LineBasicMaterial",
      "vertexColors": "VertexColors",
      "visible": true
     }
    },
    "dca8377523e045c48463c3995ebcaff9": {
     "model_module": "@jupyter-widgets/base",
     "model_module_version": "1.2.0",
     "model_name": "LayoutModel",
     "state": {
      "_model_module": "@jupyter-widgets/base",
      "_model_module_version": "1.2.0",
      "_model_name": "LayoutModel",
      "_view_count": null,
      "_view_module": "@jupyter-widgets/base",
      "_view_module_version": "1.2.0",
      "_view_name": "LayoutView",
      "align_content": null,
      "align_items": null,
      "align_self": null,
      "border": null,
      "bottom": null,
      "display": null,
      "flex": null,
      "flex_flow": null,
      "grid_area": null,
      "grid_auto_columns": null,
      "grid_auto_flow": null,
      "grid_auto_rows": null,
      "grid_column": null,
      "grid_gap": null,
      "grid_row": null,
      "grid_template_areas": null,
      "grid_template_columns": null,
      "grid_template_rows": null,
      "height": null,
      "justify_content": null,
      "justify_items": null,
      "left": null,
      "margin": null,
      "max_height": null,
      "max_width": null,
      "min_height": null,
      "min_width": null,
      "object_fit": null,
      "object_position": null,
      "order": null,
      "overflow": null,
      "overflow_x": null,
      "overflow_y": null,
      "padding": null,
      "right": null,
      "top": null,
      "visibility": null,
      "width": null
     }
    },
    "dd3f6ab7b68540c18cec95b4813b9e15": {
     "model_module": "jupyter-threejs",
     "model_module_version": "^2.4.1",
     "model_name": "PickerModel",
     "state": {
      "_model_module": "jupyter-threejs",
      "_model_module_version": "^2.4.1",
      "_model_name": "PickerModel",
      "_view_count": null,
      "_view_module": null,
      "_view_module_version": "",
      "_view_name": null,
      "all": false,
      "controlling": "IPY_MODEL_cf99ceb111604c429b16a90fb5aae496",
      "distance": null,
      "event": "dblclick",
      "face": [
       0,
       0,
       0
      ],
      "faceIndex": null,
      "faceNormal": [
       0,
       0,
       0
      ],
      "faceVertices": [],
      "index": null,
      "indices": [],
      "instanceId": null,
      "lineThreshold": 1,
      "modifiers": [],
      "object": null,
      "picked": [],
      "point": [
       0,
       0,
       0
      ],
      "pointThreshold": 1,
      "uv": [
       0,
       0
      ]
     }
    },
    "dd631e85adbd445f96fc5a4c9d8fd8bc": {
     "model_module": "jupyter-threejs",
     "model_module_version": "^2.4.1",
     "model_name": "AmbientLightModel",
     "state": {
      "_model_module": "jupyter-threejs",
      "_model_module_version": "^2.4.1",
      "_model_name": "AmbientLightModel",
      "_view_count": null,
      "_view_module": null,
      "_view_module_version": "",
      "_view_name": null,
      "castShadow": false,
      "children": [],
      "color": "#888888",
      "frustumCulled": true,
      "intensity": 1,
      "matrix": [
       1,
       0,
       0,
       0,
       0,
       1,
       0,
       0,
       0,
       0,
       1,
       0,
       0,
       0,
       0,
       1
      ],
      "matrixAutoUpdate": true,
      "matrixWorld": [
       1,
       0,
       0,
       0,
       0,
       1,
       0,
       0,
       0,
       0,
       1,
       0,
       0,
       0,
       0,
       1
      ],
      "matrixWorldNeedsUpdate": false,
      "modelViewMatrix": [
       1,
       0,
       0,
       0,
       0,
       1,
       0,
       0,
       0,
       0,
       1,
       0,
       0,
       0,
       0,
       1
      ],
      "name": "",
      "normalMatrix": [
       1,
       0,
       0,
       0,
       1,
       0,
       0,
       0,
       1
      ],
      "position": [
       0,
       0,
       0
      ],
      "quaternion": [
       0,
       0,
       0,
       1
      ],
      "receiveShadow": false,
      "renderOrder": 0,
      "rotation": [
       0,
       0,
       0,
       "XYZ"
      ],
      "scale": [
       1,
       1,
       1
      ],
      "type": "AmbientLight",
      "up": [
       0,
       1,
       0
      ],
      "visible": true
     }
    },
    "ddd9ff6c25a24ade8ab478f278c5bea0": {
     "model_module": "jupyter-threejs",
     "model_module_version": "^2.4.1",
     "model_name": "BufferAttributeModel",
     "state": {
      "_model_module": "jupyter-threejs",
      "_model_module_version": "^2.4.1",
      "_model_name": "BufferAttributeModel",
      "_view_count": null,
      "_view_module": null,
      "_view_module_version": "",
      "_view_name": null,
      "array": {
       "dtype": "float32",
       "shape": [
        18,
        3
       ]
      },
      "dynamic": false,
      "needsUpdate": false,
      "normalized": true,
      "version": 1
     }
    },
    "de1e4ec0a5924b028c1109b368ede8ae": {
     "model_module": "jupyter-threejs",
     "model_module_version": "^2.4.1",
     "model_name": "MeshModel",
     "state": {
      "_model_module": "jupyter-threejs",
      "_model_module_version": "^2.4.1",
      "_model_name": "MeshModel",
      "_view_count": null,
      "_view_module": null,
      "_view_module_version": "",
      "_view_name": null,
      "castShadow": false,
      "children": [],
      "drawMode": "TrianglesDrawMode",
      "frustumCulled": true,
      "geometry": "IPY_MODEL_386f0069b5ef429fa976ef0e9bcb8e31",
      "material": "IPY_MODEL_e9fed379ca8d477dad43eed0c242bd9b",
      "matrix": [
       1,
       0,
       0,
       0,
       0,
       1,
       0,
       0,
       0,
       0,
       1,
       0,
       0,
       0,
       0,
       1
      ],
      "matrixAutoUpdate": true,
      "matrixWorld": [
       1,
       0,
       0,
       0,
       0,
       1,
       0,
       0,
       0,
       0,
       1,
       0,
       0,
       0,
       0,
       1
      ],
      "matrixWorldNeedsUpdate": false,
      "modelViewMatrix": [
       1,
       0,
       0,
       0,
       0,
       1,
       0,
       0,
       0,
       0,
       1,
       0,
       0,
       0,
       0,
       1
      ],
      "morphTargetInfluences": [],
      "name": "",
      "normalMatrix": [
       1,
       0,
       0,
       0,
       1,
       0,
       0,
       0,
       1
      ],
      "position": [
       0,
       0,
       0
      ],
      "quaternion": [
       0,
       0,
       0,
       1
      ],
      "receiveShadow": false,
      "renderOrder": 0,
      "rotation": [
       0,
       0,
       0,
       "XYZ"
      ],
      "scale": [
       1,
       1,
       1
      ],
      "type": "Mesh",
      "up": [
       0,
       1,
       0
      ],
      "visible": true
     }
    },
    "ded73178f3244faa98cd1091cab970b1": {
     "model_module": "jupyter-threejs",
     "model_module_version": "^2.4.1",
     "model_name": "MeshLambertMaterialModel",
     "state": {
      "_model_module": "jupyter-threejs",
      "_model_module_version": "^2.4.1",
      "_model_name": "MeshLambertMaterialModel",
      "_view_count": null,
      "_view_module": null,
      "_view_module_version": "",
      "_view_name": null,
      "alphaMap": null,
      "alphaTest": 0,
      "aoMap": null,
      "aoMapIntensity": 1,
      "blendDst": "OneMinusSrcAlphaFactor",
      "blendDstAlpha": 0,
      "blendEquation": "AddEquation",
      "blendEquationAlpha": 0,
      "blendSrc": "SrcAlphaFactor",
      "blendSrcAlpha": 0,
      "blending": "NormalBlending",
      "clipIntersection": false,
      "clipShadows": false,
      "clippingPlanes": [],
      "color": "#ffffff",
      "colorWrite": true,
      "combine": "MultiplyOperation",
      "defines": null,
      "depthFunc": "LessEqualDepth",
      "depthTest": true,
      "depthWrite": true,
      "dithering": false,
      "emissive": "#000000",
      "emissiveIntensity": 1,
      "emissiveMap": null,
      "envMap": null,
      "flatShading": false,
      "fog": true,
      "lightMap": null,
      "lightMapIntensity": 1,
      "lights": true,
      "map": null,
      "morphNormals": false,
      "morphTargets": false,
      "name": "",
      "opacity": 1,
      "overdraw": 0,
      "polygonOffset": false,
      "polygonOffsetFactor": 0,
      "polygonOffsetUnits": 0,
      "precision": null,
      "premultipliedAlpha": false,
      "reflectivity": 1,
      "refractionRatio": 0.98,
      "shadowSide": null,
      "side": "FrontSide",
      "skinning": false,
      "specularMap": null,
      "transparent": false,
      "type": "MeshLambertMaterial",
      "vertexColors": "NoColors",
      "visible": true,
      "wireframe": false,
      "wireframeLinecap": "round",
      "wireframeLinejoin": "round",
      "wireframeLinewidth": 1
     }
    },
    "dfc362c90e1946a4be0159c2bf83599b": {
     "model_module": "@jupyter-widgets/controls",
     "model_module_version": "1.5.0",
     "model_name": "VBoxModel",
     "state": {
      "_dom_classes": [],
      "_model_module": "@jupyter-widgets/controls",
      "_model_module_version": "1.5.0",
      "_model_name": "VBoxModel",
      "_view_count": null,
      "_view_module": "@jupyter-widgets/controls",
      "_view_module_version": "1.5.0",
      "_view_name": "VBoxView",
      "box_style": "",
      "children": [
       "IPY_MODEL_6646e7affb37415196cbbadf0f92b279",
       "IPY_MODEL_f6cb03a80e0743b3981bf82bcb1dbd9d",
       "IPY_MODEL_4fe8ab4b61ba4fdbb73000b177c4780d",
       "IPY_MODEL_a36830aec6304b09a1767c1209727b65"
      ],
      "layout": "IPY_MODEL_e634a9d7fd794bcc9114e5100bdbb7c0"
     }
    },
    "e2c7e6bfacc541408bb7b416de277a27": {
     "model_module": "@jupyter-widgets/base",
     "model_module_version": "1.2.0",
     "model_name": "LayoutModel",
     "state": {
      "_model_module": "@jupyter-widgets/base",
      "_model_module_version": "1.2.0",
      "_model_name": "LayoutModel",
      "_view_count": null,
      "_view_module": "@jupyter-widgets/base",
      "_view_module_version": "1.2.0",
      "_view_name": "LayoutView",
      "align_content": null,
      "align_items": null,
      "align_self": null,
      "border": null,
      "bottom": null,
      "display": null,
      "flex": null,
      "flex_flow": null,
      "grid_area": null,
      "grid_auto_columns": null,
      "grid_auto_flow": null,
      "grid_auto_rows": null,
      "grid_column": null,
      "grid_gap": null,
      "grid_row": null,
      "grid_template_areas": null,
      "grid_template_columns": null,
      "grid_template_rows": null,
      "height": null,
      "justify_content": null,
      "justify_items": null,
      "left": null,
      "margin": null,
      "max_height": null,
      "max_width": null,
      "min_height": null,
      "min_width": null,
      "object_fit": null,
      "object_position": null,
      "order": null,
      "overflow": null,
      "overflow_x": null,
      "overflow_y": null,
      "padding": null,
      "right": null,
      "top": null,
      "visibility": null,
      "width": null
     }
    },
    "e45f9c479115474188978272cbbfd643": {
     "model_module": "@jupyter-widgets/base",
     "model_module_version": "1.2.0",
     "model_name": "LayoutModel",
     "state": {
      "_model_module": "@jupyter-widgets/base",
      "_model_module_version": "1.2.0",
      "_model_name": "LayoutModel",
      "_view_count": null,
      "_view_module": "@jupyter-widgets/base",
      "_view_module_version": "1.2.0",
      "_view_name": "LayoutView",
      "align_content": null,
      "align_items": null,
      "align_self": null,
      "border": null,
      "bottom": null,
      "display": null,
      "flex": null,
      "flex_flow": null,
      "grid_area": null,
      "grid_auto_columns": null,
      "grid_auto_flow": null,
      "grid_auto_rows": null,
      "grid_column": null,
      "grid_gap": null,
      "grid_row": null,
      "grid_template_areas": null,
      "grid_template_columns": null,
      "grid_template_rows": null,
      "height": null,
      "justify_content": null,
      "justify_items": null,
      "left": null,
      "margin": null,
      "max_height": null,
      "max_width": null,
      "min_height": null,
      "min_width": null,
      "object_fit": null,
      "object_position": null,
      "order": null,
      "overflow": null,
      "overflow_x": null,
      "overflow_y": null,
      "padding": null,
      "right": null,
      "top": null,
      "visibility": null,
      "width": null
     }
    },
    "e61b299c8d234dcb953c8e7586c665b3": {
     "model_module": "jupyter-threejs",
     "model_module_version": "^2.4.1",
     "model_name": "BufferAttributeModel",
     "state": {
      "_model_module": "jupyter-threejs",
      "_model_module_version": "^2.4.1",
      "_model_name": "BufferAttributeModel",
      "_view_count": null,
      "_view_module": null,
      "_view_module_version": "",
      "_view_name": null,
      "array": {
       "dtype": "float32",
       "shape": [
        18,
        3
       ]
      },
      "dynamic": false,
      "needsUpdate": false,
      "normalized": true,
      "version": 1
     }
    },
    "e634a9d7fd794bcc9114e5100bdbb7c0": {
     "model_module": "@jupyter-widgets/base",
     "model_module_version": "1.2.0",
     "model_name": "LayoutModel",
     "state": {
      "_model_module": "@jupyter-widgets/base",
      "_model_module_version": "1.2.0",
      "_model_name": "LayoutModel",
      "_view_count": null,
      "_view_module": "@jupyter-widgets/base",
      "_view_module_version": "1.2.0",
      "_view_name": "LayoutView",
      "align_content": null,
      "align_items": null,
      "align_self": null,
      "border": null,
      "bottom": null,
      "display": null,
      "flex": null,
      "flex_flow": null,
      "grid_area": null,
      "grid_auto_columns": null,
      "grid_auto_flow": null,
      "grid_auto_rows": null,
      "grid_column": null,
      "grid_gap": null,
      "grid_row": null,
      "grid_template_areas": null,
      "grid_template_columns": null,
      "grid_template_rows": null,
      "height": null,
      "justify_content": null,
      "justify_items": null,
      "left": null,
      "margin": null,
      "max_height": null,
      "max_width": null,
      "min_height": null,
      "min_width": null,
      "object_fit": null,
      "object_position": null,
      "order": null,
      "overflow": null,
      "overflow_x": null,
      "overflow_y": null,
      "padding": null,
      "right": null,
      "top": null,
      "visibility": null,
      "width": null
     }
    },
    "e6d5b4a8cd314c3c840ca19cc505a0c5": {
     "model_module": "jupyter-threejs",
     "model_module_version": "^2.4.1",
     "model_name": "LineBasicMaterialModel",
     "state": {
      "_model_module": "jupyter-threejs",
      "_model_module_version": "^2.4.1",
      "_model_name": "LineBasicMaterialModel",
      "_view_count": null,
      "_view_module": null,
      "_view_module_version": "",
      "_view_name": null,
      "alphaTest": 0,
      "blendDst": "OneMinusSrcAlphaFactor",
      "blendDstAlpha": 0,
      "blendEquation": "AddEquation",
      "blendEquationAlpha": 0,
      "blendSrc": "SrcAlphaFactor",
      "blendSrcAlpha": 0,
      "blending": "NormalBlending",
      "clipIntersection": false,
      "clipShadows": false,
      "clippingPlanes": [],
      "color": "#ffffff",
      "colorWrite": true,
      "defines": null,
      "depthFunc": "LessEqualDepth",
      "depthTest": true,
      "depthWrite": true,
      "dithering": false,
      "flatShading": false,
      "fog": true,
      "lights": false,
      "linecap": "round",
      "linejoin": "round",
      "linewidth": 1,
      "name": "",
      "opacity": 0.5,
      "overdraw": 0,
      "polygonOffset": false,
      "polygonOffsetFactor": 0,
      "polygonOffsetUnits": 0,
      "precision": null,
      "premultipliedAlpha": false,
      "shadowSide": null,
      "side": "FrontSide",
      "transparent": true,
      "type": "LineBasicMaterial",
      "vertexColors": "VertexColors",
      "visible": true
     }
    },
    "e7400ea0efa341f2bc61b02ab6c2f0a4": {
     "model_module": "jupyter-threejs",
     "model_module_version": "^2.4.1",
     "model_name": "MeshModel",
     "state": {
      "_model_module": "jupyter-threejs",
      "_model_module_version": "^2.4.1",
      "_model_name": "MeshModel",
      "_view_count": null,
      "_view_module": null,
      "_view_module_version": "",
      "_view_name": null,
      "castShadow": false,
      "children": [],
      "drawMode": "TrianglesDrawMode",
      "frustumCulled": true,
      "geometry": "IPY_MODEL_9c7b7ec84bdb4feb87a2d3a9874d09a7",
      "material": "IPY_MODEL_fa33206b816b4bf29757f63289390ec1",
      "matrix": [
       0,
       0,
       0,
       0,
       0,
       0,
       0,
       0,
       0,
       0,
       0,
       0,
       1.48778,
       0.483409,
       9.87688,
       1
      ],
      "matrixAutoUpdate": true,
      "matrixWorld": [
       1,
       0,
       0,
       0,
       0,
       1,
       0,
       0,
       0,
       0,
       1,
       0,
       0,
       0,
       0,
       1
      ],
      "matrixWorldNeedsUpdate": false,
      "modelViewMatrix": [
       1,
       0,
       0,
       0,
       0,
       1,
       0,
       0,
       0,
       0,
       1,
       0,
       0,
       0,
       0,
       1
      ],
      "morphTargetInfluences": [],
      "name": "",
      "normalMatrix": [
       1,
       0,
       0,
       0,
       1,
       0,
       0,
       0,
       1
      ],
      "position": [
       1.48778,
       0.483409,
       9.87688
      ],
      "quaternion": [
       0,
       0,
       0,
       1
      ],
      "receiveShadow": false,
      "renderOrder": 0,
      "rotation": [
       0,
       0,
       0,
       "XYZ"
      ],
      "scale": [
       0,
       0,
       0
      ],
      "type": "Mesh",
      "up": [
       0,
       1,
       0
      ],
      "visible": true
     }
    },
    "e79ee57b3dde4c37bfce91c83cb54ed2": {
     "model_module": "jupyter-threejs",
     "model_module_version": "^2.4.1",
     "model_name": "GeometryModel",
     "state": {
      "_model_module": "jupyter-threejs",
      "_model_module_version": "^2.4.1",
      "_model_name": "GeometryModel",
      "_ref_geometry": null,
      "_store_ref": false,
      "_view_count": null,
      "_view_module": null,
      "_view_module_version": "",
      "_view_name": null,
      "colors": [
       "#3333ff",
       "#3333ff",
       "#3333ff",
       "#3333ff",
       "#3333ff",
       "#3333ff",
       "#3333ff",
       "#3333ff",
       "#3333ff",
       "#3333ff",
       "#3333ff",
       "#3333ff",
       "#3333ff",
       "#3333ff",
       "#3333ff",
       "#3333ff",
       "#3333ff",
       "#3333ff",
       "#3333ff",
       "#3333ff",
       "#3333ff",
       "#3333ff",
       "#33ff33",
       "#33ff33",
       "#33ff33",
       "#33ff33",
       "#33ff33",
       "#33ff33",
       "#33ff33",
       "#33ff33",
       "#33ff33",
       "#33ff33",
       "#33ff33",
       "#33ff33",
       "#33ff33",
       "#33ff33",
       "#33ff33",
       "#33ff33",
       "#33ff33",
       "#33ff33",
       "#33ff33",
       "#33ff33",
       "#33ff33",
       "#33ff33",
       "#3333ff",
       "#3333ff",
       "#3333ff",
       "#3333ff",
       "#3333ff",
       "#3333ff",
       "#3333ff",
       "#3333ff",
       "#3333ff",
       "#3333ff",
       "#3333ff",
       "#3333ff",
       "#3333ff",
       "#3333ff",
       "#3333ff",
       "#3333ff",
       "#3333ff",
       "#3333ff",
       "#3333ff",
       "#3333ff",
       "#3333ff",
       "#3333ff",
       "#ff3333",
       "#ff3333",
       "#ff3333",
       "#ff3333",
       "#ff3333",
       "#ff3333",
       "#ff3333",
       "#ff3333",
       "#ff3333",
       "#ff3333",
       "#ff3333",
       "#ff3333",
       "#ff3333",
       "#ff3333",
       "#ff3333",
       "#ff3333",
       "#ff3333",
       "#ff3333",
       "#ff3333",
       "#ff3333",
       "#ff3333",
       "#ff3333",
       "#33ff33",
       "#33ff33",
       "#33ff33",
       "#33ff33",
       "#33ff33",
       "#33ff33",
       "#33ff33",
       "#33ff33",
       "#33ff33",
       "#33ff33",
       "#33ff33",
       "#33ff33",
       "#33ff33",
       "#33ff33",
       "#33ff33",
       "#33ff33",
       "#33ff33",
       "#33ff33",
       "#33ff33",
       "#33ff33",
       "#33ff33",
       "#33ff33",
       "#ff3333",
       "#ff3333",
       "#ff3333",
       "#ff3333",
       "#ff3333",
       "#ff3333",
       "#ff3333",
       "#ff3333",
       "#ff3333",
       "#ff3333",
       "#ff3333",
       "#ff3333",
       "#ff3333",
       "#ff3333",
       "#ff3333",
       "#ff3333",
       "#ff3333",
       "#ff3333",
       "#ff3333",
       "#ff3333",
       "#ff3333",
       "#ff3333",
       "#000000",
       "#000000",
       "#000000",
       "#000000",
       "#000000",
       "#000000",
       "#000000",
       "#000000",
       "#000000",
       "#000000",
       "#000000",
       "#000000",
       "#000000",
       "#000000",
       "#000000",
       "#000000",
       "#000000",
       "#000000",
       "#000000",
       "#000000",
       "#000000",
       "#000000",
       "#000000",
       "#000000",
       "#000000",
       "#000000",
       "#000000",
       "#000000",
       "#000000",
       "#000000",
       "#000000",
       "#000000",
       "#000000",
       "#000000"
      ],
      "faceVertexUvs": [],
      "faces": [],
      "lineDistances": [],
      "morphNormals": [],
      "morphTargets": [],
      "name": "",
      "skinIndices": [],
      "skinWeights": [],
      "type": "Geometry",
      "vertices": [
       [
        -10,
        -10,
        0
       ],
       [
        -10,
        10,
        0
       ],
       [
        -8,
        -10,
        0
       ],
       [
        -8,
        10,
        0
       ],
       [
        -6,
        -10,
        0
       ],
       [
        -6,
        10,
        0
       ],
       [
        -4,
        -10,
        0
       ],
       [
        -4,
        10,
        0
       ],
       [
        -2,
        -10,
        0
       ],
       [
        -2,
        10,
        0
       ],
       [
        0,
        -10,
        0
       ],
       [
        0,
        10,
        0
       ],
       [
        2,
        -10,
        0
       ],
       [
        2,
        10,
        0
       ],
       [
        4,
        -10,
        0
       ],
       [
        4,
        10,
        0
       ],
       [
        6,
        -10,
        0
       ],
       [
        6,
        10,
        0
       ],
       [
        8,
        -10,
        0
       ],
       [
        8,
        10,
        0
       ],
       [
        10,
        -10,
        0
       ],
       [
        10,
        10,
        0
       ],
       [
        -10,
        0,
        -10
       ],
       [
        -10,
        0,
        10
       ],
       [
        -8,
        0,
        -10
       ],
       [
        -8,
        0,
        10
       ],
       [
        -6,
        0,
        -10
       ],
       [
        -6,
        0,
        10
       ],
       [
        -4,
        0,
        -10
       ],
       [
        -4,
        0,
        10
       ],
       [
        -2,
        0,
        -10
       ],
       [
        -2,
        0,
        10
       ],
       [
        0,
        0,
        -10
       ],
       [
        0,
        0,
        10
       ],
       [
        2,
        0,
        -10
       ],
       [
        2,
        0,
        10
       ],
       [
        4,
        0,
        -10
       ],
       [
        4,
        0,
        10
       ],
       [
        6,
        0,
        -10
       ],
       [
        6,
        0,
        10
       ],
       [
        8,
        0,
        -10
       ],
       [
        8,
        0,
        10
       ],
       [
        10,
        0,
        -10
       ],
       [
        10,
        0,
        10
       ],
       [
        -10,
        -10,
        0
       ],
       [
        10,
        -10,
        0
       ],
       [
        -10,
        -8,
        0
       ],
       [
        10,
        -8,
        0
       ],
       [
        -10,
        -6,
        0
       ],
       [
        10,
        -6,
        0
       ],
       [
        -10,
        -4,
        0
       ],
       [
        10,
        -4,
        0
       ],
       [
        -10,
        -2,
        0
       ],
       [
        10,
        -2,
        0
       ],
       [
        -10,
        0,
        0
       ],
       [
        10,
        0,
        0
       ],
       [
        -10,
        2,
        0
       ],
       [
        10,
        2,
        0
       ],
       [
        -10,
        4,
        0
       ],
       [
        10,
        4,
        0
       ],
       [
        -10,
        6,
        0
       ],
       [
        10,
        6,
        0
       ],
       [
        -10,
        8,
        0
       ],
       [
        10,
        8,
        0
       ],
       [
        -10,
        10,
        0
       ],
       [
        10,
        10,
        0
       ],
       [
        0,
        -10,
        -10
       ],
       [
        0,
        -10,
        10
       ],
       [
        0,
        -8,
        -10
       ],
       [
        0,
        -8,
        10
       ],
       [
        0,
        -6,
        -10
       ],
       [
        0,
        -6,
        10
       ],
       [
        0,
        -4,
        -10
       ],
       [
        0,
        -4,
        10
       ],
       [
        0,
        -2,
        -10
       ],
       [
        0,
        -2,
        10
       ],
       [
        0,
        0,
        -10
       ],
       [
        0,
        0,
        10
       ],
       [
        0,
        2,
        -10
       ],
       [
        0,
        2,
        10
       ],
       [
        0,
        4,
        -10
       ],
       [
        0,
        4,
        10
       ],
       [
        0,
        6,
        -10
       ],
       [
        0,
        6,
        10
       ],
       [
        0,
        8,
        -10
       ],
       [
        0,
        8,
        10
       ],
       [
        0,
        10,
        -10
       ],
       [
        0,
        10,
        10
       ],
       [
        -10,
        0,
        -10
       ],
       [
        10,
        0,
        -10
       ],
       [
        -10,
        0,
        -8
       ],
       [
        10,
        0,
        -8
       ],
       [
        -10,
        0,
        -6
       ],
       [
        10,
        0,
        -6
       ],
       [
        -10,
        0,
        -4
       ],
       [
        10,
        0,
        -4
       ],
       [
        -10,
        0,
        -2
       ],
       [
        10,
        0,
        -2
       ],
       [
        -10,
        0,
        0
       ],
       [
        10,
        0,
        0
       ],
       [
        -10,
        0,
        2
       ],
       [
        10,
        0,
        2
       ],
       [
        -10,
        0,
        4
       ],
       [
        10,
        0,
        4
       ],
       [
        -10,
        0,
        6
       ],
       [
        10,
        0,
        6
       ],
       [
        -10,
        0,
        8
       ],
       [
        10,
        0,
        8
       ],
       [
        -10,
        0,
        10
       ],
       [
        10,
        0,
        10
       ],
       [
        0,
        -10,
        -10
       ],
       [
        0,
        10,
        -10
       ],
       [
        0,
        -10,
        -8
       ],
       [
        0,
        10,
        -8
       ],
       [
        0,
        -10,
        -6
       ],
       [
        0,
        10,
        -6
       ],
       [
        0,
        -10,
        -4
       ],
       [
        0,
        10,
        -4
       ],
       [
        0,
        -10,
        -2
       ],
       [
        0,
        10,
        -2
       ],
       [
        0,
        -10,
        0
       ],
       [
        0,
        10,
        0
       ],
       [
        0,
        -10,
        2
       ],
       [
        0,
        10,
        2
       ],
       [
        0,
        -10,
        4
       ],
       [
        0,
        10,
        4
       ],
       [
        0,
        -10,
        6
       ],
       [
        0,
        10,
        6
       ],
       [
        0,
        -10,
        8
       ],
       [
        0,
        10,
        8
       ],
       [
        0,
        -10,
        10
       ],
       [
        0,
        10,
        10
       ],
       [
        0,
        0,
        0
       ],
       [
        12.987688,
        0,
        0
       ],
       [
        12.987688,
        0,
        0
       ],
       [
        12.493844,
        0,
        0.493844
       ],
       [
        12.987688,
        0,
        0
       ],
       [
        12.493844,
        0,
        -0.493844
       ],
       [
        13.975376,
        0,
        -0.5926127999999999
       ],
       [
        14.963064000000001,
        0,
        0.5926127999999999
       ],
       [
        13.975376,
        0,
        0.5926127999999999
       ],
       [
        14.963064000000001,
        0,
        -0.5926127999999999
       ],
       [
        0,
        0,
        0
       ],
       [
        0,
        12.987688,
        0
       ],
       [
        0,
        12.987688,
        0
       ],
       [
        0,
        12.493844,
        0.493844
       ],
       [
        0,
        12.987688,
        0
       ],
       [
        0,
        12.493844,
        -0.493844
       ],
       [
        0,
        14.46922,
        -0.5926127999999999
       ],
       [
        0,
        14.46922,
        0
       ],
       [
        0,
        14.46922,
        0
       ],
       [
        0,
        13.975376,
        0.5926127999999999
       ],
       [
        0,
        14.46922,
        0
       ],
       [
        0,
        14.963064000000001,
        0.5926127999999999
       ],
       [
        0,
        0,
        0
       ],
       [
        0,
        0,
        12.987688
       ],
       [
        0,
        0,
        12.987688
       ],
       [
        0,
        0.493844,
        12.493844
       ],
       [
        0,
        0,
        12.987688
       ],
       [
        0,
        -0.493844,
        12.493844
       ],
       [
        0,
        0.5926127999999999,
        14.963064000000001
       ],
       [
        0,
        0.5926127999999999,
        13.975376
       ],
       [
        0,
        0.5926127999999999,
        13.975376
       ],
       [
        0,
        -0.5926127999999999,
        14.963064000000001
       ],
       [
        0,
        -0.5926127999999999,
        14.963064000000001
       ],
       [
        0,
        -0.5926127999999999,
        13.975376
       ]
      ]
     }
    },
    "e82f3763ae894e24ab7604a89ee9a812": {
     "model_module": "jupyter-threejs",
     "model_module_version": "^2.4.1",
     "model_name": "LineBasicMaterialModel",
     "state": {
      "_model_module": "jupyter-threejs",
      "_model_module_version": "^2.4.1",
      "_model_name": "LineBasicMaterialModel",
      "_view_count": null,
      "_view_module": null,
      "_view_module_version": "",
      "_view_name": null,
      "alphaTest": 0,
      "blendDst": "OneMinusSrcAlphaFactor",
      "blendDstAlpha": 0,
      "blendEquation": "AddEquation",
      "blendEquationAlpha": 0,
      "blendSrc": "SrcAlphaFactor",
      "blendSrcAlpha": 0,
      "blending": "NormalBlending",
      "clipIntersection": false,
      "clipShadows": false,
      "clippingPlanes": [],
      "color": "#ffffff",
      "colorWrite": true,
      "defines": null,
      "depthFunc": "LessEqualDepth",
      "depthTest": true,
      "depthWrite": true,
      "dithering": false,
      "flatShading": false,
      "fog": true,
      "lights": false,
      "linecap": "round",
      "linejoin": "round",
      "linewidth": 1,
      "name": "",
      "opacity": 0.3,
      "overdraw": 0,
      "polygonOffset": false,
      "polygonOffsetFactor": 0,
      "polygonOffsetUnits": 0,
      "precision": null,
      "premultipliedAlpha": false,
      "shadowSide": null,
      "side": "FrontSide",
      "transparent": true,
      "type": "LineBasicMaterial",
      "vertexColors": "NoColors",
      "visible": true
     }
    },
    "e91bfa1bf33d404bab20cc535c721c94": {
     "model_module": "@jupyter-widgets/output",
     "model_module_version": "1.0.0",
     "model_name": "OutputModel",
     "state": {
      "_dom_classes": [],
      "_model_module": "@jupyter-widgets/output",
      "_model_module_version": "1.0.0",
      "_model_name": "OutputModel",
      "_view_count": null,
      "_view_module": "@jupyter-widgets/output",
      "_view_module_version": "1.0.0",
      "_view_name": "OutputView",
      "layout": "IPY_MODEL_83af17b46b904f5da10916b885b0fb5d",
      "msg_id": "",
      "outputs": []
     }
    },
    "e99f23e7802c4842a2a4e380ee82ebe3": {
     "model_module": "jupyter-threejs",
     "model_module_version": "^2.4.1",
     "model_name": "MeshModel",
     "state": {
      "_model_module": "jupyter-threejs",
      "_model_module_version": "^2.4.1",
      "_model_name": "MeshModel",
      "_view_count": null,
      "_view_module": null,
      "_view_module_version": "",
      "_view_name": null,
      "castShadow": false,
      "children": [],
      "drawMode": "TrianglesDrawMode",
      "frustumCulled": true,
      "geometry": "IPY_MODEL_eb74286290ef4e799e0b6af54c03475d",
      "material": "IPY_MODEL_80302a5d127d43eaadb1ad512474dfd4",
      "matrix": [
       0,
       0,
       0,
       0,
       0,
       0,
       0,
       0,
       0,
       0,
       0,
       0,
       0,
       1,
       0,
       1
      ],
      "matrixAutoUpdate": true,
      "matrixWorld": [
       1,
       0,
       0,
       0,
       0,
       1,
       0,
       0,
       0,
       0,
       1,
       0,
       0,
       0,
       0,
       1
      ],
      "matrixWorldNeedsUpdate": false,
      "modelViewMatrix": [
       1,
       0,
       0,
       0,
       0,
       1,
       0,
       0,
       0,
       0,
       1,
       0,
       0,
       0,
       0,
       1
      ],
      "morphTargetInfluences": [],
      "name": "",
      "normalMatrix": [
       1,
       0,
       0,
       0,
       1,
       0,
       0,
       0,
       1
      ],
      "position": [
       0,
       1,
       0
      ],
      "quaternion": [
       0,
       0,
       0,
       1
      ],
      "receiveShadow": false,
      "renderOrder": 0,
      "rotation": [
       0,
       0,
       0,
       "XYZ"
      ],
      "scale": [
       0,
       0,
       0
      ],
      "type": "Mesh",
      "up": [
       0,
       1,
       0
      ],
      "visible": true
     }
    },
    "e9fb12eeccb9492f86877717e1c60024": {
     "model_module": "jupyter-threejs",
     "model_module_version": "^2.4.1",
     "model_name": "WebGLShadowMapModel",
     "state": {
      "_model_module": "jupyter-threejs",
      "_model_module_version": "^2.4.1",
      "_model_name": "WebGLShadowMapModel",
      "_view_count": null,
      "_view_module": null,
      "_view_module_version": "",
      "_view_name": null,
      "enabled": false,
      "type": "PCFShadowMap"
     }
    },
    "e9fed379ca8d477dad43eed0c242bd9b": {
     "model_module": "jupyter-threejs",
     "model_module_version": "^2.4.1",
     "model_name": "MeshLambertMaterialModel",
     "state": {
      "_model_module": "jupyter-threejs",
      "_model_module_version": "^2.4.1",
      "_model_name": "MeshLambertMaterialModel",
      "_view_count": null,
      "_view_module": null,
      "_view_module_version": "",
      "_view_name": null,
      "alphaMap": null,
      "alphaTest": 0,
      "aoMap": null,
      "aoMapIntensity": 1,
      "blendDst": "OneMinusSrcAlphaFactor",
      "blendDstAlpha": 0,
      "blendEquation": "AddEquation",
      "blendEquationAlpha": 0,
      "blendSrc": "SrcAlphaFactor",
      "blendSrcAlpha": 0,
      "blending": "NormalBlending",
      "clipIntersection": false,
      "clipShadows": false,
      "clippingPlanes": [],
      "color": "#ffffff",
      "colorWrite": true,
      "combine": "MultiplyOperation",
      "defines": null,
      "depthFunc": "LessEqualDepth",
      "depthTest": true,
      "depthWrite": true,
      "dithering": false,
      "emissive": "#000000",
      "emissiveIntensity": 1,
      "emissiveMap": null,
      "envMap": null,
      "flatShading": false,
      "fog": true,
      "lightMap": null,
      "lightMapIntensity": 1,
      "lights": true,
      "map": null,
      "morphNormals": false,
      "morphTargets": false,
      "name": "",
      "opacity": 1,
      "overdraw": 0,
      "polygonOffset": false,
      "polygonOffsetFactor": 0,
      "polygonOffsetUnits": 0,
      "precision": null,
      "premultipliedAlpha": false,
      "reflectivity": 1,
      "refractionRatio": 0.98,
      "shadowSide": null,
      "side": "FrontSide",
      "skinning": false,
      "specularMap": null,
      "transparent": false,
      "type": "MeshLambertMaterial",
      "vertexColors": "NoColors",
      "visible": true,
      "wireframe": false,
      "wireframeLinecap": "round",
      "wireframeLinejoin": "round",
      "wireframeLinewidth": 1
     }
    },
    "eb74286290ef4e799e0b6af54c03475d": {
     "model_module": "jupyter-threejs",
     "model_module_version": "^2.4.1",
     "model_name": "SphereGeometryModel",
     "state": {
      "_model_module": "jupyter-threejs",
      "_model_module_version": "^2.4.1",
      "_model_name": "SphereGeometryModel",
      "_view_count": null,
      "_view_module": null,
      "_view_module_version": "",
      "_view_name": null,
      "heightSegments": 6,
      "name": "",
      "phiLength": 6.283185307179586,
      "phiStart": 0,
      "radius": 1,
      "thetaLength": 3.141592653589793,
      "thetaStart": 0,
      "type": "SphereGeometry",
      "widthSegments": 8
     }
    },
    "ee68b794d2324f148faf6af02c718c84": {
     "model_module": "jupyter-threejs",
     "model_module_version": "^2.4.1",
     "model_name": "OrbitControlsModel",
     "state": {
      "_model_module": "jupyter-threejs",
      "_model_module_version": "^2.4.1",
      "_model_name": "OrbitControlsModel",
      "_view_count": null,
      "_view_module": null,
      "_view_module_version": "",
      "_view_name": null,
      "autoRotate": false,
      "autoRotateSpeed": 2,
      "controlling": "IPY_MODEL_d406a167e16143738f5d0c552f92a914",
      "dampingFactor": 0.25,
      "enableDamping": false,
      "enableKeys": true,
      "enablePan": true,
      "enableRotate": true,
      "enableZoom": true,
      "enabled": true,
      "keyPanSpeed": 7,
      "maxAzimuthAngle": "inf",
      "maxDistance": "inf",
      "maxPolarAngle": 3.141592653589793,
      "maxZoom": "inf",
      "minAzimuthAngle": "-inf",
      "minDistance": 0,
      "minPolarAngle": 0,
      "minZoom": 0,
      "panSpeed": 1,
      "rotateSpeed": 1,
      "screenSpacePanning": true,
      "target": [
       0,
       0,
       0
      ],
      "zoomSpeed": 1
     }
    },
    "eeac5258d0634b2487fc1f9903ea4ba7": {
     "model_module": "jupyter-threejs",
     "model_module_version": "^2.4.1",
     "model_name": "MeshLambertMaterialModel",
     "state": {
      "_model_module": "jupyter-threejs",
      "_model_module_version": "^2.4.1",
      "_model_name": "MeshLambertMaterialModel",
      "_view_count": null,
      "_view_module": null,
      "_view_module_version": "",
      "_view_name": null,
      "alphaMap": null,
      "alphaTest": 0,
      "aoMap": null,
      "aoMapIntensity": 1,
      "blendDst": "OneMinusSrcAlphaFactor",
      "blendDstAlpha": 0,
      "blendEquation": "AddEquation",
      "blendEquationAlpha": 0,
      "blendSrc": "SrcAlphaFactor",
      "blendSrcAlpha": 0,
      "blending": "NormalBlending",
      "clipIntersection": false,
      "clipShadows": false,
      "clippingPlanes": [],
      "color": "#ffffff",
      "colorWrite": true,
      "combine": "MultiplyOperation",
      "defines": null,
      "depthFunc": "LessEqualDepth",
      "depthTest": true,
      "depthWrite": true,
      "dithering": false,
      "emissive": "#000000",
      "emissiveIntensity": 1,
      "emissiveMap": null,
      "envMap": null,
      "flatShading": false,
      "fog": true,
      "lightMap": null,
      "lightMapIntensity": 1,
      "lights": true,
      "map": null,
      "morphNormals": false,
      "morphTargets": false,
      "name": "",
      "opacity": 1,
      "overdraw": 0,
      "polygonOffset": false,
      "polygonOffsetFactor": 0,
      "polygonOffsetUnits": 0,
      "precision": null,
      "premultipliedAlpha": false,
      "reflectivity": 1,
      "refractionRatio": 0.98,
      "shadowSide": null,
      "side": "FrontSide",
      "skinning": false,
      "specularMap": null,
      "transparent": false,
      "type": "MeshLambertMaterial",
      "vertexColors": "NoColors",
      "visible": true,
      "wireframe": false,
      "wireframeLinecap": "round",
      "wireframeLinejoin": "round",
      "wireframeLinewidth": 1
     }
    },
    "ef51d7f31f6b44d0b314b570806e5cc8": {
     "model_module": "jupyter-threejs",
     "model_module_version": "^2.4.1",
     "model_name": "RendererModel",
     "state": {
      "_alpha": false,
      "_antialias": false,
      "_dom_classes": [],
      "_height": 600,
      "_model_module": "jupyter-threejs",
      "_model_module_version": "^2.4.1",
      "_model_name": "RendererModel",
      "_pause_autorender": false,
      "_view_count": null,
      "_view_module": "jupyter-threejs",
      "_view_module_version": "^2.4.1",
      "_view_name": "RendererView",
      "_webgl_version": 2,
      "_width": 600,
      "autoClear": true,
      "autoClearColor": true,
      "autoClearDepth": true,
      "autoClearStencil": true,
      "background": "#cccc88",
      "background_opacity": 0,
      "camera": "IPY_MODEL_69bb996fc4d3480aaf9af729f9b4974c",
      "clearColor": "#000000",
      "clearOpacity": 1,
      "clippingPlanes": [],
      "controls": [
       "IPY_MODEL_0577f7ab5edc4ed79d87d561aacfd552",
       "IPY_MODEL_51789af96ee94eedbdc4e743a09e31f6"
      ],
      "gammaFactor": 2,
      "gammaInput": false,
      "gammaOutput": false,
      "layout": "IPY_MODEL_32c43b7f072b49b181779d420ea5808e",
      "localClippingEnabled": false,
      "maxMorphNormals": 4,
      "maxMorphTargets": 8,
      "physicallyCorrectLights": false,
      "scene": "IPY_MODEL_8e713228248a4e32b052644273632042",
      "shadowMap": "IPY_MODEL_f96484ca01ef46c1a7662c4665dd4b3c",
      "sortObject": true,
      "toneMapping": "LinearToneMapping",
      "toneMappingExposure": 1,
      "toneMappingWhitePoint": 1
     }
    },
    "f251a3a1a9834453909ae0d4f28cc5c7": {
     "model_module": "jupyter-threejs",
     "model_module_version": "^2.4.1",
     "model_name": "GeometryModel",
     "state": {
      "_model_module": "jupyter-threejs",
      "_model_module_version": "^2.4.1",
      "_model_name": "GeometryModel",
      "_ref_geometry": null,
      "_store_ref": false,
      "_view_count": null,
      "_view_module": null,
      "_view_module_version": "",
      "_view_name": null,
      "colors": [
       "#3333ff",
       "#3333ff",
       "#3333ff",
       "#3333ff",
       "#3333ff",
       "#3333ff",
       "#3333ff",
       "#3333ff",
       "#3333ff",
       "#3333ff",
       "#3333ff",
       "#3333ff",
       "#3333ff",
       "#3333ff",
       "#3333ff",
       "#3333ff",
       "#3333ff",
       "#3333ff",
       "#3333ff",
       "#3333ff",
       "#3333ff",
       "#3333ff",
       "#3333ff",
       "#3333ff",
       "#33ff33",
       "#33ff33",
       "#33ff33",
       "#33ff33",
       "#33ff33",
       "#33ff33",
       "#33ff33",
       "#33ff33",
       "#33ff33",
       "#33ff33",
       "#33ff33",
       "#33ff33",
       "#33ff33",
       "#33ff33",
       "#33ff33",
       "#33ff33",
       "#33ff33",
       "#33ff33",
       "#33ff33",
       "#33ff33",
       "#33ff33",
       "#33ff33",
       "#33ff33",
       "#33ff33",
       "#3333ff",
       "#3333ff",
       "#3333ff",
       "#3333ff",
       "#3333ff",
       "#3333ff",
       "#3333ff",
       "#3333ff",
       "#3333ff",
       "#3333ff",
       "#3333ff",
       "#3333ff",
       "#3333ff",
       "#3333ff",
       "#3333ff",
       "#3333ff",
       "#3333ff",
       "#3333ff",
       "#3333ff",
       "#3333ff",
       "#3333ff",
       "#3333ff",
       "#3333ff",
       "#3333ff",
       "#ff3333",
       "#ff3333",
       "#ff3333",
       "#ff3333",
       "#ff3333",
       "#ff3333",
       "#ff3333",
       "#ff3333",
       "#ff3333",
       "#ff3333",
       "#ff3333",
       "#ff3333",
       "#ff3333",
       "#ff3333",
       "#ff3333",
       "#ff3333",
       "#ff3333",
       "#ff3333",
       "#ff3333",
       "#ff3333",
       "#ff3333",
       "#ff3333",
       "#ff3333",
       "#ff3333",
       "#33ff33",
       "#33ff33",
       "#33ff33",
       "#33ff33",
       "#33ff33",
       "#33ff33",
       "#33ff33",
       "#33ff33",
       "#33ff33",
       "#33ff33",
       "#33ff33",
       "#33ff33",
       "#33ff33",
       "#33ff33",
       "#33ff33",
       "#33ff33",
       "#33ff33",
       "#33ff33",
       "#33ff33",
       "#33ff33",
       "#33ff33",
       "#33ff33",
       "#33ff33",
       "#33ff33",
       "#ff3333",
       "#ff3333",
       "#ff3333",
       "#ff3333",
       "#ff3333",
       "#ff3333",
       "#ff3333",
       "#ff3333",
       "#ff3333",
       "#ff3333",
       "#ff3333",
       "#ff3333",
       "#ff3333",
       "#ff3333",
       "#ff3333",
       "#ff3333",
       "#ff3333",
       "#ff3333",
       "#ff3333",
       "#ff3333",
       "#ff3333",
       "#ff3333",
       "#ff3333",
       "#ff3333",
       "#000000",
       "#000000",
       "#000000",
       "#000000",
       "#000000",
       "#000000",
       "#000000",
       "#000000",
       "#000000",
       "#000000",
       "#000000",
       "#000000",
       "#000000",
       "#000000",
       "#000000",
       "#000000",
       "#000000",
       "#000000",
       "#000000",
       "#000000",
       "#000000",
       "#000000",
       "#000000",
       "#000000",
       "#000000",
       "#000000",
       "#000000",
       "#000000",
       "#000000",
       "#000000",
       "#000000",
       "#000000",
       "#000000",
       "#000000"
      ],
      "faceVertexUvs": [],
      "faces": [],
      "lineDistances": [],
      "morphNormals": [],
      "morphTargets": [],
      "name": "",
      "skinIndices": [],
      "skinWeights": [],
      "type": "Geometry",
      "vertices": [
       [
        -10,
        -10,
        0
       ],
       [
        -10,
        12,
        0
       ],
       [
        -8,
        -10,
        0
       ],
       [
        -8,
        12,
        0
       ],
       [
        -6,
        -10,
        0
       ],
       [
        -6,
        12,
        0
       ],
       [
        -4,
        -10,
        0
       ],
       [
        -4,
        12,
        0
       ],
       [
        -2,
        -10,
        0
       ],
       [
        -2,
        12,
        0
       ],
       [
        0,
        -10,
        0
       ],
       [
        0,
        12,
        0
       ],
       [
        2,
        -10,
        0
       ],
       [
        2,
        12,
        0
       ],
       [
        4,
        -10,
        0
       ],
       [
        4,
        12,
        0
       ],
       [
        6,
        -10,
        0
       ],
       [
        6,
        12,
        0
       ],
       [
        8,
        -10,
        0
       ],
       [
        8,
        12,
        0
       ],
       [
        10,
        -10,
        0
       ],
       [
        10,
        12,
        0
       ],
       [
        12,
        -10,
        0
       ],
       [
        12,
        12,
        0
       ],
       [
        -10,
        0,
        0
       ],
       [
        -10,
        0,
        22
       ],
       [
        -8,
        0,
        0
       ],
       [
        -8,
        0,
        22
       ],
       [
        -6,
        0,
        0
       ],
       [
        -6,
        0,
        22
       ],
       [
        -4,
        0,
        0
       ],
       [
        -4,
        0,
        22
       ],
       [
        -2,
        0,
        0
       ],
       [
        -2,
        0,
        22
       ],
       [
        0,
        0,
        0
       ],
       [
        0,
        0,
        22
       ],
       [
        2,
        0,
        0
       ],
       [
        2,
        0,
        22
       ],
       [
        4,
        0,
        0
       ],
       [
        4,
        0,
        22
       ],
       [
        6,
        0,
        0
       ],
       [
        6,
        0,
        22
       ],
       [
        8,
        0,
        0
       ],
       [
        8,
        0,
        22
       ],
       [
        10,
        0,
        0
       ],
       [
        10,
        0,
        22
       ],
       [
        12,
        0,
        0
       ],
       [
        12,
        0,
        22
       ],
       [
        -10,
        -10,
        0
       ],
       [
        12,
        -10,
        0
       ],
       [
        -10,
        -8,
        0
       ],
       [
        12,
        -8,
        0
       ],
       [
        -10,
        -6,
        0
       ],
       [
        12,
        -6,
        0
       ],
       [
        -10,
        -4,
        0
       ],
       [
        12,
        -4,
        0
       ],
       [
        -10,
        -2,
        0
       ],
       [
        12,
        -2,
        0
       ],
       [
        -10,
        0,
        0
       ],
       [
        12,
        0,
        0
       ],
       [
        -10,
        2,
        0
       ],
       [
        12,
        2,
        0
       ],
       [
        -10,
        4,
        0
       ],
       [
        12,
        4,
        0
       ],
       [
        -10,
        6,
        0
       ],
       [
        12,
        6,
        0
       ],
       [
        -10,
        8,
        0
       ],
       [
        12,
        8,
        0
       ],
       [
        -10,
        10,
        0
       ],
       [
        12,
        10,
        0
       ],
       [
        -10,
        12,
        0
       ],
       [
        12,
        12,
        0
       ],
       [
        0,
        -10,
        0
       ],
       [
        0,
        -10,
        22
       ],
       [
        0,
        -8,
        0
       ],
       [
        0,
        -8,
        22
       ],
       [
        0,
        -6,
        0
       ],
       [
        0,
        -6,
        22
       ],
       [
        0,
        -4,
        0
       ],
       [
        0,
        -4,
        22
       ],
       [
        0,
        -2,
        0
       ],
       [
        0,
        -2,
        22
       ],
       [
        0,
        0,
        0
       ],
       [
        0,
        0,
        22
       ],
       [
        0,
        2,
        0
       ],
       [
        0,
        2,
        22
       ],
       [
        0,
        4,
        0
       ],
       [
        0,
        4,
        22
       ],
       [
        0,
        6,
        0
       ],
       [
        0,
        6,
        22
       ],
       [
        0,
        8,
        0
       ],
       [
        0,
        8,
        22
       ],
       [
        0,
        10,
        0
       ],
       [
        0,
        10,
        22
       ],
       [
        0,
        12,
        0
       ],
       [
        0,
        12,
        22
       ],
       [
        -10,
        0,
        0
       ],
       [
        12,
        0,
        0
       ],
       [
        -10,
        0,
        2
       ],
       [
        12,
        0,
        2
       ],
       [
        -10,
        0,
        4
       ],
       [
        12,
        0,
        4
       ],
       [
        -10,
        0,
        6
       ],
       [
        12,
        0,
        6
       ],
       [
        -10,
        0,
        8
       ],
       [
        12,
        0,
        8
       ],
       [
        -10,
        0,
        10
       ],
       [
        12,
        0,
        10
       ],
       [
        -10,
        0,
        12
       ],
       [
        12,
        0,
        12
       ],
       [
        -10,
        0,
        14
       ],
       [
        12,
        0,
        14
       ],
       [
        -10,
        0,
        16
       ],
       [
        12,
        0,
        16
       ],
       [
        -10,
        0,
        18
       ],
       [
        12,
        0,
        18
       ],
       [
        -10,
        0,
        20
       ],
       [
        12,
        0,
        20
       ],
       [
        -10,
        0,
        22
       ],
       [
        12,
        0,
        22
       ],
       [
        0,
        -10,
        0
       ],
       [
        0,
        12,
        0
       ],
       [
        0,
        -10,
        2
       ],
       [
        0,
        12,
        2
       ],
       [
        0,
        -10,
        4
       ],
       [
        0,
        12,
        4
       ],
       [
        0,
        -10,
        6
       ],
       [
        0,
        12,
        6
       ],
       [
        0,
        -10,
        8
       ],
       [
        0,
        12,
        8
       ],
       [
        0,
        -10,
        10
       ],
       [
        0,
        12,
        10
       ],
       [
        0,
        -10,
        12
       ],
       [
        0,
        12,
        12
       ],
       [
        0,
        -10,
        14
       ],
       [
        0,
        12,
        14
       ],
       [
        0,
        -10,
        16
       ],
       [
        0,
        12,
        16
       ],
       [
        0,
        -10,
        18
       ],
       [
        0,
        12,
        18
       ],
       [
        0,
        -10,
        20
       ],
       [
        0,
        12,
        20
       ],
       [
        0,
        -10,
        22
       ],
       [
        0,
        12,
        22
       ],
       [
        0,
        0,
        0
       ],
       [
        15,
        0,
        0
       ],
       [
        15,
        0,
        0
       ],
       [
        14.5,
        0,
        0.5
       ],
       [
        15,
        0,
        0
       ],
       [
        14.5,
        0,
        -0.5
       ],
       [
        16,
        0,
        -0.6
       ],
       [
        17,
        0,
        0.6
       ],
       [
        16,
        0,
        0.6
       ],
       [
        17,
        0,
        -0.6
       ],
       [
        0,
        0,
        0
       ],
       [
        0,
        15,
        0
       ],
       [
        0,
        15,
        0
       ],
       [
        0,
        14.5,
        0.5
       ],
       [
        0,
        15,
        0
       ],
       [
        0,
        14.5,
        -0.5
       ],
       [
        0,
        16.5,
        -0.6
       ],
       [
        0,
        16.5,
        0
       ],
       [
        0,
        16.5,
        0
       ],
       [
        0,
        16,
        0.6
       ],
       [
        0,
        16.5,
        0
       ],
       [
        0,
        17,
        0.6
       ],
       [
        0,
        0,
        0
       ],
       [
        0,
        0,
        25
       ],
       [
        0,
        0,
        25
       ],
       [
        0,
        0.5,
        24.5
       ],
       [
        0,
        0,
        25
       ],
       [
        0,
        -0.5,
        24.5
       ],
       [
        0,
        0.6,
        27
       ],
       [
        0,
        0.6,
        26
       ],
       [
        0,
        0.6,
        26
       ],
       [
        0,
        -0.6,
        27
       ],
       [
        0,
        -0.6,
        27
       ],
       [
        0,
        -0.6,
        26
       ]
      ]
     }
    },
    "f443265869704f899f6cb10a1119fbfb": {
     "model_module": "@jupyter-widgets/base",
     "model_module_version": "1.2.0",
     "model_name": "LayoutModel",
     "state": {
      "_model_module": "@jupyter-widgets/base",
      "_model_module_version": "1.2.0",
      "_model_name": "LayoutModel",
      "_view_count": null,
      "_view_module": "@jupyter-widgets/base",
      "_view_module_version": "1.2.0",
      "_view_name": "LayoutView",
      "align_content": null,
      "align_items": null,
      "align_self": null,
      "border": null,
      "bottom": null,
      "display": null,
      "flex": null,
      "flex_flow": null,
      "grid_area": null,
      "grid_auto_columns": null,
      "grid_auto_flow": null,
      "grid_auto_rows": null,
      "grid_column": null,
      "grid_gap": null,
      "grid_row": null,
      "grid_template_areas": null,
      "grid_template_columns": null,
      "grid_template_rows": null,
      "height": null,
      "justify_content": null,
      "justify_items": null,
      "left": null,
      "margin": null,
      "max_height": null,
      "max_width": null,
      "min_height": null,
      "min_width": null,
      "object_fit": null,
      "object_position": null,
      "order": null,
      "overflow": null,
      "overflow_x": null,
      "overflow_y": null,
      "padding": null,
      "right": null,
      "top": null,
      "visibility": null,
      "width": null
     }
    },
    "f50ffe5794424eea9187bd45df84ff14": {
     "model_module": "jupyter-threejs",
     "model_module_version": "^2.4.1",
     "model_name": "MeshModel",
     "state": {
      "_model_module": "jupyter-threejs",
      "_model_module_version": "^2.4.1",
      "_model_name": "MeshModel",
      "_view_count": null,
      "_view_module": null,
      "_view_module_version": "",
      "_view_name": null,
      "castShadow": false,
      "children": [],
      "drawMode": "TrianglesDrawMode",
      "frustumCulled": true,
      "geometry": "IPY_MODEL_312ee7c9714b4020ab936cbfd41a9dff",
      "material": "IPY_MODEL_bbab1b99e3b44f17b00d6caea7a4c0cb",
      "matrix": [
       1,
       0,
       0,
       0,
       0,
       1,
       0,
       0,
       0,
       0,
       1,
       0,
       0,
       0,
       0,
       1
      ],
      "matrixAutoUpdate": true,
      "matrixWorld": [
       1,
       0,
       0,
       0,
       0,
       1,
       0,
       0,
       0,
       0,
       1,
       0,
       0,
       0,
       0,
       1
      ],
      "matrixWorldNeedsUpdate": false,
      "modelViewMatrix": [
       1,
       0,
       0,
       0,
       0,
       1,
       0,
       0,
       0,
       0,
       1,
       0,
       0,
       0,
       0,
       1
      ],
      "morphTargetInfluences": [],
      "name": "",
      "normalMatrix": [
       1,
       0,
       0,
       0,
       1,
       0,
       0,
       0,
       1
      ],
      "position": [
       0,
       0,
       0
      ],
      "quaternion": [
       0,
       0,
       0,
       1
      ],
      "receiveShadow": false,
      "renderOrder": 0,
      "rotation": [
       0,
       0,
       0,
       "XYZ"
      ],
      "scale": [
       1,
       1,
       1
      ],
      "type": "Mesh",
      "up": [
       0,
       1,
       0
      ],
      "visible": true
     }
    },
    "f5cec8cd9d47447c90dff8406cadea93": {
     "model_module": "jupyter-threejs",
     "model_module_version": "^2.4.1",
     "model_name": "LineSegmentsModel",
     "state": {
      "_model_module": "jupyter-threejs",
      "_model_module_version": "^2.4.1",
      "_model_name": "LineSegmentsModel",
      "_view_count": null,
      "_view_module": null,
      "_view_module_version": "",
      "_view_name": null,
      "castShadow": false,
      "children": [],
      "frustumCulled": true,
      "geometry": "IPY_MODEL_f251a3a1a9834453909ae0d4f28cc5c7",
      "material": "IPY_MODEL_5aadcaef061940ceaa6cd6af79827bc7",
      "matrix": [
       1,
       0,
       0,
       0,
       0,
       1,
       0,
       0,
       0,
       0,
       1,
       0,
       0,
       0,
       0,
       1
      ],
      "matrixAutoUpdate": true,
      "matrixWorld": [
       1,
       0,
       0,
       0,
       0,
       1,
       0,
       0,
       0,
       0,
       1,
       0,
       0,
       0,
       0,
       1
      ],
      "matrixWorldNeedsUpdate": false,
      "modelViewMatrix": [
       1,
       0,
       0,
       0,
       0,
       1,
       0,
       0,
       0,
       0,
       1,
       0,
       0,
       0,
       0,
       1
      ],
      "name": "",
      "normalMatrix": [
       1,
       0,
       0,
       0,
       1,
       0,
       0,
       0,
       1
      ],
      "position": [
       0,
       0,
       0
      ],
      "quaternion": [
       0,
       0,
       0,
       1
      ],
      "receiveShadow": false,
      "renderOrder": 0,
      "rotation": [
       0,
       0,
       0,
       "XYZ"
      ],
      "scale": [
       1,
       1,
       1
      ],
      "type": "LineSegments",
      "up": [
       0,
       1,
       0
      ],
      "visible": true
     }
    },
    "f6cb03a80e0743b3981bf82bcb1dbd9d": {
     "model_module": "jupyter-threejs",
     "model_module_version": "^2.4.1",
     "model_name": "RendererModel",
     "state": {
      "_alpha": false,
      "_antialias": false,
      "_dom_classes": [],
      "_height": 600,
      "_model_module": "jupyter-threejs",
      "_model_module_version": "^2.4.1",
      "_model_name": "RendererModel",
      "_pause_autorender": false,
      "_view_count": null,
      "_view_module": "jupyter-threejs",
      "_view_module_version": "^2.4.1",
      "_view_name": "RendererView",
      "_webgl_version": 2,
      "_width": 600,
      "autoClear": true,
      "autoClearColor": true,
      "autoClearDepth": true,
      "autoClearStencil": true,
      "background": "#cccc88",
      "background_opacity": 0,
      "camera": "IPY_MODEL_d406a167e16143738f5d0c552f92a914",
      "clearColor": "#000000",
      "clearOpacity": 1,
      "clippingPlanes": [],
      "controls": [
       "IPY_MODEL_ee68b794d2324f148faf6af02c718c84",
       "IPY_MODEL_dd3f6ab7b68540c18cec95b4813b9e15"
      ],
      "gammaFactor": 2,
      "gammaInput": false,
      "gammaOutput": false,
      "layout": "IPY_MODEL_6ab82b8036ab45a4b2a22b180b4012ce",
      "localClippingEnabled": false,
      "maxMorphNormals": 4,
      "maxMorphTargets": 8,
      "physicallyCorrectLights": false,
      "scene": "IPY_MODEL_73fc0cc40e46431495cfa984d0b1d9f9",
      "shadowMap": "IPY_MODEL_5fc898e1ba6048e38677a651a7ce5c07",
      "sortObject": true,
      "toneMapping": "LinearToneMapping",
      "toneMappingExposure": 1,
      "toneMappingWhitePoint": 1
     }
    },
    "f7c0fc2c3a3f4dad9b65dc73416c0bcd": {
     "model_module": "@jupyter-widgets/base",
     "model_module_version": "1.2.0",
     "model_name": "LayoutModel",
     "state": {
      "_model_module": "@jupyter-widgets/base",
      "_model_module_version": "1.2.0",
      "_model_name": "LayoutModel",
      "_view_count": null,
      "_view_module": "@jupyter-widgets/base",
      "_view_module_version": "1.2.0",
      "_view_name": "LayoutView",
      "align_content": null,
      "align_items": null,
      "align_self": null,
      "border": null,
      "bottom": null,
      "display": null,
      "flex": null,
      "flex_flow": null,
      "grid_area": null,
      "grid_auto_columns": null,
      "grid_auto_flow": null,
      "grid_auto_rows": null,
      "grid_column": null,
      "grid_gap": null,
      "grid_row": null,
      "grid_template_areas": null,
      "grid_template_columns": null,
      "grid_template_rows": null,
      "height": null,
      "justify_content": null,
      "justify_items": null,
      "left": null,
      "margin": null,
      "max_height": null,
      "max_width": null,
      "min_height": null,
      "min_width": null,
      "object_fit": null,
      "object_position": null,
      "order": null,
      "overflow": null,
      "overflow_x": null,
      "overflow_y": null,
      "padding": null,
      "right": null,
      "top": null,
      "visibility": null,
      "width": null
     }
    },
    "f96484ca01ef46c1a7662c4665dd4b3c": {
     "model_module": "jupyter-threejs",
     "model_module_version": "^2.4.1",
     "model_name": "WebGLShadowMapModel",
     "state": {
      "_model_module": "jupyter-threejs",
      "_model_module_version": "^2.4.1",
      "_model_name": "WebGLShadowMapModel",
      "_view_count": null,
      "_view_module": null,
      "_view_module_version": "",
      "_view_name": null,
      "enabled": false,
      "type": "PCFShadowMap"
     }
    },
    "f9894791cc79449eac307c759b786951": {
     "model_module": "jupyter-threejs",
     "model_module_version": "^2.4.1",
     "model_name": "GeometryModel",
     "state": {
      "_model_module": "jupyter-threejs",
      "_model_module_version": "^2.4.1",
      "_model_name": "GeometryModel",
      "_ref_geometry": null,
      "_store_ref": false,
      "_view_count": null,
      "_view_module": null,
      "_view_module_version": "",
      "_view_name": null,
      "colors": [
       "#3333ff",
       "#3333ff",
       "#3333ff",
       "#3333ff",
       "#3333ff",
       "#3333ff",
       "#3333ff",
       "#3333ff",
       "#3333ff",
       "#3333ff",
       "#3333ff",
       "#3333ff",
       "#3333ff",
       "#3333ff",
       "#33ff33",
       "#33ff33",
       "#33ff33",
       "#33ff33",
       "#33ff33",
       "#33ff33",
       "#33ff33",
       "#33ff33",
       "#33ff33",
       "#33ff33",
       "#33ff33",
       "#33ff33",
       "#33ff33",
       "#33ff33",
       "#3333ff",
       "#3333ff",
       "#3333ff",
       "#3333ff",
       "#3333ff",
       "#3333ff",
       "#3333ff",
       "#3333ff",
       "#3333ff",
       "#3333ff",
       "#3333ff",
       "#3333ff",
       "#3333ff",
       "#3333ff",
       "#ff3333",
       "#ff3333",
       "#ff3333",
       "#ff3333",
       "#ff3333",
       "#ff3333",
       "#ff3333",
       "#ff3333",
       "#ff3333",
       "#ff3333",
       "#ff3333",
       "#ff3333",
       "#ff3333",
       "#ff3333",
       "#33ff33",
       "#33ff33",
       "#33ff33",
       "#33ff33",
       "#33ff33",
       "#33ff33",
       "#33ff33",
       "#33ff33",
       "#33ff33",
       "#33ff33",
       "#33ff33",
       "#33ff33",
       "#33ff33",
       "#33ff33",
       "#ff3333",
       "#ff3333",
       "#ff3333",
       "#ff3333",
       "#ff3333",
       "#ff3333",
       "#ff3333",
       "#ff3333",
       "#ff3333",
       "#ff3333",
       "#ff3333",
       "#ff3333",
       "#ff3333",
       "#ff3333",
       "#000000",
       "#000000",
       "#000000",
       "#000000",
       "#000000",
       "#000000",
       "#000000",
       "#000000",
       "#000000",
       "#000000",
       "#000000",
       "#000000",
       "#000000",
       "#000000",
       "#000000",
       "#000000",
       "#000000",
       "#000000",
       "#000000",
       "#000000",
       "#000000",
       "#000000",
       "#000000",
       "#000000",
       "#000000",
       "#000000",
       "#000000",
       "#000000",
       "#000000",
       "#000000",
       "#000000",
       "#000000",
       "#000000",
       "#000000"
      ],
      "faceVertexUvs": [],
      "faces": [],
      "lineDistances": [],
      "morphNormals": [],
      "morphTargets": [],
      "name": "",
      "skinIndices": [],
      "skinWeights": [],
      "type": "Geometry",
      "vertices": [
       [
        0,
        0,
        0
       ],
       [
        0,
        1.2000000000000002,
        0
       ],
       [
        0.2,
        0,
        0
       ],
       [
        0.2,
        1.2000000000000002,
        0
       ],
       [
        0.4,
        0,
        0
       ],
       [
        0.4,
        1.2000000000000002,
        0
       ],
       [
        0.6000000000000001,
        0,
        0
       ],
       [
        0.6000000000000001,
        1.2000000000000002,
        0
       ],
       [
        0.8,
        0,
        0
       ],
       [
        0.8,
        1.2000000000000002,
        0
       ],
       [
        1,
        0,
        0
       ],
       [
        1,
        1.2000000000000002,
        0
       ],
       [
        1.2000000000000002,
        0,
        0
       ],
       [
        1.2000000000000002,
        1.2000000000000002,
        0
       ],
       [
        0,
        0,
        0
       ],
       [
        0,
        0,
        1.2000000000000002
       ],
       [
        0.2,
        0,
        0
       ],
       [
        0.2,
        0,
        1.2000000000000002
       ],
       [
        0.4,
        0,
        0
       ],
       [
        0.4,
        0,
        1.2000000000000002
       ],
       [
        0.6000000000000001,
        0,
        0
       ],
       [
        0.6000000000000001,
        0,
        1.2000000000000002
       ],
       [
        0.8,
        0,
        0
       ],
       [
        0.8,
        0,
        1.2000000000000002
       ],
       [
        1,
        0,
        0
       ],
       [
        1,
        0,
        1.2000000000000002
       ],
       [
        1.2000000000000002,
        0,
        0
       ],
       [
        1.2000000000000002,
        0,
        1.2000000000000002
       ],
       [
        0,
        0,
        0
       ],
       [
        1.2000000000000002,
        0,
        0
       ],
       [
        0,
        0.2,
        0
       ],
       [
        1.2000000000000002,
        0.2,
        0
       ],
       [
        0,
        0.4,
        0
       ],
       [
        1.2000000000000002,
        0.4,
        0
       ],
       [
        0,
        0.6000000000000001,
        0
       ],
       [
        1.2000000000000002,
        0.6000000000000001,
        0
       ],
       [
        0,
        0.8,
        0
       ],
       [
        1.2000000000000002,
        0.8,
        0
       ],
       [
        0,
        1,
        0
       ],
       [
        1.2000000000000002,
        1,
        0
       ],
       [
        0,
        1.2000000000000002,
        0
       ],
       [
        1.2000000000000002,
        1.2000000000000002,
        0
       ],
       [
        0,
        0,
        0
       ],
       [
        0,
        0,
        1.2000000000000002
       ],
       [
        0,
        0.2,
        0
       ],
       [
        0,
        0.2,
        1.2000000000000002
       ],
       [
        0,
        0.4,
        0
       ],
       [
        0,
        0.4,
        1.2000000000000002
       ],
       [
        0,
        0.6000000000000001,
        0
       ],
       [
        0,
        0.6000000000000001,
        1.2000000000000002
       ],
       [
        0,
        0.8,
        0
       ],
       [
        0,
        0.8,
        1.2000000000000002
       ],
       [
        0,
        1,
        0
       ],
       [
        0,
        1,
        1.2000000000000002
       ],
       [
        0,
        1.2000000000000002,
        0
       ],
       [
        0,
        1.2000000000000002,
        1.2000000000000002
       ],
       [
        0,
        0,
        0
       ],
       [
        1.2000000000000002,
        0,
        0
       ],
       [
        0,
        0,
        0.2
       ],
       [
        1.2000000000000002,
        0,
        0.2
       ],
       [
        0,
        0,
        0.4
       ],
       [
        1.2000000000000002,
        0,
        0.4
       ],
       [
        0,
        0,
        0.6000000000000001
       ],
       [
        1.2000000000000002,
        0,
        0.6000000000000001
       ],
       [
        0,
        0,
        0.8
       ],
       [
        1.2000000000000002,
        0,
        0.8
       ],
       [
        0,
        0,
        1
       ],
       [
        1.2000000000000002,
        0,
        1
       ],
       [
        0,
        0,
        1.2000000000000002
       ],
       [
        1.2000000000000002,
        0,
        1.2000000000000002
       ],
       [
        0,
        0,
        0
       ],
       [
        0,
        1.2000000000000002,
        0
       ],
       [
        0,
        0,
        0.2
       ],
       [
        0,
        1.2000000000000002,
        0.2
       ],
       [
        0,
        0,
        0.4
       ],
       [
        0,
        1.2000000000000002,
        0.4
       ],
       [
        0,
        0,
        0.6000000000000001
       ],
       [
        0,
        1.2000000000000002,
        0.6000000000000001
       ],
       [
        0,
        0,
        0.8
       ],
       [
        0,
        1.2000000000000002,
        0.8
       ],
       [
        0,
        0,
        1
       ],
       [
        0,
        1.2000000000000002,
        1
       ],
       [
        0,
        0,
        1.2000000000000002
       ],
       [
        0,
        1.2000000000000002,
        1.2000000000000002
       ],
       [
        0,
        0,
        0
       ],
       [
        1.4500000000000002,
        0,
        0
       ],
       [
        1.4500000000000002,
        0,
        0
       ],
       [
        1.425,
        0,
        0.025
       ],
       [
        1.4500000000000002,
        0,
        0
       ],
       [
        1.425,
        0,
        -0.025
       ],
       [
        1.5000000000000002,
        0,
        -0.03
       ],
       [
        1.5500000000000003,
        0,
        0.03
       ],
       [
        1.5000000000000002,
        0,
        0.03
       ],
       [
        1.5500000000000003,
        0,
        -0.03
       ],
       [
        0,
        0,
        0
       ],
       [
        0,
        1.4500000000000002,
        0
       ],
       [
        0,
        1.4500000000000002,
        0
       ],
       [
        0,
        1.425,
        0.025
       ],
       [
        0,
        1.4500000000000002,
        0
       ],
       [
        0,
        1.425,
        -0.025
       ],
       [
        0,
        1.5250000000000001,
        -0.03
       ],
       [
        0,
        1.5250000000000001,
        0
       ],
       [
        0,
        1.5250000000000001,
        0
       ],
       [
        0,
        1.5000000000000002,
        0.03
       ],
       [
        0,
        1.5250000000000001,
        0
       ],
       [
        0,
        1.5500000000000003,
        0.03
       ],
       [
        0,
        0,
        0
       ],
       [
        0,
        0,
        1.4500000000000002
       ],
       [
        0,
        0,
        1.4500000000000002
       ],
       [
        0,
        0.025,
        1.425
       ],
       [
        0,
        0,
        1.4500000000000002
       ],
       [
        0,
        -0.025,
        1.425
       ],
       [
        0,
        0.03,
        1.5500000000000003
       ],
       [
        0,
        0.03,
        1.5000000000000002
       ],
       [
        0,
        0.03,
        1.5000000000000002
       ],
       [
        0,
        -0.03,
        1.5500000000000003
       ],
       [
        0,
        -0.03,
        1.5500000000000003
       ],
       [
        0,
        -0.03,
        1.5000000000000002
       ]
      ]
     }
    },
    "fa33206b816b4bf29757f63289390ec1": {
     "model_module": "jupyter-threejs",
     "model_module_version": "^2.4.1",
     "model_name": "MeshBasicMaterialModel",
     "state": {
      "_model_module": "jupyter-threejs",
      "_model_module_version": "^2.4.1",
      "_model_name": "MeshBasicMaterialModel",
      "_view_count": null,
      "_view_module": null,
      "_view_module_version": "",
      "_view_name": null,
      "alphaMap": null,
      "alphaTest": 0,
      "aoMap": null,
      "aoMapIntensity": 1,
      "blendDst": "OneMinusSrcAlphaFactor",
      "blendDstAlpha": 0,
      "blendEquation": "AddEquation",
      "blendEquationAlpha": 0,
      "blendSrc": "SrcAlphaFactor",
      "blendSrcAlpha": 0,
      "blending": "NormalBlending",
      "clipIntersection": false,
      "clipShadows": false,
      "clippingPlanes": [],
      "color": "#00ff00",
      "colorWrite": true,
      "combine": "MultiplyOperation",
      "defines": null,
      "depthFunc": "LessEqualDepth",
      "depthTest": true,
      "depthWrite": true,
      "dithering": false,
      "envMap": null,
      "flatShading": false,
      "fog": true,
      "lightMap": null,
      "lightMapIntensity": 1,
      "lights": false,
      "map": null,
      "morphTargets": false,
      "name": "",
      "opacity": 1,
      "overdraw": 0,
      "polygonOffset": false,
      "polygonOffsetFactor": 0,
      "polygonOffsetUnits": 0,
      "precision": null,
      "premultipliedAlpha": false,
      "reflectivity": 1,
      "refractionRatio": 0.98,
      "shadowSide": null,
      "side": "FrontSide",
      "skinning": false,
      "specularMap": null,
      "transparent": false,
      "type": "MeshBasicMaterial",
      "vertexColors": "NoColors",
      "visible": true,
      "wireframe": false,
      "wireframeLinecap": "round",
      "wireframeLinejoin": "round",
      "wireframeLinewidth": 1
     }
    },
    "fa6a805fb1a847309b13b2d9b4000346": {
     "model_module": "jupyter-threejs",
     "model_module_version": "^2.4.1",
     "model_name": "GeometryModel",
     "state": {
      "_model_module": "jupyter-threejs",
      "_model_module_version": "^2.4.1",
      "_model_name": "GeometryModel",
      "_ref_geometry": null,
      "_store_ref": false,
      "_view_count": null,
      "_view_module": null,
      "_view_module_version": "",
      "_view_name": null,
      "colors": [
       "#3333ff",
       "#3333ff",
       "#3333ff",
       "#3333ff",
       "#3333ff",
       "#3333ff",
       "#3333ff",
       "#3333ff",
       "#3333ff",
       "#3333ff",
       "#3333ff",
       "#3333ff",
       "#3333ff",
       "#3333ff",
       "#3333ff",
       "#3333ff",
       "#3333ff",
       "#3333ff",
       "#3333ff",
       "#3333ff",
       "#3333ff",
       "#3333ff",
       "#3333ff",
       "#3333ff",
       "#3333ff",
       "#3333ff",
       "#3333ff",
       "#3333ff",
       "#3333ff",
       "#3333ff",
       "#3333ff",
       "#3333ff",
       "#3333ff",
       "#3333ff",
       "#3333ff",
       "#3333ff",
       "#3333ff",
       "#3333ff",
       "#3333ff",
       "#3333ff",
       "#3333ff",
       "#3333ff",
       "#3333ff",
       "#3333ff",
       "#3333ff",
       "#3333ff",
       "#3333ff",
       "#3333ff",
       "#3333ff",
       "#3333ff",
       "#3333ff",
       "#3333ff",
       "#33ff33",
       "#33ff33",
       "#33ff33",
       "#33ff33",
       "#33ff33",
       "#33ff33",
       "#33ff33",
       "#33ff33",
       "#33ff33",
       "#33ff33",
       "#33ff33",
       "#33ff33",
       "#33ff33",
       "#33ff33",
       "#33ff33",
       "#33ff33",
       "#33ff33",
       "#33ff33",
       "#33ff33",
       "#33ff33",
       "#33ff33",
       "#33ff33",
       "#33ff33",
       "#33ff33",
       "#33ff33",
       "#33ff33",
       "#33ff33",
       "#33ff33",
       "#33ff33",
       "#33ff33",
       "#33ff33",
       "#33ff33",
       "#33ff33",
       "#33ff33",
       "#33ff33",
       "#33ff33",
       "#33ff33",
       "#33ff33",
       "#33ff33",
       "#33ff33",
       "#33ff33",
       "#33ff33",
       "#33ff33",
       "#33ff33",
       "#33ff33",
       "#33ff33",
       "#33ff33",
       "#33ff33",
       "#33ff33",
       "#33ff33",
       "#33ff33",
       "#33ff33",
       "#3333ff",
       "#3333ff",
       "#3333ff",
       "#3333ff",
       "#3333ff",
       "#3333ff",
       "#3333ff",
       "#3333ff",
       "#3333ff",
       "#3333ff",
       "#3333ff",
       "#3333ff",
       "#3333ff",
       "#3333ff",
       "#3333ff",
       "#3333ff",
       "#3333ff",
       "#3333ff",
       "#3333ff",
       "#3333ff",
       "#3333ff",
       "#3333ff",
       "#3333ff",
       "#3333ff",
       "#3333ff",
       "#3333ff",
       "#3333ff",
       "#3333ff",
       "#3333ff",
       "#3333ff",
       "#3333ff",
       "#3333ff",
       "#3333ff",
       "#3333ff",
       "#3333ff",
       "#3333ff",
       "#3333ff",
       "#3333ff",
       "#3333ff",
       "#3333ff",
       "#3333ff",
       "#3333ff",
       "#3333ff",
       "#3333ff",
       "#3333ff",
       "#3333ff",
       "#3333ff",
       "#3333ff",
       "#3333ff",
       "#3333ff",
       "#3333ff",
       "#3333ff",
       "#ff3333",
       "#ff3333",
       "#ff3333",
       "#ff3333",
       "#ff3333",
       "#ff3333",
       "#ff3333",
       "#ff3333",
       "#ff3333",
       "#ff3333",
       "#ff3333",
       "#ff3333",
       "#ff3333",
       "#ff3333",
       "#ff3333",
       "#ff3333",
       "#ff3333",
       "#ff3333",
       "#ff3333",
       "#ff3333",
       "#ff3333",
       "#ff3333",
       "#ff3333",
       "#ff3333",
       "#ff3333",
       "#ff3333",
       "#ff3333",
       "#ff3333",
       "#ff3333",
       "#ff3333",
       "#ff3333",
       "#ff3333",
       "#ff3333",
       "#ff3333",
       "#ff3333",
       "#ff3333",
       "#ff3333",
       "#ff3333",
       "#ff3333",
       "#ff3333",
       "#ff3333",
       "#ff3333",
       "#ff3333",
       "#ff3333",
       "#ff3333",
       "#ff3333",
       "#ff3333",
       "#ff3333",
       "#ff3333",
       "#ff3333",
       "#ff3333",
       "#ff3333",
       "#33ff33",
       "#33ff33",
       "#33ff33",
       "#33ff33",
       "#33ff33",
       "#33ff33",
       "#33ff33",
       "#33ff33",
       "#33ff33",
       "#33ff33",
       "#33ff33",
       "#33ff33",
       "#33ff33",
       "#33ff33",
       "#33ff33",
       "#33ff33",
       "#33ff33",
       "#33ff33",
       "#33ff33",
       "#33ff33",
       "#33ff33",
       "#33ff33",
       "#33ff33",
       "#33ff33",
       "#33ff33",
       "#33ff33",
       "#33ff33",
       "#33ff33",
       "#33ff33",
       "#33ff33",
       "#33ff33",
       "#33ff33",
       "#33ff33",
       "#33ff33",
       "#33ff33",
       "#33ff33",
       "#33ff33",
       "#33ff33",
       "#33ff33",
       "#33ff33",
       "#33ff33",
       "#33ff33",
       "#33ff33",
       "#33ff33",
       "#33ff33",
       "#33ff33",
       "#33ff33",
       "#33ff33",
       "#33ff33",
       "#33ff33",
       "#33ff33",
       "#33ff33",
       "#ff3333",
       "#ff3333",
       "#ff3333",
       "#ff3333",
       "#ff3333",
       "#ff3333",
       "#ff3333",
       "#ff3333",
       "#ff3333",
       "#ff3333",
       "#ff3333",
       "#ff3333",
       "#ff3333",
       "#ff3333",
       "#ff3333",
       "#ff3333",
       "#ff3333",
       "#ff3333",
       "#ff3333",
       "#ff3333",
       "#ff3333",
       "#ff3333",
       "#ff3333",
       "#ff3333",
       "#ff3333",
       "#ff3333",
       "#ff3333",
       "#ff3333",
       "#ff3333",
       "#ff3333",
       "#ff3333",
       "#ff3333",
       "#ff3333",
       "#ff3333",
       "#ff3333",
       "#ff3333",
       "#ff3333",
       "#ff3333",
       "#ff3333",
       "#ff3333",
       "#ff3333",
       "#ff3333",
       "#ff3333",
       "#ff3333",
       "#ff3333",
       "#ff3333",
       "#ff3333",
       "#ff3333",
       "#ff3333",
       "#ff3333",
       "#ff3333",
       "#ff3333",
       "#000000",
       "#000000",
       "#000000",
       "#000000",
       "#000000",
       "#000000",
       "#000000",
       "#000000",
       "#000000",
       "#000000",
       "#000000",
       "#000000",
       "#000000",
       "#000000",
       "#000000",
       "#000000",
       "#000000",
       "#000000",
       "#000000",
       "#000000",
       "#000000",
       "#000000",
       "#000000",
       "#000000",
       "#000000",
       "#000000",
       "#000000",
       "#000000",
       "#000000",
       "#000000",
       "#000000",
       "#000000",
       "#000000",
       "#000000"
      ],
      "faceVertexUvs": [],
      "faces": [],
      "lineDistances": [],
      "morphNormals": [],
      "morphTargets": [],
      "name": "",
      "skinIndices": [],
      "skinWeights": [],
      "type": "Geometry",
      "vertices": [
       [
        -2.6,
        -2.6,
        0
       ],
       [
        -2.6,
        2.4,
        0
       ],
       [
        -2.4,
        -2.6,
        0
       ],
       [
        -2.4,
        2.4,
        0
       ],
       [
        -2.2,
        -2.6,
        0
       ],
       [
        -2.2,
        2.4,
        0
       ],
       [
        -2,
        -2.6,
        0
       ],
       [
        -2,
        2.4,
        0
       ],
       [
        -1.8,
        -2.6,
        0
       ],
       [
        -1.8,
        2.4,
        0
       ],
       [
        -1.6,
        -2.6,
        0
       ],
       [
        -1.6,
        2.4,
        0
       ],
       [
        -1.4,
        -2.6,
        0
       ],
       [
        -1.4,
        2.4,
        0
       ],
       [
        -1.2,
        -2.6,
        0
       ],
       [
        -1.2,
        2.4,
        0
       ],
       [
        -1,
        -2.6,
        0
       ],
       [
        -1,
        2.4,
        0
       ],
       [
        -0.8,
        -2.6,
        0
       ],
       [
        -0.8,
        2.4,
        0
       ],
       [
        -0.6000000000000001,
        -2.6,
        0
       ],
       [
        -0.6000000000000001,
        2.4,
        0
       ],
       [
        -0.3999999999999999,
        -2.6,
        0
       ],
       [
        -0.3999999999999999,
        2.4,
        0
       ],
       [
        -0.19999999999999973,
        -2.6,
        0
       ],
       [
        -0.19999999999999973,
        2.4,
        0
       ],
       [
        0,
        -2.6,
        0
       ],
       [
        0,
        2.4,
        0
       ],
       [
        0.20000000000000018,
        -2.6,
        0
       ],
       [
        0.20000000000000018,
        2.4,
        0
       ],
       [
        0.3999999999999999,
        -2.6,
        0
       ],
       [
        0.3999999999999999,
        2.4,
        0
       ],
       [
        0.6000000000000001,
        -2.6,
        0
       ],
       [
        0.6000000000000001,
        2.4,
        0
       ],
       [
        0.8000000000000003,
        -2.6,
        0
       ],
       [
        0.8000000000000003,
        2.4,
        0
       ],
       [
        1,
        -2.6,
        0
       ],
       [
        1,
        2.4,
        0
       ],
       [
        1.2000000000000002,
        -2.6,
        0
       ],
       [
        1.2000000000000002,
        2.4,
        0
       ],
       [
        1.4,
        -2.6,
        0
       ],
       [
        1.4,
        2.4,
        0
       ],
       [
        1.6,
        -2.6,
        0
       ],
       [
        1.6,
        2.4,
        0
       ],
       [
        1.8000000000000003,
        -2.6,
        0
       ],
       [
        1.8000000000000003,
        2.4,
        0
       ],
       [
        2.0000000000000004,
        -2.6,
        0
       ],
       [
        2.0000000000000004,
        2.4,
        0
       ],
       [
        2.2000000000000006,
        -2.6,
        0
       ],
       [
        2.2000000000000006,
        2.4,
        0
       ],
       [
        2.4,
        -2.6,
        0
       ],
       [
        2.4,
        2.4,
        0
       ],
       [
        -2.6,
        0,
        -2.6
       ],
       [
        -2.6,
        0,
        2.4
       ],
       [
        -2.4,
        0,
        -2.6
       ],
       [
        -2.4,
        0,
        2.4
       ],
       [
        -2.2,
        0,
        -2.6
       ],
       [
        -2.2,
        0,
        2.4
       ],
       [
        -2,
        0,
        -2.6
       ],
       [
        -2,
        0,
        2.4
       ],
       [
        -1.8,
        0,
        -2.6
       ],
       [
        -1.8,
        0,
        2.4
       ],
       [
        -1.6,
        0,
        -2.6
       ],
       [
        -1.6,
        0,
        2.4
       ],
       [
        -1.4,
        0,
        -2.6
       ],
       [
        -1.4,
        0,
        2.4
       ],
       [
        -1.2,
        0,
        -2.6
       ],
       [
        -1.2,
        0,
        2.4
       ],
       [
        -1,
        0,
        -2.6
       ],
       [
        -1,
        0,
        2.4
       ],
       [
        -0.8,
        0,
        -2.6
       ],
       [
        -0.8,
        0,
        2.4
       ],
       [
        -0.6000000000000001,
        0,
        -2.6
       ],
       [
        -0.6000000000000001,
        0,
        2.4
       ],
       [
        -0.3999999999999999,
        0,
        -2.6
       ],
       [
        -0.3999999999999999,
        0,
        2.4
       ],
       [
        -0.19999999999999973,
        0,
        -2.6
       ],
       [
        -0.19999999999999973,
        0,
        2.4
       ],
       [
        0,
        0,
        -2.6
       ],
       [
        0,
        0,
        2.4
       ],
       [
        0.20000000000000018,
        0,
        -2.6
       ],
       [
        0.20000000000000018,
        0,
        2.4
       ],
       [
        0.3999999999999999,
        0,
        -2.6
       ],
       [
        0.3999999999999999,
        0,
        2.4
       ],
       [
        0.6000000000000001,
        0,
        -2.6
       ],
       [
        0.6000000000000001,
        0,
        2.4
       ],
       [
        0.8000000000000003,
        0,
        -2.6
       ],
       [
        0.8000000000000003,
        0,
        2.4
       ],
       [
        1,
        0,
        -2.6
       ],
       [
        1,
        0,
        2.4
       ],
       [
        1.2000000000000002,
        0,
        -2.6
       ],
       [
        1.2000000000000002,
        0,
        2.4
       ],
       [
        1.4,
        0,
        -2.6
       ],
       [
        1.4,
        0,
        2.4
       ],
       [
        1.6,
        0,
        -2.6
       ],
       [
        1.6,
        0,
        2.4
       ],
       [
        1.8000000000000003,
        0,
        -2.6
       ],
       [
        1.8000000000000003,
        0,
        2.4
       ],
       [
        2.0000000000000004,
        0,
        -2.6
       ],
       [
        2.0000000000000004,
        0,
        2.4
       ],
       [
        2.2000000000000006,
        0,
        -2.6
       ],
       [
        2.2000000000000006,
        0,
        2.4
       ],
       [
        2.4,
        0,
        -2.6
       ],
       [
        2.4,
        0,
        2.4
       ],
       [
        -2.6,
        -2.6,
        0
       ],
       [
        2.4,
        -2.6,
        0
       ],
       [
        -2.6,
        -2.4,
        0
       ],
       [
        2.4,
        -2.4,
        0
       ],
       [
        -2.6,
        -2.2,
        0
       ],
       [
        2.4,
        -2.2,
        0
       ],
       [
        -2.6,
        -2,
        0
       ],
       [
        2.4,
        -2,
        0
       ],
       [
        -2.6,
        -1.8,
        0
       ],
       [
        2.4,
        -1.8,
        0
       ],
       [
        -2.6,
        -1.6,
        0
       ],
       [
        2.4,
        -1.6,
        0
       ],
       [
        -2.6,
        -1.4,
        0
       ],
       [
        2.4,
        -1.4,
        0
       ],
       [
        -2.6,
        -1.2,
        0
       ],
       [
        2.4,
        -1.2,
        0
       ],
       [
        -2.6,
        -1,
        0
       ],
       [
        2.4,
        -1,
        0
       ],
       [
        -2.6,
        -0.8,
        0
       ],
       [
        2.4,
        -0.8,
        0
       ],
       [
        -2.6,
        -0.6000000000000001,
        0
       ],
       [
        2.4,
        -0.6000000000000001,
        0
       ],
       [
        -2.6,
        -0.3999999999999999,
        0
       ],
       [
        2.4,
        -0.3999999999999999,
        0
       ],
       [
        -2.6,
        -0.19999999999999973,
        0
       ],
       [
        2.4,
        -0.19999999999999973,
        0
       ],
       [
        -2.6,
        0,
        0
       ],
       [
        2.4,
        0,
        0
       ],
       [
        -2.6,
        0.20000000000000018,
        0
       ],
       [
        2.4,
        0.20000000000000018,
        0
       ],
       [
        -2.6,
        0.3999999999999999,
        0
       ],
       [
        2.4,
        0.3999999999999999,
        0
       ],
       [
        -2.6,
        0.6000000000000001,
        0
       ],
       [
        2.4,
        0.6000000000000001,
        0
       ],
       [
        -2.6,
        0.8000000000000003,
        0
       ],
       [
        2.4,
        0.8000000000000003,
        0
       ],
       [
        -2.6,
        1,
        0
       ],
       [
        2.4,
        1,
        0
       ],
       [
        -2.6,
        1.2000000000000002,
        0
       ],
       [
        2.4,
        1.2000000000000002,
        0
       ],
       [
        -2.6,
        1.4,
        0
       ],
       [
        2.4,
        1.4,
        0
       ],
       [
        -2.6,
        1.6,
        0
       ],
       [
        2.4,
        1.6,
        0
       ],
       [
        -2.6,
        1.8000000000000003,
        0
       ],
       [
        2.4,
        1.8000000000000003,
        0
       ],
       [
        -2.6,
        2.0000000000000004,
        0
       ],
       [
        2.4,
        2.0000000000000004,
        0
       ],
       [
        -2.6,
        2.2000000000000006,
        0
       ],
       [
        2.4,
        2.2000000000000006,
        0
       ],
       [
        -2.6,
        2.4,
        0
       ],
       [
        2.4,
        2.4,
        0
       ],
       [
        0,
        -2.6,
        -2.6
       ],
       [
        0,
        -2.6,
        2.4
       ],
       [
        0,
        -2.4,
        -2.6
       ],
       [
        0,
        -2.4,
        2.4
       ],
       [
        0,
        -2.2,
        -2.6
       ],
       [
        0,
        -2.2,
        2.4
       ],
       [
        0,
        -2,
        -2.6
       ],
       [
        0,
        -2,
        2.4
       ],
       [
        0,
        -1.8,
        -2.6
       ],
       [
        0,
        -1.8,
        2.4
       ],
       [
        0,
        -1.6,
        -2.6
       ],
       [
        0,
        -1.6,
        2.4
       ],
       [
        0,
        -1.4,
        -2.6
       ],
       [
        0,
        -1.4,
        2.4
       ],
       [
        0,
        -1.2,
        -2.6
       ],
       [
        0,
        -1.2,
        2.4
       ],
       [
        0,
        -1,
        -2.6
       ],
       [
        0,
        -1,
        2.4
       ],
       [
        0,
        -0.8,
        -2.6
       ],
       [
        0,
        -0.8,
        2.4
       ],
       [
        0,
        -0.6000000000000001,
        -2.6
       ],
       [
        0,
        -0.6000000000000001,
        2.4
       ],
       [
        0,
        -0.3999999999999999,
        -2.6
       ],
       [
        0,
        -0.3999999999999999,
        2.4
       ],
       [
        0,
        -0.19999999999999973,
        -2.6
       ],
       [
        0,
        -0.19999999999999973,
        2.4
       ],
       [
        0,
        0,
        -2.6
       ],
       [
        0,
        0,
        2.4
       ],
       [
        0,
        0.20000000000000018,
        -2.6
       ],
       [
        0,
        0.20000000000000018,
        2.4
       ],
       [
        0,
        0.3999999999999999,
        -2.6
       ],
       [
        0,
        0.3999999999999999,
        2.4
       ],
       [
        0,
        0.6000000000000001,
        -2.6
       ],
       [
        0,
        0.6000000000000001,
        2.4
       ],
       [
        0,
        0.8000000000000003,
        -2.6
       ],
       [
        0,
        0.8000000000000003,
        2.4
       ],
       [
        0,
        1,
        -2.6
       ],
       [
        0,
        1,
        2.4
       ],
       [
        0,
        1.2000000000000002,
        -2.6
       ],
       [
        0,
        1.2000000000000002,
        2.4
       ],
       [
        0,
        1.4,
        -2.6
       ],
       [
        0,
        1.4,
        2.4
       ],
       [
        0,
        1.6,
        -2.6
       ],
       [
        0,
        1.6,
        2.4
       ],
       [
        0,
        1.8000000000000003,
        -2.6
       ],
       [
        0,
        1.8000000000000003,
        2.4
       ],
       [
        0,
        2.0000000000000004,
        -2.6
       ],
       [
        0,
        2.0000000000000004,
        2.4
       ],
       [
        0,
        2.2000000000000006,
        -2.6
       ],
       [
        0,
        2.2000000000000006,
        2.4
       ],
       [
        0,
        2.4,
        -2.6
       ],
       [
        0,
        2.4,
        2.4
       ],
       [
        -2.6,
        0,
        -2.6
       ],
       [
        2.4,
        0,
        -2.6
       ],
       [
        -2.6,
        0,
        -2.4
       ],
       [
        2.4,
        0,
        -2.4
       ],
       [
        -2.6,
        0,
        -2.2
       ],
       [
        2.4,
        0,
        -2.2
       ],
       [
        -2.6,
        0,
        -2
       ],
       [
        2.4,
        0,
        -2
       ],
       [
        -2.6,
        0,
        -1.8
       ],
       [
        2.4,
        0,
        -1.8
       ],
       [
        -2.6,
        0,
        -1.6
       ],
       [
        2.4,
        0,
        -1.6
       ],
       [
        -2.6,
        0,
        -1.4
       ],
       [
        2.4,
        0,
        -1.4
       ],
       [
        -2.6,
        0,
        -1.2
       ],
       [
        2.4,
        0,
        -1.2
       ],
       [
        -2.6,
        0,
        -1
       ],
       [
        2.4,
        0,
        -1
       ],
       [
        -2.6,
        0,
        -0.8
       ],
       [
        2.4,
        0,
        -0.8
       ],
       [
        -2.6,
        0,
        -0.6000000000000001
       ],
       [
        2.4,
        0,
        -0.6000000000000001
       ],
       [
        -2.6,
        0,
        -0.3999999999999999
       ],
       [
        2.4,
        0,
        -0.3999999999999999
       ],
       [
        -2.6,
        0,
        -0.19999999999999973
       ],
       [
        2.4,
        0,
        -0.19999999999999973
       ],
       [
        -2.6,
        0,
        0
       ],
       [
        2.4,
        0,
        0
       ],
       [
        -2.6,
        0,
        0.20000000000000018
       ],
       [
        2.4,
        0,
        0.20000000000000018
       ],
       [
        -2.6,
        0,
        0.3999999999999999
       ],
       [
        2.4,
        0,
        0.3999999999999999
       ],
       [
        -2.6,
        0,
        0.6000000000000001
       ],
       [
        2.4,
        0,
        0.6000000000000001
       ],
       [
        -2.6,
        0,
        0.8000000000000003
       ],
       [
        2.4,
        0,
        0.8000000000000003
       ],
       [
        -2.6,
        0,
        1
       ],
       [
        2.4,
        0,
        1
       ],
       [
        -2.6,
        0,
        1.2000000000000002
       ],
       [
        2.4,
        0,
        1.2000000000000002
       ],
       [
        -2.6,
        0,
        1.4
       ],
       [
        2.4,
        0,
        1.4
       ],
       [
        -2.6,
        0,
        1.6
       ],
       [
        2.4,
        0,
        1.6
       ],
       [
        -2.6,
        0,
        1.8000000000000003
       ],
       [
        2.4,
        0,
        1.8000000000000003
       ],
       [
        -2.6,
        0,
        2.0000000000000004
       ],
       [
        2.4,
        0,
        2.0000000000000004
       ],
       [
        -2.6,
        0,
        2.2000000000000006
       ],
       [
        2.4,
        0,
        2.2000000000000006
       ],
       [
        -2.6,
        0,
        2.4
       ],
       [
        2.4,
        0,
        2.4
       ],
       [
        0,
        -2.6,
        -2.6
       ],
       [
        0,
        2.4,
        -2.6
       ],
       [
        0,
        -2.6,
        -2.4
       ],
       [
        0,
        2.4,
        -2.4
       ],
       [
        0,
        -2.6,
        -2.2
       ],
       [
        0,
        2.4,
        -2.2
       ],
       [
        0,
        -2.6,
        -2
       ],
       [
        0,
        2.4,
        -2
       ],
       [
        0,
        -2.6,
        -1.8
       ],
       [
        0,
        2.4,
        -1.8
       ],
       [
        0,
        -2.6,
        -1.6
       ],
       [
        0,
        2.4,
        -1.6
       ],
       [
        0,
        -2.6,
        -1.4
       ],
       [
        0,
        2.4,
        -1.4
       ],
       [
        0,
        -2.6,
        -1.2
       ],
       [
        0,
        2.4,
        -1.2
       ],
       [
        0,
        -2.6,
        -1
       ],
       [
        0,
        2.4,
        -1
       ],
       [
        0,
        -2.6,
        -0.8
       ],
       [
        0,
        2.4,
        -0.8
       ],
       [
        0,
        -2.6,
        -0.6000000000000001
       ],
       [
        0,
        2.4,
        -0.6000000000000001
       ],
       [
        0,
        -2.6,
        -0.3999999999999999
       ],
       [
        0,
        2.4,
        -0.3999999999999999
       ],
       [
        0,
        -2.6,
        -0.19999999999999973
       ],
       [
        0,
        2.4,
        -0.19999999999999973
       ],
       [
        0,
        -2.6,
        0
       ],
       [
        0,
        2.4,
        0
       ],
       [
        0,
        -2.6,
        0.20000000000000018
       ],
       [
        0,
        2.4,
        0.20000000000000018
       ],
       [
        0,
        -2.6,
        0.3999999999999999
       ],
       [
        0,
        2.4,
        0.3999999999999999
       ],
       [
        0,
        -2.6,
        0.6000000000000001
       ],
       [
        0,
        2.4,
        0.6000000000000001
       ],
       [
        0,
        -2.6,
        0.8000000000000003
       ],
       [
        0,
        2.4,
        0.8000000000000003
       ],
       [
        0,
        -2.6,
        1
       ],
       [
        0,
        2.4,
        1
       ],
       [
        0,
        -2.6,
        1.2000000000000002
       ],
       [
        0,
        2.4,
        1.2000000000000002
       ],
       [
        0,
        -2.6,
        1.4
       ],
       [
        0,
        2.4,
        1.4
       ],
       [
        0,
        -2.6,
        1.6
       ],
       [
        0,
        2.4,
        1.6
       ],
       [
        0,
        -2.6,
        1.8000000000000003
       ],
       [
        0,
        2.4,
        1.8000000000000003
       ],
       [
        0,
        -2.6,
        2.0000000000000004
       ],
       [
        0,
        2.4,
        2.0000000000000004
       ],
       [
        0,
        -2.6,
        2.2000000000000006
       ],
       [
        0,
        2.4,
        2.2000000000000006
       ],
       [
        0,
        -2.6,
        2.4
       ],
       [
        0,
        2.4,
        2.4
       ],
       [
        0,
        0,
        0
       ],
       [
        2.849877,
        0,
        0
       ],
       [
        2.849877,
        0,
        0
       ],
       [
        2.7249385,
        0,
        0.12493850000000001
       ],
       [
        2.849877,
        0,
        0
       ],
       [
        2.7249385,
        0,
        -0.12493850000000001
       ],
       [
        3.099754,
        0,
        -0.1499262
       ],
       [
        3.349631,
        0,
        0.1499262
       ],
       [
        3.099754,
        0,
        0.1499262
       ],
       [
        3.349631,
        0,
        -0.1499262
       ],
       [
        0,
        0,
        0
       ],
       [
        0,
        2.849877,
        0
       ],
       [
        0,
        2.849877,
        0
       ],
       [
        0,
        2.7249385,
        0.12493850000000001
       ],
       [
        0,
        2.849877,
        0
       ],
       [
        0,
        2.7249385,
        -0.12493850000000001
       ],
       [
        0,
        3.2246924999999997,
        -0.1499262
       ],
       [
        0,
        3.2246924999999997,
        0
       ],
       [
        0,
        3.2246924999999997,
        0
       ],
       [
        0,
        3.099754,
        0.1499262
       ],
       [
        0,
        3.2246924999999997,
        0
       ],
       [
        0,
        3.349631,
        0.1499262
       ],
       [
        0,
        0,
        0
       ],
       [
        0,
        0,
        2.849877
       ],
       [
        0,
        0,
        2.849877
       ],
       [
        0,
        0.12493850000000001,
        2.7249385
       ],
       [
        0,
        0,
        2.849877
       ],
       [
        0,
        -0.12493850000000001,
        2.7249385
       ],
       [
        0,
        0.1499262,
        3.349631
       ],
       [
        0,
        0.1499262,
        3.099754
       ],
       [
        0,
        0.1499262,
        3.099754
       ],
       [
        0,
        -0.1499262,
        3.349631
       ],
       [
        0,
        -0.1499262,
        3.349631
       ],
       [
        0,
        -0.1499262,
        3.099754
       ]
      ]
     }
    },
    "fc64775db07b4bec83b8d7af129b331f": {
     "model_module": "jupyter-threejs",
     "model_module_version": "^2.4.1",
     "model_name": "PerspectiveCameraModel",
     "state": {
      "_model_module": "jupyter-threejs",
      "_model_module_version": "^2.4.1",
      "_model_name": "PerspectiveCameraModel",
      "_view_count": null,
      "_view_module": null,
      "_view_module_version": "",
      "_view_name": null,
      "aspect": 1,
      "castShadow": false,
      "children": [
       "IPY_MODEL_3229b542d7304bf29b17708fa986f4c8"
      ],
      "far": 2000,
      "focus": 10,
      "fov": 20,
      "frustumCulled": true,
      "matrix": [
       1,
       0,
       0,
       0,
       0,
       1,
       0,
       0,
       0,
       0,
       1,
       0,
       19.99016,
       19.99016,
       19.99016,
       1
      ],
      "matrixAutoUpdate": true,
      "matrixWorld": [
       1,
       0,
       0,
       0,
       0,
       1,
       0,
       0,
       0,
       0,
       1,
       0,
       0,
       0,
       0,
       1
      ],
      "matrixWorldInverse": [
       1,
       0,
       0,
       0,
       0,
       1,
       0,
       0,
       0,
       0,
       1,
       0,
       0,
       0,
       0,
       1
      ],
      "matrixWorldNeedsUpdate": false,
      "modelViewMatrix": [
       1,
       0,
       0,
       0,
       0,
       1,
       0,
       0,
       0,
       0,
       1,
       0,
       0,
       0,
       0,
       1
      ],
      "name": "",
      "near": 0.1,
      "normalMatrix": [
       1,
       0,
       0,
       0,
       1,
       0,
       0,
       0,
       1
      ],
      "position": [
       14.502591392285643,
       36.62936460677392,
       15.968493538663584
      ],
      "projectionMatrix": [
       5.67128181961771,
       0,
       0,
       0,
       0,
       5.67128181961771,
       0,
       0,
       0,
       0,
       -1.00010000500025,
       -1,
       0,
       0,
       -0.200010000500025,
       0
      ],
      "quaternion": [
       0.10469499489064474,
       0.5488303832404685,
       0.8146615575662365,
       0.155405003461027
      ],
      "receiveShadow": false,
      "renderOrder": 0,
      "rotation": [
       0,
       0,
       0,
       "XYZ"
      ],
      "scale": [
       1,
       1,
       1
      ],
      "type": "PerspectiveCamera",
      "up": [
       0,
       0,
       1
      ],
      "visible": true,
      "zoom": 1
     }
    },
    "fc7bf0b1631b41a5a564e779b9a29437": {
     "model_module": "@jupyter-widgets/controls",
     "model_module_version": "1.5.0",
     "model_name": "VBoxModel",
     "state": {
      "_dom_classes": [],
      "_model_module": "@jupyter-widgets/controls",
      "_model_module_version": "1.5.0",
      "_model_name": "VBoxModel",
      "_view_count": null,
      "_view_module": "@jupyter-widgets/controls",
      "_view_module_version": "1.5.0",
      "_view_name": "VBoxView",
      "box_style": "",
      "children": [
       "IPY_MODEL_a73bd037cd08490181b021a194ff8e1e",
       "IPY_MODEL_063424a7c0994026832ed94bbb9d27c6",
       "IPY_MODEL_5c35d0cdc37f450fa786a89164e06b1e",
       "IPY_MODEL_41fd63c20db84810bfcdfcce61fd753c"
      ],
      "layout": "IPY_MODEL_37964d2bf0254d73a4daf798714192d2"
     }
    },
    "fd2ca93a5cb748dead7769b3d8a85684": {
     "model_module": "jupyter-threejs",
     "model_module_version": "^2.4.1",
     "model_name": "MeshModel",
     "state": {
      "_model_module": "jupyter-threejs",
      "_model_module_version": "^2.4.1",
      "_model_name": "MeshModel",
      "_view_count": null,
      "_view_module": null,
      "_view_module_version": "",
      "_view_name": null,
      "castShadow": false,
      "children": [],
      "drawMode": "TrianglesDrawMode",
      "frustumCulled": true,
      "geometry": "IPY_MODEL_98780d2895f3407a8b20c22e27bbe3ec",
      "material": "IPY_MODEL_c686a9b3b7a64bf4b8797a7e740b2dbe",
      "matrix": [
       1,
       0,
       0,
       0,
       0,
       1,
       0,
       0,
       0,
       0,
       1,
       0,
       0,
       0,
       0,
       1
      ],
      "matrixAutoUpdate": true,
      "matrixWorld": [
       1,
       0,
       0,
       0,
       0,
       1,
       0,
       0,
       0,
       0,
       1,
       0,
       0,
       0,
       0,
       1
      ],
      "matrixWorldNeedsUpdate": false,
      "modelViewMatrix": [
       1,
       0,
       0,
       0,
       0,
       1,
       0,
       0,
       0,
       0,
       1,
       0,
       0,
       0,
       0,
       1
      ],
      "morphTargetInfluences": [],
      "name": "",
      "normalMatrix": [
       1,
       0,
       0,
       0,
       1,
       0,
       0,
       0,
       1
      ],
      "position": [
       0,
       0,
       0
      ],
      "quaternion": [
       0,
       0,
       0,
       1
      ],
      "receiveShadow": false,
      "renderOrder": 0,
      "rotation": [
       0,
       0,
       0,
       "XYZ"
      ],
      "scale": [
       1,
       1,
       1
      ],
      "type": "Mesh",
      "up": [
       0,
       1,
       0
      ],
      "visible": true
     }
    }
   }
  }
 },
 "nbformat": 4,
 "nbformat_minor": 1
}
