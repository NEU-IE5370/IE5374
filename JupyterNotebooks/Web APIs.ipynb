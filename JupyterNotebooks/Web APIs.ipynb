{
 "cells": [
  {
   "cell_type": "code",
   "execution_count": 1,
   "metadata": {},
   "outputs": [],
   "source": [
    "import requests\n",
    "\n",
    "URL = \"http://localhost:5000/todo/tasks\"\n",
    "r = requests.get(url=URL)"
   ]
  },
  {
   "cell_type": "code",
   "execution_count": 2,
   "metadata": {},
   "outputs": [
    {
     "name": "stdout",
     "output_type": "stream",
     "text": [
      "{\n",
      "  \"tasks\": [\n",
      "    {\n",
      "      \"description\": \"Soylent Green, Soylent Brown, Soylent Red\", \n",
      "      \"done\": false, \n",
      "      \"id\": 1, \n",
      "      \"title\": \"Buy groceries\"\n",
      "    }, \n",
      "    {\n",
      "      \"description\": \"get matrix port installed and have tank download it\", \n",
      "      \"done\": false, \n",
      "      \"id\": 2, \n",
      "      \"title\": \"Learn Python\"\n",
      "    }\n",
      "  ]\n",
      "}\n",
      "\n"
     ]
    }
   ],
   "source": [
    "print(r.text)"
   ]
  },
  {
   "cell_type": "code",
   "execution_count": 3,
   "metadata": {},
   "outputs": [
    {
     "data": {
      "text/plain": [
       "str"
      ]
     },
     "execution_count": 3,
     "metadata": {},
     "output_type": "execute_result"
    }
   ],
   "source": [
    "type(r.text)"
   ]
  },
  {
   "cell_type": "code",
   "execution_count": 4,
   "metadata": {},
   "outputs": [
    {
     "data": {
      "text/plain": [
       "dict"
      ]
     },
     "execution_count": 4,
     "metadata": {},
     "output_type": "execute_result"
    }
   ],
   "source": [
    "type(r.json())"
   ]
  },
  {
   "cell_type": "code",
   "execution_count": 5,
   "metadata": {},
   "outputs": [
    {
     "data": {
      "text/plain": [
       "'Learn Python'"
      ]
     },
     "execution_count": 5,
     "metadata": {},
     "output_type": "execute_result"
    }
   ],
   "source": [
    "r.json()['tasks'][1]['title']"
   ]
  },
  {
   "cell_type": "code",
   "execution_count": 6,
   "metadata": {},
   "outputs": [],
   "source": [
    "titles = [task['title'] for task in r.json()['tasks']]"
   ]
  },
  {
   "cell_type": "code",
   "execution_count": 7,
   "metadata": {},
   "outputs": [
    {
     "name": "stdout",
     "output_type": "stream",
     "text": [
      "['Buy groceries', 'Learn Python']\n"
     ]
    }
   ],
   "source": [
    "print(titles)"
   ]
  },
  {
   "cell_type": "code",
   "execution_count": 8,
   "metadata": {},
   "outputs": [
    {
     "data": {
      "text/plain": [
       "['Buy groceries', 'Learn Python']"
      ]
     },
     "execution_count": 8,
     "metadata": {},
     "output_type": "execute_result"
    }
   ],
   "source": [
    "def getTodoTitles(url):\n",
    "    r = requests.get(url=URL)\n",
    "    titles = [task['title'] for task in r.json()['tasks']]\n",
    "    return titles\n",
    "\n",
    "getTodoTitles(URL)"
   ]
  },
  {
   "cell_type": "code",
   "execution_count": 9,
   "metadata": {},
   "outputs": [
    {
     "name": "stdout",
     "output_type": "stream",
     "text": [
      "{\n",
      "  \"error\": \"That ID is invalid\"\n",
      "}\n",
      "\n"
     ]
    }
   ],
   "source": [
    "URL = \"http://localhost:5000/todo/tasks/5\"\n",
    "r = requests.get(url=URL)\n",
    "print(r.text)"
   ]
  },
  {
   "cell_type": "markdown",
   "metadata": {},
   "source": [
    "### Use Post to Append to the list on the server"
   ]
  },
  {
   "cell_type": "code",
   "execution_count": 11,
   "metadata": {},
   "outputs": [
    {
     "name": "stdout",
     "output_type": "stream",
     "text": [
      "{\n",
      "  \"task\": {\n",
      "    \"description\": \"\", \n",
      "    \"done\": false, \n",
      "    \"id\": 3, \n",
      "    \"title\": \"take a nap\"\n",
      "  }\n",
      "}\n",
      "\n"
     ]
    }
   ],
   "source": [
    "URL = \"http://localhost:5000/todo/tasks\"\n",
    "data = {'title':'take a nap'}\n",
    "r = requests.post(url = URL, json=data)\n",
    "print(r.text)"
   ]
  },
  {
   "cell_type": "code",
   "execution_count": 12,
   "metadata": {},
   "outputs": [
    {
     "data": {
      "text/plain": [
       "['Buy groceries', 'Learn Python', 'take a nap']"
      ]
     },
     "execution_count": 12,
     "metadata": {},
     "output_type": "execute_result"
    }
   ],
   "source": [
    "getTodoTitles(URL)"
   ]
  },
  {
   "cell_type": "markdown",
   "metadata": {},
   "source": [
    "## Update using put"
   ]
  },
  {
   "cell_type": "code",
   "execution_count": 16,
   "metadata": {},
   "outputs": [
    {
     "name": "stdout",
     "output_type": "stream",
     "text": [
      "{\n",
      "  \"task\": {\n",
      "    \"description\": \"Soylent Green, Soylent Brown, Soylent Red\", \n",
      "    \"done\": true, \n",
      "    \"id\": 1, \n",
      "    \"title\": \"Buy groceries\"\n",
      "  }\n",
      "}\n",
      "\n"
     ]
    }
   ],
   "source": [
    "URL = \"http://localhost:5000/todo/tasks\"\n",
    "data = {'done': True, 'id': 1}\n",
    "\n",
    "r = requests.put(url=URL, json=data)\n",
    "print(r.text)"
   ]
  },
  {
   "cell_type": "code",
   "execution_count": 23,
   "metadata": {},
   "outputs": [
    {
     "name": "stdout",
     "output_type": "stream",
     "text": [
      "{\n",
      "  \"tasks\": [\n",
      "    {\n",
      "      \"description\": \"Soylent Green, Soylent Brown, Soylent Red\", \n",
      "      \"done\": true, \n",
      "      \"id\": 1, \n",
      "      \"title\": \"Buy groceries\"\n",
      "    }, \n",
      "    {\n",
      "      \"description\": \"get matrix port installed and have tank download it\", \n",
      "      \"done\": false, \n",
      "      \"id\": 2, \n",
      "      \"title\": \"Learn Python\"\n",
      "    }, \n",
      "    {\n",
      "      \"description\": \"\", \n",
      "      \"done\": false, \n",
      "      \"id\": 3, \n",
      "      \"title\": \"take a nap\"\n",
      "    }\n",
      "  ]\n",
      "}\n",
      "\n"
     ]
    }
   ],
   "source": [
    "def updateTasks():\n",
    "    URL = \"http://localhost:5000/todo/tasks\"\n",
    "    r = requests.get(url=URL)\n",
    "    return r\n",
    "\n",
    "print( updateTasks().text)"
   ]
  },
  {
   "cell_type": "markdown",
   "metadata": {},
   "source": [
    "## Delete item 3"
   ]
  },
  {
   "cell_type": "code",
   "execution_count": 24,
   "metadata": {},
   "outputs": [
    {
     "name": "stdout",
     "output_type": "stream",
     "text": [
      "{\n",
      "  \"action\": \"done\"\n",
      "}\n",
      "\n"
     ]
    }
   ],
   "source": [
    "data = {'id':3}\n",
    "r = requests.delete(url= URL, json=data)\n",
    "print(r.text)"
   ]
  },
  {
   "cell_type": "code",
   "execution_count": 25,
   "metadata": {},
   "outputs": [
    {
     "name": "stdout",
     "output_type": "stream",
     "text": [
      "{\n",
      "  \"tasks\": [\n",
      "    {\n",
      "      \"description\": \"Soylent Green, Soylent Brown, Soylent Red\", \n",
      "      \"done\": true, \n",
      "      \"id\": 1, \n",
      "      \"title\": \"Buy groceries\"\n",
      "    }, \n",
      "    {\n",
      "      \"description\": \"get matrix port installed and have tank download it\", \n",
      "      \"done\": false, \n",
      "      \"id\": 2, \n",
      "      \"title\": \"Learn Python\"\n",
      "    }\n",
      "  ]\n",
      "}\n",
      "\n"
     ]
    }
   ],
   "source": [
    "print( updateTasks().text)"
   ]
  },
  {
   "cell_type": "code",
   "execution_count": null,
   "metadata": {},
   "outputs": [],
   "source": []
  }
 ],
 "metadata": {
  "kernelspec": {
   "display_name": "Python 3",
   "language": "python",
   "name": "python3"
  },
  "language_info": {
   "codemirror_mode": {
    "name": "ipython",
    "version": 3
   },
   "file_extension": ".py",
   "mimetype": "text/x-python",
   "name": "python",
   "nbconvert_exporter": "python",
   "pygments_lexer": "ipython3",
   "version": "3.8.8"
  }
 },
 "nbformat": 4,
 "nbformat_minor": 2
}
