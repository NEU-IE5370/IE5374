{
 "cells": [
  {
   "attachments": {
    "image.png": {
     "image/png": "[encoded data removed]"
    }
   },
   "cell_type": "markdown",
   "metadata": {},
   "source": [
    "![image.png](attachment:image.png)"
   ]
  },
  {
   "cell_type": "markdown",
   "metadata": {},
   "source": [
    "Strings can be thought of as a type of tuple that encodes text.\n",
    "Like a list they have indicies"
   ]
  },
  {
   "cell_type": "code",
   "execution_count": 1,
   "metadata": {},
   "outputs": [
    {
     "data": {
      "text/plain": [
       "'h'"
      ]
     },
     "execution_count": 1,
     "metadata": {},
     "output_type": "execute_result"
    }
   ],
   "source": [
    "S = 'This is a string'\n",
    "S[1]"
   ]
  },
  {
   "cell_type": "code",
   "execution_count": 2,
   "metadata": {},
   "outputs": [],
   "source": [
    "empty = ''"
   ]
  },
  {
   "cell_type": "code",
   "execution_count": 3,
   "metadata": {},
   "outputs": [
    {
     "data": {
      "text/plain": [
       "'g'"
      ]
     },
     "execution_count": 3,
     "metadata": {},
     "output_type": "execute_result"
    }
   ],
   "source": [
    "S[-1]"
   ]
  },
  {
   "cell_type": "markdown",
   "metadata": {},
   "source": [
    "You can slice a string"
   ]
  },
  {
   "cell_type": "code",
   "execution_count": 4,
   "metadata": {},
   "outputs": [
    {
     "data": {
      "text/plain": [
       "'This'"
      ]
     },
     "execution_count": 4,
     "metadata": {},
     "output_type": "execute_result"
    }
   ],
   "source": [
    "S[:4]"
   ]
  },
  {
   "cell_type": "markdown",
   "metadata": {},
   "source": [
    "They have a property of size measured by **len()**"
   ]
  },
  {
   "cell_type": "code",
   "execution_count": 5,
   "metadata": {},
   "outputs": [
    {
     "data": {
      "text/plain": [
       "16"
      ]
     },
     "execution_count": 5,
     "metadata": {},
     "output_type": "execute_result"
    }
   ],
   "source": [
    "len(S)"
   ]
  },
  {
   "cell_type": "markdown",
   "metadata": {},
   "source": [
    "You can check for contents "
   ]
  },
  {
   "cell_type": "code",
   "execution_count": 6,
   "metadata": {},
   "outputs": [
    {
     "data": {
      "text/plain": [
       "True"
      ]
     },
     "execution_count": 6,
     "metadata": {},
     "output_type": "execute_result"
    }
   ],
   "source": [
    "'This' in S"
   ]
  },
  {
   "cell_type": "code",
   "execution_count": 8,
   "metadata": {},
   "outputs": [
    {
     "data": {
      "text/plain": [
       "True"
      ]
     },
     "execution_count": 8,
     "metadata": {},
     "output_type": "execute_result"
    }
   ],
   "source": [
    "1 in (1,2,3)"
   ]
  },
  {
   "cell_type": "markdown",
   "metadata": {},
   "source": [
    "We can compare strings just like we compare tuples. Strings can be compared in lexicographical order with the usual comparisons."
   ]
  },
  {
   "cell_type": "code",
   "execution_count": 9,
   "metadata": {},
   "outputs": [
    {
     "data": {
      "text/plain": [
       "True"
      ]
     },
     "execution_count": 9,
     "metadata": {},
     "output_type": "execute_result"
    }
   ],
   "source": [
    "'ABC'=='ABC'"
   ]
  },
  {
   "cell_type": "code",
   "execution_count": 10,
   "metadata": {},
   "outputs": [
    {
     "data": {
      "text/plain": [
       "False"
      ]
     },
     "execution_count": 10,
     "metadata": {},
     "output_type": "execute_result"
    }
   ],
   "source": [
    "'abc'=='ABC'"
   ]
  },
  {
   "cell_type": "code",
   "execution_count": 11,
   "metadata": {},
   "outputs": [
    {
     "data": {
      "text/plain": [
       "True"
      ]
     },
     "execution_count": 11,
     "metadata": {},
     "output_type": "execute_result"
    }
   ],
   "source": [
    "'abc' is 'abc'"
   ]
  },
  {
   "cell_type": "code",
   "execution_count": 12,
   "metadata": {},
   "outputs": [
    {
     "data": {
      "text/plain": [
       "True"
      ]
     },
     "execution_count": 12,
     "metadata": {},
     "output_type": "execute_result"
    }
   ],
   "source": [
    "(1,2,3) is (1,2,3)"
   ]
  },
  {
   "cell_type": "code",
   "execution_count": 13,
   "metadata": {},
   "outputs": [
    {
     "data": {
      "text/plain": [
       "True"
      ]
     },
     "execution_count": 13,
     "metadata": {},
     "output_type": "execute_result"
    }
   ],
   "source": [
    "'abc' < 'bbc' <= 'bbc'"
   ]
  },
  {
   "cell_type": "markdown",
   "metadata": {},
   "source": [
    "**+** will concatinate two strings and make a new string"
   ]
  },
  {
   "cell_type": "code",
   "execution_count": 15,
   "metadata": {},
   "outputs": [
    {
     "data": {
      "text/plain": [
       "'This is a string too'"
      ]
     },
     "execution_count": 15,
     "metadata": {},
     "output_type": "execute_result"
    }
   ],
   "source": [
    "S2 = S +' too'\n",
    "S2"
   ]
  },
  {
   "cell_type": "markdown",
   "metadata": {},
   "source": [
    "***** Just like a tuple we can multiply by an interger"
   ]
  },
  {
   "cell_type": "code",
   "execution_count": 16,
   "metadata": {},
   "outputs": [
    {
     "data": {
      "text/plain": [
       "'Hello World! Hello World! Hello World! Hello World! Hello World! '"
      ]
     },
     "execution_count": 16,
     "metadata": {},
     "output_type": "execute_result"
    }
   ],
   "source": [
    "\"Hello World! \"*5"
   ]
  },
  {
   "cell_type": "markdown",
   "metadata": {},
   "source": [
    "**Count** lets you check how many times a letter appears"
   ]
  },
  {
   "cell_type": "code",
   "execution_count": 17,
   "metadata": {},
   "outputs": [
    {
     "data": {
      "text/plain": [
       "3"
      ]
     },
     "execution_count": 17,
     "metadata": {},
     "output_type": "execute_result"
    }
   ],
   "source": [
    "s = 'Hello World'\n",
    "s.count('l')"
   ]
  },
  {
   "cell_type": "markdown",
   "metadata": {},
   "source": [
    "**index** will give you the index of the first occurance of a letter"
   ]
  },
  {
   "cell_type": "code",
   "execution_count": 18,
   "metadata": {},
   "outputs": [
    {
     "data": {
      "text/plain": [
       "2"
      ]
     },
     "execution_count": 18,
     "metadata": {},
     "output_type": "execute_result"
    }
   ],
   "source": [
    "s.index('l')"
   ]
  },
  {
   "cell_type": "markdown",
   "metadata": {},
   "source": [
    "You **cannot** modify the contents of a string, you can only make new ones"
   ]
  },
  {
   "cell_type": "code",
   "execution_count": 21,
   "metadata": {},
   "outputs": [
    {
     "name": "stdout",
     "output_type": "stream",
     "text": [
      "creating new string 01X345 OK\n"
     ]
    },
    {
     "ename": "TypeError",
     "evalue": "'str' object does not support item assignment",
     "output_type": "error",
     "traceback": [
      "\u001b[1;31m---------------------------------------------------------------------------\u001b[0m",
      "\u001b[1;31mTypeError\u001b[0m                                 Traceback (most recent call last)",
      "\u001b[1;32m<ipython-input-21-8ada367bddc3>\u001b[0m in \u001b[0;36m<module>\u001b[1;34m\u001b[0m\n\u001b[0;32m      2\u001b[0m \u001b[0msX\u001b[0m\u001b[1;33m=\u001b[0m\u001b[0ms\u001b[0m\u001b[1;33m[\u001b[0m\u001b[1;33m:\u001b[0m\u001b[1;36m2\u001b[0m\u001b[1;33m]\u001b[0m\u001b[1;33m+\u001b[0m\u001b[1;34m'X'\u001b[0m\u001b[1;33m+\u001b[0m\u001b[0ms\u001b[0m\u001b[1;33m[\u001b[0m\u001b[1;36m3\u001b[0m\u001b[1;33m:\u001b[0m\u001b[1;33m]\u001b[0m \u001b[1;31m# this creates a new string with 2 replaced by X\u001b[0m\u001b[1;33m\u001b[0m\u001b[1;33m\u001b[0m\u001b[0m\n\u001b[0;32m      3\u001b[0m \u001b[0mprint\u001b[0m\u001b[1;33m(\u001b[0m\u001b[1;34m\"creating new string\"\u001b[0m\u001b[1;33m,\u001b[0m\u001b[0msX\u001b[0m\u001b[1;33m,\u001b[0m\u001b[1;34m\"OK\"\u001b[0m\u001b[1;33m)\u001b[0m\u001b[1;33m\u001b[0m\u001b[1;33m\u001b[0m\u001b[0m\n\u001b[1;32m----> 4\u001b[1;33m \u001b[0ms\u001b[0m\u001b[1;33m[\u001b[0m\u001b[1;36m2\u001b[0m\u001b[1;33m]\u001b[0m \u001b[1;33m=\u001b[0m \u001b[1;34m'X'\u001b[0m \u001b[1;31m# an error!!!\u001b[0m\u001b[1;33m\u001b[0m\u001b[1;33m\u001b[0m\u001b[0m\n\u001b[0m",
      "\u001b[1;31mTypeError\u001b[0m: 'str' object does not support item assignment"
     ]
    }
   ],
   "source": [
    "s='012345'\n",
    "sX=s[:2]+'X'+s[3:] # this creates a new string with 2 replaced by X\n",
    "print(\"creating new string\",sX,\"OK\")\n",
    "s[2] = 'X' # an error!!!"
   ]
  },
  {
   "cell_type": "markdown",
   "metadata": {},
   "source": [
    "All of this is exactly like a tuple. So what does making it \"text\" realy do for us?"
   ]
  },
  {
   "cell_type": "markdown",
   "metadata": {},
   "source": [
    "## String specific operations\n",
    "Because a string only has text in it, we can give it text specific operations not found in tuples"
   ]
  },
  {
   "cell_type": "markdown",
   "metadata": {},
   "source": [
    "**capitalize**,**upper**,**lower** can all change the case of the text"
   ]
  },
  {
   "cell_type": "code",
   "execution_count": 22,
   "metadata": {},
   "outputs": [
    {
     "name": "stdout",
     "output_type": "stream",
     "text": [
      "Hello world\n",
      "HELLO WORLD\n",
      "hello world\n"
     ]
    }
   ],
   "source": [
    "s=\"hello wOrld\"\n",
    "print(s.capitalize())\n",
    "print(s.upper())\n",
    "print(s.lower())"
   ]
  },
  {
   "cell_type": "markdown",
   "metadata": {},
   "source": [
    "**find** will give you the starting index of a substring if its in the string, and -1 if it isnt in the string"
   ]
  },
  {
   "cell_type": "code",
   "execution_count": 23,
   "metadata": {},
   "outputs": [
    {
     "data": {
      "text/plain": [
       "6"
      ]
     },
     "execution_count": 23,
     "metadata": {},
     "output_type": "execute_result"
    }
   ],
   "source": [
    "s = \"Hello World\"\n",
    "s.find('World')"
   ]
  },
  {
   "cell_type": "code",
   "execution_count": 24,
   "metadata": {},
   "outputs": [
    {
     "data": {
      "text/plain": [
       "-1"
      ]
     },
     "execution_count": 24,
     "metadata": {},
     "output_type": "execute_result"
    }
   ],
   "source": [
    "s.find(\"world\")"
   ]
  },
  {
   "cell_type": "markdown",
   "metadata": {},
   "source": [
    "**replace** can make a new string with some text replaced with other text but it must be an exact match"
   ]
  },
  {
   "cell_type": "code",
   "execution_count": 25,
   "metadata": {},
   "outputs": [
    {
     "data": {
      "text/plain": [
       "'Hello Class'"
      ]
     },
     "execution_count": 25,
     "metadata": {},
     "output_type": "execute_result"
    }
   ],
   "source": [
    "\"Hello World\".replace(\"World\",\"Class\")"
   ]
  },
  {
   "cell_type": "code",
   "execution_count": 26,
   "metadata": {},
   "outputs": [
    {
     "data": {
      "text/plain": [
       "'Hello World'"
      ]
     },
     "execution_count": 26,
     "metadata": {},
     "output_type": "execute_result"
    }
   ],
   "source": [
    "\"Hello World\".replace(\"world\",\"Class\")"
   ]
  },
  {
   "cell_type": "code",
   "execution_count": 28,
   "metadata": {},
   "outputs": [
    {
     "name": "stdout",
     "output_type": "stream",
     "text": [
      "hello world\n"
     ]
    }
   ],
   "source": [
    "s = \"hello world\"\n",
    "s.replace('world','class')\n",
    "print(s)"
   ]
  },
  {
   "cell_type": "markdown",
   "metadata": {},
   "source": [
    "**strip** can seperate a string into parts and returns a list of strings. "
   ]
  },
  {
   "cell_type": "code",
   "execution_count": 29,
   "metadata": {},
   "outputs": [
    {
     "data": {
      "text/plain": [
       "['Hello', 'Class', 'This', 'is', 'a', 'String']"
      ]
     },
     "execution_count": 29,
     "metadata": {},
     "output_type": "execute_result"
    }
   ],
   "source": [
    "\"Hello Class This is a String\".split(' ')"
   ]
  },
  {
   "cell_type": "code",
   "execution_count": 30,
   "metadata": {},
   "outputs": [
    {
     "data": {
      "text/plain": [
       "['a', 'b', 'c', 'd', 'e', 'f', 'g']"
      ]
     },
     "execution_count": 30,
     "metadata": {},
     "output_type": "execute_result"
    }
   ],
   "source": [
    "\"a,b,c,d,e,f,g\".split(',')"
   ]
  },
  {
   "cell_type": "markdown",
   "metadata": {},
   "source": [
    "**startswith** and **endswith** checks the begining and end of a string"
   ]
  },
  {
   "cell_type": "code",
   "execution_count": 31,
   "metadata": {},
   "outputs": [
    {
     "data": {
      "text/plain": [
       "True"
      ]
     },
     "execution_count": 31,
     "metadata": {},
     "output_type": "execute_result"
    }
   ],
   "source": [
    "s = \"Hello World\"\n",
    "s.startswith(\"Hello\") and s.endswith(\"World\") # check start/end"
   ]
  },
  {
   "cell_type": "code",
   "execution_count": 35,
   "metadata": {},
   "outputs": [
    {
     "data": {
      "text/plain": [
       "1"
      ]
     },
     "execution_count": 35,
     "metadata": {},
     "output_type": "execute_result"
    }
   ],
   "source": [
    "T = ((0,1),(0,2))\n",
    "T[0][1]"
   ]
  },
  {
   "cell_type": "code",
   "execution_count": null,
   "metadata": {},
   "outputs": [],
   "source": []
  },
  {
   "cell_type": "markdown",
   "metadata": {},
   "source": [
    "Now a tuple can have a tuple nested in it. But a string with a string in it is just a longer string! so how do we put a string in side a string because I heard you like strings!"
   ]
  },
  {
   "cell_type": "code",
   "execution_count": 36,
   "metadata": {},
   "outputs": [
    {
     "data": {
      "text/plain": [
       "'This is a test it is only a test'"
      ]
     },
     "execution_count": 36,
     "metadata": {},
     "output_type": "execute_result"
    }
   ],
   "source": [
    "y = 'test'\n",
    "\"This is a %s it is only a test\"%y\n"
   ]
  },
  {
   "cell_type": "markdown",
   "metadata": {},
   "source": [
    "The **%** operator is used to format a string inserting the value that comes after. It relies on the string containing a format specifier that identifies where to insert the value. The most common types of format specifiers are:\n",
    "\n",
    "    - %s -> string\n",
    "    - %d -> Integer\n",
    "    - %f -> Float\n",
    "    - %o -> Octal\n",
    "    - %x -> Hexadecimal\n",
    "    - %e -> exponential"
   ]
  },
  {
   "cell_type": "code",
   "execution_count": 38,
   "metadata": {},
   "outputs": [
    {
     "name": "stdout",
     "output_type": "stream",
     "text": [
      "Hello 18\n",
      "Actual Number = 18\n",
      "Float of the number = 18.000000\n",
      "Octal equivalent of the number = 22\n",
      "Hexadecimal equivalent of the number = 12\n",
      "Exponential equivalent of the number = 1.800000e+01\n"
     ]
    }
   ],
   "source": [
    "string1 = \"world\"\n",
    "print(\"Hello %s\" % str(18))\n",
    "print(\"Actual Number = %d\" %18)\n",
    "print(\"Float of the number = %f\" %18)\n",
    "print(\"Octal equivalent of the number = %o\" %18)\n",
    "print(\"Hexadecimal equivalent of the number = %x\" %18)\n",
    "print(\"Exponential equivalent of the number = %e\" %18)"
   ]
  },
  {
   "cell_type": "markdown",
   "metadata": {},
   "source": [
    "When referring to multiple variables tuples are used and they go in order"
   ]
  },
  {
   "cell_type": "code",
   "execution_count": 39,
   "metadata": {},
   "outputs": [
    {
     "name": "stdout",
     "output_type": "stream",
     "text": [
      "Hello World !. This meaning of life is 42\n"
     ]
    }
   ],
   "source": [
    "string1='World'\n",
    "string2='!'\n",
    "print(\"Hello %s %s. This meaning of life is %d\" %(string1,string2,42))"
   ]
  },
  {
   "cell_type": "markdown",
   "metadata": {},
   "source": [
    "We can also specify the width of the field and the number of decimal places to be used. For example:"
   ]
  },
  {
   "cell_type": "code",
   "execution_count": 40,
   "metadata": {},
   "outputs": [
    {
     "name": "stdout",
     "output_type": "stream",
     "text": [
      "Print width 10: |         x|\n",
      "Print width 10: |x         |\n",
      "The number pi = 3.14 to 2 decimal places\n",
      "More space pi =       3.14\n",
      "Pad pi with 0 = 0000003.14\n"
     ]
    }
   ],
   "source": [
    "print('Print width 10: |%10s|'%'x')\n",
    "print('Print width 10: |%-10s|'%'x') # left justified\n",
    "print(\"The number pi = %.2f to 2 decimal places\"%3.1415)\n",
    "print(\"More space pi = %10.2f\"%3.1415)\n",
    "print(\"Pad pi with 0 = %010.2f\"%3.1415) # pad with zeros"
   ]
  },
  {
   "cell_type": "markdown",
   "metadata": {},
   "source": [
    "This is a bit clunky, using the %,  but it is used in lost of code. we have a new way of doing the exact same thing. \n",
    "\n",
    "### format"
   ]
  },
  {
   "cell_type": "code",
   "execution_count": 41,
   "metadata": {},
   "outputs": [
    {
     "data": {
      "text/plain": [
       "'lifegaurd Mary is on duty.'"
      ]
     },
     "execution_count": 41,
     "metadata": {},
     "output_type": "execute_result"
    }
   ],
   "source": [
    "lifegaurd = \"Mary\"\n",
    "\"lifegaurd {} is on duty.\".format(lifegaurd)\n"
   ]
  },
  {
   "cell_type": "code",
   "execution_count": 42,
   "metadata": {},
   "outputs": [
    {
     "data": {
      "text/plain": [
       "'Lifegaurd Mary is 32 years old.'"
      ]
     },
     "execution_count": 42,
     "metadata": {},
     "output_type": "execute_result"
    }
   ],
   "source": [
    "age=32\n",
    "\"Lifegaurd {} is {} years old.\".format(lifegaurd, age)"
   ]
  },
  {
   "cell_type": "code",
   "execution_count": 45,
   "metadata": {},
   "outputs": [
    {
     "data": {
      "text/plain": [
       "'Lifegaurd Mary is 32 years old.'"
      ]
     },
     "execution_count": 45,
     "metadata": {},
     "output_type": "execute_result"
    }
   ],
   "source": [
    "\"Lifegaurd %s is %d years old.\"%(lifegaurd,age)"
   ]
  },
  {
   "cell_type": "code",
   "execution_count": 44,
   "metadata": {},
   "outputs": [
    {
     "data": {
      "text/plain": [
       "'Here is a 3.33333 floating point number'"
      ]
     },
     "execution_count": 44,
     "metadata": {},
     "output_type": "execute_result"
    }
   ],
   "source": [
    "'Here is a {} floating point number'.format(3.33333)"
   ]
  },
  {
   "cell_type": "markdown",
   "metadata": {},
   "source": [
    "This system allows us to give formatting instructions for things like numbers, by using a : inside the curly braces, followed by the formatting instructions. Here we ask to print in integer (d) where the number should be prepended with 0 to fill up the field width of 3:"
   ]
  },
  {
   "cell_type": "code",
   "execution_count": 58,
   "metadata": {},
   "outputs": [
    {
     "data": {
      "text/plain": [
       "'Number 0000011.00 is here.'"
      ]
     },
     "execution_count": 58,
     "metadata": {},
     "output_type": "execute_result"
    }
   ],
   "source": [
    "\"Number {:010.2f} is here.\".format(11.0)"
   ]
  },
  {
   "cell_type": "code",
   "execution_count": 68,
   "metadata": {},
   "outputs": [
    {
     "name": "stdout",
     "output_type": "stream",
     "text": [
      "    1|     11.00|     32.23|    654.35|\n",
      "    2|     22.00|     64.47|    327.18|\n",
      "    3|     33.00|     96.70|    218.12|\n",
      "    4|     44.00|    128.94|    163.59|\n",
      "    5|     55.00|    161.17|    130.87|\n",
      "    6|     66.00|    193.41|    109.06|\n",
      "    7|     77.00|    225.64|     93.48|\n",
      "    8|     88.00|    257.87|     81.79|\n",
      "    9|     99.00|    290.11|     72.71|\n",
      "   10|    110.00|    322.34|     65.44|\n",
      "   11|    121.00|    354.58|     59.49|\n",
      "   12|    132.00|    386.81|     54.53|\n",
      "   13|    143.00|    419.05|     50.33|\n",
      "   14|    154.00|    451.28|     46.74|\n",
      "   15|    165.00|    483.51|     43.62|\n",
      "   16|    176.00|    515.75|     40.90|\n",
      "   17|    187.00|    547.98|     38.49|\n",
      "   18|    198.00|    580.22|     36.35|\n",
      "   19|    209.00|    612.45|     34.44|\n",
      "   20|    220.00|    644.68|     32.72|\n",
      "   21|    231.00|    676.92|     31.16|\n",
      "   22|    242.00|    709.15|     29.74|\n",
      "   23|    253.00|    741.39|     28.45|\n",
      "   24|    264.00|    773.62|     27.26|\n",
      "   25|    275.00|    805.86|     26.17|\n",
      "   26|    286.00|    838.09|     25.17|\n",
      "   27|    297.00|    870.32|     24.24|\n",
      "   28|    308.00|    902.56|     23.37|\n",
      "   29|    319.00|    934.79|     22.56|\n",
      "   30|    330.00|    967.03|     21.81|\n",
      "   31|    341.00|    999.26|     21.11|\n",
      "   32|    352.00|   1031.50|     20.45|\n",
      "   33|    363.00|   1063.73|     19.83|\n",
      "   34|    374.00|   1095.96|     19.25|\n",
      "   35|    385.00|   1128.20|     18.70|\n",
      "   36|    396.00|   1160.43|     18.18|\n",
      "   37|    407.00|   1192.67|     17.69|\n",
      "   38|    418.00|   1224.90|     17.22|\n",
      "   39|    429.00|   1257.14|     16.78|\n",
      "   40|    440.00|   1289.37|     16.36|\n",
      "   41|    451.00|   1321.60|     15.96|\n",
      "   42|    462.00|   1353.84|     15.58|\n",
      "   43|    473.00|   1386.07|     15.22|\n",
      "   44|    484.00|   1418.31|     14.87|\n",
      "   45|    495.00|   1450.54|     14.54|\n",
      "   46|    506.00|   1482.77|     14.23|\n",
      "   47|    517.00|   1515.01|     13.92|\n",
      "   48|    528.00|   1547.24|     13.63|\n",
      "   49|    539.00|   1579.48|     13.35|\n",
      "   50|    550.00|   1611.71|     13.09|\n",
      "   51|    561.00|   1643.95|     12.83|\n",
      "   52|    572.00|   1676.18|     12.58|\n",
      "   53|    583.00|   1708.41|     12.35|\n",
      "   54|    594.00|   1740.65|     12.12|\n",
      "   55|    605.00|   1772.88|     11.90|\n",
      "   56|    616.00|   1805.12|     11.68|\n",
      "   57|    627.00|   1837.35|     11.48|\n",
      "   58|    638.00|   1869.59|     11.28|\n",
      "   59|    649.00|   1901.82|     11.09|\n",
      "   60|    660.00|   1934.05|     10.91|\n",
      "   61|    671.00|   1966.29|     10.73|\n",
      "   62|    682.00|   1998.52|     10.55|\n",
      "   63|    693.00|   2030.76|     10.39|\n",
      "   64|    704.00|   2062.99|     10.22|\n",
      "   65|    715.00|   2095.23|     10.07|\n",
      "   66|    726.00|   2127.46|      9.91|\n",
      "   67|    737.00|   2159.69|      9.77|\n",
      "   68|    748.00|   2191.93|      9.62|\n",
      "   69|    759.00|   2224.16|      9.48|\n",
      "   70|    770.00|   2256.40|      9.35|\n",
      "   71|    781.00|   2288.63|      9.22|\n",
      "   72|    792.00|   2320.86|      9.09|\n",
      "   73|    803.00|   2353.10|      8.96|\n",
      "   74|    814.00|   2385.33|      8.84|\n",
      "   75|    825.00|   2417.57|      8.72|\n",
      "   76|    836.00|   2449.80|      8.61|\n",
      "   77|    847.00|   2482.04|      8.50|\n",
      "   78|    858.00|   2514.27|      8.39|\n",
      "   79|    869.00|   2546.50|      8.28|\n",
      "   80|    880.00|   2578.74|      8.18|\n",
      "   81|    891.00|   2610.97|      8.08|\n",
      "   82|    902.00|   2643.21|      7.98|\n",
      "   83|    913.00|   2675.44|      7.88|\n",
      "   84|    924.00|   2707.68|      7.79|\n",
      "   85|    935.00|   2739.91|      7.70|\n",
      "   86|    946.00|   2772.14|      7.61|\n",
      "   87|    957.00|   2804.38|      7.52|\n",
      "   88|    968.00|   2836.61|      7.44|\n",
      "   89|    979.00|   2868.85|      7.35|\n",
      "   90|    990.00|   2901.08|      7.27|\n",
      "   91|   1001.00|   2933.32|      7.19|\n",
      "   92|   1012.00|   2965.55|      7.11|\n",
      "   93|   1023.00|   2997.78|      7.04|\n",
      "   94|   1034.00|   3030.02|      6.96|\n",
      "   95|   1045.00|   3062.25|      6.89|\n",
      "   96|   1056.00|   3094.49|      6.82|\n",
      "   97|   1067.00|   3126.72|      6.75|\n",
      "   98|   1078.00|   3158.95|      6.68|\n",
      "   99|   1089.00|   3191.19|      6.61|\n"
     ]
    }
   ],
   "source": [
    "for i in range(1,100):\n",
    "    print(\"{:5d}|{:10.2f}|{:10.2f}|{:10.2f}|\".format(i,11.0*i,32.23423423*i,654.3544634534/i))"
   ]
  },
  {
   "cell_type": "code",
   "execution_count": 47,
   "metadata": {},
   "outputs": [
    {
     "data": {
      "text/plain": [
       "'A formatted number - 0.2000'"
      ]
     },
     "execution_count": 47,
     "metadata": {},
     "output_type": "execute_result"
    }
   ],
   "source": [
    "'A formatted number - {:.4f}'.format(.2)\n"
   ]
  },
  {
   "cell_type": "markdown",
   "metadata": {},
   "source": [
    "#### f-string\n",
    " An **f** at the beginning of the string tells Python to allow any currently valid variable names as variable names within the string. "
   ]
  },
  {
   "cell_type": "code",
   "execution_count": 48,
   "metadata": {},
   "outputs": [
    {
     "data": {
      "text/plain": [
       "'Lifeguard Mary is 32 years old.'"
      ]
     },
     "execution_count": 48,
     "metadata": {},
     "output_type": "execute_result"
    }
   ],
   "source": [
    "f\"Lifeguard {lifegaurd} is {age} years old.\""
   ]
  },
  {
   "cell_type": "markdown",
   "metadata": {},
   "source": [
    "## Strings using f-string, format, or % can be thought of as functions that map values of numbers, lists, tuple or strings into new strings!"
   ]
  },
  {
   "cell_type": "code",
   "execution_count": 69,
   "metadata": {},
   "outputs": [],
   "source": [
    "def newstring(x):\n",
    "    return f\"This is a new string containing: {x}\""
   ]
  },
  {
   "cell_type": "code",
   "execution_count": 71,
   "metadata": {},
   "outputs": [
    {
     "data": {
      "text/plain": [
       "'This is a new string containing: 3'"
      ]
     },
     "execution_count": 71,
     "metadata": {},
     "output_type": "execute_result"
    }
   ],
   "source": [
    "newstring(3)"
   ]
  },
  {
   "cell_type": "code",
   "execution_count": 72,
   "metadata": {},
   "outputs": [
    {
     "data": {
      "text/plain": [
       "'This is a new string containing: Wow I made a Lambda function!'"
      ]
     },
     "execution_count": 72,
     "metadata": {},
     "output_type": "execute_result"
    }
   ],
   "source": [
    "ns = lambda x:f\"This is a new string containing: {x}\"\n",
    "ns('Wow I made a Lambda function!')"
   ]
  },
  {
   "cell_type": "markdown",
   "metadata": {},
   "source": [
    "What if i want to make a command for g-code?"
   ]
  },
  {
   "cell_type": "code",
   "execution_count": 73,
   "metadata": {},
   "outputs": [],
   "source": [
    "settemp = lambda x:f\"G104 S{x}\""
   ]
  },
  {
   "cell_type": "code",
   "execution_count": 74,
   "metadata": {},
   "outputs": [
    {
     "data": {
      "text/plain": [
       "'G104 S32'"
      ]
     },
     "execution_count": 74,
     "metadata": {},
     "output_type": "execute_result"
    }
   ],
   "source": [
    "settemp(32)"
   ]
  },
  {
   "cell_type": "code",
   "execution_count": 75,
   "metadata": {},
   "outputs": [
    {
     "data": {
      "text/plain": [
       "['G104 S32', 'G104 S45', 'G104 S26']"
      ]
     },
     "execution_count": 75,
     "metadata": {},
     "output_type": "execute_result"
    }
   ],
   "source": [
    "templist = [32,45,26,]\n",
    "list(map(settemp,templist))"
   ]
  },
  {
   "cell_type": "code",
   "execution_count": 76,
   "metadata": {},
   "outputs": [
    {
     "data": {
      "text/plain": [
       "['G104 S32', 'G104 S45', 'G104 S26']"
      ]
     },
     "execution_count": 76,
     "metadata": {},
     "output_type": "execute_result"
    }
   ],
   "source": [
    "[settemp(x) for x in templist]"
   ]
  },
  {
   "cell_type": "code",
   "execution_count": 77,
   "metadata": {},
   "outputs": [
    {
     "data": {
      "text/plain": [
       "['G104 S32', 'G104 S45', 'G104 S26']"
      ]
     },
     "execution_count": 77,
     "metadata": {},
     "output_type": "execute_result"
    }
   ],
   "source": [
    "[f\"G104 S{x}\" for x in templist]"
   ]
  },
  {
   "cell_type": "markdown",
   "metadata": {},
   "source": [
    "Strings and functions made with strings can convert numbers and lists into text!"
   ]
  },
  {
   "cell_type": "markdown",
   "metadata": {},
   "source": [
    "# What if we want to get the text out of the code and somewhere else?"
   ]
  },
  {
   "cell_type": "markdown",
   "metadata": {},
   "source": [
    "The simplest way to get text to someone is the **print** *function*"
   ]
  },
  {
   "cell_type": "markdown",
   "metadata": {},
   "source": [
    "As seen previously, The **print()** function prints all of its arguments as strings, separated by spaces and follows by a linebreak:\n",
    "\n",
    "    - print(\"Hello World\")\n",
    "    - print(\"Hello\",'World')\n",
    "    - print(\"Hello\", <Variable Containing the String>)\n",
    "\n",
    "Note that **print** is different in old versions of Python (2.7) where it was a *statement* and did not need parenthesis around its arguments."
   ]
  },
  {
   "cell_type": "code",
   "execution_count": 80,
   "metadata": {},
   "outputs": [
    {
     "name": "stdout",
     "output_type": "stream",
     "text": [
      "Hello World\n"
     ]
    }
   ],
   "source": [
    "print(\"Hello\",\"World\")"
   ]
  },
  {
   "cell_type": "markdown",
   "metadata": {},
   "source": [
    "The print has some optional arguments to control where and how to print. This includes `sep` the separator (default space) and `end` (end charcter) and `file` to write to a file."
   ]
  },
  {
   "cell_type": "code",
   "execution_count": 84,
   "metadata": {},
   "outputs": [
    {
     "name": "stdout",
     "output_type": "stream",
     "text": [
      "Hello,World,This,is,Jeff!!"
     ]
    }
   ],
   "source": [
    "print(\"Hello\",\"World\",\"This\",\"is\",\"Jeff\",sep=',',end='!!')"
   ]
  },
  {
   "cell_type": "markdown",
   "metadata": {},
   "source": [
    "Print is great for getting code to someone in the middle of a block of code being executed"
   ]
  },
  {
   "cell_type": "code",
   "execution_count": 85,
   "metadata": {},
   "outputs": [
    {
     "name": "stdout",
     "output_type": "stream",
     "text": [
      "We are on line: 0 with value 0\n",
      "We are on line: 1 with value 1\n",
      "We are on line: 2 with value 4\n",
      "We are on line: 3 with value 9\n",
      "We are on line: 4 with value 16\n",
      "We are on line: 5 with value 25\n",
      "We are on line: 6 with value 36\n",
      "We are on line: 7 with value 49\n",
      "We are on line: 8 with value 64\n",
      "We are on line: 9 with value 81\n"
     ]
    }
   ],
   "source": [
    "for i in range(10):\n",
    "    x = i**2\n",
    "    print(f\"We are on line: {i} with value {x}\")\n",
    "    "
   ]
  },
  {
   "cell_type": "markdown",
   "metadata": {},
   "source": [
    "Its useful when trying to debug some code. This is know as print-debuging"
   ]
  },
  {
   "cell_type": "markdown",
   "metadata": {},
   "source": [
    "# Writing to text files"
   ]
  },
  {
   "cell_type": "markdown",
   "metadata": {},
   "source": [
    "To help us get familiar with text files in Python, we will create our own and write to it. when you open the file.\n",
    "The file has several modes:\n",
    "* w - write\n",
    "* a - append\n",
    "* r - read\n",
    "* x - create"
   ]
  },
  {
   "cell_type": "code",
   "execution_count": 86,
   "metadata": {},
   "outputs": [],
   "source": [
    "file = open(\"myfile.txt\",\"w\") \n",
    " \n",
    "file.write(\"Hello ME480\\n\") #The \\n inside the text string is a new line character.\n",
    "file.write(\"We made a new text file\\n\") \n",
    " \n",
    "file.close()"
   ]
  },
  {
   "cell_type": "code",
   "execution_count": 112,
   "metadata": {},
   "outputs": [],
   "source": [
    "file = open(\"myfile.txt\",'r')"
   ]
  },
  {
   "cell_type": "markdown",
   "metadata": {},
   "source": [
    "Every file needs to be closed as well as opened. Often programmers forget to put the close command. The solution is to use the **with** statement. This way the file always closes. We use this bellow to **read** the file in its entirety"
   ]
  },
  {
   "cell_type": "code",
   "execution_count": 87,
   "metadata": {},
   "outputs": [
    {
     "name": "stdout",
     "output_type": "stream",
     "text": [
      "Hello ME480\n",
      "We made a new text file\n",
      "\n",
      "True\n"
     ]
    }
   ],
   "source": [
    "with open(\"myfile.txt\",\"r\") as f:\n",
    "    contents =f.read()\n",
    "    print(contents)\n",
    "print(f.closed)"
   ]
  },
  {
   "cell_type": "markdown",
   "metadata": {},
   "source": [
    "We can also read it line by line. "
   ]
  },
  {
   "cell_type": "code",
   "execution_count": 88,
   "metadata": {},
   "outputs": [
    {
     "name": "stdout",
     "output_type": "stream",
     "text": [
      "Hello ME480\n",
      " yay!\n",
      "We made a new text file\n",
      " yay!\n"
     ]
    }
   ],
   "source": [
    "with open(\"myfile.txt\",\"r\") as file:\n",
    "    for line in file:\n",
    "        print(line,'yay!')"
   ]
  },
  {
   "cell_type": "markdown",
   "metadata": {},
   "source": [
    "We can append to the file by setting the append mode"
   ]
  },
  {
   "cell_type": "code",
   "execution_count": 92,
   "metadata": {},
   "outputs": [
    {
     "name": "stdout",
     "output_type": "stream",
     "text": [
      "Hello ME480\n",
      "We made a new text file\n",
      "I need to add something\n",
      "I need to add something\n",
      "I need to add something\n",
      "I need to add something\n",
      "\n"
     ]
    }
   ],
   "source": [
    "with open(\"myfile.txt\",\"a\") as file:\n",
    "    file.write(\"I need to add something\\n\")\n",
    "with open(\"myfile.txt\",\"r\") as f:\n",
    "    contents =f.read()\n",
    "    print(contents)"
   ]
  },
  {
   "cell_type": "markdown",
   "metadata": {},
   "source": [
    "Look at what happens if you call the cell above again. you should see the information is appended again without over writing the file. Now call the cell bellow. You will see that the file has reset"
   ]
  },
  {
   "cell_type": "code",
   "execution_count": 93,
   "metadata": {},
   "outputs": [
    {
     "name": "stdout",
     "output_type": "stream",
     "text": [
      "Hello ME480\n",
      "We made a new text file\n",
      "\n"
     ]
    }
   ],
   "source": [
    "with open(\"myfile.txt\",\"w\") as file: \n",
    "    file.write(\"Hello ME480\\n\") #The \\n inside the text string is a new line character.\n",
    "    file.write(\"We made a new text file\\n\") \n",
    "with open(\"myfile.txt\",\"r\") as f:\n",
    "    contents =f.read()\n",
    "    print(contents)"
   ]
  },
  {
   "cell_type": "code",
   "execution_count": 125,
   "metadata": {},
   "outputs": [
    {
     "ename": "FileExistsError",
     "evalue": "[Errno 17] File exists: 'myfile2.txt'",
     "output_type": "error",
     "traceback": [
      "\u001b[1;31m---------------------------------------------------------------------------\u001b[0m",
      "\u001b[1;31mFileExistsError\u001b[0m                           Traceback (most recent call last)",
      "\u001b[1;32m<ipython-input-125-1ed6189d79d5>\u001b[0m in \u001b[0;36m<module>\u001b[1;34m\u001b[0m\n\u001b[1;32m----> 1\u001b[1;33m \u001b[1;32mwith\u001b[0m \u001b[0mopen\u001b[0m\u001b[1;33m(\u001b[0m\u001b[1;34m\"myfile2.txt\"\u001b[0m\u001b[1;33m,\u001b[0m\u001b[1;34m\"x\"\u001b[0m\u001b[1;33m)\u001b[0m \u001b[1;32mas\u001b[0m \u001b[0mfile\u001b[0m\u001b[1;33m:\u001b[0m\u001b[1;33m\u001b[0m\u001b[1;33m\u001b[0m\u001b[0m\n\u001b[0m\u001b[0;32m      2\u001b[0m     \u001b[0mfile\u001b[0m\u001b[1;33m.\u001b[0m\u001b[0mwrite\u001b[0m\u001b[1;33m(\u001b[0m\u001b[1;34m\"Hello ME480\"\u001b[0m\u001b[1;33m)\u001b[0m \u001b[1;31m#The \\n inside the text string is a new line character.\u001b[0m\u001b[1;33m\u001b[0m\u001b[1;33m\u001b[0m\u001b[0m\n",
      "\u001b[1;31mFileExistsError\u001b[0m: [Errno 17] File exists: 'myfile2.txt'"
     ]
    }
   ],
   "source": [
    "with open(\"myfile2.txt\",\"x\") as file: \n",
    "    file.write(\"Hello ME480\") #The \\n inside the text string is a new line character."
   ]
  },
  {
   "cell_type": "code",
   "execution_count": 120,
   "metadata": {},
   "outputs": [
    {
     "name": "stdout",
     "output_type": "stream",
     "text": [
      "line 1: Time (s),Extension (mm),Load (N),Tensile stress(MPa),Tensile strain (mm/mm)(Extension)\n",
      "\n",
      "line 2: 0,0,0.85,0.09,0\n",
      "\n",
      "line 3: 0.1,0.004,0.94,0.1,0\n",
      "\n",
      "line 4: 0.2,0.013,3.83,0.41,0\n",
      "\n",
      "line 5: 0.3,0.024,8.57,0.91,0\n",
      "\n",
      "line 6: 0.4,0.033,12.68,1.34,0\n",
      "\n",
      "line 7: 0.5,0.042,16.46,1.74,0\n",
      "\n",
      "line 8: 0.6,0.05,19.67,2.08,0\n",
      "\n",
      "line 9: 0.7,0.059,23.08,2.44,0\n",
      "\n",
      "line 10: 0.8,0.067,26.5,2.81,0\n",
      "\n",
      "line 11: 0.9,0.075,29.68,3.14,0\n",
      "\n",
      "line 12: 1,0.084,32.74,3.47,0\n",
      "\n",
      "line 13: 1.1,0.092,35.6,3.77,0\n",
      "\n",
      "line 14: 1.2,0.1,38.92,4.12,0\n",
      "\n",
      "line 15: 1.3,0.109,41.97,4.44,0\n",
      "\n",
      "line 16: 1.4,0.117,45.2,4.78,0\n",
      "\n",
      "line 17: 1.5,0.125,48.16,5.1,0.01\n",
      "\n",
      "line 18: 1.6,0.133,51.35,5.44,0.01\n",
      "\n",
      "line 19: 1.7,0.142,54.4,5.76,0.01\n",
      "\n",
      "line 20: 1.8,0.15,57.28,6.06,0.01\n",
      "\n",
      "line 21: 1.9,0.159,60.17,6.37,0.01\n",
      "\n",
      "line 22: 2,0.167,63.17,6.69,0.01\n",
      "\n",
      "line 23: 2.1,0.175,65.96,6.98,0.01\n",
      "\n",
      "line 24: 2.2,0.183,68.56,7.26,0.01\n",
      "\n",
      "line 25: 2.3,0.192,71.53,7.57,0.01\n",
      "\n",
      "line 26: 2.4,0.2,74.06,7.84,0.01\n",
      "\n",
      "line 27: 2.5,0.209,76.75,8.12,0.01\n",
      "\n",
      "line 28: 2.6,0.217,79.38,8.4,0.01\n",
      "\n",
      "line 29: 2.7,0.225,81.96,8.68,0.01\n",
      "\n",
      "line 30: 2.8,0.233,84.63,8.96,0.01\n",
      "\n",
      "line 31: 2.9,0.242,87.1,9.22,0.01\n",
      "\n",
      "line 32: 3,0.25,89.5,9.47,0.01\n",
      "\n",
      "line 33: 3.1,0.259,91.89,9.73,0.01\n",
      "\n",
      "line 34: 3.2,0.267,94.58,10.01,0.01\n",
      "\n",
      "line 35: 3.3,0.275,97.06,10.27,0.01\n",
      "\n",
      "line 36: 3.4,0.283,100,10.59,0.01\n",
      "\n",
      "line 37: 3.5,0.292,102.69,10.87,0.01\n",
      "\n",
      "line 38: 3.6,0.3,105.42,11.16,0.01\n",
      "\n",
      "line 39: 3.7,0.308,108.17,11.45,0.01\n",
      "\n",
      "line 40: 3.8,0.317,110.87,11.74,0.01\n",
      "\n",
      "line 41: 3.9,0.325,113.57,12.02,0.01\n",
      "\n",
      "line 42: 4,0.334,116.13,12.29,0.01\n",
      "\n",
      "line 43: 4.1,0.342,118.77,12.57,0.01\n",
      "\n",
      "line 44: 4.2,0.35,121.43,12.85,0.01\n",
      "\n",
      "line 45: 4.3,0.358,124.04,13.13,0.01\n",
      "\n",
      "line 46: 4.4,0.367,126.52,13.39,0.01\n",
      "\n",
      "line 47: 4.5,0.375,129.28,13.68,0.02\n",
      "\n",
      "line 48: 4.6,0.384,131.66,13.94,0.02\n",
      "\n",
      "line 49: 4.7,0.392,134.09,14.19,0.02\n",
      "\n",
      "line 50: 4.8,0.4,136.57,14.46,0.02\n",
      "\n",
      "line 51: 4.9,0.408,139.03,14.72,0.02\n",
      "\n",
      "line 52: 5,0.417,141.7,15,0.02\n",
      "\n",
      "line 53: 5.1,0.425,144.2,15.26,0.02\n",
      "\n",
      "line 54: 5.2,0.434,146.51,15.51,0.02\n",
      "\n",
      "line 55: 5.3,0.442,148.8,15.75,0.02\n",
      "\n",
      "line 56: 5.4,0.45,151.22,16.01,0.02\n",
      "\n",
      "line 57: 5.5,0.458,153.66,16.27,0.02\n",
      "\n",
      "line 58: 5.6,0.467,156.06,16.52,0.02\n",
      "\n",
      "line 59: 5.7,0.475,158.38,16.77,0.02\n",
      "\n",
      "line 60: 5.8,0.484,160.69,17.01,0.02\n",
      "\n",
      "line 61: 5.9,0.492,163.15,17.27,0.02\n",
      "\n",
      "line 62: 6,0.5,165.14,17.48,0.02\n",
      "\n",
      "line 63: 6.1,0.509,167.36,17.72,0.02\n",
      "\n",
      "line 64: 6.2,0.517,169.55,17.95,0.02\n",
      "\n",
      "line 65: 6.3,0.525,171.77,18.18,0.02\n",
      "\n",
      "line 66: 6.4,0.533,173.93,18.41,0.02\n",
      "\n",
      "line 67: 6.5,0.542,175.78,18.61,0.02\n",
      "\n",
      "line 68: 6.6,0.55,178.2,18.86,0.02\n",
      "\n",
      "line 69: 6.7,0.559,180.26,19.08,0.02\n",
      "\n",
      "line 70: 6.8,0.567,182.21,19.29,0.02\n",
      "\n",
      "line 71: 6.9,0.575,184.29,19.51,0.02\n",
      "\n",
      "line 72: 7,0.583,186.4,19.73,0.02\n",
      "\n",
      "line 73: 7.1,0.592,188.19,19.92,0.02\n",
      "\n",
      "line 74: 7.2,0.6,190.34,20.15,0.02\n",
      "\n",
      "line 75: 7.3,0.609,192.19,20.34,0.02\n",
      "\n",
      "line 76: 7.4,0.617,194.11,20.55,0.02\n",
      "\n",
      "line 77: 7.5,0.625,196.13,20.76,0.03\n",
      "\n",
      "line 78: 7.6,0.633,197.88,20.95,0.03\n",
      "\n",
      "line 79: 7.7,0.642,199.88,21.16,0.03\n",
      "\n",
      "line 80: 7.8,0.65,201.52,21.33,0.03\n",
      "\n",
      "line 81: 7.9,0.659,203.31,21.52,0.03\n",
      "\n",
      "line 82: 8,0.667,205.06,21.71,0.03\n",
      "\n",
      "line 83: 8.1,0.675,206.58,21.87,0.03\n",
      "\n",
      "line 84: 8.2,0.684,208.61,22.08,0.03\n",
      "\n",
      "line 85: 8.3,0.692,210.13,22.24,0.03\n",
      "\n",
      "line 86: 8.4,0.7,211.84,22.42,0.03\n",
      "\n",
      "line 87: 8.5,0.709,213.27,22.58,0.03\n",
      "\n",
      "line 88: 8.6,0.717,214.83,22.74,0.03\n",
      "\n",
      "line 89: 8.7,0.725,216.59,22.93,0.03\n",
      "\n",
      "line 90: 8.8,0.733,218,23.08,0.03\n",
      "\n",
      "line 91: 8.9,0.742,219.52,23.24,0.03\n",
      "\n",
      "line 92: 9,0.75,220.93,23.39,0.03\n",
      "\n",
      "line 93: 9.1,0.758,222.62,23.57,0.03\n",
      "\n",
      "line 94: 9.2,0.767,223.96,23.71,0.03\n",
      "\n",
      "line 95: 9.3,0.775,225.22,23.84,0.03\n",
      "\n",
      "line 96: 9.4,0.783,226.76,24,0.03\n",
      "\n",
      "line 97: 9.5,0.792,228.14,24.15,0.03\n",
      "\n",
      "line 98: 9.6,0.8,229.38,24.28,0.03\n",
      "\n",
      "line 99: 9.7,0.808,230.58,24.41,0.03\n",
      "\n",
      "line 100: 9.8,0.817,231.7,24.53,0.03\n",
      "\n",
      "line 101: 9.9,0.825,233.18,24.68,0.03\n",
      "\n",
      "line 102: 10,0.834,234.13,24.78,0.03\n",
      "\n",
      "line 103: 10.1,0.842,235.37,24.91,0.03\n",
      "\n",
      "line 104: 10.2,0.85,236.38,25.02,0.03\n",
      "\n",
      "line 105: 10.3,0.858,237.15,25.1,0.03\n",
      "\n",
      "line 106: 10.4,0.867,237.76,25.17,0.03\n",
      "\n",
      "line 107: 10.5,0.875,238.85,25.28,0.04\n",
      "\n",
      "line 108: 10.6,0.883,239.16,25.32,0.04\n",
      "\n",
      "line 109: 10.7,0.892,239.43,25.34,0.04\n",
      "\n",
      "line 110: 10.8,0.9,239.71,25.37,0.04\n",
      "\n",
      "line 111: 10.9,0.908,239.8,25.38,0.04\n",
      "\n",
      "line 112: 11,0.917,239.83,25.39,0.04\n",
      "\n",
      "line 113: 11.1,0.925,239.82,25.39,0.04\n",
      "\n",
      "line 114: 11.2,0.933,239.68,25.37,0.04\n",
      "\n",
      "line 115: 11.3,0.942,239.52,25.35,0.04\n",
      "\n",
      "line 116: 11.4,0.95,239.47,25.35,0.04\n",
      "\n",
      "line 117: 11.5,0.959,239.42,25.34,0.04\n",
      "\n",
      "line 118: 11.6,0.967,239.33,25.33,0.04\n",
      "\n",
      "line 119: 11.7,0.975,239.17,25.32,0.04\n",
      "\n",
      "line 120: 11.8,0.983,238.99,25.3,0.04\n",
      "\n",
      "line 121: 11.9,0.992,238.83,25.28,0.04\n",
      "\n",
      "line 122: 12,1,238.15,25.21,0.04\n",
      "\n",
      "line 123: 12.1,1.009,237.66,25.16,0.04\n",
      "\n",
      "line 124: 12.2,1.017,237.27,25.12,0.04\n",
      "\n",
      "line 125: 12.3,1.025,236.81,25.07,0.04\n",
      "\n",
      "line 126: 12.4,1.033,236.23,25.01,0.04\n",
      "\n",
      "line 127: 12.5,1.042,235.55,24.93,0.04\n",
      "\n",
      "line 128: 12.6,1.05,234.71,24.84,0.04\n",
      "\n",
      "line 129: 12.7,1.059,233.61,24.73,0.04\n",
      "\n",
      "line 130: 12.8,1.067,232.99,24.66,0.04\n",
      "\n",
      "line 131: 12.9,1.075,231.72,24.53,0.04\n",
      "\n",
      "line 132: 13,1.083,230.85,24.44,0.04\n",
      "\n",
      "line 133: 13.1,1.092,229.87,24.33,0.04\n",
      "\n",
      "line 134: 13.2,1.1,229.01,24.24,0.04\n",
      "\n",
      "line 135: 13.3,1.109,227.83,24.12,0.04\n",
      "\n",
      "line 136: 13.4,1.117,226.89,24.02,0.04\n",
      "\n",
      "line 137: 13.5,1.125,225.8,23.9,0.05\n",
      "\n",
      "line 138: 13.6,1.133,225,23.82,0.05\n",
      "\n",
      "line 139: 13.7,1.142,224.29,23.74,0.05\n",
      "\n",
      "line 140: 13.8,1.15,223.26,23.63,0.05\n",
      "\n",
      "line 141: 13.9,1.158,222.44,23.55,0.05\n",
      "\n",
      "line 142: 14,1.167,221.3,23.43,0.05\n",
      "\n",
      "line 143: 14.1,1.175,220.7,23.36,0.05\n",
      "\n",
      "line 144: 14.2,1.183,219.82,23.27,0.05\n",
      "\n",
      "line 145: 14.3,1.192,218.89,23.17,0.05\n",
      "\n",
      "line 146: 14.4,1.2,218.02,23.08,0.05\n",
      "\n",
      "line 147: 14.5,1.208,217.18,22.99,0.05\n",
      "\n",
      "line 148: 14.6,1.217,216.42,22.91,0.05\n",
      "\n",
      "line 149: 14.7,1.225,215.12,22.77,0.05\n",
      "\n",
      "line 150: 14.8,1.234,214.57,22.71,0.05\n",
      "\n",
      "line 151: 14.9,1.242,213.35,22.58,0.05\n",
      "\n",
      "line 152: 15,1.25,212.32,22.48,0.05\n",
      "\n",
      "line 153: 15.1,1.258,211.52,22.39,0.05\n",
      "\n",
      "line 154: 15.2,1.267,210.5,22.28,0.05\n",
      "\n",
      "line 155: 15.3,1.275,209.17,22.14,0.05\n",
      "\n",
      "line 156: 15.4,1.284,208.58,22.08,0.05\n",
      "\n",
      "line 157: 15.5,1.292,207.64,21.98,0.05\n",
      "\n",
      "line 158: 15.6,1.3,206.46,21.85,0.05\n",
      "\n",
      "line 159: 15.7,1.308,205.89,21.79,0.05\n",
      "\n",
      "line 160: 15.8,1.317,205.12,21.71,0.05\n",
      "\n",
      "line 161: 15.9,1.325,204.31,21.63,0.05\n",
      "\n",
      "line 162: 16,1.333,203.89,21.58,0.05\n",
      "\n",
      "line 163: 16.1,1.342,203.15,21.5,0.05\n",
      "\n",
      "line 164: 16.2,1.35,202.73,21.46,0.05\n",
      "\n",
      "line 165: 16.3,1.358,202.41,21.43,0.05\n",
      "\n",
      "line 166: 16.4,1.367,201.75,21.36,0.05\n",
      "\n",
      "line 167: 16.5,1.375,201.12,21.29,0.06\n",
      "\n",
      "line 168: 16.6,1.384,200.63,21.24,0.06\n",
      "\n",
      "line 169: 16.7,1.392,200.18,21.19,0.06\n",
      "\n",
      "line 170: 16.8,1.4,199.98,21.17,0.06\n",
      "\n",
      "line 171: 16.9,1.409,199.67,21.14,0.06\n",
      "\n",
      "line 172: 17,1.417,199.07,21.07,0.06\n",
      "\n",
      "line 173: 17.1,1.425,198.54,21.02,0.06\n",
      "\n",
      "line 174: 17.2,1.433,198.07,20.97,0.06\n",
      "\n",
      "line 175: 17.3,1.442,197.64,20.92,0.06\n",
      "\n",
      "line 176: 17.4,1.45,197.17,20.87,0.06\n",
      "\n",
      "line 177: 17.5,1.459,196.73,20.82,0.06\n",
      "\n",
      "line 178: 17.6,1.467,196.39,20.79,0.06\n",
      "\n",
      "line 179: 17.7,1.475,195.8,20.73,0.06\n",
      "\n",
      "line 180: 17.8,1.483,195.3,20.67,0.06\n",
      "\n",
      "line 181: 17.9,1.492,194.56,20.6,0.06\n",
      "\n",
      "line 182: 18,1.5,194.03,20.54,0.06\n",
      "\n",
      "line 183: 18.1,1.508,193.69,20.5,0.06\n",
      "\n",
      "line 184: 18.2,1.517,192.79,20.41,0.06\n",
      "\n",
      "line 185: 18.3,1.525,192.01,20.32,0.06\n",
      "\n",
      "line 186: 18.4,1.534,191.14,20.23,0.06\n",
      "\n",
      "line 187: 18.5,1.542,189.98,20.11,0.06\n",
      "\n",
      "line 188: 18.6,1.55,188.51,19.95,0.06\n",
      "\n",
      "line 189: 18.7,1.559,187.2,19.82,0.06\n",
      "\n",
      "line 190: 18.8,1.567,185.56,19.64,0.06\n",
      "\n",
      "line 191: 18.9,1.575,184,19.48,0.06\n",
      "\n",
      "line 192: 19,1.583,182.86,19.36,0.06\n",
      "\n",
      "line 193: 19.1,1.592,181.63,19.23,0.06\n",
      "\n",
      "line 194: 19.2,1.6,181.03,19.16,0.06\n",
      "\n",
      "line 195: 19.3,1.609,180.14,19.07,0.06\n",
      "\n",
      "line 196: 19.4,1.617,179.59,19.01,0.06\n",
      "\n",
      "line 197: 19.5,1.625,178.9,18.94,0.07\n",
      "\n",
      "line 198: 19.6,1.634,178.55,18.9,0.07\n",
      "\n",
      "line 199: 19.7,1.642,178.05,18.85,0.07\n",
      "\n",
      "line 200: 19.8,1.65,177.56,18.8,0.07\n",
      "\n",
      "line 201: 19.9,1.659,177.17,18.75,0.07\n",
      "\n",
      "line 202: 20,1.667,176.75,18.71,0.07\n",
      "\n",
      "line 203: 20.1,1.675,175.96,18.63,0.07\n",
      "\n",
      "line 204: 20.2,1.683,175.58,18.59,0.07\n",
      "\n",
      "line 205: 20.3,1.692,175.39,18.57,0.07\n",
      "\n",
      "line 206: 20.4,1.7,175.26,18.55,0.07\n",
      "\n",
      "line 207: 20.5,1.708,174.96,18.52,0.07\n",
      "\n",
      "line 208: 20.6,1.717,174.63,18.48,0.07\n",
      "\n",
      "line 209: 20.7,1.725,174.14,18.43,0.07\n",
      "\n",
      "line 210: 20.8,1.733,173.86,18.4,0.07\n",
      "\n",
      "line 211: 20.9,1.742,173.45,18.36,0.07\n",
      "\n",
      "line 212: 21,1.75,173.12,18.33,0.07\n",
      "\n",
      "line 213: 21.1,1.758,172.84,18.3,0.07\n",
      "\n",
      "line 214: 21.2,1.767,172.66,18.28,0.07\n",
      "\n",
      "line 215: 21.3,1.775,172.33,18.24,0.07\n",
      "\n",
      "line 216: 21.4,1.784,172.15,18.22,0.07\n",
      "\n",
      "line 217: 21.5,1.792,171.9,18.2,0.07\n",
      "\n",
      "line 218: 21.6,1.8,171.57,18.16,0.07\n",
      "\n",
      "line 219: 21.7,1.809,171.34,18.14,0.07\n",
      "\n",
      "line 220: 21.8,1.817,171.16,18.12,0.07\n",
      "\n",
      "line 221: 21.9,1.825,170.8,18.08,0.07\n",
      "\n",
      "line 222: 22,1.834,170.5,18.05,0.07\n",
      "\n",
      "line 223: 22.1,1.842,170.07,18,0.07\n",
      "\n",
      "line 224: 22.2,1.85,169.68,17.96,0.07\n",
      "\n",
      "line 225: 22.3,1.858,169.49,17.94,0.07\n",
      "\n",
      "line 226: 22.4,1.867,169.29,17.92,0.07\n",
      "\n",
      "line 227: 22.5,1.875,168.97,17.89,0.08\n",
      "\n",
      "line 228: 22.6,1.883,168.25,17.81,0.08\n",
      "\n",
      "line 229: 22.7,1.892,167.48,17.73,0.08\n",
      "\n",
      "line 230: 22.8,1.9,166.93,17.67,0.08\n",
      "\n",
      "line 231: 22.9,1.909,166.44,17.62,0.08\n",
      "\n",
      "line 232: 23,1.917,165.52,17.52,0.08\n",
      "\n",
      "line 233: 23.1,1.925,164.57,17.42,0.08\n",
      "\n",
      "line 234: 23.2,1.933,163.64,17.32,0.08\n",
      "\n",
      "line 235: 23.3,1.942,163.18,17.27,0.08\n",
      "\n",
      "line 236: 23.4,1.95,162.51,17.2,0.08\n",
      "\n",
      "line 237: 23.5,1.959,161.53,17.1,0.08\n",
      "\n",
      "line 238: 23.6,1.967,160.78,17.02,0.08\n",
      "\n",
      "line 239: 23.7,1.975,160.31,16.97,0.08\n",
      "\n",
      "line 240: 23.8,1.983,159.59,16.89,0.08\n",
      "\n",
      "line 241: 23.9,1.992,158.9,16.82,0.08\n",
      "\n",
      "line 242: 24,2,158.56,16.78,0.08\n",
      "\n",
      "line 243: 24.1,2.009,158.09,16.73,0.08\n",
      "\n",
      "line 244: 24.2,2.017,157.54,16.68,0.08\n",
      "\n",
      "line 245: 24.3,2.025,157.24,16.64,0.08\n",
      "\n",
      "line 246: 24.4,2.034,156.96,16.61,0.08\n",
      "\n",
      "line 247: 24.5,2.042,156.47,16.56,0.08\n",
      "\n",
      "line 248: 24.6,2.05,156.19,16.53,0.08\n",
      "\n",
      "line 249: 24.7,2.058,155.59,16.47,0.08\n",
      "\n",
      "line 250: 24.8,2.067,155.28,16.44,0.08\n",
      "\n",
      "line 251: 24.9,2.075,154.99,16.41,0.08\n",
      "\n",
      "line 252: 25,2.083,154.66,16.37,0.08\n",
      "\n",
      "line 253: 25.1,2.092,154.5,16.35,0.08\n",
      "\n",
      "line 254: 25.2,2.1,154.16,16.32,0.08\n",
      "\n",
      "line 255: 25.3,2.108,153.8,16.28,0.08\n",
      "\n",
      "line 256: 25.4,2.117,153.3,16.23,0.08\n",
      "\n",
      "line 257: 25.5,2.125,152.91,16.19,0.09\n",
      "\n",
      "line 258: 25.6,2.134,152.63,16.16,0.09\n",
      "\n",
      "line 259: 25.7,2.142,152.2,16.11,0.09\n",
      "\n",
      "line 260: 25.8,2.15,151.74,16.06,0.09\n",
      "\n",
      "line 261: 25.9,2.159,151.34,16.02,0.09\n",
      "\n",
      "line 262: 26,2.167,151.03,15.99,0.09\n",
      "\n",
      "line 263: 26.1,2.175,150.71,15.95,0.09\n",
      "\n",
      "line 264: 26.2,2.184,150.4,15.92,0.09\n",
      "\n",
      "line 265: 26.3,2.192,150,15.88,0.09\n",
      "\n",
      "line 266: 26.4,2.2,149.76,15.85,0.09\n",
      "\n",
      "line 267: 26.5,2.208,149.34,15.81,0.09\n",
      "\n",
      "line 268: 26.6,2.217,149.05,15.78,0.09\n",
      "\n",
      "line 269: 26.7,2.225,148.76,15.75,0.09\n",
      "\n",
      "line 270: 26.8,2.233,148.54,15.72,0.09\n",
      "\n",
      "line 271: 26.9,2.242,148.39,15.71,0.09\n",
      "\n",
      "line 272: 27,2.25,148.16,15.68,0.09\n",
      "\n",
      "line 273: 27.1,2.258,147.97,15.66,0.09\n",
      "\n",
      "line 274: 27.2,2.267,147.7,15.63,0.09\n",
      "\n",
      "line 275: 27.3,2.275,147.33,15.6,0.09\n",
      "\n",
      "line 276: 27.4,2.283,146.87,15.55,0.09\n",
      "\n",
      "line 277: 27.5,2.292,146.65,15.52,0.09\n",
      "\n",
      "line 278: 27.6,2.3,146.44,15.5,0.09\n",
      "\n",
      "line 279: 27.7,2.308,146.18,15.47,0.09\n",
      "\n",
      "line 280: 27.8,2.317,145.85,15.44,0.09\n",
      "\n",
      "line 281: 27.9,2.325,145.5,15.4,0.09\n",
      "\n",
      "line 282: 28,2.333,145.11,15.36,0.09\n",
      "\n",
      "line 283: 28.1,2.342,144.96,15.34,0.09\n",
      "\n",
      "line 284: 28.2,2.35,144.74,15.32,0.09\n",
      "\n",
      "line 285: 28.3,2.359,144.66,15.31,0.09\n",
      "\n",
      "line 286: 28.4,2.367,144.47,15.29,0.09\n",
      "\n",
      "line 287: 28.5,2.375,144.3,15.27,0.1\n",
      "\n",
      "line 288: 28.6,2.384,144.16,15.26,0.1\n",
      "\n",
      "line 289: 28.7,2.392,144.03,15.25,0.1\n",
      "\n",
      "line 290: 28.8,2.4,143.94,15.24,0.1\n",
      "\n",
      "line 291: 28.9,2.409,143.91,15.23,0.1\n",
      "\n",
      "line 292: 29,2.417,143.83,15.23,0.1\n",
      "\n",
      "line 293: 29.1,2.425,143.81,15.22,0.1\n",
      "\n",
      "line 294: 29.2,2.433,143.83,15.22,0.1\n",
      "\n",
      "line 295: 29.3,2.442,143.72,15.21,0.1\n",
      "\n",
      "line 296: 29.4,2.45,143.66,15.21,0.1\n",
      "\n",
      "line 297: 29.5,2.458,143.64,15.2,0.1\n",
      "\n",
      "line 298: 29.6,2.467,143.54,15.19,0.1\n",
      "\n",
      "line 299: 29.7,2.475,143.42,15.18,0.1\n",
      "\n",
      "line 300: 29.8,2.483,143.32,15.17,0.1\n",
      "\n",
      "line 301: 29.9,2.492,143.23,15.16,0.1\n",
      "\n",
      "line 302: 30,2.5,143.2,15.16,0.1\n",
      "\n",
      "line 303: 30.1,2.508,143.11,15.15,0.1\n",
      "\n",
      "line 304: 30.2,2.517,142.88,15.12,0.1\n",
      "\n",
      "line 305: 30.3,2.525,142.76,15.11,0.1\n",
      "\n",
      "line 306: 30.4,2.534,142.62,15.1,0.1\n",
      "\n",
      "line 307: 30.5,2.542,142.4,15.07,0.1\n",
      "\n",
      "line 308: 30.6,2.55,142.29,15.06,0.1\n",
      "\n",
      "line 309: 30.7,2.558,142.24,15.06,0.1\n",
      "\n",
      "line 310: 30.8,2.567,142.19,15.05,0.1\n",
      "\n",
      "line 311: 30.9,2.575,142.1,15.04,0.1\n",
      "\n",
      "line 312: 31,2.583,141.98,15.03,0.1\n",
      "\n",
      "line 313: 31.1,2.592,141.87,15.02,0.1\n",
      "\n",
      "line 314: 31.2,2.6,141.69,15,0.1\n",
      "\n",
      "line 315: 31.3,2.608,141.49,14.98,0.1\n",
      "\n",
      "line 316: 31.4,2.617,140.98,14.92,0.1\n",
      "\n",
      "line 317: 31.5,2.625,140.55,14.88,0.11\n",
      "\n",
      "line 318: 31.6,2.633,140.23,14.84,0.11\n",
      "\n",
      "line 319: 31.7,2.642,139.91,14.81,0.11\n",
      "\n",
      "line 320: 31.8,2.65,139.6,14.78,0.11\n",
      "\n",
      "line 321: 31.9,2.658,139.3,14.75,0.11\n",
      "\n",
      "line 322: 32,2.667,139.04,14.72,0.11\n",
      "\n",
      "line 323: 32.1,2.675,138.87,14.7,0.11\n",
      "\n",
      "line 324: 32.2,2.684,138.74,14.69,0.11\n",
      "\n",
      "line 325: 32.3,2.692,138.6,14.67,0.11\n",
      "\n",
      "line 326: 32.4,2.7,138.53,14.66,0.11\n",
      "\n",
      "line 327: 32.5,2.709,138.49,14.66,0.11\n",
      "\n",
      "line 328: 32.6,2.717,138.45,14.66,0.11\n",
      "\n",
      "line 329: 32.7,2.725,138.42,14.65,0.11\n",
      "\n",
      "line 330: 32.8,2.733,138.36,14.65,0.11\n",
      "\n",
      "line 331: 32.9,2.742,138.27,14.64,0.11\n",
      "\n",
      "line 332: 33,2.75,138.18,14.63,0.11\n",
      "\n",
      "line 333: 33.1,2.759,138.02,14.61,0.11\n",
      "\n",
      "line 334: 33.2,2.767,137.82,14.59,0.11\n",
      "\n",
      "line 335: 33.3,2.775,137.63,14.57,0.11\n",
      "\n",
      "line 336: 33.4,2.783,137.44,14.55,0.11\n",
      "\n",
      "line 337: 33.5,2.792,137.26,14.53,0.11\n",
      "\n",
      "line 338: 33.6,2.8,136.83,14.48,0.11\n",
      "\n",
      "line 339: 33.7,2.808,136.55,14.45,0.11\n",
      "\n",
      "line 340: 33.8,2.817,136.3,14.43,0.11\n",
      "\n",
      "line 341: 33.9,2.825,136.11,14.41,0.11\n",
      "\n",
      "line 342: 34,2.833,136.05,14.4,0.11\n",
      "\n",
      "line 343: 34.1,2.842,135.78,14.37,0.11\n",
      "\n",
      "line 344: 34.2,2.85,135.58,14.35,0.11\n",
      "\n",
      "line 345: 34.3,2.858,135.14,14.31,0.11\n",
      "\n",
      "line 346: 34.4,2.867,134.81,14.27,0.11\n",
      "\n",
      "line 347: 34.5,2.875,134.49,14.24,0.12\n",
      "\n",
      "line 348: 34.6,2.883,134.2,14.21,0.12\n",
      "\n",
      "line 349: 34.7,2.892,133.89,14.17,0.12\n",
      "\n",
      "line 350: 34.8,2.9,133.7,14.15,0.12\n",
      "\n",
      "line 351: 34.9,2.909,133.56,14.14,0.12\n",
      "\n",
      "line 352: 35,2.917,133.37,14.12,0.12\n",
      "\n",
      "line 353: 35.1,2.925,133.22,14.1,0.12\n",
      "\n",
      "line 354: 35.2,2.934,133.17,14.1,0.12\n",
      "\n",
      "line 355: 35.3,2.942,133.02,14.08,0.12\n",
      "\n",
      "line 356: 35.4,2.95,132.76,14.05,0.12\n",
      "\n",
      "line 357: 35.5,2.959,132.65,14.04,0.12\n",
      "\n",
      "line 358: 35.6,2.967,132.44,14.02,0.12\n",
      "\n",
      "line 359: 35.7,2.975,132.28,14,0.12\n",
      "\n",
      "line 360: 35.8,2.983,132.2,13.99,0.12\n",
      "\n",
      "line 361: 35.9,2.992,132.08,13.98,0.12\n",
      "\n",
      "line 362: 36,3,131.9,13.96,0.12\n",
      "\n",
      "line 363: 36.1,3.008,131.52,13.92,0.12\n",
      "\n",
      "line 364: 36.2,3.017,131.28,13.9,0.12\n",
      "\n",
      "line 365: 36.3,3.025,130.82,13.85,0.12\n",
      "\n",
      "line 366: 36.4,3.033,130.46,13.81,0.12\n",
      "\n",
      "line 367: 36.5,3.042,130.13,13.78,0.12\n",
      "\n",
      "line 368: 36.6,3.05,130.01,13.76,0.12\n",
      "\n",
      "line 369: 36.7,3.058,129.97,13.76,0.12\n",
      "\n",
      "line 370: 36.8,3.067,129.77,13.74,0.12\n",
      "\n",
      "line 371: 36.9,3.075,129.37,13.69,0.12\n",
      "\n",
      "line 372: 37,3.084,128.79,13.63,0.12\n",
      "\n",
      "line 373: 37.1,3.092,128.34,13.59,0.12\n",
      "\n",
      "line 374: 37.2,3.1,127.74,13.52,0.12\n",
      "\n",
      "line 375: 37.3,3.109,127.18,13.46,0.12\n",
      "\n",
      "line 376: 37.4,3.117,126.14,13.35,0.12\n",
      "\n",
      "line 377: 37.5,3.125,125.14,13.25,0.13\n",
      "\n",
      "line 378: 37.6,3.133,124.03,13.13,0.13\n",
      "\n",
      "line 379: 37.7,3.142,123.5,13.07,0.13\n",
      "\n",
      "line 380: 37.8,3.15,122.26,12.94,0.13\n",
      "\n",
      "line 381: 37.9,3.159,121.57,12.87,0.13\n",
      "\n",
      "line 382: 38,3.167,121.22,12.83,0.13\n",
      "\n",
      "line 383: 38.1,3.175,120.69,12.78,0.13\n",
      "\n",
      "line 384: 38.2,3.183,120.18,12.72,0.13\n",
      "\n",
      "line 385: 38.274,3.19,119.92,12.69,0.13\n"
     ]
    }
   ],
   "source": [
    "data = []\n",
    "with open(\"TensileTest.csv\",\"r\") as file:\n",
    "    i=0\n",
    "    for line in file:\n",
    "        i +=1\n",
    "        parts = line.split(',')\n",
    "        print(f\"line {i}: {line}\")\n",
    "        if i>1:\n",
    "            dataparts = [float(x) for x in parts]\n",
    "            data.append(dataparts)# Z^2 = domiain of data, codomain is R"
   ]
  },
  {
   "cell_type": "code",
   "execution_count": 118,
   "metadata": {},
   "outputs": [
    {
     "name": "stdout",
     "output_type": "stream",
     "text": [
      "384\n"
     ]
    },
    {
     "data": {
      "text/plain": [
       "[[0.0, 0.0, 0.85, 0.09, 0.0],\n",
       " [0.1, 0.004, 0.94, 0.1, 0.0],\n",
       " [0.2, 0.013, 3.83, 0.41, 0.0],\n",
       " [0.3, 0.024, 8.57, 0.91, 0.0],\n",
       " [0.4, 0.033, 12.68, 1.34, 0.0],\n",
       " [0.5, 0.042, 16.46, 1.74, 0.0],\n",
       " [0.6, 0.05, 19.67, 2.08, 0.0],\n",
       " [0.7, 0.059, 23.08, 2.44, 0.0],\n",
       " [0.8, 0.067, 26.5, 2.81, 0.0],\n",
       " [0.9, 0.075, 29.68, 3.14, 0.0],\n",
       " [1.0, 0.084, 32.74, 3.47, 0.0],\n",
       " [1.1, 0.092, 35.6, 3.77, 0.0],\n",
       " [1.2, 0.1, 38.92, 4.12, 0.0],\n",
       " [1.3, 0.109, 41.97, 4.44, 0.0],\n",
       " [1.4, 0.117, 45.2, 4.78, 0.0],\n",
       " [1.5, 0.125, 48.16, 5.1, 0.01],\n",
       " [1.6, 0.133, 51.35, 5.44, 0.01],\n",
       " [1.7, 0.142, 54.4, 5.76, 0.01],\n",
       " [1.8, 0.15, 57.28, 6.06, 0.01],\n",
       " [1.9, 0.159, 60.17, 6.37, 0.01],\n",
       " [2.0, 0.167, 63.17, 6.69, 0.01],\n",
       " [2.1, 0.175, 65.96, 6.98, 0.01],\n",
       " [2.2, 0.183, 68.56, 7.26, 0.01],\n",
       " [2.3, 0.192, 71.53, 7.57, 0.01],\n",
       " [2.4, 0.2, 74.06, 7.84, 0.01],\n",
       " [2.5, 0.209, 76.75, 8.12, 0.01],\n",
       " [2.6, 0.217, 79.38, 8.4, 0.01],\n",
       " [2.7, 0.225, 81.96, 8.68, 0.01],\n",
       " [2.8, 0.233, 84.63, 8.96, 0.01],\n",
       " [2.9, 0.242, 87.1, 9.22, 0.01],\n",
       " [3.0, 0.25, 89.5, 9.47, 0.01],\n",
       " [3.1, 0.259, 91.89, 9.73, 0.01],\n",
       " [3.2, 0.267, 94.58, 10.01, 0.01],\n",
       " [3.3, 0.275, 97.06, 10.27, 0.01],\n",
       " [3.4, 0.283, 100.0, 10.59, 0.01],\n",
       " [3.5, 0.292, 102.69, 10.87, 0.01],\n",
       " [3.6, 0.3, 105.42, 11.16, 0.01],\n",
       " [3.7, 0.308, 108.17, 11.45, 0.01],\n",
       " [3.8, 0.317, 110.87, 11.74, 0.01],\n",
       " [3.9, 0.325, 113.57, 12.02, 0.01],\n",
       " [4.0, 0.334, 116.13, 12.29, 0.01],\n",
       " [4.1, 0.342, 118.77, 12.57, 0.01],\n",
       " [4.2, 0.35, 121.43, 12.85, 0.01],\n",
       " [4.3, 0.358, 124.04, 13.13, 0.01],\n",
       " [4.4, 0.367, 126.52, 13.39, 0.01],\n",
       " [4.5, 0.375, 129.28, 13.68, 0.02],\n",
       " [4.6, 0.384, 131.66, 13.94, 0.02],\n",
       " [4.7, 0.392, 134.09, 14.19, 0.02],\n",
       " [4.8, 0.4, 136.57, 14.46, 0.02],\n",
       " [4.9, 0.408, 139.03, 14.72, 0.02],\n",
       " [5.0, 0.417, 141.7, 15.0, 0.02],\n",
       " [5.1, 0.425, 144.2, 15.26, 0.02],\n",
       " [5.2, 0.434, 146.51, 15.51, 0.02],\n",
       " [5.3, 0.442, 148.8, 15.75, 0.02],\n",
       " [5.4, 0.45, 151.22, 16.01, 0.02],\n",
       " [5.5, 0.458, 153.66, 16.27, 0.02],\n",
       " [5.6, 0.467, 156.06, 16.52, 0.02],\n",
       " [5.7, 0.475, 158.38, 16.77, 0.02],\n",
       " [5.8, 0.484, 160.69, 17.01, 0.02],\n",
       " [5.9, 0.492, 163.15, 17.27, 0.02],\n",
       " [6.0, 0.5, 165.14, 17.48, 0.02],\n",
       " [6.1, 0.509, 167.36, 17.72, 0.02],\n",
       " [6.2, 0.517, 169.55, 17.95, 0.02],\n",
       " [6.3, 0.525, 171.77, 18.18, 0.02],\n",
       " [6.4, 0.533, 173.93, 18.41, 0.02],\n",
       " [6.5, 0.542, 175.78, 18.61, 0.02],\n",
       " [6.6, 0.55, 178.2, 18.86, 0.02],\n",
       " [6.7, 0.559, 180.26, 19.08, 0.02],\n",
       " [6.8, 0.567, 182.21, 19.29, 0.02],\n",
       " [6.9, 0.575, 184.29, 19.51, 0.02],\n",
       " [7.0, 0.583, 186.4, 19.73, 0.02],\n",
       " [7.1, 0.592, 188.19, 19.92, 0.02],\n",
       " [7.2, 0.6, 190.34, 20.15, 0.02],\n",
       " [7.3, 0.609, 192.19, 20.34, 0.02],\n",
       " [7.4, 0.617, 194.11, 20.55, 0.02],\n",
       " [7.5, 0.625, 196.13, 20.76, 0.03],\n",
       " [7.6, 0.633, 197.88, 20.95, 0.03],\n",
       " [7.7, 0.642, 199.88, 21.16, 0.03],\n",
       " [7.8, 0.65, 201.52, 21.33, 0.03],\n",
       " [7.9, 0.659, 203.31, 21.52, 0.03],\n",
       " [8.0, 0.667, 205.06, 21.71, 0.03],\n",
       " [8.1, 0.675, 206.58, 21.87, 0.03],\n",
       " [8.2, 0.684, 208.61, 22.08, 0.03],\n",
       " [8.3, 0.692, 210.13, 22.24, 0.03],\n",
       " [8.4, 0.7, 211.84, 22.42, 0.03],\n",
       " [8.5, 0.709, 213.27, 22.58, 0.03],\n",
       " [8.6, 0.717, 214.83, 22.74, 0.03],\n",
       " [8.7, 0.725, 216.59, 22.93, 0.03],\n",
       " [8.8, 0.733, 218.0, 23.08, 0.03],\n",
       " [8.9, 0.742, 219.52, 23.24, 0.03],\n",
       " [9.0, 0.75, 220.93, 23.39, 0.03],\n",
       " [9.1, 0.758, 222.62, 23.57, 0.03],\n",
       " [9.2, 0.767, 223.96, 23.71, 0.03],\n",
       " [9.3, 0.775, 225.22, 23.84, 0.03],\n",
       " [9.4, 0.783, 226.76, 24.0, 0.03],\n",
       " [9.5, 0.792, 228.14, 24.15, 0.03],\n",
       " [9.6, 0.8, 229.38, 24.28, 0.03],\n",
       " [9.7, 0.808, 230.58, 24.41, 0.03],\n",
       " [9.8, 0.817, 231.7, 24.53, 0.03],\n",
       " [9.9, 0.825, 233.18, 24.68, 0.03],\n",
       " [10.0, 0.834, 234.13, 24.78, 0.03],\n",
       " [10.1, 0.842, 235.37, 24.91, 0.03],\n",
       " [10.2, 0.85, 236.38, 25.02, 0.03],\n",
       " [10.3, 0.858, 237.15, 25.1, 0.03],\n",
       " [10.4, 0.867, 237.76, 25.17, 0.03],\n",
       " [10.5, 0.875, 238.85, 25.28, 0.04],\n",
       " [10.6, 0.883, 239.16, 25.32, 0.04],\n",
       " [10.7, 0.892, 239.43, 25.34, 0.04],\n",
       " [10.8, 0.9, 239.71, 25.37, 0.04],\n",
       " [10.9, 0.908, 239.8, 25.38, 0.04],\n",
       " [11.0, 0.917, 239.83, 25.39, 0.04],\n",
       " [11.1, 0.925, 239.82, 25.39, 0.04],\n",
       " [11.2, 0.933, 239.68, 25.37, 0.04],\n",
       " [11.3, 0.942, 239.52, 25.35, 0.04],\n",
       " [11.4, 0.95, 239.47, 25.35, 0.04],\n",
       " [11.5, 0.959, 239.42, 25.34, 0.04],\n",
       " [11.6, 0.967, 239.33, 25.33, 0.04],\n",
       " [11.7, 0.975, 239.17, 25.32, 0.04],\n",
       " [11.8, 0.983, 238.99, 25.3, 0.04],\n",
       " [11.9, 0.992, 238.83, 25.28, 0.04],\n",
       " [12.0, 1.0, 238.15, 25.21, 0.04],\n",
       " [12.1, 1.009, 237.66, 25.16, 0.04],\n",
       " [12.2, 1.017, 237.27, 25.12, 0.04],\n",
       " [12.3, 1.025, 236.81, 25.07, 0.04],\n",
       " [12.4, 1.033, 236.23, 25.01, 0.04],\n",
       " [12.5, 1.042, 235.55, 24.93, 0.04],\n",
       " [12.6, 1.05, 234.71, 24.84, 0.04],\n",
       " [12.7, 1.059, 233.61, 24.73, 0.04],\n",
       " [12.8, 1.067, 232.99, 24.66, 0.04],\n",
       " [12.9, 1.075, 231.72, 24.53, 0.04],\n",
       " [13.0, 1.083, 230.85, 24.44, 0.04],\n",
       " [13.1, 1.092, 229.87, 24.33, 0.04],\n",
       " [13.2, 1.1, 229.01, 24.24, 0.04],\n",
       " [13.3, 1.109, 227.83, 24.12, 0.04],\n",
       " [13.4, 1.117, 226.89, 24.02, 0.04],\n",
       " [13.5, 1.125, 225.8, 23.9, 0.05],\n",
       " [13.6, 1.133, 225.0, 23.82, 0.05],\n",
       " [13.7, 1.142, 224.29, 23.74, 0.05],\n",
       " [13.8, 1.15, 223.26, 23.63, 0.05],\n",
       " [13.9, 1.158, 222.44, 23.55, 0.05],\n",
       " [14.0, 1.167, 221.3, 23.43, 0.05],\n",
       " [14.1, 1.175, 220.7, 23.36, 0.05],\n",
       " [14.2, 1.183, 219.82, 23.27, 0.05],\n",
       " [14.3, 1.192, 218.89, 23.17, 0.05],\n",
       " [14.4, 1.2, 218.02, 23.08, 0.05],\n",
       " [14.5, 1.208, 217.18, 22.99, 0.05],\n",
       " [14.6, 1.217, 216.42, 22.91, 0.05],\n",
       " [14.7, 1.225, 215.12, 22.77, 0.05],\n",
       " [14.8, 1.234, 214.57, 22.71, 0.05],\n",
       " [14.9, 1.242, 213.35, 22.58, 0.05],\n",
       " [15.0, 1.25, 212.32, 22.48, 0.05],\n",
       " [15.1, 1.258, 211.52, 22.39, 0.05],\n",
       " [15.2, 1.267, 210.5, 22.28, 0.05],\n",
       " [15.3, 1.275, 209.17, 22.14, 0.05],\n",
       " [15.4, 1.284, 208.58, 22.08, 0.05],\n",
       " [15.5, 1.292, 207.64, 21.98, 0.05],\n",
       " [15.6, 1.3, 206.46, 21.85, 0.05],\n",
       " [15.7, 1.308, 205.89, 21.79, 0.05],\n",
       " [15.8, 1.317, 205.12, 21.71, 0.05],\n",
       " [15.9, 1.325, 204.31, 21.63, 0.05],\n",
       " [16.0, 1.333, 203.89, 21.58, 0.05],\n",
       " [16.1, 1.342, 203.15, 21.5, 0.05],\n",
       " [16.2, 1.35, 202.73, 21.46, 0.05],\n",
       " [16.3, 1.358, 202.41, 21.43, 0.05],\n",
       " [16.4, 1.367, 201.75, 21.36, 0.05],\n",
       " [16.5, 1.375, 201.12, 21.29, 0.06],\n",
       " [16.6, 1.384, 200.63, 21.24, 0.06],\n",
       " [16.7, 1.392, 200.18, 21.19, 0.06],\n",
       " [16.8, 1.4, 199.98, 21.17, 0.06],\n",
       " [16.9, 1.409, 199.67, 21.14, 0.06],\n",
       " [17.0, 1.417, 199.07, 21.07, 0.06],\n",
       " [17.1, 1.425, 198.54, 21.02, 0.06],\n",
       " [17.2, 1.433, 198.07, 20.97, 0.06],\n",
       " [17.3, 1.442, 197.64, 20.92, 0.06],\n",
       " [17.4, 1.45, 197.17, 20.87, 0.06],\n",
       " [17.5, 1.459, 196.73, 20.82, 0.06],\n",
       " [17.6, 1.467, 196.39, 20.79, 0.06],\n",
       " [17.7, 1.475, 195.8, 20.73, 0.06],\n",
       " [17.8, 1.483, 195.3, 20.67, 0.06],\n",
       " [17.9, 1.492, 194.56, 20.6, 0.06],\n",
       " [18.0, 1.5, 194.03, 20.54, 0.06],\n",
       " [18.1, 1.508, 193.69, 20.5, 0.06],\n",
       " [18.2, 1.517, 192.79, 20.41, 0.06],\n",
       " [18.3, 1.525, 192.01, 20.32, 0.06],\n",
       " [18.4, 1.534, 191.14, 20.23, 0.06],\n",
       " [18.5, 1.542, 189.98, 20.11, 0.06],\n",
       " [18.6, 1.55, 188.51, 19.95, 0.06],\n",
       " [18.7, 1.559, 187.2, 19.82, 0.06],\n",
       " [18.8, 1.567, 185.56, 19.64, 0.06],\n",
       " [18.9, 1.575, 184.0, 19.48, 0.06],\n",
       " [19.0, 1.583, 182.86, 19.36, 0.06],\n",
       " [19.1, 1.592, 181.63, 19.23, 0.06],\n",
       " [19.2, 1.6, 181.03, 19.16, 0.06],\n",
       " [19.3, 1.609, 180.14, 19.07, 0.06],\n",
       " [19.4, 1.617, 179.59, 19.01, 0.06],\n",
       " [19.5, 1.625, 178.9, 18.94, 0.07],\n",
       " [19.6, 1.634, 178.55, 18.9, 0.07],\n",
       " [19.7, 1.642, 178.05, 18.85, 0.07],\n",
       " [19.8, 1.65, 177.56, 18.8, 0.07],\n",
       " [19.9, 1.659, 177.17, 18.75, 0.07],\n",
       " [20.0, 1.667, 176.75, 18.71, 0.07],\n",
       " [20.1, 1.675, 175.96, 18.63, 0.07],\n",
       " [20.2, 1.683, 175.58, 18.59, 0.07],\n",
       " [20.3, 1.692, 175.39, 18.57, 0.07],\n",
       " [20.4, 1.7, 175.26, 18.55, 0.07],\n",
       " [20.5, 1.708, 174.96, 18.52, 0.07],\n",
       " [20.6, 1.717, 174.63, 18.48, 0.07],\n",
       " [20.7, 1.725, 174.14, 18.43, 0.07],\n",
       " [20.8, 1.733, 173.86, 18.4, 0.07],\n",
       " [20.9, 1.742, 173.45, 18.36, 0.07],\n",
       " [21.0, 1.75, 173.12, 18.33, 0.07],\n",
       " [21.1, 1.758, 172.84, 18.3, 0.07],\n",
       " [21.2, 1.767, 172.66, 18.28, 0.07],\n",
       " [21.3, 1.775, 172.33, 18.24, 0.07],\n",
       " [21.4, 1.784, 172.15, 18.22, 0.07],\n",
       " [21.5, 1.792, 171.9, 18.2, 0.07],\n",
       " [21.6, 1.8, 171.57, 18.16, 0.07],\n",
       " [21.7, 1.809, 171.34, 18.14, 0.07],\n",
       " [21.8, 1.817, 171.16, 18.12, 0.07],\n",
       " [21.9, 1.825, 170.8, 18.08, 0.07],\n",
       " [22.0, 1.834, 170.5, 18.05, 0.07],\n",
       " [22.1, 1.842, 170.07, 18.0, 0.07],\n",
       " [22.2, 1.85, 169.68, 17.96, 0.07],\n",
       " [22.3, 1.858, 169.49, 17.94, 0.07],\n",
       " [22.4, 1.867, 169.29, 17.92, 0.07],\n",
       " [22.5, 1.875, 168.97, 17.89, 0.08],\n",
       " [22.6, 1.883, 168.25, 17.81, 0.08],\n",
       " [22.7, 1.892, 167.48, 17.73, 0.08],\n",
       " [22.8, 1.9, 166.93, 17.67, 0.08],\n",
       " [22.9, 1.909, 166.44, 17.62, 0.08],\n",
       " [23.0, 1.917, 165.52, 17.52, 0.08],\n",
       " [23.1, 1.925, 164.57, 17.42, 0.08],\n",
       " [23.2, 1.933, 163.64, 17.32, 0.08],\n",
       " [23.3, 1.942, 163.18, 17.27, 0.08],\n",
       " [23.4, 1.95, 162.51, 17.2, 0.08],\n",
       " [23.5, 1.959, 161.53, 17.1, 0.08],\n",
       " [23.6, 1.967, 160.78, 17.02, 0.08],\n",
       " [23.7, 1.975, 160.31, 16.97, 0.08],\n",
       " [23.8, 1.983, 159.59, 16.89, 0.08],\n",
       " [23.9, 1.992, 158.9, 16.82, 0.08],\n",
       " [24.0, 2.0, 158.56, 16.78, 0.08],\n",
       " [24.1, 2.009, 158.09, 16.73, 0.08],\n",
       " [24.2, 2.017, 157.54, 16.68, 0.08],\n",
       " [24.3, 2.025, 157.24, 16.64, 0.08],\n",
       " [24.4, 2.034, 156.96, 16.61, 0.08],\n",
       " [24.5, 2.042, 156.47, 16.56, 0.08],\n",
       " [24.6, 2.05, 156.19, 16.53, 0.08],\n",
       " [24.7, 2.058, 155.59, 16.47, 0.08],\n",
       " [24.8, 2.067, 155.28, 16.44, 0.08],\n",
       " [24.9, 2.075, 154.99, 16.41, 0.08],\n",
       " [25.0, 2.083, 154.66, 16.37, 0.08],\n",
       " [25.1, 2.092, 154.5, 16.35, 0.08],\n",
       " [25.2, 2.1, 154.16, 16.32, 0.08],\n",
       " [25.3, 2.108, 153.8, 16.28, 0.08],\n",
       " [25.4, 2.117, 153.3, 16.23, 0.08],\n",
       " [25.5, 2.125, 152.91, 16.19, 0.09],\n",
       " [25.6, 2.134, 152.63, 16.16, 0.09],\n",
       " [25.7, 2.142, 152.2, 16.11, 0.09],\n",
       " [25.8, 2.15, 151.74, 16.06, 0.09],\n",
       " [25.9, 2.159, 151.34, 16.02, 0.09],\n",
       " [26.0, 2.167, 151.03, 15.99, 0.09],\n",
       " [26.1, 2.175, 150.71, 15.95, 0.09],\n",
       " [26.2, 2.184, 150.4, 15.92, 0.09],\n",
       " [26.3, 2.192, 150.0, 15.88, 0.09],\n",
       " [26.4, 2.2, 149.76, 15.85, 0.09],\n",
       " [26.5, 2.208, 149.34, 15.81, 0.09],\n",
       " [26.6, 2.217, 149.05, 15.78, 0.09],\n",
       " [26.7, 2.225, 148.76, 15.75, 0.09],\n",
       " [26.8, 2.233, 148.54, 15.72, 0.09],\n",
       " [26.9, 2.242, 148.39, 15.71, 0.09],\n",
       " [27.0, 2.25, 148.16, 15.68, 0.09],\n",
       " [27.1, 2.258, 147.97, 15.66, 0.09],\n",
       " [27.2, 2.267, 147.7, 15.63, 0.09],\n",
       " [27.3, 2.275, 147.33, 15.6, 0.09],\n",
       " [27.4, 2.283, 146.87, 15.55, 0.09],\n",
       " [27.5, 2.292, 146.65, 15.52, 0.09],\n",
       " [27.6, 2.3, 146.44, 15.5, 0.09],\n",
       " [27.7, 2.308, 146.18, 15.47, 0.09],\n",
       " [27.8, 2.317, 145.85, 15.44, 0.09],\n",
       " [27.9, 2.325, 145.5, 15.4, 0.09],\n",
       " [28.0, 2.333, 145.11, 15.36, 0.09],\n",
       " [28.1, 2.342, 144.96, 15.34, 0.09],\n",
       " [28.2, 2.35, 144.74, 15.32, 0.09],\n",
       " [28.3, 2.359, 144.66, 15.31, 0.09],\n",
       " [28.4, 2.367, 144.47, 15.29, 0.09],\n",
       " [28.5, 2.375, 144.3, 15.27, 0.1],\n",
       " [28.6, 2.384, 144.16, 15.26, 0.1],\n",
       " [28.7, 2.392, 144.03, 15.25, 0.1],\n",
       " [28.8, 2.4, 143.94, 15.24, 0.1],\n",
       " [28.9, 2.409, 143.91, 15.23, 0.1],\n",
       " [29.0, 2.417, 143.83, 15.23, 0.1],\n",
       " [29.1, 2.425, 143.81, 15.22, 0.1],\n",
       " [29.2, 2.433, 143.83, 15.22, 0.1],\n",
       " [29.3, 2.442, 143.72, 15.21, 0.1],\n",
       " [29.4, 2.45, 143.66, 15.21, 0.1],\n",
       " [29.5, 2.458, 143.64, 15.2, 0.1],\n",
       " [29.6, 2.467, 143.54, 15.19, 0.1],\n",
       " [29.7, 2.475, 143.42, 15.18, 0.1],\n",
       " [29.8, 2.483, 143.32, 15.17, 0.1],\n",
       " [29.9, 2.492, 143.23, 15.16, 0.1],\n",
       " [30.0, 2.5, 143.2, 15.16, 0.1],\n",
       " [30.1, 2.508, 143.11, 15.15, 0.1],\n",
       " [30.2, 2.517, 142.88, 15.12, 0.1],\n",
       " [30.3, 2.525, 142.76, 15.11, 0.1],\n",
       " [30.4, 2.534, 142.62, 15.1, 0.1],\n",
       " [30.5, 2.542, 142.4, 15.07, 0.1],\n",
       " [30.6, 2.55, 142.29, 15.06, 0.1],\n",
       " [30.7, 2.558, 142.24, 15.06, 0.1],\n",
       " [30.8, 2.567, 142.19, 15.05, 0.1],\n",
       " [30.9, 2.575, 142.1, 15.04, 0.1],\n",
       " [31.0, 2.583, 141.98, 15.03, 0.1],\n",
       " [31.1, 2.592, 141.87, 15.02, 0.1],\n",
       " [31.2, 2.6, 141.69, 15.0, 0.1],\n",
       " [31.3, 2.608, 141.49, 14.98, 0.1],\n",
       " [31.4, 2.617, 140.98, 14.92, 0.1],\n",
       " [31.5, 2.625, 140.55, 14.88, 0.11],\n",
       " [31.6, 2.633, 140.23, 14.84, 0.11],\n",
       " [31.7, 2.642, 139.91, 14.81, 0.11],\n",
       " [31.8, 2.65, 139.6, 14.78, 0.11],\n",
       " [31.9, 2.658, 139.3, 14.75, 0.11],\n",
       " [32.0, 2.667, 139.04, 14.72, 0.11],\n",
       " [32.1, 2.675, 138.87, 14.7, 0.11],\n",
       " [32.2, 2.684, 138.74, 14.69, 0.11],\n",
       " [32.3, 2.692, 138.6, 14.67, 0.11],\n",
       " [32.4, 2.7, 138.53, 14.66, 0.11],\n",
       " [32.5, 2.709, 138.49, 14.66, 0.11],\n",
       " [32.6, 2.717, 138.45, 14.66, 0.11],\n",
       " [32.7, 2.725, 138.42, 14.65, 0.11],\n",
       " [32.8, 2.733, 138.36, 14.65, 0.11],\n",
       " [32.9, 2.742, 138.27, 14.64, 0.11],\n",
       " [33.0, 2.75, 138.18, 14.63, 0.11],\n",
       " [33.1, 2.759, 138.02, 14.61, 0.11],\n",
       " [33.2, 2.767, 137.82, 14.59, 0.11],\n",
       " [33.3, 2.775, 137.63, 14.57, 0.11],\n",
       " [33.4, 2.783, 137.44, 14.55, 0.11],\n",
       " [33.5, 2.792, 137.26, 14.53, 0.11],\n",
       " [33.6, 2.8, 136.83, 14.48, 0.11],\n",
       " [33.7, 2.808, 136.55, 14.45, 0.11],\n",
       " [33.8, 2.817, 136.3, 14.43, 0.11],\n",
       " [33.9, 2.825, 136.11, 14.41, 0.11],\n",
       " [34.0, 2.833, 136.05, 14.4, 0.11],\n",
       " [34.1, 2.842, 135.78, 14.37, 0.11],\n",
       " [34.2, 2.85, 135.58, 14.35, 0.11],\n",
       " [34.3, 2.858, 135.14, 14.31, 0.11],\n",
       " [34.4, 2.867, 134.81, 14.27, 0.11],\n",
       " [34.5, 2.875, 134.49, 14.24, 0.12],\n",
       " [34.6, 2.883, 134.2, 14.21, 0.12],\n",
       " [34.7, 2.892, 133.89, 14.17, 0.12],\n",
       " [34.8, 2.9, 133.7, 14.15, 0.12],\n",
       " [34.9, 2.909, 133.56, 14.14, 0.12],\n",
       " [35.0, 2.917, 133.37, 14.12, 0.12],\n",
       " [35.1, 2.925, 133.22, 14.1, 0.12],\n",
       " [35.2, 2.934, 133.17, 14.1, 0.12],\n",
       " [35.3, 2.942, 133.02, 14.08, 0.12],\n",
       " [35.4, 2.95, 132.76, 14.05, 0.12],\n",
       " [35.5, 2.959, 132.65, 14.04, 0.12],\n",
       " [35.6, 2.967, 132.44, 14.02, 0.12],\n",
       " [35.7, 2.975, 132.28, 14.0, 0.12],\n",
       " [35.8, 2.983, 132.2, 13.99, 0.12],\n",
       " [35.9, 2.992, 132.08, 13.98, 0.12],\n",
       " [36.0, 3.0, 131.9, 13.96, 0.12],\n",
       " [36.1, 3.008, 131.52, 13.92, 0.12],\n",
       " [36.2, 3.017, 131.28, 13.9, 0.12],\n",
       " [36.3, 3.025, 130.82, 13.85, 0.12],\n",
       " [36.4, 3.033, 130.46, 13.81, 0.12],\n",
       " [36.5, 3.042, 130.13, 13.78, 0.12],\n",
       " [36.6, 3.05, 130.01, 13.76, 0.12],\n",
       " [36.7, 3.058, 129.97, 13.76, 0.12],\n",
       " [36.8, 3.067, 129.77, 13.74, 0.12],\n",
       " [36.9, 3.075, 129.37, 13.69, 0.12],\n",
       " [37.0, 3.084, 128.79, 13.63, 0.12],\n",
       " [37.1, 3.092, 128.34, 13.59, 0.12],\n",
       " [37.2, 3.1, 127.74, 13.52, 0.12],\n",
       " [37.3, 3.109, 127.18, 13.46, 0.12],\n",
       " [37.4, 3.117, 126.14, 13.35, 0.12],\n",
       " [37.5, 3.125, 125.14, 13.25, 0.13],\n",
       " [37.6, 3.133, 124.03, 13.13, 0.13],\n",
       " [37.7, 3.142, 123.5, 13.07, 0.13],\n",
       " [37.8, 3.15, 122.26, 12.94, 0.13],\n",
       " [37.9, 3.159, 121.57, 12.87, 0.13],\n",
       " [38.0, 3.167, 121.22, 12.83, 0.13],\n",
       " [38.1, 3.175, 120.69, 12.78, 0.13],\n",
       " [38.2, 3.183, 120.18, 12.72, 0.13],\n",
       " [38.274, 3.19, 119.92, 12.69, 0.13]]"
      ]
     },
     "execution_count": 118,
     "metadata": {},
     "output_type": "execute_result"
    }
   ],
   "source": [
    "print(len(data))\n",
    "data\n"
   ]
  },
  {
   "cell_type": "code",
   "execution_count": 109,
   "metadata": {},
   "outputs": [],
   "source": [
    "import csv"
   ]
  },
  {
   "cell_type": "code",
   "execution_count": 110,
   "metadata": {},
   "outputs": [
    {
     "name": "stdout",
     "output_type": "stream",
     "text": [
      "['Time', '(s),Extension', '(mm),Load', '(N),Tensile', 'stress(MPa),Tensile', 'strain', '(mm/mm)(Extension)']\n",
      "['0,0,0.85,0.09,0']\n",
      "['0.1,0.004,0.94,0.1,0']\n",
      "['0.2,0.013,3.83,0.41,0']\n",
      "['0.3,0.024,8.57,0.91,0']\n",
      "['0.4,0.033,12.68,1.34,0']\n",
      "['0.5,0.042,16.46,1.74,0']\n",
      "['0.6,0.05,19.67,2.08,0']\n",
      "['0.7,0.059,23.08,2.44,0']\n",
      "['0.8,0.067,26.5,2.81,0']\n",
      "['0.9,0.075,29.68,3.14,0']\n",
      "['1,0.084,32.74,3.47,0']\n",
      "['1.1,0.092,35.6,3.77,0']\n",
      "['1.2,0.1,38.92,4.12,0']\n",
      "['1.3,0.109,41.97,4.44,0']\n",
      "['1.4,0.117,45.2,4.78,0']\n",
      "['1.5,0.125,48.16,5.1,0.01']\n",
      "['1.6,0.133,51.35,5.44,0.01']\n",
      "['1.7,0.142,54.4,5.76,0.01']\n",
      "['1.8,0.15,57.28,6.06,0.01']\n",
      "['1.9,0.159,60.17,6.37,0.01']\n",
      "['2,0.167,63.17,6.69,0.01']\n",
      "['2.1,0.175,65.96,6.98,0.01']\n",
      "['2.2,0.183,68.56,7.26,0.01']\n",
      "['2.3,0.192,71.53,7.57,0.01']\n",
      "['2.4,0.2,74.06,7.84,0.01']\n",
      "['2.5,0.209,76.75,8.12,0.01']\n",
      "['2.6,0.217,79.38,8.4,0.01']\n",
      "['2.7,0.225,81.96,8.68,0.01']\n",
      "['2.8,0.233,84.63,8.96,0.01']\n",
      "['2.9,0.242,87.1,9.22,0.01']\n",
      "['3,0.25,89.5,9.47,0.01']\n",
      "['3.1,0.259,91.89,9.73,0.01']\n",
      "['3.2,0.267,94.58,10.01,0.01']\n",
      "['3.3,0.275,97.06,10.27,0.01']\n",
      "['3.4,0.283,100,10.59,0.01']\n",
      "['3.5,0.292,102.69,10.87,0.01']\n",
      "['3.6,0.3,105.42,11.16,0.01']\n",
      "['3.7,0.308,108.17,11.45,0.01']\n",
      "['3.8,0.317,110.87,11.74,0.01']\n",
      "['3.9,0.325,113.57,12.02,0.01']\n",
      "['4,0.334,116.13,12.29,0.01']\n",
      "['4.1,0.342,118.77,12.57,0.01']\n",
      "['4.2,0.35,121.43,12.85,0.01']\n",
      "['4.3,0.358,124.04,13.13,0.01']\n",
      "['4.4,0.367,126.52,13.39,0.01']\n",
      "['4.5,0.375,129.28,13.68,0.02']\n",
      "['4.6,0.384,131.66,13.94,0.02']\n",
      "['4.7,0.392,134.09,14.19,0.02']\n",
      "['4.8,0.4,136.57,14.46,0.02']\n",
      "['4.9,0.408,139.03,14.72,0.02']\n",
      "['5,0.417,141.7,15,0.02']\n",
      "['5.1,0.425,144.2,15.26,0.02']\n",
      "['5.2,0.434,146.51,15.51,0.02']\n",
      "['5.3,0.442,148.8,15.75,0.02']\n",
      "['5.4,0.45,151.22,16.01,0.02']\n",
      "['5.5,0.458,153.66,16.27,0.02']\n",
      "['5.6,0.467,156.06,16.52,0.02']\n",
      "['5.7,0.475,158.38,16.77,0.02']\n",
      "['5.8,0.484,160.69,17.01,0.02']\n",
      "['5.9,0.492,163.15,17.27,0.02']\n",
      "['6,0.5,165.14,17.48,0.02']\n",
      "['6.1,0.509,167.36,17.72,0.02']\n",
      "['6.2,0.517,169.55,17.95,0.02']\n",
      "['6.3,0.525,171.77,18.18,0.02']\n",
      "['6.4,0.533,173.93,18.41,0.02']\n",
      "['6.5,0.542,175.78,18.61,0.02']\n",
      "['6.6,0.55,178.2,18.86,0.02']\n",
      "['6.7,0.559,180.26,19.08,0.02']\n",
      "['6.8,0.567,182.21,19.29,0.02']\n",
      "['6.9,0.575,184.29,19.51,0.02']\n",
      "['7,0.583,186.4,19.73,0.02']\n",
      "['7.1,0.592,188.19,19.92,0.02']\n",
      "['7.2,0.6,190.34,20.15,0.02']\n",
      "['7.3,0.609,192.19,20.34,0.02']\n",
      "['7.4,0.617,194.11,20.55,0.02']\n",
      "['7.5,0.625,196.13,20.76,0.03']\n",
      "['7.6,0.633,197.88,20.95,0.03']\n",
      "['7.7,0.642,199.88,21.16,0.03']\n",
      "['7.8,0.65,201.52,21.33,0.03']\n",
      "['7.9,0.659,203.31,21.52,0.03']\n",
      "['8,0.667,205.06,21.71,0.03']\n",
      "['8.1,0.675,206.58,21.87,0.03']\n",
      "['8.2,0.684,208.61,22.08,0.03']\n",
      "['8.3,0.692,210.13,22.24,0.03']\n",
      "['8.4,0.7,211.84,22.42,0.03']\n",
      "['8.5,0.709,213.27,22.58,0.03']\n",
      "['8.6,0.717,214.83,22.74,0.03']\n",
      "['8.7,0.725,216.59,22.93,0.03']\n",
      "['8.8,0.733,218,23.08,0.03']\n",
      "['8.9,0.742,219.52,23.24,0.03']\n",
      "['9,0.75,220.93,23.39,0.03']\n",
      "['9.1,0.758,222.62,23.57,0.03']\n",
      "['9.2,0.767,223.96,23.71,0.03']\n",
      "['9.3,0.775,225.22,23.84,0.03']\n",
      "['9.4,0.783,226.76,24,0.03']\n",
      "['9.5,0.792,228.14,24.15,0.03']\n",
      "['9.6,0.8,229.38,24.28,0.03']\n",
      "['9.7,0.808,230.58,24.41,0.03']\n",
      "['9.8,0.817,231.7,24.53,0.03']\n",
      "['9.9,0.825,233.18,24.68,0.03']\n",
      "['10,0.834,234.13,24.78,0.03']\n",
      "['10.1,0.842,235.37,24.91,0.03']\n",
      "['10.2,0.85,236.38,25.02,0.03']\n",
      "['10.3,0.858,237.15,25.1,0.03']\n",
      "['10.4,0.867,237.76,25.17,0.03']\n",
      "['10.5,0.875,238.85,25.28,0.04']\n",
      "['10.6,0.883,239.16,25.32,0.04']\n",
      "['10.7,0.892,239.43,25.34,0.04']\n",
      "['10.8,0.9,239.71,25.37,0.04']\n",
      "['10.9,0.908,239.8,25.38,0.04']\n",
      "['11,0.917,239.83,25.39,0.04']\n",
      "['11.1,0.925,239.82,25.39,0.04']\n",
      "['11.2,0.933,239.68,25.37,0.04']\n",
      "['11.3,0.942,239.52,25.35,0.04']\n",
      "['11.4,0.95,239.47,25.35,0.04']\n",
      "['11.5,0.959,239.42,25.34,0.04']\n",
      "['11.6,0.967,239.33,25.33,0.04']\n",
      "['11.7,0.975,239.17,25.32,0.04']\n",
      "['11.8,0.983,238.99,25.3,0.04']\n",
      "['11.9,0.992,238.83,25.28,0.04']\n",
      "['12,1,238.15,25.21,0.04']\n",
      "['12.1,1.009,237.66,25.16,0.04']\n",
      "['12.2,1.017,237.27,25.12,0.04']\n",
      "['12.3,1.025,236.81,25.07,0.04']\n",
      "['12.4,1.033,236.23,25.01,0.04']\n",
      "['12.5,1.042,235.55,24.93,0.04']\n",
      "['12.6,1.05,234.71,24.84,0.04']\n",
      "['12.7,1.059,233.61,24.73,0.04']\n",
      "['12.8,1.067,232.99,24.66,0.04']\n",
      "['12.9,1.075,231.72,24.53,0.04']\n",
      "['13,1.083,230.85,24.44,0.04']\n",
      "['13.1,1.092,229.87,24.33,0.04']\n",
      "['13.2,1.1,229.01,24.24,0.04']\n",
      "['13.3,1.109,227.83,24.12,0.04']\n",
      "['13.4,1.117,226.89,24.02,0.04']\n",
      "['13.5,1.125,225.8,23.9,0.05']\n",
      "['13.6,1.133,225,23.82,0.05']\n",
      "['13.7,1.142,224.29,23.74,0.05']\n",
      "['13.8,1.15,223.26,23.63,0.05']\n",
      "['13.9,1.158,222.44,23.55,0.05']\n",
      "['14,1.167,221.3,23.43,0.05']\n",
      "['14.1,1.175,220.7,23.36,0.05']\n",
      "['14.2,1.183,219.82,23.27,0.05']\n",
      "['14.3,1.192,218.89,23.17,0.05']\n",
      "['14.4,1.2,218.02,23.08,0.05']\n",
      "['14.5,1.208,217.18,22.99,0.05']\n",
      "['14.6,1.217,216.42,22.91,0.05']\n",
      "['14.7,1.225,215.12,22.77,0.05']\n",
      "['14.8,1.234,214.57,22.71,0.05']\n",
      "['14.9,1.242,213.35,22.58,0.05']\n",
      "['15,1.25,212.32,22.48,0.05']\n",
      "['15.1,1.258,211.52,22.39,0.05']\n",
      "['15.2,1.267,210.5,22.28,0.05']\n",
      "['15.3,1.275,209.17,22.14,0.05']\n",
      "['15.4,1.284,208.58,22.08,0.05']\n",
      "['15.5,1.292,207.64,21.98,0.05']\n",
      "['15.6,1.3,206.46,21.85,0.05']\n",
      "['15.7,1.308,205.89,21.79,0.05']\n",
      "['15.8,1.317,205.12,21.71,0.05']\n",
      "['15.9,1.325,204.31,21.63,0.05']\n",
      "['16,1.333,203.89,21.58,0.05']\n",
      "['16.1,1.342,203.15,21.5,0.05']\n",
      "['16.2,1.35,202.73,21.46,0.05']\n",
      "['16.3,1.358,202.41,21.43,0.05']\n",
      "['16.4,1.367,201.75,21.36,0.05']\n",
      "['16.5,1.375,201.12,21.29,0.06']\n",
      "['16.6,1.384,200.63,21.24,0.06']\n",
      "['16.7,1.392,200.18,21.19,0.06']\n",
      "['16.8,1.4,199.98,21.17,0.06']\n",
      "['16.9,1.409,199.67,21.14,0.06']\n",
      "['17,1.417,199.07,21.07,0.06']\n",
      "['17.1,1.425,198.54,21.02,0.06']\n",
      "['17.2,1.433,198.07,20.97,0.06']\n",
      "['17.3,1.442,197.64,20.92,0.06']\n",
      "['17.4,1.45,197.17,20.87,0.06']\n",
      "['17.5,1.459,196.73,20.82,0.06']\n",
      "['17.6,1.467,196.39,20.79,0.06']\n",
      "['17.7,1.475,195.8,20.73,0.06']\n",
      "['17.8,1.483,195.3,20.67,0.06']\n",
      "['17.9,1.492,194.56,20.6,0.06']\n",
      "['18,1.5,194.03,20.54,0.06']\n",
      "['18.1,1.508,193.69,20.5,0.06']\n",
      "['18.2,1.517,192.79,20.41,0.06']\n",
      "['18.3,1.525,192.01,20.32,0.06']\n",
      "['18.4,1.534,191.14,20.23,0.06']\n",
      "['18.5,1.542,189.98,20.11,0.06']\n",
      "['18.6,1.55,188.51,19.95,0.06']\n",
      "['18.7,1.559,187.2,19.82,0.06']\n",
      "['18.8,1.567,185.56,19.64,0.06']\n",
      "['18.9,1.575,184,19.48,0.06']\n",
      "['19,1.583,182.86,19.36,0.06']\n",
      "['19.1,1.592,181.63,19.23,0.06']\n",
      "['19.2,1.6,181.03,19.16,0.06']\n",
      "['19.3,1.609,180.14,19.07,0.06']\n",
      "['19.4,1.617,179.59,19.01,0.06']\n",
      "['19.5,1.625,178.9,18.94,0.07']\n",
      "['19.6,1.634,178.55,18.9,0.07']\n",
      "['19.7,1.642,178.05,18.85,0.07']\n",
      "['19.8,1.65,177.56,18.8,0.07']\n",
      "['19.9,1.659,177.17,18.75,0.07']\n",
      "['20,1.667,176.75,18.71,0.07']\n",
      "['20.1,1.675,175.96,18.63,0.07']\n",
      "['20.2,1.683,175.58,18.59,0.07']\n",
      "['20.3,1.692,175.39,18.57,0.07']\n",
      "['20.4,1.7,175.26,18.55,0.07']\n",
      "['20.5,1.708,174.96,18.52,0.07']\n",
      "['20.6,1.717,174.63,18.48,0.07']\n",
      "['20.7,1.725,174.14,18.43,0.07']\n",
      "['20.8,1.733,173.86,18.4,0.07']\n",
      "['20.9,1.742,173.45,18.36,0.07']\n",
      "['21,1.75,173.12,18.33,0.07']\n",
      "['21.1,1.758,172.84,18.3,0.07']\n",
      "['21.2,1.767,172.66,18.28,0.07']\n",
      "['21.3,1.775,172.33,18.24,0.07']\n",
      "['21.4,1.784,172.15,18.22,0.07']\n",
      "['21.5,1.792,171.9,18.2,0.07']\n",
      "['21.6,1.8,171.57,18.16,0.07']\n",
      "['21.7,1.809,171.34,18.14,0.07']\n",
      "['21.8,1.817,171.16,18.12,0.07']\n",
      "['21.9,1.825,170.8,18.08,0.07']\n",
      "['22,1.834,170.5,18.05,0.07']\n",
      "['22.1,1.842,170.07,18,0.07']\n",
      "['22.2,1.85,169.68,17.96,0.07']\n",
      "['22.3,1.858,169.49,17.94,0.07']\n",
      "['22.4,1.867,169.29,17.92,0.07']\n",
      "['22.5,1.875,168.97,17.89,0.08']\n",
      "['22.6,1.883,168.25,17.81,0.08']\n",
      "['22.7,1.892,167.48,17.73,0.08']\n",
      "['22.8,1.9,166.93,17.67,0.08']\n",
      "['22.9,1.909,166.44,17.62,0.08']\n",
      "['23,1.917,165.52,17.52,0.08']\n",
      "['23.1,1.925,164.57,17.42,0.08']\n",
      "['23.2,1.933,163.64,17.32,0.08']\n",
      "['23.3,1.942,163.18,17.27,0.08']\n",
      "['23.4,1.95,162.51,17.2,0.08']\n",
      "['23.5,1.959,161.53,17.1,0.08']\n",
      "['23.6,1.967,160.78,17.02,0.08']\n",
      "['23.7,1.975,160.31,16.97,0.08']\n",
      "['23.8,1.983,159.59,16.89,0.08']\n",
      "['23.9,1.992,158.9,16.82,0.08']\n",
      "['24,2,158.56,16.78,0.08']\n",
      "['24.1,2.009,158.09,16.73,0.08']\n",
      "['24.2,2.017,157.54,16.68,0.08']\n",
      "['24.3,2.025,157.24,16.64,0.08']\n",
      "['24.4,2.034,156.96,16.61,0.08']\n",
      "['24.5,2.042,156.47,16.56,0.08']\n",
      "['24.6,2.05,156.19,16.53,0.08']\n",
      "['24.7,2.058,155.59,16.47,0.08']\n",
      "['24.8,2.067,155.28,16.44,0.08']\n",
      "['24.9,2.075,154.99,16.41,0.08']\n",
      "['25,2.083,154.66,16.37,0.08']\n",
      "['25.1,2.092,154.5,16.35,0.08']\n",
      "['25.2,2.1,154.16,16.32,0.08']\n",
      "['25.3,2.108,153.8,16.28,0.08']\n",
      "['25.4,2.117,153.3,16.23,0.08']\n",
      "['25.5,2.125,152.91,16.19,0.09']\n",
      "['25.6,2.134,152.63,16.16,0.09']\n",
      "['25.7,2.142,152.2,16.11,0.09']\n",
      "['25.8,2.15,151.74,16.06,0.09']\n",
      "['25.9,2.159,151.34,16.02,0.09']\n",
      "['26,2.167,151.03,15.99,0.09']\n",
      "['26.1,2.175,150.71,15.95,0.09']\n",
      "['26.2,2.184,150.4,15.92,0.09']\n",
      "['26.3,2.192,150,15.88,0.09']\n",
      "['26.4,2.2,149.76,15.85,0.09']\n",
      "['26.5,2.208,149.34,15.81,0.09']\n",
      "['26.6,2.217,149.05,15.78,0.09']\n",
      "['26.7,2.225,148.76,15.75,0.09']\n",
      "['26.8,2.233,148.54,15.72,0.09']\n",
      "['26.9,2.242,148.39,15.71,0.09']\n",
      "['27,2.25,148.16,15.68,0.09']\n",
      "['27.1,2.258,147.97,15.66,0.09']\n",
      "['27.2,2.267,147.7,15.63,0.09']\n",
      "['27.3,2.275,147.33,15.6,0.09']\n",
      "['27.4,2.283,146.87,15.55,0.09']\n",
      "['27.5,2.292,146.65,15.52,0.09']\n",
      "['27.6,2.3,146.44,15.5,0.09']\n",
      "['27.7,2.308,146.18,15.47,0.09']\n",
      "['27.8,2.317,145.85,15.44,0.09']\n",
      "['27.9,2.325,145.5,15.4,0.09']\n",
      "['28,2.333,145.11,15.36,0.09']\n",
      "['28.1,2.342,144.96,15.34,0.09']\n",
      "['28.2,2.35,144.74,15.32,0.09']\n",
      "['28.3,2.359,144.66,15.31,0.09']\n",
      "['28.4,2.367,144.47,15.29,0.09']\n",
      "['28.5,2.375,144.3,15.27,0.1']\n",
      "['28.6,2.384,144.16,15.26,0.1']\n",
      "['28.7,2.392,144.03,15.25,0.1']\n",
      "['28.8,2.4,143.94,15.24,0.1']\n",
      "['28.9,2.409,143.91,15.23,0.1']\n",
      "['29,2.417,143.83,15.23,0.1']\n",
      "['29.1,2.425,143.81,15.22,0.1']\n",
      "['29.2,2.433,143.83,15.22,0.1']\n",
      "['29.3,2.442,143.72,15.21,0.1']\n",
      "['29.4,2.45,143.66,15.21,0.1']\n",
      "['29.5,2.458,143.64,15.2,0.1']\n",
      "['29.6,2.467,143.54,15.19,0.1']\n",
      "['29.7,2.475,143.42,15.18,0.1']\n",
      "['29.8,2.483,143.32,15.17,0.1']\n",
      "['29.9,2.492,143.23,15.16,0.1']\n",
      "['30,2.5,143.2,15.16,0.1']\n",
      "['30.1,2.508,143.11,15.15,0.1']\n",
      "['30.2,2.517,142.88,15.12,0.1']\n",
      "['30.3,2.525,142.76,15.11,0.1']\n",
      "['30.4,2.534,142.62,15.1,0.1']\n",
      "['30.5,2.542,142.4,15.07,0.1']\n",
      "['30.6,2.55,142.29,15.06,0.1']\n",
      "['30.7,2.558,142.24,15.06,0.1']\n",
      "['30.8,2.567,142.19,15.05,0.1']\n",
      "['30.9,2.575,142.1,15.04,0.1']\n",
      "['31,2.583,141.98,15.03,0.1']\n",
      "['31.1,2.592,141.87,15.02,0.1']\n",
      "['31.2,2.6,141.69,15,0.1']\n",
      "['31.3,2.608,141.49,14.98,0.1']\n",
      "['31.4,2.617,140.98,14.92,0.1']\n",
      "['31.5,2.625,140.55,14.88,0.11']\n",
      "['31.6,2.633,140.23,14.84,0.11']\n",
      "['31.7,2.642,139.91,14.81,0.11']\n",
      "['31.8,2.65,139.6,14.78,0.11']\n",
      "['31.9,2.658,139.3,14.75,0.11']\n",
      "['32,2.667,139.04,14.72,0.11']\n",
      "['32.1,2.675,138.87,14.7,0.11']\n",
      "['32.2,2.684,138.74,14.69,0.11']\n",
      "['32.3,2.692,138.6,14.67,0.11']\n",
      "['32.4,2.7,138.53,14.66,0.11']\n",
      "['32.5,2.709,138.49,14.66,0.11']\n",
      "['32.6,2.717,138.45,14.66,0.11']\n",
      "['32.7,2.725,138.42,14.65,0.11']\n",
      "['32.8,2.733,138.36,14.65,0.11']\n",
      "['32.9,2.742,138.27,14.64,0.11']\n",
      "['33,2.75,138.18,14.63,0.11']\n",
      "['33.1,2.759,138.02,14.61,0.11']\n",
      "['33.2,2.767,137.82,14.59,0.11']\n",
      "['33.3,2.775,137.63,14.57,0.11']\n",
      "['33.4,2.783,137.44,14.55,0.11']\n",
      "['33.5,2.792,137.26,14.53,0.11']\n",
      "['33.6,2.8,136.83,14.48,0.11']\n",
      "['33.7,2.808,136.55,14.45,0.11']\n",
      "['33.8,2.817,136.3,14.43,0.11']\n",
      "['33.9,2.825,136.11,14.41,0.11']\n",
      "['34,2.833,136.05,14.4,0.11']\n",
      "['34.1,2.842,135.78,14.37,0.11']\n",
      "['34.2,2.85,135.58,14.35,0.11']\n",
      "['34.3,2.858,135.14,14.31,0.11']\n",
      "['34.4,2.867,134.81,14.27,0.11']\n",
      "['34.5,2.875,134.49,14.24,0.12']\n",
      "['34.6,2.883,134.2,14.21,0.12']\n",
      "['34.7,2.892,133.89,14.17,0.12']\n",
      "['34.8,2.9,133.7,14.15,0.12']\n",
      "['34.9,2.909,133.56,14.14,0.12']\n",
      "['35,2.917,133.37,14.12,0.12']\n",
      "['35.1,2.925,133.22,14.1,0.12']\n",
      "['35.2,2.934,133.17,14.1,0.12']\n",
      "['35.3,2.942,133.02,14.08,0.12']\n",
      "['35.4,2.95,132.76,14.05,0.12']\n",
      "['35.5,2.959,132.65,14.04,0.12']\n",
      "['35.6,2.967,132.44,14.02,0.12']\n",
      "['35.7,2.975,132.28,14,0.12']\n",
      "['35.8,2.983,132.2,13.99,0.12']\n",
      "['35.9,2.992,132.08,13.98,0.12']\n",
      "['36,3,131.9,13.96,0.12']\n",
      "['36.1,3.008,131.52,13.92,0.12']\n",
      "['36.2,3.017,131.28,13.9,0.12']\n",
      "['36.3,3.025,130.82,13.85,0.12']\n",
      "['36.4,3.033,130.46,13.81,0.12']\n",
      "['36.5,3.042,130.13,13.78,0.12']\n",
      "['36.6,3.05,130.01,13.76,0.12']\n",
      "['36.7,3.058,129.97,13.76,0.12']\n",
      "['36.8,3.067,129.77,13.74,0.12']\n",
      "['36.9,3.075,129.37,13.69,0.12']\n",
      "['37,3.084,128.79,13.63,0.12']\n",
      "['37.1,3.092,128.34,13.59,0.12']\n",
      "['37.2,3.1,127.74,13.52,0.12']\n",
      "['37.3,3.109,127.18,13.46,0.12']\n",
      "['37.4,3.117,126.14,13.35,0.12']\n",
      "['37.5,3.125,125.14,13.25,0.13']\n",
      "['37.6,3.133,124.03,13.13,0.13']\n",
      "['37.7,3.142,123.5,13.07,0.13']\n",
      "['37.8,3.15,122.26,12.94,0.13']\n",
      "['37.9,3.159,121.57,12.87,0.13']\n",
      "['38,3.167,121.22,12.83,0.13']\n",
      "['38.1,3.175,120.69,12.78,0.13']\n",
      "['38.2,3.183,120.18,12.72,0.13']\n",
      "['38.274,3.19,119.92,12.69,0.13']\n"
     ]
    }
   ],
   "source": [
    "with open('TensileTest.csv', newline='') as csvfile:\n",
    "    spamreader = csv.reader(csvfile, delimiter=' ', quotechar='|')\n",
    "    for row in spamreader:\n",
    "        print(row)"
   ]
  },
  {
   "cell_type": "code",
   "execution_count": null,
   "metadata": {},
   "outputs": [],
   "source": []
  }
 ],
 "metadata": {
  "kernelspec": {
   "display_name": "Python 3",
   "language": "python",
   "name": "python3"
  },
  "language_info": {
   "codemirror_mode": {
    "name": "ipython",
    "version": 3
   },
   "file_extension": ".py",
   "mimetype": "text/x-python",
   "name": "python",
   "nbconvert_exporter": "python",
   "pygments_lexer": "ipython3",
   "version": "3.7.3"
  }
 },
 "nbformat": 4,
 "nbformat_minor": 2
}
