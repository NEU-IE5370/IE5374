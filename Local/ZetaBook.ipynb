{
 "cells": [
  {
   "cell_type": "code",
   "execution_count": 1,
   "id": "widespread-development",
   "metadata": {},
   "outputs": [],
   "source": [
    "from zeta import *"
   ]
  },
  {
   "cell_type": "code",
   "execution_count": 2,
   "id": "loving-homework",
   "metadata": {},
   "outputs": [],
   "source": [
    "from itertools import islice\n",
    "import math\n",
    "\n",
    "def sumZeta(N):\n",
    "    print(N)\n",
    "    ZP2 = Zeta_part(2)\n",
    "    Zeta_2 = sum(islice(ZP2,0,N))\n",
    "    diff =  (math.pi**2)/6-Zeta_2\n",
    "    return(Zeta_2,diff)"
   ]
  },
  {
   "cell_type": "code",
   "execution_count": 3,
   "id": "desperate-fifty",
   "metadata": {},
   "outputs": [
    {
     "name": "stdout",
     "output_type": "stream",
     "text": [
      "50\n",
      "(1.625132733621529, 0.019801333226697304)\n"
     ]
    }
   ],
   "source": [
    "print(sumZeta(50))"
   ]
  },
  {
   "cell_type": "code",
   "execution_count": null,
   "id": "interesting-statement",
   "metadata": {},
   "outputs": [],
   "source": []
  }
 ],
 "metadata": {
  "kernelspec": {
   "display_name": "Python 3",
   "language": "python",
   "name": "python3"
  },
  "language_info": {
   "codemirror_mode": {
    "name": "ipython",
    "version": 3
   },
   "file_extension": ".py",
   "mimetype": "text/x-python",
   "name": "python",
   "nbconvert_exporter": "python",
   "pygments_lexer": "ipython3",
   "version": "3.8.8"
  }
 },
 "nbformat": 4,
 "nbformat_minor": 5
}
